{
  "cells": [
    {
      "cell_type": "markdown",
      "metadata": {
        "id": "view-in-github",
        "colab_type": "text"
      },
      "source": [
        "<a href=\"https://colab.research.google.com/github/meneel/Invoice_Payment_Date_Prediction-WebApp-/blob/main/Payment_date_prediction.ipynb\" target=\"_parent\"><img src=\"https://colab.research.google.com/assets/colab-badge.svg\" alt=\"Open In Colab\"/></a>"
      ]
    },
    {
      "cell_type": "markdown",
      "id": "wcq6dWzy1ZR0",
      "metadata": {
        "id": "wcq6dWzy1ZR0"
      },
      "source": [
        "# Payment Date Prediction "
      ]
    },
    {
      "cell_type": "code",
      "source": [
        "pip install fast_ml"
      ],
      "metadata": {
        "colab": {
          "base_uri": "https://localhost:8080/"
        },
        "id": "PMiprhEJVYG1",
        "outputId": "c8f4bc3f-b952-4191-bbc1-1194c4543032"
      },
      "id": "PMiprhEJVYG1",
      "execution_count": null,
      "outputs": [
        {
          "output_type": "stream",
          "name": "stdout",
          "text": [
            "Collecting fast_ml\n",
            "  Downloading fast_ml-3.68-py3-none-any.whl (42 kB)\n",
            "\u001b[?25l\r\u001b[K     |███████▉                        | 10 kB 18.6 MB/s eta 0:00:01\r\u001b[K     |███████████████▋                | 20 kB 15.2 MB/s eta 0:00:01\r\u001b[K     |███████████████████████▍        | 30 kB 10.3 MB/s eta 0:00:01\r\u001b[K     |███████████████████████████████▏| 40 kB 4.5 MB/s eta 0:00:01\r\u001b[K     |████████████████████████████████| 42 kB 726 kB/s \n",
            "\u001b[?25hInstalling collected packages: fast-ml\n",
            "Successfully installed fast-ml-3.68\n"
          ]
        }
      ]
    },
    {
      "cell_type": "markdown",
      "id": "2778654e",
      "metadata": {
        "id": "2778654e"
      },
      "source": [
        "\n",
        "### Importing related Libraries "
      ]
    },
    {
      "cell_type": "code",
      "source": [
        "from google.colab import drive\n",
        "drive.mount('/content/drive')"
      ],
      "metadata": {
        "colab": {
          "base_uri": "https://localhost:8080/"
        },
        "id": "biHhxIAqZWfU",
        "outputId": "5ea75376-2c0b-4ec4-8034-0753f23abe8b"
      },
      "id": "biHhxIAqZWfU",
      "execution_count": null,
      "outputs": [
        {
          "output_type": "stream",
          "name": "stdout",
          "text": [
            "Mounted at /content/drive\n"
          ]
        }
      ]
    },
    {
      "cell_type": "code",
      "execution_count": null,
      "id": "304c9e38",
      "metadata": {
        "id": "304c9e38"
      },
      "outputs": [],
      "source": [
        "import numpy as np\n",
        "import pandas as pd\n",
        "import pickle\n",
        "import matplotlib.pyplot as plt\n",
        "import sklearn.metrics as sm\n",
        "import seaborn as sns\n",
        "import plotly.express as px\n",
        "sns.set_theme(style=\"darkgrid\")\n",
        "from sklearn.model_selection import train_test_split"
      ]
    },
    {
      "cell_type": "markdown",
      "id": "8724f5ee",
      "metadata": {
        "id": "8724f5ee"
      },
      "source": [
        "### Store the dataset into the Dataframe\n"
      ]
    },
    {
      "cell_type": "code",
      "execution_count": null,
      "id": "415db50a",
      "metadata": {
        "id": "415db50a",
        "colab": {
          "base_uri": "https://localhost:8080/",
          "height": 357
        },
        "outputId": "ebbfbb32-b67c-426e-da91-947991f0e323"
      },
      "outputs": [
        {
          "output_type": "execute_result",
          "data": {
            "text/plain": [
              "  business_code cust_number       name_customer           clear_date  \\\n",
              "0          U001  0200769623        WAL-MAR corp  2020-02-11 00:00:00   \n",
              "1          U001  0200980828              BEN E   2019-08-08 00:00:00   \n",
              "2          U001  0200792734          MDV/ trust  2019-12-30 00:00:00   \n",
              "3          CA02  0140105686            SYSC llc                  NaN   \n",
              "4          U001  0200769623  WAL-MAR foundation  2019-11-25 00:00:00   \n",
              "\n",
              "   buisness_year        doc_id posting_date  document_create_date  \\\n",
              "0         2020.0  1.930438e+09   2020-01-26              20200125   \n",
              "1         2019.0  1.929646e+09   2019-07-22              20190722   \n",
              "2         2019.0  1.929874e+09   2019-09-14              20190914   \n",
              "3         2020.0  2.960623e+09   2020-03-30              20200330   \n",
              "4         2019.0  1.930148e+09   2019-11-13              20191113   \n",
              "\n",
              "   document_create_date.1  due_in_date invoice_currency document type  \\\n",
              "0                20200126   20200210.0              USD            RV   \n",
              "1                20190722   20190811.0              USD            RV   \n",
              "2                20190914   20190929.0              USD            RV   \n",
              "3                20200330   20200410.0              CAD            RV   \n",
              "4                20191113   20191128.0              USD            RV   \n",
              "\n",
              "   posting_id  area_business  total_open_amount  baseline_create_date  \\\n",
              "0         1.0            NaN           54273.28            20200126.0   \n",
              "1         1.0            NaN           79656.60            20190722.0   \n",
              "2         1.0            NaN            2253.86            20190914.0   \n",
              "3         1.0            NaN            3299.70            20200331.0   \n",
              "4         1.0            NaN           33133.29            20191113.0   \n",
              "\n",
              "  cust_payment_terms    invoice_id  isOpen  \n",
              "0               NAH4  1.930438e+09       0  \n",
              "1               NAD1  1.929646e+09       0  \n",
              "2               NAA8  1.929874e+09       0  \n",
              "3               CA10  2.960623e+09       1  \n",
              "4               NAH4  1.930148e+09       0  "
            ],
            "text/html": [
              "\n",
              "  <div id=\"df-ec56a727-96bc-430c-a58d-ed4f9e28592c\">\n",
              "    <div class=\"colab-df-container\">\n",
              "      <div>\n",
              "<style scoped>\n",
              "    .dataframe tbody tr th:only-of-type {\n",
              "        vertical-align: middle;\n",
              "    }\n",
              "\n",
              "    .dataframe tbody tr th {\n",
              "        vertical-align: top;\n",
              "    }\n",
              "\n",
              "    .dataframe thead th {\n",
              "        text-align: right;\n",
              "    }\n",
              "</style>\n",
              "<table border=\"1\" class=\"dataframe\">\n",
              "  <thead>\n",
              "    <tr style=\"text-align: right;\">\n",
              "      <th></th>\n",
              "      <th>business_code</th>\n",
              "      <th>cust_number</th>\n",
              "      <th>name_customer</th>\n",
              "      <th>clear_date</th>\n",
              "      <th>buisness_year</th>\n",
              "      <th>doc_id</th>\n",
              "      <th>posting_date</th>\n",
              "      <th>document_create_date</th>\n",
              "      <th>document_create_date.1</th>\n",
              "      <th>due_in_date</th>\n",
              "      <th>invoice_currency</th>\n",
              "      <th>document type</th>\n",
              "      <th>posting_id</th>\n",
              "      <th>area_business</th>\n",
              "      <th>total_open_amount</th>\n",
              "      <th>baseline_create_date</th>\n",
              "      <th>cust_payment_terms</th>\n",
              "      <th>invoice_id</th>\n",
              "      <th>isOpen</th>\n",
              "    </tr>\n",
              "  </thead>\n",
              "  <tbody>\n",
              "    <tr>\n",
              "      <th>0</th>\n",
              "      <td>U001</td>\n",
              "      <td>0200769623</td>\n",
              "      <td>WAL-MAR corp</td>\n",
              "      <td>2020-02-11 00:00:00</td>\n",
              "      <td>2020.0</td>\n",
              "      <td>1.930438e+09</td>\n",
              "      <td>2020-01-26</td>\n",
              "      <td>20200125</td>\n",
              "      <td>20200126</td>\n",
              "      <td>20200210.0</td>\n",
              "      <td>USD</td>\n",
              "      <td>RV</td>\n",
              "      <td>1.0</td>\n",
              "      <td>NaN</td>\n",
              "      <td>54273.28</td>\n",
              "      <td>20200126.0</td>\n",
              "      <td>NAH4</td>\n",
              "      <td>1.930438e+09</td>\n",
              "      <td>0</td>\n",
              "    </tr>\n",
              "    <tr>\n",
              "      <th>1</th>\n",
              "      <td>U001</td>\n",
              "      <td>0200980828</td>\n",
              "      <td>BEN E</td>\n",
              "      <td>2019-08-08 00:00:00</td>\n",
              "      <td>2019.0</td>\n",
              "      <td>1.929646e+09</td>\n",
              "      <td>2019-07-22</td>\n",
              "      <td>20190722</td>\n",
              "      <td>20190722</td>\n",
              "      <td>20190811.0</td>\n",
              "      <td>USD</td>\n",
              "      <td>RV</td>\n",
              "      <td>1.0</td>\n",
              "      <td>NaN</td>\n",
              "      <td>79656.60</td>\n",
              "      <td>20190722.0</td>\n",
              "      <td>NAD1</td>\n",
              "      <td>1.929646e+09</td>\n",
              "      <td>0</td>\n",
              "    </tr>\n",
              "    <tr>\n",
              "      <th>2</th>\n",
              "      <td>U001</td>\n",
              "      <td>0200792734</td>\n",
              "      <td>MDV/ trust</td>\n",
              "      <td>2019-12-30 00:00:00</td>\n",
              "      <td>2019.0</td>\n",
              "      <td>1.929874e+09</td>\n",
              "      <td>2019-09-14</td>\n",
              "      <td>20190914</td>\n",
              "      <td>20190914</td>\n",
              "      <td>20190929.0</td>\n",
              "      <td>USD</td>\n",
              "      <td>RV</td>\n",
              "      <td>1.0</td>\n",
              "      <td>NaN</td>\n",
              "      <td>2253.86</td>\n",
              "      <td>20190914.0</td>\n",
              "      <td>NAA8</td>\n",
              "      <td>1.929874e+09</td>\n",
              "      <td>0</td>\n",
              "    </tr>\n",
              "    <tr>\n",
              "      <th>3</th>\n",
              "      <td>CA02</td>\n",
              "      <td>0140105686</td>\n",
              "      <td>SYSC llc</td>\n",
              "      <td>NaN</td>\n",
              "      <td>2020.0</td>\n",
              "      <td>2.960623e+09</td>\n",
              "      <td>2020-03-30</td>\n",
              "      <td>20200330</td>\n",
              "      <td>20200330</td>\n",
              "      <td>20200410.0</td>\n",
              "      <td>CAD</td>\n",
              "      <td>RV</td>\n",
              "      <td>1.0</td>\n",
              "      <td>NaN</td>\n",
              "      <td>3299.70</td>\n",
              "      <td>20200331.0</td>\n",
              "      <td>CA10</td>\n",
              "      <td>2.960623e+09</td>\n",
              "      <td>1</td>\n",
              "    </tr>\n",
              "    <tr>\n",
              "      <th>4</th>\n",
              "      <td>U001</td>\n",
              "      <td>0200769623</td>\n",
              "      <td>WAL-MAR foundation</td>\n",
              "      <td>2019-11-25 00:00:00</td>\n",
              "      <td>2019.0</td>\n",
              "      <td>1.930148e+09</td>\n",
              "      <td>2019-11-13</td>\n",
              "      <td>20191113</td>\n",
              "      <td>20191113</td>\n",
              "      <td>20191128.0</td>\n",
              "      <td>USD</td>\n",
              "      <td>RV</td>\n",
              "      <td>1.0</td>\n",
              "      <td>NaN</td>\n",
              "      <td>33133.29</td>\n",
              "      <td>20191113.0</td>\n",
              "      <td>NAH4</td>\n",
              "      <td>1.930148e+09</td>\n",
              "      <td>0</td>\n",
              "    </tr>\n",
              "  </tbody>\n",
              "</table>\n",
              "</div>\n",
              "      <button class=\"colab-df-convert\" onclick=\"convertToInteractive('df-ec56a727-96bc-430c-a58d-ed4f9e28592c')\"\n",
              "              title=\"Convert this dataframe to an interactive table.\"\n",
              "              style=\"display:none;\">\n",
              "        \n",
              "  <svg xmlns=\"http://www.w3.org/2000/svg\" height=\"24px\"viewBox=\"0 0 24 24\"\n",
              "       width=\"24px\">\n",
              "    <path d=\"M0 0h24v24H0V0z\" fill=\"none\"/>\n",
              "    <path d=\"M18.56 5.44l.94 2.06.94-2.06 2.06-.94-2.06-.94-.94-2.06-.94 2.06-2.06.94zm-11 1L8.5 8.5l.94-2.06 2.06-.94-2.06-.94L8.5 2.5l-.94 2.06-2.06.94zm10 10l.94 2.06.94-2.06 2.06-.94-2.06-.94-.94-2.06-.94 2.06-2.06.94z\"/><path d=\"M17.41 7.96l-1.37-1.37c-.4-.4-.92-.59-1.43-.59-.52 0-1.04.2-1.43.59L10.3 9.45l-7.72 7.72c-.78.78-.78 2.05 0 2.83L4 21.41c.39.39.9.59 1.41.59.51 0 1.02-.2 1.41-.59l7.78-7.78 2.81-2.81c.8-.78.8-2.07 0-2.86zM5.41 20L4 18.59l7.72-7.72 1.47 1.35L5.41 20z\"/>\n",
              "  </svg>\n",
              "      </button>\n",
              "      \n",
              "  <style>\n",
              "    .colab-df-container {\n",
              "      display:flex;\n",
              "      flex-wrap:wrap;\n",
              "      gap: 12px;\n",
              "    }\n",
              "\n",
              "    .colab-df-convert {\n",
              "      background-color: #E8F0FE;\n",
              "      border: none;\n",
              "      border-radius: 50%;\n",
              "      cursor: pointer;\n",
              "      display: none;\n",
              "      fill: #1967D2;\n",
              "      height: 32px;\n",
              "      padding: 0 0 0 0;\n",
              "      width: 32px;\n",
              "    }\n",
              "\n",
              "    .colab-df-convert:hover {\n",
              "      background-color: #E2EBFA;\n",
              "      box-shadow: 0px 1px 2px rgba(60, 64, 67, 0.3), 0px 1px 3px 1px rgba(60, 64, 67, 0.15);\n",
              "      fill: #174EA6;\n",
              "    }\n",
              "\n",
              "    [theme=dark] .colab-df-convert {\n",
              "      background-color: #3B4455;\n",
              "      fill: #D2E3FC;\n",
              "    }\n",
              "\n",
              "    [theme=dark] .colab-df-convert:hover {\n",
              "      background-color: #434B5C;\n",
              "      box-shadow: 0px 1px 3px 1px rgba(0, 0, 0, 0.15);\n",
              "      filter: drop-shadow(0px 1px 2px rgba(0, 0, 0, 0.3));\n",
              "      fill: #FFFFFF;\n",
              "    }\n",
              "  </style>\n",
              "\n",
              "      <script>\n",
              "        const buttonEl =\n",
              "          document.querySelector('#df-ec56a727-96bc-430c-a58d-ed4f9e28592c button.colab-df-convert');\n",
              "        buttonEl.style.display =\n",
              "          google.colab.kernel.accessAllowed ? 'block' : 'none';\n",
              "\n",
              "        async function convertToInteractive(key) {\n",
              "          const element = document.querySelector('#df-ec56a727-96bc-430c-a58d-ed4f9e28592c');\n",
              "          const dataTable =\n",
              "            await google.colab.kernel.invokeFunction('convertToInteractive',\n",
              "                                                     [key], {});\n",
              "          if (!dataTable) return;\n",
              "\n",
              "          const docLinkHtml = 'Like what you see? Visit the ' +\n",
              "            '<a target=\"_blank\" href=https://colab.research.google.com/notebooks/data_table.ipynb>data table notebook</a>'\n",
              "            + ' to learn more about interactive tables.';\n",
              "          element.innerHTML = '';\n",
              "          dataTable['output_type'] = 'display_data';\n",
              "          await google.colab.output.renderOutput(dataTable, element);\n",
              "          const docLink = document.createElement('div');\n",
              "          docLink.innerHTML = docLinkHtml;\n",
              "          element.appendChild(docLink);\n",
              "        }\n",
              "      </script>\n",
              "    </div>\n",
              "  </div>\n",
              "  "
            ]
          },
          "metadata": {},
          "execution_count": 4
        }
      ],
      "source": [
        "df=pd.read_csv(\"/content/drive/MyDrive/dataset1.csv\")\n",
        "df.head()"
      ]
    },
    {
      "cell_type": "markdown",
      "id": "42e37f05",
      "metadata": {
        "id": "42e37f05"
      },
      "source": [
        "### Check the shape of the dataframe\n"
      ]
    },
    {
      "cell_type": "code",
      "execution_count": null,
      "id": "27cc0907",
      "metadata": {
        "id": "27cc0907",
        "colab": {
          "base_uri": "https://localhost:8080/"
        },
        "outputId": "6c6183fd-265a-4aa6-ab35-85d1e6759d97"
      },
      "outputs": [
        {
          "output_type": "execute_result",
          "data": {
            "text/plain": [
              "(50000, 19)"
            ]
          },
          "metadata": {},
          "execution_count": 5
        }
      ],
      "source": [
        "df.shape"
      ]
    },
    {
      "cell_type": "markdown",
      "id": "b68c955d",
      "metadata": {
        "id": "b68c955d"
      },
      "source": [
        "### Check the Detail information of the dataframe"
      ]
    },
    {
      "cell_type": "code",
      "execution_count": null,
      "id": "e092ec9e",
      "metadata": {
        "id": "e092ec9e",
        "colab": {
          "base_uri": "https://localhost:8080/"
        },
        "outputId": "e2164606-b00e-41fd-aaa8-8200f7ed55a3"
      },
      "outputs": [
        {
          "output_type": "stream",
          "name": "stdout",
          "text": [
            "<class 'pandas.core.frame.DataFrame'>\n",
            "RangeIndex: 50000 entries, 0 to 49999\n",
            "Data columns (total 19 columns):\n",
            " #   Column                  Non-Null Count  Dtype  \n",
            "---  ------                  --------------  -----  \n",
            " 0   business_code           50000 non-null  object \n",
            " 1   cust_number             50000 non-null  object \n",
            " 2   name_customer           50000 non-null  object \n",
            " 3   clear_date              40000 non-null  object \n",
            " 4   buisness_year           50000 non-null  float64\n",
            " 5   doc_id                  50000 non-null  float64\n",
            " 6   posting_date            50000 non-null  object \n",
            " 7   document_create_date    50000 non-null  int64  \n",
            " 8   document_create_date.1  50000 non-null  int64  \n",
            " 9   due_in_date             50000 non-null  float64\n",
            " 10  invoice_currency        50000 non-null  object \n",
            " 11  document type           50000 non-null  object \n",
            " 12  posting_id              50000 non-null  float64\n",
            " 13  area_business           0 non-null      float64\n",
            " 14  total_open_amount       50000 non-null  float64\n",
            " 15  baseline_create_date    50000 non-null  float64\n",
            " 16  cust_payment_terms      50000 non-null  object \n",
            " 17  invoice_id              49994 non-null  float64\n",
            " 18  isOpen                  50000 non-null  int64  \n",
            "dtypes: float64(8), int64(3), object(8)\n",
            "memory usage: 7.2+ MB\n"
          ]
        }
      ],
      "source": [
        "df.info()"
      ]
    },
    {
      "cell_type": "markdown",
      "id": "112f2d0e",
      "metadata": {
        "id": "112f2d0e"
      },
      "source": [
        "### Display All the column names"
      ]
    },
    {
      "cell_type": "code",
      "execution_count": null,
      "id": "1416e2fd",
      "metadata": {
        "id": "1416e2fd",
        "colab": {
          "base_uri": "https://localhost:8080/"
        },
        "outputId": "131be35a-4942-409f-e9fa-0c879a22c3f3"
      },
      "outputs": [
        {
          "output_type": "execute_result",
          "data": {
            "text/plain": [
              "Index(['business_code', 'cust_number', 'name_customer', 'clear_date',\n",
              "       'buisness_year', 'doc_id', 'posting_date', 'document_create_date',\n",
              "       'document_create_date.1', 'due_in_date', 'invoice_currency',\n",
              "       'document type', 'posting_id', 'area_business', 'total_open_amount',\n",
              "       'baseline_create_date', 'cust_payment_terms', 'invoice_id', 'isOpen'],\n",
              "      dtype='object')"
            ]
          },
          "metadata": {},
          "execution_count": 7
        }
      ],
      "source": [
        "df.columns\n"
      ]
    },
    {
      "cell_type": "markdown",
      "id": "d465ed7a",
      "metadata": {
        "id": "d465ed7a"
      },
      "source": [
        "### Describe the entire dataset"
      ]
    },
    {
      "cell_type": "code",
      "execution_count": null,
      "id": "25f65e1b",
      "metadata": {
        "id": "25f65e1b",
        "colab": {
          "base_uri": "https://localhost:8080/",
          "height": 364
        },
        "outputId": "9615816c-21ab-47e2-b880-cafa8e5a9937"
      },
      "outputs": [
        {
          "output_type": "execute_result",
          "data": {
            "text/plain": [
              "       buisness_year        doc_id  document_create_date  \\\n",
              "count   50000.000000  5.000000e+04          5.000000e+04   \n",
              "mean     2019.305700  2.012238e+09          2.019351e+07   \n",
              "std         0.460708  2.885235e+08          4.496041e+03   \n",
              "min      2019.000000  1.928502e+09          2.018123e+07   \n",
              "25%      2019.000000  1.929342e+09          2.019050e+07   \n",
              "50%      2019.000000  1.929964e+09          2.019091e+07   \n",
              "75%      2020.000000  1.930619e+09          2.020013e+07   \n",
              "max      2020.000000  9.500000e+09          2.020052e+07   \n",
              "\n",
              "       document_create_date.1   due_in_date  posting_id  area_business  \\\n",
              "count            5.000000e+04  5.000000e+04     50000.0            0.0   \n",
              "mean             2.019354e+07  2.019368e+07         1.0            NaN   \n",
              "std              4.482134e+03  4.470614e+03         0.0            NaN   \n",
              "min              2.018123e+07  2.018122e+07         1.0            NaN   \n",
              "25%              2.019051e+07  2.019052e+07         1.0            NaN   \n",
              "50%              2.019091e+07  2.019093e+07         1.0            NaN   \n",
              "75%              2.020013e+07  2.020022e+07         1.0            NaN   \n",
              "max              2.020052e+07  2.020071e+07         1.0            NaN   \n",
              "\n",
              "       total_open_amount  baseline_create_date    invoice_id        isOpen  \n",
              "count       50000.000000          5.000000e+04  4.999400e+04  50000.000000  \n",
              "mean        32337.021651          2.019354e+07  2.011340e+09      0.200000  \n",
              "std         39205.975231          4.482701e+03  2.766335e+08      0.400004  \n",
              "min             0.720000          2.018121e+07  1.928502e+09      0.000000  \n",
              "25%          4928.312500          2.019050e+07  1.929342e+09      0.000000  \n",
              "50%         17609.010000          2.019091e+07  1.929964e+09      0.000000  \n",
              "75%         47133.635000          2.020013e+07  1.930619e+09      0.000000  \n",
              "max        668593.360000          2.020052e+07  2.960636e+09      1.000000  "
            ],
            "text/html": [
              "\n",
              "  <div id=\"df-26887c4d-b1a2-455c-9130-2401a03cea9c\">\n",
              "    <div class=\"colab-df-container\">\n",
              "      <div>\n",
              "<style scoped>\n",
              "    .dataframe tbody tr th:only-of-type {\n",
              "        vertical-align: middle;\n",
              "    }\n",
              "\n",
              "    .dataframe tbody tr th {\n",
              "        vertical-align: top;\n",
              "    }\n",
              "\n",
              "    .dataframe thead th {\n",
              "        text-align: right;\n",
              "    }\n",
              "</style>\n",
              "<table border=\"1\" class=\"dataframe\">\n",
              "  <thead>\n",
              "    <tr style=\"text-align: right;\">\n",
              "      <th></th>\n",
              "      <th>buisness_year</th>\n",
              "      <th>doc_id</th>\n",
              "      <th>document_create_date</th>\n",
              "      <th>document_create_date.1</th>\n",
              "      <th>due_in_date</th>\n",
              "      <th>posting_id</th>\n",
              "      <th>area_business</th>\n",
              "      <th>total_open_amount</th>\n",
              "      <th>baseline_create_date</th>\n",
              "      <th>invoice_id</th>\n",
              "      <th>isOpen</th>\n",
              "    </tr>\n",
              "  </thead>\n",
              "  <tbody>\n",
              "    <tr>\n",
              "      <th>count</th>\n",
              "      <td>50000.000000</td>\n",
              "      <td>5.000000e+04</td>\n",
              "      <td>5.000000e+04</td>\n",
              "      <td>5.000000e+04</td>\n",
              "      <td>5.000000e+04</td>\n",
              "      <td>50000.0</td>\n",
              "      <td>0.0</td>\n",
              "      <td>50000.000000</td>\n",
              "      <td>5.000000e+04</td>\n",
              "      <td>4.999400e+04</td>\n",
              "      <td>50000.000000</td>\n",
              "    </tr>\n",
              "    <tr>\n",
              "      <th>mean</th>\n",
              "      <td>2019.305700</td>\n",
              "      <td>2.012238e+09</td>\n",
              "      <td>2.019351e+07</td>\n",
              "      <td>2.019354e+07</td>\n",
              "      <td>2.019368e+07</td>\n",
              "      <td>1.0</td>\n",
              "      <td>NaN</td>\n",
              "      <td>32337.021651</td>\n",
              "      <td>2.019354e+07</td>\n",
              "      <td>2.011340e+09</td>\n",
              "      <td>0.200000</td>\n",
              "    </tr>\n",
              "    <tr>\n",
              "      <th>std</th>\n",
              "      <td>0.460708</td>\n",
              "      <td>2.885235e+08</td>\n",
              "      <td>4.496041e+03</td>\n",
              "      <td>4.482134e+03</td>\n",
              "      <td>4.470614e+03</td>\n",
              "      <td>0.0</td>\n",
              "      <td>NaN</td>\n",
              "      <td>39205.975231</td>\n",
              "      <td>4.482701e+03</td>\n",
              "      <td>2.766335e+08</td>\n",
              "      <td>0.400004</td>\n",
              "    </tr>\n",
              "    <tr>\n",
              "      <th>min</th>\n",
              "      <td>2019.000000</td>\n",
              "      <td>1.928502e+09</td>\n",
              "      <td>2.018123e+07</td>\n",
              "      <td>2.018123e+07</td>\n",
              "      <td>2.018122e+07</td>\n",
              "      <td>1.0</td>\n",
              "      <td>NaN</td>\n",
              "      <td>0.720000</td>\n",
              "      <td>2.018121e+07</td>\n",
              "      <td>1.928502e+09</td>\n",
              "      <td>0.000000</td>\n",
              "    </tr>\n",
              "    <tr>\n",
              "      <th>25%</th>\n",
              "      <td>2019.000000</td>\n",
              "      <td>1.929342e+09</td>\n",
              "      <td>2.019050e+07</td>\n",
              "      <td>2.019051e+07</td>\n",
              "      <td>2.019052e+07</td>\n",
              "      <td>1.0</td>\n",
              "      <td>NaN</td>\n",
              "      <td>4928.312500</td>\n",
              "      <td>2.019050e+07</td>\n",
              "      <td>1.929342e+09</td>\n",
              "      <td>0.000000</td>\n",
              "    </tr>\n",
              "    <tr>\n",
              "      <th>50%</th>\n",
              "      <td>2019.000000</td>\n",
              "      <td>1.929964e+09</td>\n",
              "      <td>2.019091e+07</td>\n",
              "      <td>2.019091e+07</td>\n",
              "      <td>2.019093e+07</td>\n",
              "      <td>1.0</td>\n",
              "      <td>NaN</td>\n",
              "      <td>17609.010000</td>\n",
              "      <td>2.019091e+07</td>\n",
              "      <td>1.929964e+09</td>\n",
              "      <td>0.000000</td>\n",
              "    </tr>\n",
              "    <tr>\n",
              "      <th>75%</th>\n",
              "      <td>2020.000000</td>\n",
              "      <td>1.930619e+09</td>\n",
              "      <td>2.020013e+07</td>\n",
              "      <td>2.020013e+07</td>\n",
              "      <td>2.020022e+07</td>\n",
              "      <td>1.0</td>\n",
              "      <td>NaN</td>\n",
              "      <td>47133.635000</td>\n",
              "      <td>2.020013e+07</td>\n",
              "      <td>1.930619e+09</td>\n",
              "      <td>0.000000</td>\n",
              "    </tr>\n",
              "    <tr>\n",
              "      <th>max</th>\n",
              "      <td>2020.000000</td>\n",
              "      <td>9.500000e+09</td>\n",
              "      <td>2.020052e+07</td>\n",
              "      <td>2.020052e+07</td>\n",
              "      <td>2.020071e+07</td>\n",
              "      <td>1.0</td>\n",
              "      <td>NaN</td>\n",
              "      <td>668593.360000</td>\n",
              "      <td>2.020052e+07</td>\n",
              "      <td>2.960636e+09</td>\n",
              "      <td>1.000000</td>\n",
              "    </tr>\n",
              "  </tbody>\n",
              "</table>\n",
              "</div>\n",
              "      <button class=\"colab-df-convert\" onclick=\"convertToInteractive('df-26887c4d-b1a2-455c-9130-2401a03cea9c')\"\n",
              "              title=\"Convert this dataframe to an interactive table.\"\n",
              "              style=\"display:none;\">\n",
              "        \n",
              "  <svg xmlns=\"http://www.w3.org/2000/svg\" height=\"24px\"viewBox=\"0 0 24 24\"\n",
              "       width=\"24px\">\n",
              "    <path d=\"M0 0h24v24H0V0z\" fill=\"none\"/>\n",
              "    <path d=\"M18.56 5.44l.94 2.06.94-2.06 2.06-.94-2.06-.94-.94-2.06-.94 2.06-2.06.94zm-11 1L8.5 8.5l.94-2.06 2.06-.94-2.06-.94L8.5 2.5l-.94 2.06-2.06.94zm10 10l.94 2.06.94-2.06 2.06-.94-2.06-.94-.94-2.06-.94 2.06-2.06.94z\"/><path d=\"M17.41 7.96l-1.37-1.37c-.4-.4-.92-.59-1.43-.59-.52 0-1.04.2-1.43.59L10.3 9.45l-7.72 7.72c-.78.78-.78 2.05 0 2.83L4 21.41c.39.39.9.59 1.41.59.51 0 1.02-.2 1.41-.59l7.78-7.78 2.81-2.81c.8-.78.8-2.07 0-2.86zM5.41 20L4 18.59l7.72-7.72 1.47 1.35L5.41 20z\"/>\n",
              "  </svg>\n",
              "      </button>\n",
              "      \n",
              "  <style>\n",
              "    .colab-df-container {\n",
              "      display:flex;\n",
              "      flex-wrap:wrap;\n",
              "      gap: 12px;\n",
              "    }\n",
              "\n",
              "    .colab-df-convert {\n",
              "      background-color: #E8F0FE;\n",
              "      border: none;\n",
              "      border-radius: 50%;\n",
              "      cursor: pointer;\n",
              "      display: none;\n",
              "      fill: #1967D2;\n",
              "      height: 32px;\n",
              "      padding: 0 0 0 0;\n",
              "      width: 32px;\n",
              "    }\n",
              "\n",
              "    .colab-df-convert:hover {\n",
              "      background-color: #E2EBFA;\n",
              "      box-shadow: 0px 1px 2px rgba(60, 64, 67, 0.3), 0px 1px 3px 1px rgba(60, 64, 67, 0.15);\n",
              "      fill: #174EA6;\n",
              "    }\n",
              "\n",
              "    [theme=dark] .colab-df-convert {\n",
              "      background-color: #3B4455;\n",
              "      fill: #D2E3FC;\n",
              "    }\n",
              "\n",
              "    [theme=dark] .colab-df-convert:hover {\n",
              "      background-color: #434B5C;\n",
              "      box-shadow: 0px 1px 3px 1px rgba(0, 0, 0, 0.15);\n",
              "      filter: drop-shadow(0px 1px 2px rgba(0, 0, 0, 0.3));\n",
              "      fill: #FFFFFF;\n",
              "    }\n",
              "  </style>\n",
              "\n",
              "      <script>\n",
              "        const buttonEl =\n",
              "          document.querySelector('#df-26887c4d-b1a2-455c-9130-2401a03cea9c button.colab-df-convert');\n",
              "        buttonEl.style.display =\n",
              "          google.colab.kernel.accessAllowed ? 'block' : 'none';\n",
              "\n",
              "        async function convertToInteractive(key) {\n",
              "          const element = document.querySelector('#df-26887c4d-b1a2-455c-9130-2401a03cea9c');\n",
              "          const dataTable =\n",
              "            await google.colab.kernel.invokeFunction('convertToInteractive',\n",
              "                                                     [key], {});\n",
              "          if (!dataTable) return;\n",
              "\n",
              "          const docLinkHtml = 'Like what you see? Visit the ' +\n",
              "            '<a target=\"_blank\" href=https://colab.research.google.com/notebooks/data_table.ipynb>data table notebook</a>'\n",
              "            + ' to learn more about interactive tables.';\n",
              "          element.innerHTML = '';\n",
              "          dataTable['output_type'] = 'display_data';\n",
              "          await google.colab.output.renderOutput(dataTable, element);\n",
              "          const docLink = document.createElement('div');\n",
              "          docLink.innerHTML = docLinkHtml;\n",
              "          element.appendChild(docLink);\n",
              "        }\n",
              "      </script>\n",
              "    </div>\n",
              "  </div>\n",
              "  "
            ]
          },
          "metadata": {},
          "execution_count": 8
        }
      ],
      "source": [
        "df.describe()"
      ]
    },
    {
      "cell_type": "markdown",
      "id": "0f2c8d02",
      "metadata": {
        "id": "0f2c8d02"
      },
      "source": [
        "# Data Cleaning\n",
        "\n",
        "- Show top 5 records from the dataset"
      ]
    },
    {
      "cell_type": "code",
      "execution_count": null,
      "id": "8f876212",
      "metadata": {
        "id": "8f876212",
        "colab": {
          "base_uri": "https://localhost:8080/",
          "height": 357
        },
        "outputId": "8d2aaff8-7f96-406a-e2ca-d8ffc095fb9a"
      },
      "outputs": [
        {
          "output_type": "execute_result",
          "data": {
            "text/plain": [
              "  business_code cust_number       name_customer           clear_date  \\\n",
              "0          U001  0200769623        WAL-MAR corp  2020-02-11 00:00:00   \n",
              "1          U001  0200980828              BEN E   2019-08-08 00:00:00   \n",
              "2          U001  0200792734          MDV/ trust  2019-12-30 00:00:00   \n",
              "3          CA02  0140105686            SYSC llc                  NaN   \n",
              "4          U001  0200769623  WAL-MAR foundation  2019-11-25 00:00:00   \n",
              "\n",
              "   buisness_year        doc_id posting_date  document_create_date  \\\n",
              "0         2020.0  1.930438e+09   2020-01-26              20200125   \n",
              "1         2019.0  1.929646e+09   2019-07-22              20190722   \n",
              "2         2019.0  1.929874e+09   2019-09-14              20190914   \n",
              "3         2020.0  2.960623e+09   2020-03-30              20200330   \n",
              "4         2019.0  1.930148e+09   2019-11-13              20191113   \n",
              "\n",
              "   document_create_date.1  due_in_date invoice_currency document type  \\\n",
              "0                20200126   20200210.0              USD            RV   \n",
              "1                20190722   20190811.0              USD            RV   \n",
              "2                20190914   20190929.0              USD            RV   \n",
              "3                20200330   20200410.0              CAD            RV   \n",
              "4                20191113   20191128.0              USD            RV   \n",
              "\n",
              "   posting_id  area_business  total_open_amount  baseline_create_date  \\\n",
              "0         1.0            NaN           54273.28            20200126.0   \n",
              "1         1.0            NaN           79656.60            20190722.0   \n",
              "2         1.0            NaN            2253.86            20190914.0   \n",
              "3         1.0            NaN            3299.70            20200331.0   \n",
              "4         1.0            NaN           33133.29            20191113.0   \n",
              "\n",
              "  cust_payment_terms    invoice_id  isOpen  \n",
              "0               NAH4  1.930438e+09       0  \n",
              "1               NAD1  1.929646e+09       0  \n",
              "2               NAA8  1.929874e+09       0  \n",
              "3               CA10  2.960623e+09       1  \n",
              "4               NAH4  1.930148e+09       0  "
            ],
            "text/html": [
              "\n",
              "  <div id=\"df-897fa317-82fd-4fa5-8b10-9c183d969cdb\">\n",
              "    <div class=\"colab-df-container\">\n",
              "      <div>\n",
              "<style scoped>\n",
              "    .dataframe tbody tr th:only-of-type {\n",
              "        vertical-align: middle;\n",
              "    }\n",
              "\n",
              "    .dataframe tbody tr th {\n",
              "        vertical-align: top;\n",
              "    }\n",
              "\n",
              "    .dataframe thead th {\n",
              "        text-align: right;\n",
              "    }\n",
              "</style>\n",
              "<table border=\"1\" class=\"dataframe\">\n",
              "  <thead>\n",
              "    <tr style=\"text-align: right;\">\n",
              "      <th></th>\n",
              "      <th>business_code</th>\n",
              "      <th>cust_number</th>\n",
              "      <th>name_customer</th>\n",
              "      <th>clear_date</th>\n",
              "      <th>buisness_year</th>\n",
              "      <th>doc_id</th>\n",
              "      <th>posting_date</th>\n",
              "      <th>document_create_date</th>\n",
              "      <th>document_create_date.1</th>\n",
              "      <th>due_in_date</th>\n",
              "      <th>invoice_currency</th>\n",
              "      <th>document type</th>\n",
              "      <th>posting_id</th>\n",
              "      <th>area_business</th>\n",
              "      <th>total_open_amount</th>\n",
              "      <th>baseline_create_date</th>\n",
              "      <th>cust_payment_terms</th>\n",
              "      <th>invoice_id</th>\n",
              "      <th>isOpen</th>\n",
              "    </tr>\n",
              "  </thead>\n",
              "  <tbody>\n",
              "    <tr>\n",
              "      <th>0</th>\n",
              "      <td>U001</td>\n",
              "      <td>0200769623</td>\n",
              "      <td>WAL-MAR corp</td>\n",
              "      <td>2020-02-11 00:00:00</td>\n",
              "      <td>2020.0</td>\n",
              "      <td>1.930438e+09</td>\n",
              "      <td>2020-01-26</td>\n",
              "      <td>20200125</td>\n",
              "      <td>20200126</td>\n",
              "      <td>20200210.0</td>\n",
              "      <td>USD</td>\n",
              "      <td>RV</td>\n",
              "      <td>1.0</td>\n",
              "      <td>NaN</td>\n",
              "      <td>54273.28</td>\n",
              "      <td>20200126.0</td>\n",
              "      <td>NAH4</td>\n",
              "      <td>1.930438e+09</td>\n",
              "      <td>0</td>\n",
              "    </tr>\n",
              "    <tr>\n",
              "      <th>1</th>\n",
              "      <td>U001</td>\n",
              "      <td>0200980828</td>\n",
              "      <td>BEN E</td>\n",
              "      <td>2019-08-08 00:00:00</td>\n",
              "      <td>2019.0</td>\n",
              "      <td>1.929646e+09</td>\n",
              "      <td>2019-07-22</td>\n",
              "      <td>20190722</td>\n",
              "      <td>20190722</td>\n",
              "      <td>20190811.0</td>\n",
              "      <td>USD</td>\n",
              "      <td>RV</td>\n",
              "      <td>1.0</td>\n",
              "      <td>NaN</td>\n",
              "      <td>79656.60</td>\n",
              "      <td>20190722.0</td>\n",
              "      <td>NAD1</td>\n",
              "      <td>1.929646e+09</td>\n",
              "      <td>0</td>\n",
              "    </tr>\n",
              "    <tr>\n",
              "      <th>2</th>\n",
              "      <td>U001</td>\n",
              "      <td>0200792734</td>\n",
              "      <td>MDV/ trust</td>\n",
              "      <td>2019-12-30 00:00:00</td>\n",
              "      <td>2019.0</td>\n",
              "      <td>1.929874e+09</td>\n",
              "      <td>2019-09-14</td>\n",
              "      <td>20190914</td>\n",
              "      <td>20190914</td>\n",
              "      <td>20190929.0</td>\n",
              "      <td>USD</td>\n",
              "      <td>RV</td>\n",
              "      <td>1.0</td>\n",
              "      <td>NaN</td>\n",
              "      <td>2253.86</td>\n",
              "      <td>20190914.0</td>\n",
              "      <td>NAA8</td>\n",
              "      <td>1.929874e+09</td>\n",
              "      <td>0</td>\n",
              "    </tr>\n",
              "    <tr>\n",
              "      <th>3</th>\n",
              "      <td>CA02</td>\n",
              "      <td>0140105686</td>\n",
              "      <td>SYSC llc</td>\n",
              "      <td>NaN</td>\n",
              "      <td>2020.0</td>\n",
              "      <td>2.960623e+09</td>\n",
              "      <td>2020-03-30</td>\n",
              "      <td>20200330</td>\n",
              "      <td>20200330</td>\n",
              "      <td>20200410.0</td>\n",
              "      <td>CAD</td>\n",
              "      <td>RV</td>\n",
              "      <td>1.0</td>\n",
              "      <td>NaN</td>\n",
              "      <td>3299.70</td>\n",
              "      <td>20200331.0</td>\n",
              "      <td>CA10</td>\n",
              "      <td>2.960623e+09</td>\n",
              "      <td>1</td>\n",
              "    </tr>\n",
              "    <tr>\n",
              "      <th>4</th>\n",
              "      <td>U001</td>\n",
              "      <td>0200769623</td>\n",
              "      <td>WAL-MAR foundation</td>\n",
              "      <td>2019-11-25 00:00:00</td>\n",
              "      <td>2019.0</td>\n",
              "      <td>1.930148e+09</td>\n",
              "      <td>2019-11-13</td>\n",
              "      <td>20191113</td>\n",
              "      <td>20191113</td>\n",
              "      <td>20191128.0</td>\n",
              "      <td>USD</td>\n",
              "      <td>RV</td>\n",
              "      <td>1.0</td>\n",
              "      <td>NaN</td>\n",
              "      <td>33133.29</td>\n",
              "      <td>20191113.0</td>\n",
              "      <td>NAH4</td>\n",
              "      <td>1.930148e+09</td>\n",
              "      <td>0</td>\n",
              "    </tr>\n",
              "  </tbody>\n",
              "</table>\n",
              "</div>\n",
              "      <button class=\"colab-df-convert\" onclick=\"convertToInteractive('df-897fa317-82fd-4fa5-8b10-9c183d969cdb')\"\n",
              "              title=\"Convert this dataframe to an interactive table.\"\n",
              "              style=\"display:none;\">\n",
              "        \n",
              "  <svg xmlns=\"http://www.w3.org/2000/svg\" height=\"24px\"viewBox=\"0 0 24 24\"\n",
              "       width=\"24px\">\n",
              "    <path d=\"M0 0h24v24H0V0z\" fill=\"none\"/>\n",
              "    <path d=\"M18.56 5.44l.94 2.06.94-2.06 2.06-.94-2.06-.94-.94-2.06-.94 2.06-2.06.94zm-11 1L8.5 8.5l.94-2.06 2.06-.94-2.06-.94L8.5 2.5l-.94 2.06-2.06.94zm10 10l.94 2.06.94-2.06 2.06-.94-2.06-.94-.94-2.06-.94 2.06-2.06.94z\"/><path d=\"M17.41 7.96l-1.37-1.37c-.4-.4-.92-.59-1.43-.59-.52 0-1.04.2-1.43.59L10.3 9.45l-7.72 7.72c-.78.78-.78 2.05 0 2.83L4 21.41c.39.39.9.59 1.41.59.51 0 1.02-.2 1.41-.59l7.78-7.78 2.81-2.81c.8-.78.8-2.07 0-2.86zM5.41 20L4 18.59l7.72-7.72 1.47 1.35L5.41 20z\"/>\n",
              "  </svg>\n",
              "      </button>\n",
              "      \n",
              "  <style>\n",
              "    .colab-df-container {\n",
              "      display:flex;\n",
              "      flex-wrap:wrap;\n",
              "      gap: 12px;\n",
              "    }\n",
              "\n",
              "    .colab-df-convert {\n",
              "      background-color: #E8F0FE;\n",
              "      border: none;\n",
              "      border-radius: 50%;\n",
              "      cursor: pointer;\n",
              "      display: none;\n",
              "      fill: #1967D2;\n",
              "      height: 32px;\n",
              "      padding: 0 0 0 0;\n",
              "      width: 32px;\n",
              "    }\n",
              "\n",
              "    .colab-df-convert:hover {\n",
              "      background-color: #E2EBFA;\n",
              "      box-shadow: 0px 1px 2px rgba(60, 64, 67, 0.3), 0px 1px 3px 1px rgba(60, 64, 67, 0.15);\n",
              "      fill: #174EA6;\n",
              "    }\n",
              "\n",
              "    [theme=dark] .colab-df-convert {\n",
              "      background-color: #3B4455;\n",
              "      fill: #D2E3FC;\n",
              "    }\n",
              "\n",
              "    [theme=dark] .colab-df-convert:hover {\n",
              "      background-color: #434B5C;\n",
              "      box-shadow: 0px 1px 3px 1px rgba(0, 0, 0, 0.15);\n",
              "      filter: drop-shadow(0px 1px 2px rgba(0, 0, 0, 0.3));\n",
              "      fill: #FFFFFF;\n",
              "    }\n",
              "  </style>\n",
              "\n",
              "      <script>\n",
              "        const buttonEl =\n",
              "          document.querySelector('#df-897fa317-82fd-4fa5-8b10-9c183d969cdb button.colab-df-convert');\n",
              "        buttonEl.style.display =\n",
              "          google.colab.kernel.accessAllowed ? 'block' : 'none';\n",
              "\n",
              "        async function convertToInteractive(key) {\n",
              "          const element = document.querySelector('#df-897fa317-82fd-4fa5-8b10-9c183d969cdb');\n",
              "          const dataTable =\n",
              "            await google.colab.kernel.invokeFunction('convertToInteractive',\n",
              "                                                     [key], {});\n",
              "          if (!dataTable) return;\n",
              "\n",
              "          const docLinkHtml = 'Like what you see? Visit the ' +\n",
              "            '<a target=\"_blank\" href=https://colab.research.google.com/notebooks/data_table.ipynb>data table notebook</a>'\n",
              "            + ' to learn more about interactive tables.';\n",
              "          element.innerHTML = '';\n",
              "          dataTable['output_type'] = 'display_data';\n",
              "          await google.colab.output.renderOutput(dataTable, element);\n",
              "          const docLink = document.createElement('div');\n",
              "          docLink.innerHTML = docLinkHtml;\n",
              "          element.appendChild(docLink);\n",
              "        }\n",
              "      </script>\n",
              "    </div>\n",
              "  </div>\n",
              "  "
            ]
          },
          "metadata": {},
          "execution_count": 9
        }
      ],
      "source": [
        "df.head()"
      ]
    },
    {
      "cell_type": "markdown",
      "id": "92b044e4",
      "metadata": {
        "id": "92b044e4"
      },
      "source": [
        "### Display the Null values percentage against every columns (compare to the total number of records)\n",
        "\n",
        "- Output expected : area_business - 100% null, clear_data = 20% null, invoice_id = 0.12% null"
      ]
    },
    {
      "cell_type": "code",
      "execution_count": null,
      "id": "24c7b13d",
      "metadata": {
        "id": "24c7b13d",
        "colab": {
          "base_uri": "https://localhost:8080/"
        },
        "outputId": "3095857d-c2db-4ab4-f823-556fd5a19974"
      },
      "outputs": [
        {
          "output_type": "execute_result",
          "data": {
            "text/plain": [
              "business_code               0.000\n",
              "cust_number                 0.000\n",
              "name_customer               0.000\n",
              "clear_date                 20.000\n",
              "buisness_year               0.000\n",
              "doc_id                      0.000\n",
              "posting_date                0.000\n",
              "document_create_date        0.000\n",
              "document_create_date.1      0.000\n",
              "due_in_date                 0.000\n",
              "invoice_currency            0.000\n",
              "document type               0.000\n",
              "posting_id                  0.000\n",
              "area_business             100.000\n",
              "total_open_amount           0.000\n",
              "baseline_create_date        0.000\n",
              "cust_payment_terms          0.000\n",
              "invoice_id                  0.012\n",
              "isOpen                      0.000\n",
              "dtype: float64"
            ]
          },
          "metadata": {},
          "execution_count": 10
        }
      ],
      "source": [
        "df.isnull().mean()*100"
      ]
    },
    {
      "cell_type": "markdown",
      "id": "2c46a98b",
      "metadata": {
        "id": "2c46a98b"
      },
      "source": [
        "### Display Invoice_id and Doc_Id\n",
        "\n",
        "- Note - Many of the would have same invoice_id and doc_id\n"
      ]
    },
    {
      "cell_type": "code",
      "execution_count": null,
      "id": "038f24bb",
      "metadata": {
        "id": "038f24bb",
        "colab": {
          "base_uri": "https://localhost:8080/",
          "height": 423
        },
        "outputId": "c8cab999-9b68-4064-9130-27b26f0dce3f"
      },
      "outputs": [
        {
          "output_type": "execute_result",
          "data": {
            "text/plain": [
              "         invoice_id        doc_id\n",
              "0      1.930438e+09  1.930438e+09\n",
              "1      1.929646e+09  1.929646e+09\n",
              "2      1.929874e+09  1.929874e+09\n",
              "3      2.960623e+09  2.960623e+09\n",
              "4      1.930148e+09  1.930148e+09\n",
              "...             ...           ...\n",
              "49995  1.930797e+09  1.930797e+09\n",
              "49996  1.929744e+09  1.929744e+09\n",
              "49997  1.930537e+09  1.930537e+09\n",
              "49998  1.930199e+09  1.930199e+09\n",
              "49999  1.928576e+09  1.928576e+09\n",
              "\n",
              "[50000 rows x 2 columns]"
            ],
            "text/html": [
              "\n",
              "  <div id=\"df-77c236dd-9c1e-4cb8-b3b1-480fa77a2bc1\">\n",
              "    <div class=\"colab-df-container\">\n",
              "      <div>\n",
              "<style scoped>\n",
              "    .dataframe tbody tr th:only-of-type {\n",
              "        vertical-align: middle;\n",
              "    }\n",
              "\n",
              "    .dataframe tbody tr th {\n",
              "        vertical-align: top;\n",
              "    }\n",
              "\n",
              "    .dataframe thead th {\n",
              "        text-align: right;\n",
              "    }\n",
              "</style>\n",
              "<table border=\"1\" class=\"dataframe\">\n",
              "  <thead>\n",
              "    <tr style=\"text-align: right;\">\n",
              "      <th></th>\n",
              "      <th>invoice_id</th>\n",
              "      <th>doc_id</th>\n",
              "    </tr>\n",
              "  </thead>\n",
              "  <tbody>\n",
              "    <tr>\n",
              "      <th>0</th>\n",
              "      <td>1.930438e+09</td>\n",
              "      <td>1.930438e+09</td>\n",
              "    </tr>\n",
              "    <tr>\n",
              "      <th>1</th>\n",
              "      <td>1.929646e+09</td>\n",
              "      <td>1.929646e+09</td>\n",
              "    </tr>\n",
              "    <tr>\n",
              "      <th>2</th>\n",
              "      <td>1.929874e+09</td>\n",
              "      <td>1.929874e+09</td>\n",
              "    </tr>\n",
              "    <tr>\n",
              "      <th>3</th>\n",
              "      <td>2.960623e+09</td>\n",
              "      <td>2.960623e+09</td>\n",
              "    </tr>\n",
              "    <tr>\n",
              "      <th>4</th>\n",
              "      <td>1.930148e+09</td>\n",
              "      <td>1.930148e+09</td>\n",
              "    </tr>\n",
              "    <tr>\n",
              "      <th>...</th>\n",
              "      <td>...</td>\n",
              "      <td>...</td>\n",
              "    </tr>\n",
              "    <tr>\n",
              "      <th>49995</th>\n",
              "      <td>1.930797e+09</td>\n",
              "      <td>1.930797e+09</td>\n",
              "    </tr>\n",
              "    <tr>\n",
              "      <th>49996</th>\n",
              "      <td>1.929744e+09</td>\n",
              "      <td>1.929744e+09</td>\n",
              "    </tr>\n",
              "    <tr>\n",
              "      <th>49997</th>\n",
              "      <td>1.930537e+09</td>\n",
              "      <td>1.930537e+09</td>\n",
              "    </tr>\n",
              "    <tr>\n",
              "      <th>49998</th>\n",
              "      <td>1.930199e+09</td>\n",
              "      <td>1.930199e+09</td>\n",
              "    </tr>\n",
              "    <tr>\n",
              "      <th>49999</th>\n",
              "      <td>1.928576e+09</td>\n",
              "      <td>1.928576e+09</td>\n",
              "    </tr>\n",
              "  </tbody>\n",
              "</table>\n",
              "<p>50000 rows × 2 columns</p>\n",
              "</div>\n",
              "      <button class=\"colab-df-convert\" onclick=\"convertToInteractive('df-77c236dd-9c1e-4cb8-b3b1-480fa77a2bc1')\"\n",
              "              title=\"Convert this dataframe to an interactive table.\"\n",
              "              style=\"display:none;\">\n",
              "        \n",
              "  <svg xmlns=\"http://www.w3.org/2000/svg\" height=\"24px\"viewBox=\"0 0 24 24\"\n",
              "       width=\"24px\">\n",
              "    <path d=\"M0 0h24v24H0V0z\" fill=\"none\"/>\n",
              "    <path d=\"M18.56 5.44l.94 2.06.94-2.06 2.06-.94-2.06-.94-.94-2.06-.94 2.06-2.06.94zm-11 1L8.5 8.5l.94-2.06 2.06-.94-2.06-.94L8.5 2.5l-.94 2.06-2.06.94zm10 10l.94 2.06.94-2.06 2.06-.94-2.06-.94-.94-2.06-.94 2.06-2.06.94z\"/><path d=\"M17.41 7.96l-1.37-1.37c-.4-.4-.92-.59-1.43-.59-.52 0-1.04.2-1.43.59L10.3 9.45l-7.72 7.72c-.78.78-.78 2.05 0 2.83L4 21.41c.39.39.9.59 1.41.59.51 0 1.02-.2 1.41-.59l7.78-7.78 2.81-2.81c.8-.78.8-2.07 0-2.86zM5.41 20L4 18.59l7.72-7.72 1.47 1.35L5.41 20z\"/>\n",
              "  </svg>\n",
              "      </button>\n",
              "      \n",
              "  <style>\n",
              "    .colab-df-container {\n",
              "      display:flex;\n",
              "      flex-wrap:wrap;\n",
              "      gap: 12px;\n",
              "    }\n",
              "\n",
              "    .colab-df-convert {\n",
              "      background-color: #E8F0FE;\n",
              "      border: none;\n",
              "      border-radius: 50%;\n",
              "      cursor: pointer;\n",
              "      display: none;\n",
              "      fill: #1967D2;\n",
              "      height: 32px;\n",
              "      padding: 0 0 0 0;\n",
              "      width: 32px;\n",
              "    }\n",
              "\n",
              "    .colab-df-convert:hover {\n",
              "      background-color: #E2EBFA;\n",
              "      box-shadow: 0px 1px 2px rgba(60, 64, 67, 0.3), 0px 1px 3px 1px rgba(60, 64, 67, 0.15);\n",
              "      fill: #174EA6;\n",
              "    }\n",
              "\n",
              "    [theme=dark] .colab-df-convert {\n",
              "      background-color: #3B4455;\n",
              "      fill: #D2E3FC;\n",
              "    }\n",
              "\n",
              "    [theme=dark] .colab-df-convert:hover {\n",
              "      background-color: #434B5C;\n",
              "      box-shadow: 0px 1px 3px 1px rgba(0, 0, 0, 0.15);\n",
              "      filter: drop-shadow(0px 1px 2px rgba(0, 0, 0, 0.3));\n",
              "      fill: #FFFFFF;\n",
              "    }\n",
              "  </style>\n",
              "\n",
              "      <script>\n",
              "        const buttonEl =\n",
              "          document.querySelector('#df-77c236dd-9c1e-4cb8-b3b1-480fa77a2bc1 button.colab-df-convert');\n",
              "        buttonEl.style.display =\n",
              "          google.colab.kernel.accessAllowed ? 'block' : 'none';\n",
              "\n",
              "        async function convertToInteractive(key) {\n",
              "          const element = document.querySelector('#df-77c236dd-9c1e-4cb8-b3b1-480fa77a2bc1');\n",
              "          const dataTable =\n",
              "            await google.colab.kernel.invokeFunction('convertToInteractive',\n",
              "                                                     [key], {});\n",
              "          if (!dataTable) return;\n",
              "\n",
              "          const docLinkHtml = 'Like what you see? Visit the ' +\n",
              "            '<a target=\"_blank\" href=https://colab.research.google.com/notebooks/data_table.ipynb>data table notebook</a>'\n",
              "            + ' to learn more about interactive tables.';\n",
              "          element.innerHTML = '';\n",
              "          dataTable['output_type'] = 'display_data';\n",
              "          await google.colab.output.renderOutput(dataTable, element);\n",
              "          const docLink = document.createElement('div');\n",
              "          docLink.innerHTML = docLinkHtml;\n",
              "          element.appendChild(docLink);\n",
              "        }\n",
              "      </script>\n",
              "    </div>\n",
              "  </div>\n",
              "  "
            ]
          },
          "metadata": {},
          "execution_count": 11
        }
      ],
      "source": [
        "df[['invoice_id','doc_id']]"
      ]
    },
    {
      "cell_type": "markdown",
      "id": "18cfe10a",
      "metadata": {
        "id": "18cfe10a"
      },
      "source": [
        "#### Write a code to check - 'baseline_create_date',\"document_create_date\",'document_create_date.1' - these columns are almost same.\n",
        "\n",
        "- Please note, if they are same, we need to drop them later\n",
        "\n"
      ]
    },
    {
      "cell_type": "code",
      "execution_count": null,
      "id": "cf5b40ff",
      "metadata": {
        "id": "cf5b40ff",
        "colab": {
          "base_uri": "https://localhost:8080/"
        },
        "outputId": "1c74f7bb-c05b-4fd2-83bb-aa476be61409"
      },
      "outputs": [
        {
          "output_type": "execute_result",
          "data": {
            "text/plain": [
              "True     44148\n",
              "False     5852\n",
              "dtype: int64"
            ]
          },
          "metadata": {},
          "execution_count": 12
        }
      ],
      "source": [
        "df.duplicated(subset=['baseline_create_date','document_create_date','document_create_date.1']).value_counts()\n"
      ]
    },
    {
      "cell_type": "markdown",
      "id": "33110576",
      "metadata": {
        "id": "33110576"
      },
      "source": [
        "#### Please check, Column 'posting_id' is constant columns or not\n"
      ]
    },
    {
      "cell_type": "code",
      "execution_count": null,
      "id": "ecce2664",
      "metadata": {
        "id": "ecce2664",
        "colab": {
          "base_uri": "https://localhost:8080/",
          "height": 143
        },
        "outputId": "dfa9ae14-43f6-4414-acb8-6f1ee66ec1ce"
      },
      "outputs": [
        {
          "output_type": "execute_result",
          "data": {
            "text/plain": [
              "             Desc            Var Value     Perc\n",
              "0        Constant     posting_id   1.0  100.000\n",
              "1        Constant  area_business   NaN  100.000\n",
              "2  Quasi Constant  document type    RV   99.988"
            ],
            "text/html": [
              "\n",
              "  <div id=\"df-e88070b8-d6dd-4c01-971b-b8586388ccdc\">\n",
              "    <div class=\"colab-df-container\">\n",
              "      <div>\n",
              "<style scoped>\n",
              "    .dataframe tbody tr th:only-of-type {\n",
              "        vertical-align: middle;\n",
              "    }\n",
              "\n",
              "    .dataframe tbody tr th {\n",
              "        vertical-align: top;\n",
              "    }\n",
              "\n",
              "    .dataframe thead th {\n",
              "        text-align: right;\n",
              "    }\n",
              "</style>\n",
              "<table border=\"1\" class=\"dataframe\">\n",
              "  <thead>\n",
              "    <tr style=\"text-align: right;\">\n",
              "      <th></th>\n",
              "      <th>Desc</th>\n",
              "      <th>Var</th>\n",
              "      <th>Value</th>\n",
              "      <th>Perc</th>\n",
              "    </tr>\n",
              "  </thead>\n",
              "  <tbody>\n",
              "    <tr>\n",
              "      <th>0</th>\n",
              "      <td>Constant</td>\n",
              "      <td>posting_id</td>\n",
              "      <td>1.0</td>\n",
              "      <td>100.000</td>\n",
              "    </tr>\n",
              "    <tr>\n",
              "      <th>1</th>\n",
              "      <td>Constant</td>\n",
              "      <td>area_business</td>\n",
              "      <td>NaN</td>\n",
              "      <td>100.000</td>\n",
              "    </tr>\n",
              "    <tr>\n",
              "      <th>2</th>\n",
              "      <td>Quasi Constant</td>\n",
              "      <td>document type</td>\n",
              "      <td>RV</td>\n",
              "      <td>99.988</td>\n",
              "    </tr>\n",
              "  </tbody>\n",
              "</table>\n",
              "</div>\n",
              "      <button class=\"colab-df-convert\" onclick=\"convertToInteractive('df-e88070b8-d6dd-4c01-971b-b8586388ccdc')\"\n",
              "              title=\"Convert this dataframe to an interactive table.\"\n",
              "              style=\"display:none;\">\n",
              "        \n",
              "  <svg xmlns=\"http://www.w3.org/2000/svg\" height=\"24px\"viewBox=\"0 0 24 24\"\n",
              "       width=\"24px\">\n",
              "    <path d=\"M0 0h24v24H0V0z\" fill=\"none\"/>\n",
              "    <path d=\"M18.56 5.44l.94 2.06.94-2.06 2.06-.94-2.06-.94-.94-2.06-.94 2.06-2.06.94zm-11 1L8.5 8.5l.94-2.06 2.06-.94-2.06-.94L8.5 2.5l-.94 2.06-2.06.94zm10 10l.94 2.06.94-2.06 2.06-.94-2.06-.94-.94-2.06-.94 2.06-2.06.94z\"/><path d=\"M17.41 7.96l-1.37-1.37c-.4-.4-.92-.59-1.43-.59-.52 0-1.04.2-1.43.59L10.3 9.45l-7.72 7.72c-.78.78-.78 2.05 0 2.83L4 21.41c.39.39.9.59 1.41.59.51 0 1.02-.2 1.41-.59l7.78-7.78 2.81-2.81c.8-.78.8-2.07 0-2.86zM5.41 20L4 18.59l7.72-7.72 1.47 1.35L5.41 20z\"/>\n",
              "  </svg>\n",
              "      </button>\n",
              "      \n",
              "  <style>\n",
              "    .colab-df-container {\n",
              "      display:flex;\n",
              "      flex-wrap:wrap;\n",
              "      gap: 12px;\n",
              "    }\n",
              "\n",
              "    .colab-df-convert {\n",
              "      background-color: #E8F0FE;\n",
              "      border: none;\n",
              "      border-radius: 50%;\n",
              "      cursor: pointer;\n",
              "      display: none;\n",
              "      fill: #1967D2;\n",
              "      height: 32px;\n",
              "      padding: 0 0 0 0;\n",
              "      width: 32px;\n",
              "    }\n",
              "\n",
              "    .colab-df-convert:hover {\n",
              "      background-color: #E2EBFA;\n",
              "      box-shadow: 0px 1px 2px rgba(60, 64, 67, 0.3), 0px 1px 3px 1px rgba(60, 64, 67, 0.15);\n",
              "      fill: #174EA6;\n",
              "    }\n",
              "\n",
              "    [theme=dark] .colab-df-convert {\n",
              "      background-color: #3B4455;\n",
              "      fill: #D2E3FC;\n",
              "    }\n",
              "\n",
              "    [theme=dark] .colab-df-convert:hover {\n",
              "      background-color: #434B5C;\n",
              "      box-shadow: 0px 1px 3px 1px rgba(0, 0, 0, 0.15);\n",
              "      filter: drop-shadow(0px 1px 2px rgba(0, 0, 0, 0.3));\n",
              "      fill: #FFFFFF;\n",
              "    }\n",
              "  </style>\n",
              "\n",
              "      <script>\n",
              "        const buttonEl =\n",
              "          document.querySelector('#df-e88070b8-d6dd-4c01-971b-b8586388ccdc button.colab-df-convert');\n",
              "        buttonEl.style.display =\n",
              "          google.colab.kernel.accessAllowed ? 'block' : 'none';\n",
              "\n",
              "        async function convertToInteractive(key) {\n",
              "          const element = document.querySelector('#df-e88070b8-d6dd-4c01-971b-b8586388ccdc');\n",
              "          const dataTable =\n",
              "            await google.colab.kernel.invokeFunction('convertToInteractive',\n",
              "                                                     [key], {});\n",
              "          if (!dataTable) return;\n",
              "\n",
              "          const docLinkHtml = 'Like what you see? Visit the ' +\n",
              "            '<a target=\"_blank\" href=https://colab.research.google.com/notebooks/data_table.ipynb>data table notebook</a>'\n",
              "            + ' to learn more about interactive tables.';\n",
              "          element.innerHTML = '';\n",
              "          dataTable['output_type'] = 'display_data';\n",
              "          await google.colab.output.renderOutput(dataTable, element);\n",
              "          const docLink = document.createElement('div');\n",
              "          docLink.innerHTML = docLinkHtml;\n",
              "          element.appendChild(docLink);\n",
              "        }\n",
              "      </script>\n",
              "    </div>\n",
              "  </div>\n",
              "  "
            ]
          },
          "metadata": {},
          "execution_count": 13
        }
      ],
      "source": [
        "from fast_ml.feature_selection import get_constant_features\n",
        "\n",
        "constant_features = get_constant_features(df)\n",
        "constant_features.head()"
      ]
    },
    {
      "cell_type": "markdown",
      "id": "e5fb8daf",
      "metadata": {
        "id": "e5fb8daf"
      },
      "source": [
        "#### Please check 'isOpen' is a constant column and relevant column for this project or not"
      ]
    },
    {
      "cell_type": "code",
      "execution_count": null,
      "id": "8db9956b",
      "metadata": {
        "id": "8db9956b",
        "colab": {
          "base_uri": "https://localhost:8080/",
          "height": 143
        },
        "outputId": "1d1a1567-500a-43ae-a443-e6adbeba3a94"
      },
      "outputs": [
        {
          "output_type": "execute_result",
          "data": {
            "text/plain": [
              "             Desc            Var Value     Perc\n",
              "0        Constant     posting_id   1.0  100.000\n",
              "1        Constant  area_business   NaN  100.000\n",
              "2  Quasi Constant  document type    RV   99.988"
            ],
            "text/html": [
              "\n",
              "  <div id=\"df-22e74d69-6a7c-43aa-9fea-97bf1b2ca522\">\n",
              "    <div class=\"colab-df-container\">\n",
              "      <div>\n",
              "<style scoped>\n",
              "    .dataframe tbody tr th:only-of-type {\n",
              "        vertical-align: middle;\n",
              "    }\n",
              "\n",
              "    .dataframe tbody tr th {\n",
              "        vertical-align: top;\n",
              "    }\n",
              "\n",
              "    .dataframe thead th {\n",
              "        text-align: right;\n",
              "    }\n",
              "</style>\n",
              "<table border=\"1\" class=\"dataframe\">\n",
              "  <thead>\n",
              "    <tr style=\"text-align: right;\">\n",
              "      <th></th>\n",
              "      <th>Desc</th>\n",
              "      <th>Var</th>\n",
              "      <th>Value</th>\n",
              "      <th>Perc</th>\n",
              "    </tr>\n",
              "  </thead>\n",
              "  <tbody>\n",
              "    <tr>\n",
              "      <th>0</th>\n",
              "      <td>Constant</td>\n",
              "      <td>posting_id</td>\n",
              "      <td>1.0</td>\n",
              "      <td>100.000</td>\n",
              "    </tr>\n",
              "    <tr>\n",
              "      <th>1</th>\n",
              "      <td>Constant</td>\n",
              "      <td>area_business</td>\n",
              "      <td>NaN</td>\n",
              "      <td>100.000</td>\n",
              "    </tr>\n",
              "    <tr>\n",
              "      <th>2</th>\n",
              "      <td>Quasi Constant</td>\n",
              "      <td>document type</td>\n",
              "      <td>RV</td>\n",
              "      <td>99.988</td>\n",
              "    </tr>\n",
              "  </tbody>\n",
              "</table>\n",
              "</div>\n",
              "      <button class=\"colab-df-convert\" onclick=\"convertToInteractive('df-22e74d69-6a7c-43aa-9fea-97bf1b2ca522')\"\n",
              "              title=\"Convert this dataframe to an interactive table.\"\n",
              "              style=\"display:none;\">\n",
              "        \n",
              "  <svg xmlns=\"http://www.w3.org/2000/svg\" height=\"24px\"viewBox=\"0 0 24 24\"\n",
              "       width=\"24px\">\n",
              "    <path d=\"M0 0h24v24H0V0z\" fill=\"none\"/>\n",
              "    <path d=\"M18.56 5.44l.94 2.06.94-2.06 2.06-.94-2.06-.94-.94-2.06-.94 2.06-2.06.94zm-11 1L8.5 8.5l.94-2.06 2.06-.94-2.06-.94L8.5 2.5l-.94 2.06-2.06.94zm10 10l.94 2.06.94-2.06 2.06-.94-2.06-.94-.94-2.06-.94 2.06-2.06.94z\"/><path d=\"M17.41 7.96l-1.37-1.37c-.4-.4-.92-.59-1.43-.59-.52 0-1.04.2-1.43.59L10.3 9.45l-7.72 7.72c-.78.78-.78 2.05 0 2.83L4 21.41c.39.39.9.59 1.41.59.51 0 1.02-.2 1.41-.59l7.78-7.78 2.81-2.81c.8-.78.8-2.07 0-2.86zM5.41 20L4 18.59l7.72-7.72 1.47 1.35L5.41 20z\"/>\n",
              "  </svg>\n",
              "      </button>\n",
              "      \n",
              "  <style>\n",
              "    .colab-df-container {\n",
              "      display:flex;\n",
              "      flex-wrap:wrap;\n",
              "      gap: 12px;\n",
              "    }\n",
              "\n",
              "    .colab-df-convert {\n",
              "      background-color: #E8F0FE;\n",
              "      border: none;\n",
              "      border-radius: 50%;\n",
              "      cursor: pointer;\n",
              "      display: none;\n",
              "      fill: #1967D2;\n",
              "      height: 32px;\n",
              "      padding: 0 0 0 0;\n",
              "      width: 32px;\n",
              "    }\n",
              "\n",
              "    .colab-df-convert:hover {\n",
              "      background-color: #E2EBFA;\n",
              "      box-shadow: 0px 1px 2px rgba(60, 64, 67, 0.3), 0px 1px 3px 1px rgba(60, 64, 67, 0.15);\n",
              "      fill: #174EA6;\n",
              "    }\n",
              "\n",
              "    [theme=dark] .colab-df-convert {\n",
              "      background-color: #3B4455;\n",
              "      fill: #D2E3FC;\n",
              "    }\n",
              "\n",
              "    [theme=dark] .colab-df-convert:hover {\n",
              "      background-color: #434B5C;\n",
              "      box-shadow: 0px 1px 3px 1px rgba(0, 0, 0, 0.15);\n",
              "      filter: drop-shadow(0px 1px 2px rgba(0, 0, 0, 0.3));\n",
              "      fill: #FFFFFF;\n",
              "    }\n",
              "  </style>\n",
              "\n",
              "      <script>\n",
              "        const buttonEl =\n",
              "          document.querySelector('#df-22e74d69-6a7c-43aa-9fea-97bf1b2ca522 button.colab-df-convert');\n",
              "        buttonEl.style.display =\n",
              "          google.colab.kernel.accessAllowed ? 'block' : 'none';\n",
              "\n",
              "        async function convertToInteractive(key) {\n",
              "          const element = document.querySelector('#df-22e74d69-6a7c-43aa-9fea-97bf1b2ca522');\n",
              "          const dataTable =\n",
              "            await google.colab.kernel.invokeFunction('convertToInteractive',\n",
              "                                                     [key], {});\n",
              "          if (!dataTable) return;\n",
              "\n",
              "          const docLinkHtml = 'Like what you see? Visit the ' +\n",
              "            '<a target=\"_blank\" href=https://colab.research.google.com/notebooks/data_table.ipynb>data table notebook</a>'\n",
              "            + ' to learn more about interactive tables.';\n",
              "          element.innerHTML = '';\n",
              "          dataTable['output_type'] = 'display_data';\n",
              "          await google.colab.output.renderOutput(dataTable, element);\n",
              "          const docLink = document.createElement('div');\n",
              "          docLink.innerHTML = docLinkHtml;\n",
              "          element.appendChild(docLink);\n",
              "        }\n",
              "      </script>\n",
              "    </div>\n",
              "  </div>\n",
              "  "
            ]
          },
          "metadata": {},
          "execution_count": 14
        }
      ],
      "source": [
        "constant_features = get_constant_features(df)\n",
        "constant_features.head()"
      ]
    },
    {
      "cell_type": "markdown",
      "id": "45a11a62",
      "metadata": {
        "id": "45a11a62"
      },
      "source": [
        "### Write the code to drop all the following columns from the dataframe\n",
        "\n",
        "- 'area_business'\n",
        "- \"posting_id\"\n",
        "- \"invoice_id\"\n",
        "- \"document_create_date\"\n",
        "- \"isOpen\"\n",
        "- 'document type' \n",
        "- 'document_create_date.1"
      ]
    },
    {
      "cell_type": "code",
      "execution_count": null,
      "id": "270d85d1",
      "metadata": {
        "id": "270d85d1"
      },
      "outputs": [],
      "source": [
        "df.drop(columns=['area_business','posting_id','invoice_id','document_create_date','isOpen','document type'], axis=1, inplace=True)\n"
      ]
    },
    {
      "cell_type": "markdown",
      "id": "K5LHAM2XVGnk",
      "metadata": {
        "id": "K5LHAM2XVGnk"
      },
      "source": [
        "### Please check from the dataframe whether all the columns are removed or not "
      ]
    },
    {
      "cell_type": "code",
      "execution_count": null,
      "id": "ef3f7d2b",
      "metadata": {
        "id": "ef3f7d2b",
        "colab": {
          "base_uri": "https://localhost:8080/",
          "height": 566
        },
        "outputId": "2fbe54fa-c4d0-4a0d-9d53-03737cd07449"
      },
      "outputs": [
        {
          "output_type": "execute_result",
          "data": {
            "text/plain": [
              "  business_code cust_number       name_customer           clear_date  \\\n",
              "0          U001  0200769623        WAL-MAR corp  2020-02-11 00:00:00   \n",
              "1          U001  0200980828              BEN E   2019-08-08 00:00:00   \n",
              "2          U001  0200792734          MDV/ trust  2019-12-30 00:00:00   \n",
              "3          CA02  0140105686            SYSC llc                  NaN   \n",
              "4          U001  0200769623  WAL-MAR foundation  2019-11-25 00:00:00   \n",
              "5          CA02  0140106181    THE  corporation  2019-12-04 00:00:00   \n",
              "6          U001  0200769623          WAL-MAR in  2019-11-12 00:00:00   \n",
              "7          U001  0200744019             TARG us                  NaN   \n",
              "8          U001  0200769623        WAL-MAR corp  2019-06-18 00:00:00   \n",
              "9          U001  0200762301      C&S WH systems  2019-03-06 00:00:00   \n",
              "\n",
              "   buisness_year        doc_id posting_date  document_create_date.1  \\\n",
              "0         2020.0  1.930438e+09   2020-01-26                20200126   \n",
              "1         2019.0  1.929646e+09   2019-07-22                20190722   \n",
              "2         2019.0  1.929874e+09   2019-09-14                20190914   \n",
              "3         2020.0  2.960623e+09   2020-03-30                20200330   \n",
              "4         2019.0  1.930148e+09   2019-11-13                20191113   \n",
              "5         2019.0  2.960581e+09   2019-09-20                20190920   \n",
              "6         2019.0  1.930083e+09   2019-11-01                20191101   \n",
              "7         2020.0  1.930659e+09   2020-03-19                20200319   \n",
              "8         2019.0  1.929440e+09   2019-06-07                20190607   \n",
              "9         2019.0  1.928819e+09   2019-02-20                20190220   \n",
              "\n",
              "   due_in_date invoice_currency  total_open_amount  baseline_create_date  \\\n",
              "0   20200210.0              USD           54273.28            20200126.0   \n",
              "1   20190811.0              USD           79656.60            20190722.0   \n",
              "2   20190929.0              USD            2253.86            20190914.0   \n",
              "3   20200410.0              CAD            3299.70            20200331.0   \n",
              "4   20191128.0              USD           33133.29            20191113.0   \n",
              "5   20191004.0              CAD           22225.84            20190924.0   \n",
              "6   20191116.0              USD            7358.49            20191101.0   \n",
              "7   20200403.0              USD           11173.02            20200319.0   \n",
              "8   20190622.0              USD           15995.04            20190607.0   \n",
              "9   20190307.0              USD              28.63            20190220.0   \n",
              "\n",
              "  cust_payment_terms  \n",
              "0               NAH4  \n",
              "1               NAD1  \n",
              "2               NAA8  \n",
              "3               CA10  \n",
              "4               NAH4  \n",
              "5               CA10  \n",
              "6               NAH4  \n",
              "7               NAA8  \n",
              "8               NAH4  \n",
              "9               NAC6  "
            ],
            "text/html": [
              "\n",
              "  <div id=\"df-876f78c1-cdde-42d6-9781-36bb4e80fd33\">\n",
              "    <div class=\"colab-df-container\">\n",
              "      <div>\n",
              "<style scoped>\n",
              "    .dataframe tbody tr th:only-of-type {\n",
              "        vertical-align: middle;\n",
              "    }\n",
              "\n",
              "    .dataframe tbody tr th {\n",
              "        vertical-align: top;\n",
              "    }\n",
              "\n",
              "    .dataframe thead th {\n",
              "        text-align: right;\n",
              "    }\n",
              "</style>\n",
              "<table border=\"1\" class=\"dataframe\">\n",
              "  <thead>\n",
              "    <tr style=\"text-align: right;\">\n",
              "      <th></th>\n",
              "      <th>business_code</th>\n",
              "      <th>cust_number</th>\n",
              "      <th>name_customer</th>\n",
              "      <th>clear_date</th>\n",
              "      <th>buisness_year</th>\n",
              "      <th>doc_id</th>\n",
              "      <th>posting_date</th>\n",
              "      <th>document_create_date.1</th>\n",
              "      <th>due_in_date</th>\n",
              "      <th>invoice_currency</th>\n",
              "      <th>total_open_amount</th>\n",
              "      <th>baseline_create_date</th>\n",
              "      <th>cust_payment_terms</th>\n",
              "    </tr>\n",
              "  </thead>\n",
              "  <tbody>\n",
              "    <tr>\n",
              "      <th>0</th>\n",
              "      <td>U001</td>\n",
              "      <td>0200769623</td>\n",
              "      <td>WAL-MAR corp</td>\n",
              "      <td>2020-02-11 00:00:00</td>\n",
              "      <td>2020.0</td>\n",
              "      <td>1.930438e+09</td>\n",
              "      <td>2020-01-26</td>\n",
              "      <td>20200126</td>\n",
              "      <td>20200210.0</td>\n",
              "      <td>USD</td>\n",
              "      <td>54273.28</td>\n",
              "      <td>20200126.0</td>\n",
              "      <td>NAH4</td>\n",
              "    </tr>\n",
              "    <tr>\n",
              "      <th>1</th>\n",
              "      <td>U001</td>\n",
              "      <td>0200980828</td>\n",
              "      <td>BEN E</td>\n",
              "      <td>2019-08-08 00:00:00</td>\n",
              "      <td>2019.0</td>\n",
              "      <td>1.929646e+09</td>\n",
              "      <td>2019-07-22</td>\n",
              "      <td>20190722</td>\n",
              "      <td>20190811.0</td>\n",
              "      <td>USD</td>\n",
              "      <td>79656.60</td>\n",
              "      <td>20190722.0</td>\n",
              "      <td>NAD1</td>\n",
              "    </tr>\n",
              "    <tr>\n",
              "      <th>2</th>\n",
              "      <td>U001</td>\n",
              "      <td>0200792734</td>\n",
              "      <td>MDV/ trust</td>\n",
              "      <td>2019-12-30 00:00:00</td>\n",
              "      <td>2019.0</td>\n",
              "      <td>1.929874e+09</td>\n",
              "      <td>2019-09-14</td>\n",
              "      <td>20190914</td>\n",
              "      <td>20190929.0</td>\n",
              "      <td>USD</td>\n",
              "      <td>2253.86</td>\n",
              "      <td>20190914.0</td>\n",
              "      <td>NAA8</td>\n",
              "    </tr>\n",
              "    <tr>\n",
              "      <th>3</th>\n",
              "      <td>CA02</td>\n",
              "      <td>0140105686</td>\n",
              "      <td>SYSC llc</td>\n",
              "      <td>NaN</td>\n",
              "      <td>2020.0</td>\n",
              "      <td>2.960623e+09</td>\n",
              "      <td>2020-03-30</td>\n",
              "      <td>20200330</td>\n",
              "      <td>20200410.0</td>\n",
              "      <td>CAD</td>\n",
              "      <td>3299.70</td>\n",
              "      <td>20200331.0</td>\n",
              "      <td>CA10</td>\n",
              "    </tr>\n",
              "    <tr>\n",
              "      <th>4</th>\n",
              "      <td>U001</td>\n",
              "      <td>0200769623</td>\n",
              "      <td>WAL-MAR foundation</td>\n",
              "      <td>2019-11-25 00:00:00</td>\n",
              "      <td>2019.0</td>\n",
              "      <td>1.930148e+09</td>\n",
              "      <td>2019-11-13</td>\n",
              "      <td>20191113</td>\n",
              "      <td>20191128.0</td>\n",
              "      <td>USD</td>\n",
              "      <td>33133.29</td>\n",
              "      <td>20191113.0</td>\n",
              "      <td>NAH4</td>\n",
              "    </tr>\n",
              "    <tr>\n",
              "      <th>5</th>\n",
              "      <td>CA02</td>\n",
              "      <td>0140106181</td>\n",
              "      <td>THE  corporation</td>\n",
              "      <td>2019-12-04 00:00:00</td>\n",
              "      <td>2019.0</td>\n",
              "      <td>2.960581e+09</td>\n",
              "      <td>2019-09-20</td>\n",
              "      <td>20190920</td>\n",
              "      <td>20191004.0</td>\n",
              "      <td>CAD</td>\n",
              "      <td>22225.84</td>\n",
              "      <td>20190924.0</td>\n",
              "      <td>CA10</td>\n",
              "    </tr>\n",
              "    <tr>\n",
              "      <th>6</th>\n",
              "      <td>U001</td>\n",
              "      <td>0200769623</td>\n",
              "      <td>WAL-MAR in</td>\n",
              "      <td>2019-11-12 00:00:00</td>\n",
              "      <td>2019.0</td>\n",
              "      <td>1.930083e+09</td>\n",
              "      <td>2019-11-01</td>\n",
              "      <td>20191101</td>\n",
              "      <td>20191116.0</td>\n",
              "      <td>USD</td>\n",
              "      <td>7358.49</td>\n",
              "      <td>20191101.0</td>\n",
              "      <td>NAH4</td>\n",
              "    </tr>\n",
              "    <tr>\n",
              "      <th>7</th>\n",
              "      <td>U001</td>\n",
              "      <td>0200744019</td>\n",
              "      <td>TARG us</td>\n",
              "      <td>NaN</td>\n",
              "      <td>2020.0</td>\n",
              "      <td>1.930659e+09</td>\n",
              "      <td>2020-03-19</td>\n",
              "      <td>20200319</td>\n",
              "      <td>20200403.0</td>\n",
              "      <td>USD</td>\n",
              "      <td>11173.02</td>\n",
              "      <td>20200319.0</td>\n",
              "      <td>NAA8</td>\n",
              "    </tr>\n",
              "    <tr>\n",
              "      <th>8</th>\n",
              "      <td>U001</td>\n",
              "      <td>0200769623</td>\n",
              "      <td>WAL-MAR corp</td>\n",
              "      <td>2019-06-18 00:00:00</td>\n",
              "      <td>2019.0</td>\n",
              "      <td>1.929440e+09</td>\n",
              "      <td>2019-06-07</td>\n",
              "      <td>20190607</td>\n",
              "      <td>20190622.0</td>\n",
              "      <td>USD</td>\n",
              "      <td>15995.04</td>\n",
              "      <td>20190607.0</td>\n",
              "      <td>NAH4</td>\n",
              "    </tr>\n",
              "    <tr>\n",
              "      <th>9</th>\n",
              "      <td>U001</td>\n",
              "      <td>0200762301</td>\n",
              "      <td>C&amp;S WH systems</td>\n",
              "      <td>2019-03-06 00:00:00</td>\n",
              "      <td>2019.0</td>\n",
              "      <td>1.928819e+09</td>\n",
              "      <td>2019-02-20</td>\n",
              "      <td>20190220</td>\n",
              "      <td>20190307.0</td>\n",
              "      <td>USD</td>\n",
              "      <td>28.63</td>\n",
              "      <td>20190220.0</td>\n",
              "      <td>NAC6</td>\n",
              "    </tr>\n",
              "  </tbody>\n",
              "</table>\n",
              "</div>\n",
              "      <button class=\"colab-df-convert\" onclick=\"convertToInteractive('df-876f78c1-cdde-42d6-9781-36bb4e80fd33')\"\n",
              "              title=\"Convert this dataframe to an interactive table.\"\n",
              "              style=\"display:none;\">\n",
              "        \n",
              "  <svg xmlns=\"http://www.w3.org/2000/svg\" height=\"24px\"viewBox=\"0 0 24 24\"\n",
              "       width=\"24px\">\n",
              "    <path d=\"M0 0h24v24H0V0z\" fill=\"none\"/>\n",
              "    <path d=\"M18.56 5.44l.94 2.06.94-2.06 2.06-.94-2.06-.94-.94-2.06-.94 2.06-2.06.94zm-11 1L8.5 8.5l.94-2.06 2.06-.94-2.06-.94L8.5 2.5l-.94 2.06-2.06.94zm10 10l.94 2.06.94-2.06 2.06-.94-2.06-.94-.94-2.06-.94 2.06-2.06.94z\"/><path d=\"M17.41 7.96l-1.37-1.37c-.4-.4-.92-.59-1.43-.59-.52 0-1.04.2-1.43.59L10.3 9.45l-7.72 7.72c-.78.78-.78 2.05 0 2.83L4 21.41c.39.39.9.59 1.41.59.51 0 1.02-.2 1.41-.59l7.78-7.78 2.81-2.81c.8-.78.8-2.07 0-2.86zM5.41 20L4 18.59l7.72-7.72 1.47 1.35L5.41 20z\"/>\n",
              "  </svg>\n",
              "      </button>\n",
              "      \n",
              "  <style>\n",
              "    .colab-df-container {\n",
              "      display:flex;\n",
              "      flex-wrap:wrap;\n",
              "      gap: 12px;\n",
              "    }\n",
              "\n",
              "    .colab-df-convert {\n",
              "      background-color: #E8F0FE;\n",
              "      border: none;\n",
              "      border-radius: 50%;\n",
              "      cursor: pointer;\n",
              "      display: none;\n",
              "      fill: #1967D2;\n",
              "      height: 32px;\n",
              "      padding: 0 0 0 0;\n",
              "      width: 32px;\n",
              "    }\n",
              "\n",
              "    .colab-df-convert:hover {\n",
              "      background-color: #E2EBFA;\n",
              "      box-shadow: 0px 1px 2px rgba(60, 64, 67, 0.3), 0px 1px 3px 1px rgba(60, 64, 67, 0.15);\n",
              "      fill: #174EA6;\n",
              "    }\n",
              "\n",
              "    [theme=dark] .colab-df-convert {\n",
              "      background-color: #3B4455;\n",
              "      fill: #D2E3FC;\n",
              "    }\n",
              "\n",
              "    [theme=dark] .colab-df-convert:hover {\n",
              "      background-color: #434B5C;\n",
              "      box-shadow: 0px 1px 3px 1px rgba(0, 0, 0, 0.15);\n",
              "      filter: drop-shadow(0px 1px 2px rgba(0, 0, 0, 0.3));\n",
              "      fill: #FFFFFF;\n",
              "    }\n",
              "  </style>\n",
              "\n",
              "      <script>\n",
              "        const buttonEl =\n",
              "          document.querySelector('#df-876f78c1-cdde-42d6-9781-36bb4e80fd33 button.colab-df-convert');\n",
              "        buttonEl.style.display =\n",
              "          google.colab.kernel.accessAllowed ? 'block' : 'none';\n",
              "\n",
              "        async function convertToInteractive(key) {\n",
              "          const element = document.querySelector('#df-876f78c1-cdde-42d6-9781-36bb4e80fd33');\n",
              "          const dataTable =\n",
              "            await google.colab.kernel.invokeFunction('convertToInteractive',\n",
              "                                                     [key], {});\n",
              "          if (!dataTable) return;\n",
              "\n",
              "          const docLinkHtml = 'Like what you see? Visit the ' +\n",
              "            '<a target=\"_blank\" href=https://colab.research.google.com/notebooks/data_table.ipynb>data table notebook</a>'\n",
              "            + ' to learn more about interactive tables.';\n",
              "          element.innerHTML = '';\n",
              "          dataTable['output_type'] = 'display_data';\n",
              "          await google.colab.output.renderOutput(dataTable, element);\n",
              "          const docLink = document.createElement('div');\n",
              "          docLink.innerHTML = docLinkHtml;\n",
              "          element.appendChild(docLink);\n",
              "        }\n",
              "      </script>\n",
              "    </div>\n",
              "  </div>\n",
              "  "
            ]
          },
          "metadata": {},
          "execution_count": 16
        }
      ],
      "source": [
        "df.head(10)\n"
      ]
    },
    {
      "cell_type": "markdown",
      "id": "6bc052c7",
      "metadata": {
        "id": "6bc052c7"
      },
      "source": [
        "### Show all the Duplicate rows from the dataframe"
      ]
    },
    {
      "cell_type": "code",
      "execution_count": null,
      "id": "1ae3c7e4",
      "metadata": {
        "id": "1ae3c7e4",
        "colab": {
          "base_uri": "https://localhost:8080/",
          "height": 644
        },
        "outputId": "cd9a7cde-df09-497f-cd3e-1618281beced"
      },
      "outputs": [
        {
          "output_type": "execute_result",
          "data": {
            "text/plain": [
              "      business_code cust_number        name_customer           clear_date  \\\n",
              "1041           U001  0200769623           WAL-MAR in  2019-03-12 00:00:00   \n",
              "2400           U001  0200769623        WAL-MAR trust  2019-08-28 00:00:00   \n",
              "2584           U001  0200769623  WAL-MAR corporation  2019-12-16 00:00:00   \n",
              "3755           U001  0200769623             WAL-MAR   2019-11-22 00:00:00   \n",
              "3873           CA02  0140104409       LOB associates                  NaN   \n",
              "...             ...         ...                  ...                  ...   \n",
              "49928          U001  0200915438           GROC trust  2019-08-15 00:00:00   \n",
              "49963          U001  0200759878                SA us  2019-01-29 00:00:00   \n",
              "49986          U001  0200772670  ASSOCIAT foundation  2019-06-12 00:00:00   \n",
              "49990          U001  0200765011           MAINES llc  2019-06-06 00:00:00   \n",
              "49991          U001  0200704045             RA trust  2019-10-25 00:00:00   \n",
              "\n",
              "       buisness_year        doc_id posting_date  document_create_date.1  \\\n",
              "1041          2019.0  1.928870e+09   2019-02-28                20190228   \n",
              "2400          2019.0  1.929758e+09   2019-08-18                20190818   \n",
              "2584          2019.0  1.930217e+09   2019-12-04                20191204   \n",
              "3755          2019.0  1.930137e+09   2019-11-12                20191112   \n",
              "3873          2020.0  2.960629e+09   2020-04-14                20200414   \n",
              "...              ...           ...          ...                     ...   \n",
              "49928         2019.0  1.929646e+09   2019-07-25                20190725   \n",
              "49963         2019.0  1.928614e+09   2019-01-13                20190113   \n",
              "49986         2019.0  1.929403e+09   2019-05-29                20190529   \n",
              "49990         2019.0  1.929365e+09   2019-05-22                20190522   \n",
              "49991         2019.0  1.930001e+09   2019-10-10                20191010   \n",
              "\n",
              "       due_in_date invoice_currency  total_open_amount  baseline_create_date  \\\n",
              "1041    20190315.0              USD           19557.41            20190228.0   \n",
              "2400    20190902.0              USD            5600.41            20190818.0   \n",
              "2584    20191219.0              USD           35352.17            20191204.0   \n",
              "3755    20191127.0              USD            2982.64            20191112.0   \n",
              "3873    20200425.0              CAD           82975.82            20200415.0   \n",
              "...            ...              ...                ...                   ...   \n",
              "49928   20190809.0              USD            6969.00            20190725.0   \n",
              "49963   20190128.0              USD           10968.24            20190113.0   \n",
              "49986   20190613.0              USD          155837.53            20190529.0   \n",
              "49990   20190606.0              USD            4008.05            20190522.0   \n",
              "49991   20191025.0              USD           73002.24            20191010.0   \n",
              "\n",
              "      cust_payment_terms  \n",
              "1041                NAH4  \n",
              "2400                NAH4  \n",
              "2584                NAH4  \n",
              "3755                NAH4  \n",
              "3873                CA10  \n",
              "...                  ...  \n",
              "49928               NAA8  \n",
              "49963               NAH4  \n",
              "49986               NAU5  \n",
              "49990               NAA8  \n",
              "49991               NAA8  \n",
              "\n",
              "[1161 rows x 13 columns]"
            ],
            "text/html": [
              "\n",
              "  <div id=\"df-3790a0e5-24fd-40d8-843b-b5ea3d49b43d\">\n",
              "    <div class=\"colab-df-container\">\n",
              "      <div>\n",
              "<style scoped>\n",
              "    .dataframe tbody tr th:only-of-type {\n",
              "        vertical-align: middle;\n",
              "    }\n",
              "\n",
              "    .dataframe tbody tr th {\n",
              "        vertical-align: top;\n",
              "    }\n",
              "\n",
              "    .dataframe thead th {\n",
              "        text-align: right;\n",
              "    }\n",
              "</style>\n",
              "<table border=\"1\" class=\"dataframe\">\n",
              "  <thead>\n",
              "    <tr style=\"text-align: right;\">\n",
              "      <th></th>\n",
              "      <th>business_code</th>\n",
              "      <th>cust_number</th>\n",
              "      <th>name_customer</th>\n",
              "      <th>clear_date</th>\n",
              "      <th>buisness_year</th>\n",
              "      <th>doc_id</th>\n",
              "      <th>posting_date</th>\n",
              "      <th>document_create_date.1</th>\n",
              "      <th>due_in_date</th>\n",
              "      <th>invoice_currency</th>\n",
              "      <th>total_open_amount</th>\n",
              "      <th>baseline_create_date</th>\n",
              "      <th>cust_payment_terms</th>\n",
              "    </tr>\n",
              "  </thead>\n",
              "  <tbody>\n",
              "    <tr>\n",
              "      <th>1041</th>\n",
              "      <td>U001</td>\n",
              "      <td>0200769623</td>\n",
              "      <td>WAL-MAR in</td>\n",
              "      <td>2019-03-12 00:00:00</td>\n",
              "      <td>2019.0</td>\n",
              "      <td>1.928870e+09</td>\n",
              "      <td>2019-02-28</td>\n",
              "      <td>20190228</td>\n",
              "      <td>20190315.0</td>\n",
              "      <td>USD</td>\n",
              "      <td>19557.41</td>\n",
              "      <td>20190228.0</td>\n",
              "      <td>NAH4</td>\n",
              "    </tr>\n",
              "    <tr>\n",
              "      <th>2400</th>\n",
              "      <td>U001</td>\n",
              "      <td>0200769623</td>\n",
              "      <td>WAL-MAR trust</td>\n",
              "      <td>2019-08-28 00:00:00</td>\n",
              "      <td>2019.0</td>\n",
              "      <td>1.929758e+09</td>\n",
              "      <td>2019-08-18</td>\n",
              "      <td>20190818</td>\n",
              "      <td>20190902.0</td>\n",
              "      <td>USD</td>\n",
              "      <td>5600.41</td>\n",
              "      <td>20190818.0</td>\n",
              "      <td>NAH4</td>\n",
              "    </tr>\n",
              "    <tr>\n",
              "      <th>2584</th>\n",
              "      <td>U001</td>\n",
              "      <td>0200769623</td>\n",
              "      <td>WAL-MAR corporation</td>\n",
              "      <td>2019-12-16 00:00:00</td>\n",
              "      <td>2019.0</td>\n",
              "      <td>1.930217e+09</td>\n",
              "      <td>2019-12-04</td>\n",
              "      <td>20191204</td>\n",
              "      <td>20191219.0</td>\n",
              "      <td>USD</td>\n",
              "      <td>35352.17</td>\n",
              "      <td>20191204.0</td>\n",
              "      <td>NAH4</td>\n",
              "    </tr>\n",
              "    <tr>\n",
              "      <th>3755</th>\n",
              "      <td>U001</td>\n",
              "      <td>0200769623</td>\n",
              "      <td>WAL-MAR</td>\n",
              "      <td>2019-11-22 00:00:00</td>\n",
              "      <td>2019.0</td>\n",
              "      <td>1.930137e+09</td>\n",
              "      <td>2019-11-12</td>\n",
              "      <td>20191112</td>\n",
              "      <td>20191127.0</td>\n",
              "      <td>USD</td>\n",
              "      <td>2982.64</td>\n",
              "      <td>20191112.0</td>\n",
              "      <td>NAH4</td>\n",
              "    </tr>\n",
              "    <tr>\n",
              "      <th>3873</th>\n",
              "      <td>CA02</td>\n",
              "      <td>0140104409</td>\n",
              "      <td>LOB associates</td>\n",
              "      <td>NaN</td>\n",
              "      <td>2020.0</td>\n",
              "      <td>2.960629e+09</td>\n",
              "      <td>2020-04-14</td>\n",
              "      <td>20200414</td>\n",
              "      <td>20200425.0</td>\n",
              "      <td>CAD</td>\n",
              "      <td>82975.82</td>\n",
              "      <td>20200415.0</td>\n",
              "      <td>CA10</td>\n",
              "    </tr>\n",
              "    <tr>\n",
              "      <th>...</th>\n",
              "      <td>...</td>\n",
              "      <td>...</td>\n",
              "      <td>...</td>\n",
              "      <td>...</td>\n",
              "      <td>...</td>\n",
              "      <td>...</td>\n",
              "      <td>...</td>\n",
              "      <td>...</td>\n",
              "      <td>...</td>\n",
              "      <td>...</td>\n",
              "      <td>...</td>\n",
              "      <td>...</td>\n",
              "      <td>...</td>\n",
              "    </tr>\n",
              "    <tr>\n",
              "      <th>49928</th>\n",
              "      <td>U001</td>\n",
              "      <td>0200915438</td>\n",
              "      <td>GROC trust</td>\n",
              "      <td>2019-08-15 00:00:00</td>\n",
              "      <td>2019.0</td>\n",
              "      <td>1.929646e+09</td>\n",
              "      <td>2019-07-25</td>\n",
              "      <td>20190725</td>\n",
              "      <td>20190809.0</td>\n",
              "      <td>USD</td>\n",
              "      <td>6969.00</td>\n",
              "      <td>20190725.0</td>\n",
              "      <td>NAA8</td>\n",
              "    </tr>\n",
              "    <tr>\n",
              "      <th>49963</th>\n",
              "      <td>U001</td>\n",
              "      <td>0200759878</td>\n",
              "      <td>SA us</td>\n",
              "      <td>2019-01-29 00:00:00</td>\n",
              "      <td>2019.0</td>\n",
              "      <td>1.928614e+09</td>\n",
              "      <td>2019-01-13</td>\n",
              "      <td>20190113</td>\n",
              "      <td>20190128.0</td>\n",
              "      <td>USD</td>\n",
              "      <td>10968.24</td>\n",
              "      <td>20190113.0</td>\n",
              "      <td>NAH4</td>\n",
              "    </tr>\n",
              "    <tr>\n",
              "      <th>49986</th>\n",
              "      <td>U001</td>\n",
              "      <td>0200772670</td>\n",
              "      <td>ASSOCIAT foundation</td>\n",
              "      <td>2019-06-12 00:00:00</td>\n",
              "      <td>2019.0</td>\n",
              "      <td>1.929403e+09</td>\n",
              "      <td>2019-05-29</td>\n",
              "      <td>20190529</td>\n",
              "      <td>20190613.0</td>\n",
              "      <td>USD</td>\n",
              "      <td>155837.53</td>\n",
              "      <td>20190529.0</td>\n",
              "      <td>NAU5</td>\n",
              "    </tr>\n",
              "    <tr>\n",
              "      <th>49990</th>\n",
              "      <td>U001</td>\n",
              "      <td>0200765011</td>\n",
              "      <td>MAINES llc</td>\n",
              "      <td>2019-06-06 00:00:00</td>\n",
              "      <td>2019.0</td>\n",
              "      <td>1.929365e+09</td>\n",
              "      <td>2019-05-22</td>\n",
              "      <td>20190522</td>\n",
              "      <td>20190606.0</td>\n",
              "      <td>USD</td>\n",
              "      <td>4008.05</td>\n",
              "      <td>20190522.0</td>\n",
              "      <td>NAA8</td>\n",
              "    </tr>\n",
              "    <tr>\n",
              "      <th>49991</th>\n",
              "      <td>U001</td>\n",
              "      <td>0200704045</td>\n",
              "      <td>RA trust</td>\n",
              "      <td>2019-10-25 00:00:00</td>\n",
              "      <td>2019.0</td>\n",
              "      <td>1.930001e+09</td>\n",
              "      <td>2019-10-10</td>\n",
              "      <td>20191010</td>\n",
              "      <td>20191025.0</td>\n",
              "      <td>USD</td>\n",
              "      <td>73002.24</td>\n",
              "      <td>20191010.0</td>\n",
              "      <td>NAA8</td>\n",
              "    </tr>\n",
              "  </tbody>\n",
              "</table>\n",
              "<p>1161 rows × 13 columns</p>\n",
              "</div>\n",
              "      <button class=\"colab-df-convert\" onclick=\"convertToInteractive('df-3790a0e5-24fd-40d8-843b-b5ea3d49b43d')\"\n",
              "              title=\"Convert this dataframe to an interactive table.\"\n",
              "              style=\"display:none;\">\n",
              "        \n",
              "  <svg xmlns=\"http://www.w3.org/2000/svg\" height=\"24px\"viewBox=\"0 0 24 24\"\n",
              "       width=\"24px\">\n",
              "    <path d=\"M0 0h24v24H0V0z\" fill=\"none\"/>\n",
              "    <path d=\"M18.56 5.44l.94 2.06.94-2.06 2.06-.94-2.06-.94-.94-2.06-.94 2.06-2.06.94zm-11 1L8.5 8.5l.94-2.06 2.06-.94-2.06-.94L8.5 2.5l-.94 2.06-2.06.94zm10 10l.94 2.06.94-2.06 2.06-.94-2.06-.94-.94-2.06-.94 2.06-2.06.94z\"/><path d=\"M17.41 7.96l-1.37-1.37c-.4-.4-.92-.59-1.43-.59-.52 0-1.04.2-1.43.59L10.3 9.45l-7.72 7.72c-.78.78-.78 2.05 0 2.83L4 21.41c.39.39.9.59 1.41.59.51 0 1.02-.2 1.41-.59l7.78-7.78 2.81-2.81c.8-.78.8-2.07 0-2.86zM5.41 20L4 18.59l7.72-7.72 1.47 1.35L5.41 20z\"/>\n",
              "  </svg>\n",
              "      </button>\n",
              "      \n",
              "  <style>\n",
              "    .colab-df-container {\n",
              "      display:flex;\n",
              "      flex-wrap:wrap;\n",
              "      gap: 12px;\n",
              "    }\n",
              "\n",
              "    .colab-df-convert {\n",
              "      background-color: #E8F0FE;\n",
              "      border: none;\n",
              "      border-radius: 50%;\n",
              "      cursor: pointer;\n",
              "      display: none;\n",
              "      fill: #1967D2;\n",
              "      height: 32px;\n",
              "      padding: 0 0 0 0;\n",
              "      width: 32px;\n",
              "    }\n",
              "\n",
              "    .colab-df-convert:hover {\n",
              "      background-color: #E2EBFA;\n",
              "      box-shadow: 0px 1px 2px rgba(60, 64, 67, 0.3), 0px 1px 3px 1px rgba(60, 64, 67, 0.15);\n",
              "      fill: #174EA6;\n",
              "    }\n",
              "\n",
              "    [theme=dark] .colab-df-convert {\n",
              "      background-color: #3B4455;\n",
              "      fill: #D2E3FC;\n",
              "    }\n",
              "\n",
              "    [theme=dark] .colab-df-convert:hover {\n",
              "      background-color: #434B5C;\n",
              "      box-shadow: 0px 1px 3px 1px rgba(0, 0, 0, 0.15);\n",
              "      filter: drop-shadow(0px 1px 2px rgba(0, 0, 0, 0.3));\n",
              "      fill: #FFFFFF;\n",
              "    }\n",
              "  </style>\n",
              "\n",
              "      <script>\n",
              "        const buttonEl =\n",
              "          document.querySelector('#df-3790a0e5-24fd-40d8-843b-b5ea3d49b43d button.colab-df-convert');\n",
              "        buttonEl.style.display =\n",
              "          google.colab.kernel.accessAllowed ? 'block' : 'none';\n",
              "\n",
              "        async function convertToInteractive(key) {\n",
              "          const element = document.querySelector('#df-3790a0e5-24fd-40d8-843b-b5ea3d49b43d');\n",
              "          const dataTable =\n",
              "            await google.colab.kernel.invokeFunction('convertToInteractive',\n",
              "                                                     [key], {});\n",
              "          if (!dataTable) return;\n",
              "\n",
              "          const docLinkHtml = 'Like what you see? Visit the ' +\n",
              "            '<a target=\"_blank\" href=https://colab.research.google.com/notebooks/data_table.ipynb>data table notebook</a>'\n",
              "            + ' to learn more about interactive tables.';\n",
              "          element.innerHTML = '';\n",
              "          dataTable['output_type'] = 'display_data';\n",
              "          await google.colab.output.renderOutput(dataTable, element);\n",
              "          const docLink = document.createElement('div');\n",
              "          docLink.innerHTML = docLinkHtml;\n",
              "          element.appendChild(docLink);\n",
              "        }\n",
              "      </script>\n",
              "    </div>\n",
              "  </div>\n",
              "  "
            ]
          },
          "metadata": {},
          "execution_count": 17
        }
      ],
      "source": [
        "df[df.duplicated()]"
      ]
    },
    {
      "cell_type": "markdown",
      "id": "464fab09",
      "metadata": {
        "id": "464fab09"
      },
      "source": [
        "### Display the Number of Duplicate Rows"
      ]
    },
    {
      "cell_type": "code",
      "execution_count": null,
      "id": "b1ea2397",
      "metadata": {
        "id": "b1ea2397",
        "colab": {
          "base_uri": "https://localhost:8080/"
        },
        "outputId": "25b558a9-5c71-4e25-c451-617b99734503"
      },
      "outputs": [
        {
          "output_type": "execute_result",
          "data": {
            "text/plain": [
              "1161"
            ]
          },
          "metadata": {},
          "execution_count": 18
        }
      ],
      "source": [
        "df.duplicated().sum()"
      ]
    },
    {
      "cell_type": "markdown",
      "id": "827a6718",
      "metadata": {
        "id": "827a6718"
      },
      "source": [
        "### Drop all the Duplicate Rows"
      ]
    },
    {
      "cell_type": "code",
      "execution_count": null,
      "id": "5d10151c",
      "metadata": {
        "id": "5d10151c"
      },
      "outputs": [],
      "source": [
        "df = df.drop_duplicates()"
      ]
    },
    {
      "cell_type": "markdown",
      "id": "7e5d1f9b",
      "metadata": {
        "id": "7e5d1f9b"
      },
      "source": [
        "#### Now check for all duplicate rows now\n",
        "\n",
        "- Note - It must be 0 by now"
      ]
    },
    {
      "cell_type": "code",
      "execution_count": null,
      "id": "9accc9fc",
      "metadata": {
        "id": "9accc9fc",
        "colab": {
          "base_uri": "https://localhost:8080/"
        },
        "outputId": "377e726e-d466-438f-fd20-9271b0092194"
      },
      "outputs": [
        {
          "output_type": "execute_result",
          "data": {
            "text/plain": [
              "0"
            ]
          },
          "metadata": {},
          "execution_count": 20
        }
      ],
      "source": [
        "df.duplicated().sum()\n"
      ]
    },
    {
      "cell_type": "markdown",
      "id": "d0704898",
      "metadata": {
        "id": "d0704898"
      },
      "source": [
        "### Check for the number of Rows and Columns in your dataset"
      ]
    },
    {
      "cell_type": "code",
      "execution_count": null,
      "id": "582748a8",
      "metadata": {
        "id": "582748a8",
        "colab": {
          "base_uri": "https://localhost:8080/"
        },
        "outputId": "8984468f-27b1-4c04-e497-9f3559b19c28"
      },
      "outputs": [
        {
          "output_type": "execute_result",
          "data": {
            "text/plain": [
              "(48839, 13)"
            ]
          },
          "metadata": {},
          "execution_count": 21
        }
      ],
      "source": [
        "df.shape"
      ]
    },
    {
      "cell_type": "markdown",
      "id": "4o9c5UodWRtl",
      "metadata": {
        "id": "4o9c5UodWRtl"
      },
      "source": [
        "### Find out the total count of null values in each columns"
      ]
    },
    {
      "cell_type": "code",
      "execution_count": null,
      "id": "b0612cb5",
      "metadata": {
        "id": "b0612cb5",
        "colab": {
          "base_uri": "https://localhost:8080/"
        },
        "outputId": "443824d2-6c41-4d73-c86f-af2413d4b912"
      },
      "outputs": [
        {
          "output_type": "execute_result",
          "data": {
            "text/plain": [
              "business_code                0\n",
              "cust_number                  0\n",
              "name_customer                0\n",
              "clear_date                9681\n",
              "buisness_year                0\n",
              "doc_id                       0\n",
              "posting_date                 0\n",
              "document_create_date.1       0\n",
              "due_in_date                  0\n",
              "invoice_currency             0\n",
              "total_open_amount            0\n",
              "baseline_create_date         0\n",
              "cust_payment_terms           0\n",
              "dtype: int64"
            ]
          },
          "metadata": {},
          "execution_count": 22
        }
      ],
      "source": [
        "df.isnull().sum()"
      ]
    },
    {
      "cell_type": "markdown",
      "id": "7abdb98b",
      "metadata": {
        "id": "7abdb98b"
      },
      "source": [
        "#Data type Conversion "
      ]
    },
    {
      "cell_type": "markdown",
      "id": "LPfSUSp-WpPj",
      "metadata": {
        "id": "LPfSUSp-WpPj"
      },
      "source": [
        "### Please check the data type of each column of the dataframe"
      ]
    },
    {
      "cell_type": "code",
      "execution_count": null,
      "id": "689c8592",
      "metadata": {
        "id": "689c8592",
        "colab": {
          "base_uri": "https://localhost:8080/"
        },
        "outputId": "c684c6ac-9dfa-4ec3-bf15-6ffdeb419258"
      },
      "outputs": [
        {
          "output_type": "execute_result",
          "data": {
            "text/plain": [
              "business_code              object\n",
              "cust_number                object\n",
              "name_customer              object\n",
              "clear_date                 object\n",
              "buisness_year             float64\n",
              "doc_id                    float64\n",
              "posting_date               object\n",
              "document_create_date.1      int64\n",
              "due_in_date               float64\n",
              "invoice_currency           object\n",
              "total_open_amount         float64\n",
              "baseline_create_date      float64\n",
              "cust_payment_terms         object\n",
              "dtype: object"
            ]
          },
          "metadata": {},
          "execution_count": 23
        }
      ],
      "source": [
        "df.dtypes"
      ]
    },
    {
      "cell_type": "markdown",
      "id": "0nsem0_3XzOt",
      "metadata": {
        "id": "0nsem0_3XzOt"
      },
      "source": [
        "### Check the datatype format of below columns\n",
        "\n",
        "- clear_date  \n",
        "- posting_date\n",
        "- due_in_date \n",
        "- baseline_create_date"
      ]
    },
    {
      "cell_type": "code",
      "execution_count": null,
      "id": "-yyODyW3X6pL",
      "metadata": {
        "id": "-yyODyW3X6pL",
        "colab": {
          "base_uri": "https://localhost:8080/"
        },
        "outputId": "0c765bdd-b1c5-458d-936d-9481e08f6366"
      },
      "outputs": [
        {
          "output_type": "stream",
          "name": "stdout",
          "text": [
            "object object float64 float64\n"
          ]
        }
      ],
      "source": [
        "print(df['clear_date'].dtypes,\n",
        "df['posting_date'].dtypes,\n",
        "df['due_in_date'].dtypes,\n",
        "df['baseline_create_date'].dtypes)"
      ]
    },
    {
      "cell_type": "markdown",
      "id": "11cf9478",
      "metadata": {
        "id": "11cf9478"
      },
      "source": [
        "### converting date columns into date time formats\n",
        "\n",
        "- clear_date  \n",
        "- posting_date\n",
        "- due_in_date \n",
        "- baseline_create_date\n",
        "\n",
        "\n",
        "- **Note - You have to convert all these above columns into \"%Y%m%d\" format**"
      ]
    },
    {
      "cell_type": "code",
      "execution_count": null,
      "id": "9a8c6c71",
      "metadata": {
        "id": "9a8c6c71",
        "colab": {
          "base_uri": "https://localhost:8080/"
        },
        "outputId": "962c45a3-58d6-4451-ae42-32b0f9a12836"
      },
      "outputs": [
        {
          "output_type": "stream",
          "name": "stderr",
          "text": [
            "/usr/local/lib/python3.7/dist-packages/ipykernel_launcher.py:1: SettingWithCopyWarning: \n",
            "A value is trying to be set on a copy of a slice from a DataFrame.\n",
            "Try using .loc[row_indexer,col_indexer] = value instead\n",
            "\n",
            "See the caveats in the documentation: https://pandas.pydata.org/pandas-docs/stable/user_guide/indexing.html#returning-a-view-versus-a-copy\n",
            "  \"\"\"Entry point for launching an IPython kernel.\n"
          ]
        },
        {
          "output_type": "execute_result",
          "data": {
            "text/plain": [
              "0   2020-01-26\n",
              "1   2019-07-22\n",
              "2   2019-09-14\n",
              "3   2020-03-30\n",
              "4   2019-11-13\n",
              "Name: document_create_date.1, dtype: datetime64[ns]"
            ]
          },
          "metadata": {},
          "execution_count": 25
        }
      ],
      "source": [
        "df['document_create_date.1']=pd.to_datetime(df['document_create_date.1'],format='%Y%m%d')\n",
        "df['document_create_date.1'].head()"
      ]
    },
    {
      "cell_type": "code",
      "source": [
        "df['clear_date']=pd.to_datetime(df['clear_date'],format='%Y-%m-%d %H:%M:%S')\n",
        "df['clear_date'].head()"
      ],
      "metadata": {
        "colab": {
          "base_uri": "https://localhost:8080/"
        },
        "id": "YDmQ1_mbMivE",
        "outputId": "63265036-8816-44bb-a223-164342406b91"
      },
      "id": "YDmQ1_mbMivE",
      "execution_count": null,
      "outputs": [
        {
          "output_type": "execute_result",
          "data": {
            "text/plain": [
              "0   2020-02-11\n",
              "1   2019-08-08\n",
              "2   2019-12-30\n",
              "3          NaT\n",
              "4   2019-11-25\n",
              "Name: clear_date, dtype: datetime64[ns]"
            ]
          },
          "metadata": {},
          "execution_count": 26
        }
      ]
    },
    {
      "cell_type": "code",
      "source": [
        "df['posting_date']=pd.to_datetime(df['posting_date'],format='%Y-%m-%d')\n",
        "df['posting_date'].head()"
      ],
      "metadata": {
        "colab": {
          "base_uri": "https://localhost:8080/"
        },
        "id": "9S3NosBTMi87",
        "outputId": "9b6282e2-e88b-49e9-a63d-810aad01b707"
      },
      "id": "9S3NosBTMi87",
      "execution_count": null,
      "outputs": [
        {
          "output_type": "execute_result",
          "data": {
            "text/plain": [
              "0   2020-01-26\n",
              "1   2019-07-22\n",
              "2   2019-09-14\n",
              "3   2020-03-30\n",
              "4   2019-11-13\n",
              "Name: posting_date, dtype: datetime64[ns]"
            ]
          },
          "metadata": {},
          "execution_count": 27
        }
      ]
    },
    {
      "cell_type": "code",
      "source": [
        "df['due_in_date']=pd.to_datetime(df['due_in_date'],format='%Y%m%d')\n",
        "df['due_in_date'].head()"
      ],
      "metadata": {
        "colab": {
          "base_uri": "https://localhost:8080/"
        },
        "id": "2yRpU5MZMjKN",
        "outputId": "7035d774-1452-426d-806a-33f8114f2451"
      },
      "id": "2yRpU5MZMjKN",
      "execution_count": null,
      "outputs": [
        {
          "output_type": "execute_result",
          "data": {
            "text/plain": [
              "0   2020-02-10\n",
              "1   2019-08-11\n",
              "2   2019-09-29\n",
              "3   2020-04-10\n",
              "4   2019-11-28\n",
              "Name: due_in_date, dtype: datetime64[ns]"
            ]
          },
          "metadata": {},
          "execution_count": 28
        }
      ]
    },
    {
      "cell_type": "code",
      "source": [
        "df['baseline_create_date']=pd.to_datetime(df['baseline_create_date'],format='%Y%m%d')\n",
        "df['baseline_create_date'].head()"
      ],
      "metadata": {
        "colab": {
          "base_uri": "https://localhost:8080/"
        },
        "id": "SCCUKtJSMw0E",
        "outputId": "72a3a53e-ba15-4153-b651-f55f93431d6f"
      },
      "id": "SCCUKtJSMw0E",
      "execution_count": null,
      "outputs": [
        {
          "output_type": "execute_result",
          "data": {
            "text/plain": [
              "0   2020-01-26\n",
              "1   2019-07-22\n",
              "2   2019-09-14\n",
              "3   2020-03-31\n",
              "4   2019-11-13\n",
              "Name: baseline_create_date, dtype: datetime64[ns]"
            ]
          },
          "metadata": {},
          "execution_count": 29
        }
      ]
    },
    {
      "cell_type": "markdown",
      "id": "7adq0wSIYSCS",
      "metadata": {
        "id": "7adq0wSIYSCS"
      },
      "source": [
        "### Please check the datatype of all the columns after conversion of the above 4 columns"
      ]
    },
    {
      "cell_type": "code",
      "execution_count": null,
      "id": "fd028c61",
      "metadata": {
        "id": "fd028c61",
        "colab": {
          "base_uri": "https://localhost:8080/",
          "height": 423
        },
        "outputId": "31d28bcf-ccb2-416b-f49c-37005abd81a9"
      },
      "outputs": [
        {
          "output_type": "execute_result",
          "data": {
            "text/plain": [
              "      clear_date posting_date due_in_date baseline_create_date\n",
              "0     2020-02-11   2020-01-26  2020-02-10           2020-01-26\n",
              "1     2019-08-08   2019-07-22  2019-08-11           2019-07-22\n",
              "2     2019-12-30   2019-09-14  2019-09-29           2019-09-14\n",
              "3            NaT   2020-03-30  2020-04-10           2020-03-31\n",
              "4     2019-11-25   2019-11-13  2019-11-28           2019-11-13\n",
              "...          ...          ...         ...                  ...\n",
              "49995        NaT   2020-04-21  2020-05-06           2020-04-21\n",
              "49996 2019-09-03   2019-08-15  2019-08-30           2019-08-15\n",
              "49997 2020-03-05   2020-02-19  2020-03-05           2020-02-19\n",
              "49998 2019-12-12   2019-11-27  2019-12-12           2019-11-27\n",
              "49999 2019-01-15   2019-01-05  2019-01-24           2019-01-01\n",
              "\n",
              "[48839 rows x 4 columns]"
            ],
            "text/html": [
              "\n",
              "  <div id=\"df-23d2dc5e-822d-4985-8897-7dead394b0bd\">\n",
              "    <div class=\"colab-df-container\">\n",
              "      <div>\n",
              "<style scoped>\n",
              "    .dataframe tbody tr th:only-of-type {\n",
              "        vertical-align: middle;\n",
              "    }\n",
              "\n",
              "    .dataframe tbody tr th {\n",
              "        vertical-align: top;\n",
              "    }\n",
              "\n",
              "    .dataframe thead th {\n",
              "        text-align: right;\n",
              "    }\n",
              "</style>\n",
              "<table border=\"1\" class=\"dataframe\">\n",
              "  <thead>\n",
              "    <tr style=\"text-align: right;\">\n",
              "      <th></th>\n",
              "      <th>clear_date</th>\n",
              "      <th>posting_date</th>\n",
              "      <th>due_in_date</th>\n",
              "      <th>baseline_create_date</th>\n",
              "    </tr>\n",
              "  </thead>\n",
              "  <tbody>\n",
              "    <tr>\n",
              "      <th>0</th>\n",
              "      <td>2020-02-11</td>\n",
              "      <td>2020-01-26</td>\n",
              "      <td>2020-02-10</td>\n",
              "      <td>2020-01-26</td>\n",
              "    </tr>\n",
              "    <tr>\n",
              "      <th>1</th>\n",
              "      <td>2019-08-08</td>\n",
              "      <td>2019-07-22</td>\n",
              "      <td>2019-08-11</td>\n",
              "      <td>2019-07-22</td>\n",
              "    </tr>\n",
              "    <tr>\n",
              "      <th>2</th>\n",
              "      <td>2019-12-30</td>\n",
              "      <td>2019-09-14</td>\n",
              "      <td>2019-09-29</td>\n",
              "      <td>2019-09-14</td>\n",
              "    </tr>\n",
              "    <tr>\n",
              "      <th>3</th>\n",
              "      <td>NaT</td>\n",
              "      <td>2020-03-30</td>\n",
              "      <td>2020-04-10</td>\n",
              "      <td>2020-03-31</td>\n",
              "    </tr>\n",
              "    <tr>\n",
              "      <th>4</th>\n",
              "      <td>2019-11-25</td>\n",
              "      <td>2019-11-13</td>\n",
              "      <td>2019-11-28</td>\n",
              "      <td>2019-11-13</td>\n",
              "    </tr>\n",
              "    <tr>\n",
              "      <th>...</th>\n",
              "      <td>...</td>\n",
              "      <td>...</td>\n",
              "      <td>...</td>\n",
              "      <td>...</td>\n",
              "    </tr>\n",
              "    <tr>\n",
              "      <th>49995</th>\n",
              "      <td>NaT</td>\n",
              "      <td>2020-04-21</td>\n",
              "      <td>2020-05-06</td>\n",
              "      <td>2020-04-21</td>\n",
              "    </tr>\n",
              "    <tr>\n",
              "      <th>49996</th>\n",
              "      <td>2019-09-03</td>\n",
              "      <td>2019-08-15</td>\n",
              "      <td>2019-08-30</td>\n",
              "      <td>2019-08-15</td>\n",
              "    </tr>\n",
              "    <tr>\n",
              "      <th>49997</th>\n",
              "      <td>2020-03-05</td>\n",
              "      <td>2020-02-19</td>\n",
              "      <td>2020-03-05</td>\n",
              "      <td>2020-02-19</td>\n",
              "    </tr>\n",
              "    <tr>\n",
              "      <th>49998</th>\n",
              "      <td>2019-12-12</td>\n",
              "      <td>2019-11-27</td>\n",
              "      <td>2019-12-12</td>\n",
              "      <td>2019-11-27</td>\n",
              "    </tr>\n",
              "    <tr>\n",
              "      <th>49999</th>\n",
              "      <td>2019-01-15</td>\n",
              "      <td>2019-01-05</td>\n",
              "      <td>2019-01-24</td>\n",
              "      <td>2019-01-01</td>\n",
              "    </tr>\n",
              "  </tbody>\n",
              "</table>\n",
              "<p>48839 rows × 4 columns</p>\n",
              "</div>\n",
              "      <button class=\"colab-df-convert\" onclick=\"convertToInteractive('df-23d2dc5e-822d-4985-8897-7dead394b0bd')\"\n",
              "              title=\"Convert this dataframe to an interactive table.\"\n",
              "              style=\"display:none;\">\n",
              "        \n",
              "  <svg xmlns=\"http://www.w3.org/2000/svg\" height=\"24px\"viewBox=\"0 0 24 24\"\n",
              "       width=\"24px\">\n",
              "    <path d=\"M0 0h24v24H0V0z\" fill=\"none\"/>\n",
              "    <path d=\"M18.56 5.44l.94 2.06.94-2.06 2.06-.94-2.06-.94-.94-2.06-.94 2.06-2.06.94zm-11 1L8.5 8.5l.94-2.06 2.06-.94-2.06-.94L8.5 2.5l-.94 2.06-2.06.94zm10 10l.94 2.06.94-2.06 2.06-.94-2.06-.94-.94-2.06-.94 2.06-2.06.94z\"/><path d=\"M17.41 7.96l-1.37-1.37c-.4-.4-.92-.59-1.43-.59-.52 0-1.04.2-1.43.59L10.3 9.45l-7.72 7.72c-.78.78-.78 2.05 0 2.83L4 21.41c.39.39.9.59 1.41.59.51 0 1.02-.2 1.41-.59l7.78-7.78 2.81-2.81c.8-.78.8-2.07 0-2.86zM5.41 20L4 18.59l7.72-7.72 1.47 1.35L5.41 20z\"/>\n",
              "  </svg>\n",
              "      </button>\n",
              "      \n",
              "  <style>\n",
              "    .colab-df-container {\n",
              "      display:flex;\n",
              "      flex-wrap:wrap;\n",
              "      gap: 12px;\n",
              "    }\n",
              "\n",
              "    .colab-df-convert {\n",
              "      background-color: #E8F0FE;\n",
              "      border: none;\n",
              "      border-radius: 50%;\n",
              "      cursor: pointer;\n",
              "      display: none;\n",
              "      fill: #1967D2;\n",
              "      height: 32px;\n",
              "      padding: 0 0 0 0;\n",
              "      width: 32px;\n",
              "    }\n",
              "\n",
              "    .colab-df-convert:hover {\n",
              "      background-color: #E2EBFA;\n",
              "      box-shadow: 0px 1px 2px rgba(60, 64, 67, 0.3), 0px 1px 3px 1px rgba(60, 64, 67, 0.15);\n",
              "      fill: #174EA6;\n",
              "    }\n",
              "\n",
              "    [theme=dark] .colab-df-convert {\n",
              "      background-color: #3B4455;\n",
              "      fill: #D2E3FC;\n",
              "    }\n",
              "\n",
              "    [theme=dark] .colab-df-convert:hover {\n",
              "      background-color: #434B5C;\n",
              "      box-shadow: 0px 1px 3px 1px rgba(0, 0, 0, 0.15);\n",
              "      filter: drop-shadow(0px 1px 2px rgba(0, 0, 0, 0.3));\n",
              "      fill: #FFFFFF;\n",
              "    }\n",
              "  </style>\n",
              "\n",
              "      <script>\n",
              "        const buttonEl =\n",
              "          document.querySelector('#df-23d2dc5e-822d-4985-8897-7dead394b0bd button.colab-df-convert');\n",
              "        buttonEl.style.display =\n",
              "          google.colab.kernel.accessAllowed ? 'block' : 'none';\n",
              "\n",
              "        async function convertToInteractive(key) {\n",
              "          const element = document.querySelector('#df-23d2dc5e-822d-4985-8897-7dead394b0bd');\n",
              "          const dataTable =\n",
              "            await google.colab.kernel.invokeFunction('convertToInteractive',\n",
              "                                                     [key], {});\n",
              "          if (!dataTable) return;\n",
              "\n",
              "          const docLinkHtml = 'Like what you see? Visit the ' +\n",
              "            '<a target=\"_blank\" href=https://colab.research.google.com/notebooks/data_table.ipynb>data table notebook</a>'\n",
              "            + ' to learn more about interactive tables.';\n",
              "          element.innerHTML = '';\n",
              "          dataTable['output_type'] = 'display_data';\n",
              "          await google.colab.output.renderOutput(dataTable, element);\n",
              "          const docLink = document.createElement('div');\n",
              "          docLink.innerHTML = docLinkHtml;\n",
              "          element.appendChild(docLink);\n",
              "        }\n",
              "      </script>\n",
              "    </div>\n",
              "  </div>\n",
              "  "
            ]
          },
          "metadata": {},
          "execution_count": 30
        }
      ],
      "source": [
        "df[['clear_date', 'posting_date', 'due_in_date','baseline_create_date']]"
      ]
    },
    {
      "cell_type": "markdown",
      "id": "8c9882fa",
      "metadata": {
        "id": "8c9882fa"
      },
      "source": [
        "#### the invoice_currency column contains two different categories, USD and CAD\n",
        "\n",
        "- Please do a count of each currency "
      ]
    },
    {
      "cell_type": "code",
      "execution_count": null,
      "id": "72085397",
      "metadata": {
        "id": "72085397",
        "colab": {
          "base_uri": "https://localhost:8080/"
        },
        "outputId": "720d68ca-3448-4754-c18d-93d6d7e6ac6e"
      },
      "outputs": [
        {
          "output_type": "execute_result",
          "data": {
            "text/plain": [
              "USD    45011\n",
              "CAD     3828\n",
              "Name: invoice_currency, dtype: int64"
            ]
          },
          "metadata": {},
          "execution_count": 31
        }
      ],
      "source": [
        "df['invoice_currency'].value_counts()"
      ]
    },
    {
      "cell_type": "markdown",
      "id": "6cbe26ee",
      "metadata": {
        "id": "6cbe26ee"
      },
      "source": [
        "#### display the \"total_open_amount\" column value"
      ]
    },
    {
      "cell_type": "code",
      "execution_count": null,
      "id": "6c49f2ab",
      "metadata": {
        "id": "6c49f2ab",
        "colab": {
          "base_uri": "https://localhost:8080/"
        },
        "outputId": "f895c373-3c63-41d9-9520-172fd7c238be"
      },
      "outputs": [
        {
          "output_type": "execute_result",
          "data": {
            "text/plain": [
              "0    54273.28\n",
              "1    79656.60\n",
              "2     2253.86\n",
              "3     3299.70\n",
              "4    33133.29\n",
              "5    22225.84\n",
              "6     7358.49\n",
              "7    11173.02\n",
              "8    15995.04\n",
              "9       28.63\n",
              "Name: total_open_amount, dtype: float64"
            ]
          },
          "metadata": {},
          "execution_count": 32
        }
      ],
      "source": [
        "df['total_open_amount'].head(10)"
      ]
    },
    {
      "cell_type": "markdown",
      "id": "df899966",
      "metadata": {
        "id": "df899966"
      },
      "source": [
        "### Convert all CAD into USD currency of \"total_open_amount\" column\n",
        "\n",
        "- 1 CAD = 0.7 USD\n",
        "- Create a new column i.e \"converted_usd\" and store USD and convered CAD to USD"
      ]
    },
    {
      "cell_type": "code",
      "execution_count": null,
      "id": "8eb2f1c5",
      "metadata": {
        "id": "8eb2f1c5",
        "colab": {
          "base_uri": "https://localhost:8080/",
          "height": 479
        },
        "outputId": "0486a274-ce32-4cd5-b635-ff8ddc86f9aa"
      },
      "outputs": [
        {
          "output_type": "execute_result",
          "data": {
            "text/plain": [
              "  business_code cust_number       name_customer clear_date  buisness_year  \\\n",
              "0          U001  0200769623        WAL-MAR corp 2020-02-11         2020.0   \n",
              "1          U001  0200980828              BEN E  2019-08-08         2019.0   \n",
              "2          U001  0200792734          MDV/ trust 2019-12-30         2019.0   \n",
              "3          CA02  0140105686            SYSC llc        NaT         2020.0   \n",
              "4          U001  0200769623  WAL-MAR foundation 2019-11-25         2019.0   \n",
              "5          CA02  0140106181    THE  corporation 2019-12-04         2019.0   \n",
              "6          U001  0200769623          WAL-MAR in 2019-11-12         2019.0   \n",
              "7          U001  0200744019             TARG us        NaT         2020.0   \n",
              "8          U001  0200769623        WAL-MAR corp 2019-06-18         2019.0   \n",
              "9          U001  0200762301      C&S WH systems 2019-03-06         2019.0   \n",
              "\n",
              "         doc_id posting_date document_create_date.1 due_in_date  \\\n",
              "0  1.930438e+09   2020-01-26             2020-01-26  2020-02-10   \n",
              "1  1.929646e+09   2019-07-22             2019-07-22  2019-08-11   \n",
              "2  1.929874e+09   2019-09-14             2019-09-14  2019-09-29   \n",
              "3  2.960623e+09   2020-03-30             2020-03-30  2020-04-10   \n",
              "4  1.930148e+09   2019-11-13             2019-11-13  2019-11-28   \n",
              "5  2.960581e+09   2019-09-20             2019-09-20  2019-10-04   \n",
              "6  1.930083e+09   2019-11-01             2019-11-01  2019-11-16   \n",
              "7  1.930659e+09   2020-03-19             2020-03-19  2020-04-03   \n",
              "8  1.929440e+09   2019-06-07             2019-06-07  2019-06-22   \n",
              "9  1.928819e+09   2019-02-20             2019-02-20  2019-03-07   \n",
              "\n",
              "  invoice_currency  total_open_amount baseline_create_date cust_payment_terms  \\\n",
              "0              USD           54273.28           2020-01-26               NAH4   \n",
              "1              USD           79656.60           2019-07-22               NAD1   \n",
              "2              USD            2253.86           2019-09-14               NAA8   \n",
              "3              CAD            3299.70           2020-03-31               CA10   \n",
              "4              USD           33133.29           2019-11-13               NAH4   \n",
              "5              CAD           22225.84           2019-09-24               CA10   \n",
              "6              USD            7358.49           2019-11-01               NAH4   \n",
              "7              USD           11173.02           2020-03-19               NAA8   \n",
              "8              USD           15995.04           2019-06-07               NAH4   \n",
              "9              USD              28.63           2019-02-20               NAC6   \n",
              "\n",
              "   converted_usd  \n",
              "0      54273.280  \n",
              "1      79656.600  \n",
              "2       2253.860  \n",
              "3       2309.790  \n",
              "4      33133.290  \n",
              "5      15558.088  \n",
              "6       7358.490  \n",
              "7      11173.020  \n",
              "8      15995.040  \n",
              "9         28.630  "
            ],
            "text/html": [
              "\n",
              "  <div id=\"df-c07e31aa-aab8-457d-9f06-06fdd916696b\">\n",
              "    <div class=\"colab-df-container\">\n",
              "      <div>\n",
              "<style scoped>\n",
              "    .dataframe tbody tr th:only-of-type {\n",
              "        vertical-align: middle;\n",
              "    }\n",
              "\n",
              "    .dataframe tbody tr th {\n",
              "        vertical-align: top;\n",
              "    }\n",
              "\n",
              "    .dataframe thead th {\n",
              "        text-align: right;\n",
              "    }\n",
              "</style>\n",
              "<table border=\"1\" class=\"dataframe\">\n",
              "  <thead>\n",
              "    <tr style=\"text-align: right;\">\n",
              "      <th></th>\n",
              "      <th>business_code</th>\n",
              "      <th>cust_number</th>\n",
              "      <th>name_customer</th>\n",
              "      <th>clear_date</th>\n",
              "      <th>buisness_year</th>\n",
              "      <th>doc_id</th>\n",
              "      <th>posting_date</th>\n",
              "      <th>document_create_date.1</th>\n",
              "      <th>due_in_date</th>\n",
              "      <th>invoice_currency</th>\n",
              "      <th>total_open_amount</th>\n",
              "      <th>baseline_create_date</th>\n",
              "      <th>cust_payment_terms</th>\n",
              "      <th>converted_usd</th>\n",
              "    </tr>\n",
              "  </thead>\n",
              "  <tbody>\n",
              "    <tr>\n",
              "      <th>0</th>\n",
              "      <td>U001</td>\n",
              "      <td>0200769623</td>\n",
              "      <td>WAL-MAR corp</td>\n",
              "      <td>2020-02-11</td>\n",
              "      <td>2020.0</td>\n",
              "      <td>1.930438e+09</td>\n",
              "      <td>2020-01-26</td>\n",
              "      <td>2020-01-26</td>\n",
              "      <td>2020-02-10</td>\n",
              "      <td>USD</td>\n",
              "      <td>54273.28</td>\n",
              "      <td>2020-01-26</td>\n",
              "      <td>NAH4</td>\n",
              "      <td>54273.280</td>\n",
              "    </tr>\n",
              "    <tr>\n",
              "      <th>1</th>\n",
              "      <td>U001</td>\n",
              "      <td>0200980828</td>\n",
              "      <td>BEN E</td>\n",
              "      <td>2019-08-08</td>\n",
              "      <td>2019.0</td>\n",
              "      <td>1.929646e+09</td>\n",
              "      <td>2019-07-22</td>\n",
              "      <td>2019-07-22</td>\n",
              "      <td>2019-08-11</td>\n",
              "      <td>USD</td>\n",
              "      <td>79656.60</td>\n",
              "      <td>2019-07-22</td>\n",
              "      <td>NAD1</td>\n",
              "      <td>79656.600</td>\n",
              "    </tr>\n",
              "    <tr>\n",
              "      <th>2</th>\n",
              "      <td>U001</td>\n",
              "      <td>0200792734</td>\n",
              "      <td>MDV/ trust</td>\n",
              "      <td>2019-12-30</td>\n",
              "      <td>2019.0</td>\n",
              "      <td>1.929874e+09</td>\n",
              "      <td>2019-09-14</td>\n",
              "      <td>2019-09-14</td>\n",
              "      <td>2019-09-29</td>\n",
              "      <td>USD</td>\n",
              "      <td>2253.86</td>\n",
              "      <td>2019-09-14</td>\n",
              "      <td>NAA8</td>\n",
              "      <td>2253.860</td>\n",
              "    </tr>\n",
              "    <tr>\n",
              "      <th>3</th>\n",
              "      <td>CA02</td>\n",
              "      <td>0140105686</td>\n",
              "      <td>SYSC llc</td>\n",
              "      <td>NaT</td>\n",
              "      <td>2020.0</td>\n",
              "      <td>2.960623e+09</td>\n",
              "      <td>2020-03-30</td>\n",
              "      <td>2020-03-30</td>\n",
              "      <td>2020-04-10</td>\n",
              "      <td>CAD</td>\n",
              "      <td>3299.70</td>\n",
              "      <td>2020-03-31</td>\n",
              "      <td>CA10</td>\n",
              "      <td>2309.790</td>\n",
              "    </tr>\n",
              "    <tr>\n",
              "      <th>4</th>\n",
              "      <td>U001</td>\n",
              "      <td>0200769623</td>\n",
              "      <td>WAL-MAR foundation</td>\n",
              "      <td>2019-11-25</td>\n",
              "      <td>2019.0</td>\n",
              "      <td>1.930148e+09</td>\n",
              "      <td>2019-11-13</td>\n",
              "      <td>2019-11-13</td>\n",
              "      <td>2019-11-28</td>\n",
              "      <td>USD</td>\n",
              "      <td>33133.29</td>\n",
              "      <td>2019-11-13</td>\n",
              "      <td>NAH4</td>\n",
              "      <td>33133.290</td>\n",
              "    </tr>\n",
              "    <tr>\n",
              "      <th>5</th>\n",
              "      <td>CA02</td>\n",
              "      <td>0140106181</td>\n",
              "      <td>THE  corporation</td>\n",
              "      <td>2019-12-04</td>\n",
              "      <td>2019.0</td>\n",
              "      <td>2.960581e+09</td>\n",
              "      <td>2019-09-20</td>\n",
              "      <td>2019-09-20</td>\n",
              "      <td>2019-10-04</td>\n",
              "      <td>CAD</td>\n",
              "      <td>22225.84</td>\n",
              "      <td>2019-09-24</td>\n",
              "      <td>CA10</td>\n",
              "      <td>15558.088</td>\n",
              "    </tr>\n",
              "    <tr>\n",
              "      <th>6</th>\n",
              "      <td>U001</td>\n",
              "      <td>0200769623</td>\n",
              "      <td>WAL-MAR in</td>\n",
              "      <td>2019-11-12</td>\n",
              "      <td>2019.0</td>\n",
              "      <td>1.930083e+09</td>\n",
              "      <td>2019-11-01</td>\n",
              "      <td>2019-11-01</td>\n",
              "      <td>2019-11-16</td>\n",
              "      <td>USD</td>\n",
              "      <td>7358.49</td>\n",
              "      <td>2019-11-01</td>\n",
              "      <td>NAH4</td>\n",
              "      <td>7358.490</td>\n",
              "    </tr>\n",
              "    <tr>\n",
              "      <th>7</th>\n",
              "      <td>U001</td>\n",
              "      <td>0200744019</td>\n",
              "      <td>TARG us</td>\n",
              "      <td>NaT</td>\n",
              "      <td>2020.0</td>\n",
              "      <td>1.930659e+09</td>\n",
              "      <td>2020-03-19</td>\n",
              "      <td>2020-03-19</td>\n",
              "      <td>2020-04-03</td>\n",
              "      <td>USD</td>\n",
              "      <td>11173.02</td>\n",
              "      <td>2020-03-19</td>\n",
              "      <td>NAA8</td>\n",
              "      <td>11173.020</td>\n",
              "    </tr>\n",
              "    <tr>\n",
              "      <th>8</th>\n",
              "      <td>U001</td>\n",
              "      <td>0200769623</td>\n",
              "      <td>WAL-MAR corp</td>\n",
              "      <td>2019-06-18</td>\n",
              "      <td>2019.0</td>\n",
              "      <td>1.929440e+09</td>\n",
              "      <td>2019-06-07</td>\n",
              "      <td>2019-06-07</td>\n",
              "      <td>2019-06-22</td>\n",
              "      <td>USD</td>\n",
              "      <td>15995.04</td>\n",
              "      <td>2019-06-07</td>\n",
              "      <td>NAH4</td>\n",
              "      <td>15995.040</td>\n",
              "    </tr>\n",
              "    <tr>\n",
              "      <th>9</th>\n",
              "      <td>U001</td>\n",
              "      <td>0200762301</td>\n",
              "      <td>C&amp;S WH systems</td>\n",
              "      <td>2019-03-06</td>\n",
              "      <td>2019.0</td>\n",
              "      <td>1.928819e+09</td>\n",
              "      <td>2019-02-20</td>\n",
              "      <td>2019-02-20</td>\n",
              "      <td>2019-03-07</td>\n",
              "      <td>USD</td>\n",
              "      <td>28.63</td>\n",
              "      <td>2019-02-20</td>\n",
              "      <td>NAC6</td>\n",
              "      <td>28.630</td>\n",
              "    </tr>\n",
              "  </tbody>\n",
              "</table>\n",
              "</div>\n",
              "      <button class=\"colab-df-convert\" onclick=\"convertToInteractive('df-c07e31aa-aab8-457d-9f06-06fdd916696b')\"\n",
              "              title=\"Convert this dataframe to an interactive table.\"\n",
              "              style=\"display:none;\">\n",
              "        \n",
              "  <svg xmlns=\"http://www.w3.org/2000/svg\" height=\"24px\"viewBox=\"0 0 24 24\"\n",
              "       width=\"24px\">\n",
              "    <path d=\"M0 0h24v24H0V0z\" fill=\"none\"/>\n",
              "    <path d=\"M18.56 5.44l.94 2.06.94-2.06 2.06-.94-2.06-.94-.94-2.06-.94 2.06-2.06.94zm-11 1L8.5 8.5l.94-2.06 2.06-.94-2.06-.94L8.5 2.5l-.94 2.06-2.06.94zm10 10l.94 2.06.94-2.06 2.06-.94-2.06-.94-.94-2.06-.94 2.06-2.06.94z\"/><path d=\"M17.41 7.96l-1.37-1.37c-.4-.4-.92-.59-1.43-.59-.52 0-1.04.2-1.43.59L10.3 9.45l-7.72 7.72c-.78.78-.78 2.05 0 2.83L4 21.41c.39.39.9.59 1.41.59.51 0 1.02-.2 1.41-.59l7.78-7.78 2.81-2.81c.8-.78.8-2.07 0-2.86zM5.41 20L4 18.59l7.72-7.72 1.47 1.35L5.41 20z\"/>\n",
              "  </svg>\n",
              "      </button>\n",
              "      \n",
              "  <style>\n",
              "    .colab-df-container {\n",
              "      display:flex;\n",
              "      flex-wrap:wrap;\n",
              "      gap: 12px;\n",
              "    }\n",
              "\n",
              "    .colab-df-convert {\n",
              "      background-color: #E8F0FE;\n",
              "      border: none;\n",
              "      border-radius: 50%;\n",
              "      cursor: pointer;\n",
              "      display: none;\n",
              "      fill: #1967D2;\n",
              "      height: 32px;\n",
              "      padding: 0 0 0 0;\n",
              "      width: 32px;\n",
              "    }\n",
              "\n",
              "    .colab-df-convert:hover {\n",
              "      background-color: #E2EBFA;\n",
              "      box-shadow: 0px 1px 2px rgba(60, 64, 67, 0.3), 0px 1px 3px 1px rgba(60, 64, 67, 0.15);\n",
              "      fill: #174EA6;\n",
              "    }\n",
              "\n",
              "    [theme=dark] .colab-df-convert {\n",
              "      background-color: #3B4455;\n",
              "      fill: #D2E3FC;\n",
              "    }\n",
              "\n",
              "    [theme=dark] .colab-df-convert:hover {\n",
              "      background-color: #434B5C;\n",
              "      box-shadow: 0px 1px 3px 1px rgba(0, 0, 0, 0.15);\n",
              "      filter: drop-shadow(0px 1px 2px rgba(0, 0, 0, 0.3));\n",
              "      fill: #FFFFFF;\n",
              "    }\n",
              "  </style>\n",
              "\n",
              "      <script>\n",
              "        const buttonEl =\n",
              "          document.querySelector('#df-c07e31aa-aab8-457d-9f06-06fdd916696b button.colab-df-convert');\n",
              "        buttonEl.style.display =\n",
              "          google.colab.kernel.accessAllowed ? 'block' : 'none';\n",
              "\n",
              "        async function convertToInteractive(key) {\n",
              "          const element = document.querySelector('#df-c07e31aa-aab8-457d-9f06-06fdd916696b');\n",
              "          const dataTable =\n",
              "            await google.colab.kernel.invokeFunction('convertToInteractive',\n",
              "                                                     [key], {});\n",
              "          if (!dataTable) return;\n",
              "\n",
              "          const docLinkHtml = 'Like what you see? Visit the ' +\n",
              "            '<a target=\"_blank\" href=https://colab.research.google.com/notebooks/data_table.ipynb>data table notebook</a>'\n",
              "            + ' to learn more about interactive tables.';\n",
              "          element.innerHTML = '';\n",
              "          dataTable['output_type'] = 'display_data';\n",
              "          await google.colab.output.renderOutput(dataTable, element);\n",
              "          const docLink = document.createElement('div');\n",
              "          docLink.innerHTML = docLinkHtml;\n",
              "          element.appendChild(docLink);\n",
              "        }\n",
              "      </script>\n",
              "    </div>\n",
              "  </div>\n",
              "  "
            ]
          },
          "metadata": {},
          "execution_count": 33
        }
      ],
      "source": [
        "df['converted_usd'] = np.where(df['invoice_currency']=='CAD', 0.7*df['total_open_amount'], df['total_open_amount'])\n",
        "df.head(10)"
      ]
    },
    {
      "cell_type": "markdown",
      "id": "f9f6ef1d",
      "metadata": {
        "id": "f9f6ef1d"
      },
      "source": [
        "### Display the new \"converted_usd\" column values"
      ]
    },
    {
      "cell_type": "code",
      "execution_count": null,
      "id": "1fc1a178",
      "metadata": {
        "id": "1fc1a178",
        "colab": {
          "base_uri": "https://localhost:8080/"
        },
        "outputId": "46d3b547-7bff-4879-83f0-76db03de9e44"
      },
      "outputs": [
        {
          "output_type": "execute_result",
          "data": {
            "text/plain": [
              "0        54273.28\n",
              "1        79656.60\n",
              "2         2253.86\n",
              "3         2309.79\n",
              "4        33133.29\n",
              "           ...   \n",
              "49995     3187.86\n",
              "49996     6766.54\n",
              "49997     6120.86\n",
              "49998       63.48\n",
              "49999     1790.30\n",
              "Name: converted_usd, Length: 48839, dtype: float64"
            ]
          },
          "metadata": {},
          "execution_count": 34
        }
      ],
      "source": [
        "df['converted_usd']"
      ]
    },
    {
      "cell_type": "markdown",
      "id": "6XLXX17kayuy",
      "metadata": {
        "id": "6XLXX17kayuy"
      },
      "source": [
        "### Display year wise total number of record \n",
        "\n",
        "- Note -  use \"buisness_year\" column for this "
      ]
    },
    {
      "cell_type": "code",
      "execution_count": null,
      "id": "00c9f6ee",
      "metadata": {
        "id": "00c9f6ee",
        "colab": {
          "base_uri": "https://localhost:8080/"
        },
        "outputId": "c7231c1d-bfde-471e-9243-363ad3ff0f8f"
      },
      "outputs": [
        {
          "output_type": "execute_result",
          "data": {
            "text/plain": [
              "2019.0    33975\n",
              "2020.0    14864\n",
              "Name: buisness_year, dtype: int64"
            ]
          },
          "metadata": {},
          "execution_count": 35
        }
      ],
      "source": [
        "df['buisness_year'].value_counts()"
      ]
    },
    {
      "cell_type": "markdown",
      "id": "05c35904",
      "metadata": {
        "id": "05c35904"
      },
      "source": [
        "### Write the code to delete the following columns \n",
        "\n",
        "- 'invoice_currency'\n",
        "- 'total_open_amount', "
      ]
    },
    {
      "cell_type": "code",
      "execution_count": null,
      "id": "4ac28aa5",
      "metadata": {
        "id": "4ac28aa5"
      },
      "outputs": [],
      "source": [
        "df.drop(['invoice_currency', 'total_open_amount'], axis = 1, inplace = True) "
      ]
    },
    {
      "cell_type": "code",
      "source": [
        "df.head(10)\n"
      ],
      "metadata": {
        "colab": {
          "base_uri": "https://localhost:8080/",
          "height": 479
        },
        "id": "6BYxn1gU26LH",
        "outputId": "537369f0-0f3a-4c44-97dc-02a58148c91a"
      },
      "id": "6BYxn1gU26LH",
      "execution_count": null,
      "outputs": [
        {
          "output_type": "execute_result",
          "data": {
            "text/plain": [
              "  business_code cust_number       name_customer clear_date  buisness_year  \\\n",
              "0          U001  0200769623        WAL-MAR corp 2020-02-11         2020.0   \n",
              "1          U001  0200980828              BEN E  2019-08-08         2019.0   \n",
              "2          U001  0200792734          MDV/ trust 2019-12-30         2019.0   \n",
              "3          CA02  0140105686            SYSC llc        NaT         2020.0   \n",
              "4          U001  0200769623  WAL-MAR foundation 2019-11-25         2019.0   \n",
              "5          CA02  0140106181    THE  corporation 2019-12-04         2019.0   \n",
              "6          U001  0200769623          WAL-MAR in 2019-11-12         2019.0   \n",
              "7          U001  0200744019             TARG us        NaT         2020.0   \n",
              "8          U001  0200769623        WAL-MAR corp 2019-06-18         2019.0   \n",
              "9          U001  0200762301      C&S WH systems 2019-03-06         2019.0   \n",
              "\n",
              "         doc_id posting_date document_create_date.1 due_in_date  \\\n",
              "0  1.930438e+09   2020-01-26             2020-01-26  2020-02-10   \n",
              "1  1.929646e+09   2019-07-22             2019-07-22  2019-08-11   \n",
              "2  1.929874e+09   2019-09-14             2019-09-14  2019-09-29   \n",
              "3  2.960623e+09   2020-03-30             2020-03-30  2020-04-10   \n",
              "4  1.930148e+09   2019-11-13             2019-11-13  2019-11-28   \n",
              "5  2.960581e+09   2019-09-20             2019-09-20  2019-10-04   \n",
              "6  1.930083e+09   2019-11-01             2019-11-01  2019-11-16   \n",
              "7  1.930659e+09   2020-03-19             2020-03-19  2020-04-03   \n",
              "8  1.929440e+09   2019-06-07             2019-06-07  2019-06-22   \n",
              "9  1.928819e+09   2019-02-20             2019-02-20  2019-03-07   \n",
              "\n",
              "  baseline_create_date cust_payment_terms  converted_usd  \n",
              "0           2020-01-26               NAH4      54273.280  \n",
              "1           2019-07-22               NAD1      79656.600  \n",
              "2           2019-09-14               NAA8       2253.860  \n",
              "3           2020-03-31               CA10       2309.790  \n",
              "4           2019-11-13               NAH4      33133.290  \n",
              "5           2019-09-24               CA10      15558.088  \n",
              "6           2019-11-01               NAH4       7358.490  \n",
              "7           2020-03-19               NAA8      11173.020  \n",
              "8           2019-06-07               NAH4      15995.040  \n",
              "9           2019-02-20               NAC6         28.630  "
            ],
            "text/html": [
              "\n",
              "  <div id=\"df-7f88a021-7484-4349-95e0-131240fe75cf\">\n",
              "    <div class=\"colab-df-container\">\n",
              "      <div>\n",
              "<style scoped>\n",
              "    .dataframe tbody tr th:only-of-type {\n",
              "        vertical-align: middle;\n",
              "    }\n",
              "\n",
              "    .dataframe tbody tr th {\n",
              "        vertical-align: top;\n",
              "    }\n",
              "\n",
              "    .dataframe thead th {\n",
              "        text-align: right;\n",
              "    }\n",
              "</style>\n",
              "<table border=\"1\" class=\"dataframe\">\n",
              "  <thead>\n",
              "    <tr style=\"text-align: right;\">\n",
              "      <th></th>\n",
              "      <th>business_code</th>\n",
              "      <th>cust_number</th>\n",
              "      <th>name_customer</th>\n",
              "      <th>clear_date</th>\n",
              "      <th>buisness_year</th>\n",
              "      <th>doc_id</th>\n",
              "      <th>posting_date</th>\n",
              "      <th>document_create_date.1</th>\n",
              "      <th>due_in_date</th>\n",
              "      <th>baseline_create_date</th>\n",
              "      <th>cust_payment_terms</th>\n",
              "      <th>converted_usd</th>\n",
              "    </tr>\n",
              "  </thead>\n",
              "  <tbody>\n",
              "    <tr>\n",
              "      <th>0</th>\n",
              "      <td>U001</td>\n",
              "      <td>0200769623</td>\n",
              "      <td>WAL-MAR corp</td>\n",
              "      <td>2020-02-11</td>\n",
              "      <td>2020.0</td>\n",
              "      <td>1.930438e+09</td>\n",
              "      <td>2020-01-26</td>\n",
              "      <td>2020-01-26</td>\n",
              "      <td>2020-02-10</td>\n",
              "      <td>2020-01-26</td>\n",
              "      <td>NAH4</td>\n",
              "      <td>54273.280</td>\n",
              "    </tr>\n",
              "    <tr>\n",
              "      <th>1</th>\n",
              "      <td>U001</td>\n",
              "      <td>0200980828</td>\n",
              "      <td>BEN E</td>\n",
              "      <td>2019-08-08</td>\n",
              "      <td>2019.0</td>\n",
              "      <td>1.929646e+09</td>\n",
              "      <td>2019-07-22</td>\n",
              "      <td>2019-07-22</td>\n",
              "      <td>2019-08-11</td>\n",
              "      <td>2019-07-22</td>\n",
              "      <td>NAD1</td>\n",
              "      <td>79656.600</td>\n",
              "    </tr>\n",
              "    <tr>\n",
              "      <th>2</th>\n",
              "      <td>U001</td>\n",
              "      <td>0200792734</td>\n",
              "      <td>MDV/ trust</td>\n",
              "      <td>2019-12-30</td>\n",
              "      <td>2019.0</td>\n",
              "      <td>1.929874e+09</td>\n",
              "      <td>2019-09-14</td>\n",
              "      <td>2019-09-14</td>\n",
              "      <td>2019-09-29</td>\n",
              "      <td>2019-09-14</td>\n",
              "      <td>NAA8</td>\n",
              "      <td>2253.860</td>\n",
              "    </tr>\n",
              "    <tr>\n",
              "      <th>3</th>\n",
              "      <td>CA02</td>\n",
              "      <td>0140105686</td>\n",
              "      <td>SYSC llc</td>\n",
              "      <td>NaT</td>\n",
              "      <td>2020.0</td>\n",
              "      <td>2.960623e+09</td>\n",
              "      <td>2020-03-30</td>\n",
              "      <td>2020-03-30</td>\n",
              "      <td>2020-04-10</td>\n",
              "      <td>2020-03-31</td>\n",
              "      <td>CA10</td>\n",
              "      <td>2309.790</td>\n",
              "    </tr>\n",
              "    <tr>\n",
              "      <th>4</th>\n",
              "      <td>U001</td>\n",
              "      <td>0200769623</td>\n",
              "      <td>WAL-MAR foundation</td>\n",
              "      <td>2019-11-25</td>\n",
              "      <td>2019.0</td>\n",
              "      <td>1.930148e+09</td>\n",
              "      <td>2019-11-13</td>\n",
              "      <td>2019-11-13</td>\n",
              "      <td>2019-11-28</td>\n",
              "      <td>2019-11-13</td>\n",
              "      <td>NAH4</td>\n",
              "      <td>33133.290</td>\n",
              "    </tr>\n",
              "    <tr>\n",
              "      <th>5</th>\n",
              "      <td>CA02</td>\n",
              "      <td>0140106181</td>\n",
              "      <td>THE  corporation</td>\n",
              "      <td>2019-12-04</td>\n",
              "      <td>2019.0</td>\n",
              "      <td>2.960581e+09</td>\n",
              "      <td>2019-09-20</td>\n",
              "      <td>2019-09-20</td>\n",
              "      <td>2019-10-04</td>\n",
              "      <td>2019-09-24</td>\n",
              "      <td>CA10</td>\n",
              "      <td>15558.088</td>\n",
              "    </tr>\n",
              "    <tr>\n",
              "      <th>6</th>\n",
              "      <td>U001</td>\n",
              "      <td>0200769623</td>\n",
              "      <td>WAL-MAR in</td>\n",
              "      <td>2019-11-12</td>\n",
              "      <td>2019.0</td>\n",
              "      <td>1.930083e+09</td>\n",
              "      <td>2019-11-01</td>\n",
              "      <td>2019-11-01</td>\n",
              "      <td>2019-11-16</td>\n",
              "      <td>2019-11-01</td>\n",
              "      <td>NAH4</td>\n",
              "      <td>7358.490</td>\n",
              "    </tr>\n",
              "    <tr>\n",
              "      <th>7</th>\n",
              "      <td>U001</td>\n",
              "      <td>0200744019</td>\n",
              "      <td>TARG us</td>\n",
              "      <td>NaT</td>\n",
              "      <td>2020.0</td>\n",
              "      <td>1.930659e+09</td>\n",
              "      <td>2020-03-19</td>\n",
              "      <td>2020-03-19</td>\n",
              "      <td>2020-04-03</td>\n",
              "      <td>2020-03-19</td>\n",
              "      <td>NAA8</td>\n",
              "      <td>11173.020</td>\n",
              "    </tr>\n",
              "    <tr>\n",
              "      <th>8</th>\n",
              "      <td>U001</td>\n",
              "      <td>0200769623</td>\n",
              "      <td>WAL-MAR corp</td>\n",
              "      <td>2019-06-18</td>\n",
              "      <td>2019.0</td>\n",
              "      <td>1.929440e+09</td>\n",
              "      <td>2019-06-07</td>\n",
              "      <td>2019-06-07</td>\n",
              "      <td>2019-06-22</td>\n",
              "      <td>2019-06-07</td>\n",
              "      <td>NAH4</td>\n",
              "      <td>15995.040</td>\n",
              "    </tr>\n",
              "    <tr>\n",
              "      <th>9</th>\n",
              "      <td>U001</td>\n",
              "      <td>0200762301</td>\n",
              "      <td>C&amp;S WH systems</td>\n",
              "      <td>2019-03-06</td>\n",
              "      <td>2019.0</td>\n",
              "      <td>1.928819e+09</td>\n",
              "      <td>2019-02-20</td>\n",
              "      <td>2019-02-20</td>\n",
              "      <td>2019-03-07</td>\n",
              "      <td>2019-02-20</td>\n",
              "      <td>NAC6</td>\n",
              "      <td>28.630</td>\n",
              "    </tr>\n",
              "  </tbody>\n",
              "</table>\n",
              "</div>\n",
              "      <button class=\"colab-df-convert\" onclick=\"convertToInteractive('df-7f88a021-7484-4349-95e0-131240fe75cf')\"\n",
              "              title=\"Convert this dataframe to an interactive table.\"\n",
              "              style=\"display:none;\">\n",
              "        \n",
              "  <svg xmlns=\"http://www.w3.org/2000/svg\" height=\"24px\"viewBox=\"0 0 24 24\"\n",
              "       width=\"24px\">\n",
              "    <path d=\"M0 0h24v24H0V0z\" fill=\"none\"/>\n",
              "    <path d=\"M18.56 5.44l.94 2.06.94-2.06 2.06-.94-2.06-.94-.94-2.06-.94 2.06-2.06.94zm-11 1L8.5 8.5l.94-2.06 2.06-.94-2.06-.94L8.5 2.5l-.94 2.06-2.06.94zm10 10l.94 2.06.94-2.06 2.06-.94-2.06-.94-.94-2.06-.94 2.06-2.06.94z\"/><path d=\"M17.41 7.96l-1.37-1.37c-.4-.4-.92-.59-1.43-.59-.52 0-1.04.2-1.43.59L10.3 9.45l-7.72 7.72c-.78.78-.78 2.05 0 2.83L4 21.41c.39.39.9.59 1.41.59.51 0 1.02-.2 1.41-.59l7.78-7.78 2.81-2.81c.8-.78.8-2.07 0-2.86zM5.41 20L4 18.59l7.72-7.72 1.47 1.35L5.41 20z\"/>\n",
              "  </svg>\n",
              "      </button>\n",
              "      \n",
              "  <style>\n",
              "    .colab-df-container {\n",
              "      display:flex;\n",
              "      flex-wrap:wrap;\n",
              "      gap: 12px;\n",
              "    }\n",
              "\n",
              "    .colab-df-convert {\n",
              "      background-color: #E8F0FE;\n",
              "      border: none;\n",
              "      border-radius: 50%;\n",
              "      cursor: pointer;\n",
              "      display: none;\n",
              "      fill: #1967D2;\n",
              "      height: 32px;\n",
              "      padding: 0 0 0 0;\n",
              "      width: 32px;\n",
              "    }\n",
              "\n",
              "    .colab-df-convert:hover {\n",
              "      background-color: #E2EBFA;\n",
              "      box-shadow: 0px 1px 2px rgba(60, 64, 67, 0.3), 0px 1px 3px 1px rgba(60, 64, 67, 0.15);\n",
              "      fill: #174EA6;\n",
              "    }\n",
              "\n",
              "    [theme=dark] .colab-df-convert {\n",
              "      background-color: #3B4455;\n",
              "      fill: #D2E3FC;\n",
              "    }\n",
              "\n",
              "    [theme=dark] .colab-df-convert:hover {\n",
              "      background-color: #434B5C;\n",
              "      box-shadow: 0px 1px 3px 1px rgba(0, 0, 0, 0.15);\n",
              "      filter: drop-shadow(0px 1px 2px rgba(0, 0, 0, 0.3));\n",
              "      fill: #FFFFFF;\n",
              "    }\n",
              "  </style>\n",
              "\n",
              "      <script>\n",
              "        const buttonEl =\n",
              "          document.querySelector('#df-7f88a021-7484-4349-95e0-131240fe75cf button.colab-df-convert');\n",
              "        buttonEl.style.display =\n",
              "          google.colab.kernel.accessAllowed ? 'block' : 'none';\n",
              "\n",
              "        async function convertToInteractive(key) {\n",
              "          const element = document.querySelector('#df-7f88a021-7484-4349-95e0-131240fe75cf');\n",
              "          const dataTable =\n",
              "            await google.colab.kernel.invokeFunction('convertToInteractive',\n",
              "                                                     [key], {});\n",
              "          if (!dataTable) return;\n",
              "\n",
              "          const docLinkHtml = 'Like what you see? Visit the ' +\n",
              "            '<a target=\"_blank\" href=https://colab.research.google.com/notebooks/data_table.ipynb>data table notebook</a>'\n",
              "            + ' to learn more about interactive tables.';\n",
              "          element.innerHTML = '';\n",
              "          dataTable['output_type'] = 'display_data';\n",
              "          await google.colab.output.renderOutput(dataTable, element);\n",
              "          const docLink = document.createElement('div');\n",
              "          docLink.innerHTML = docLinkHtml;\n",
              "          element.appendChild(docLink);\n",
              "        }\n",
              "      </script>\n",
              "    </div>\n",
              "  </div>\n",
              "  "
            ]
          },
          "metadata": {},
          "execution_count": 37
        }
      ]
    },
    {
      "cell_type": "markdown",
      "id": "bDBJ_Kvwc086",
      "metadata": {
        "id": "bDBJ_Kvwc086"
      },
      "source": [
        "### Write a code to check the number of columns in dataframe"
      ]
    },
    {
      "cell_type": "code",
      "execution_count": null,
      "id": "ea360a8c",
      "metadata": {
        "id": "ea360a8c",
        "colab": {
          "base_uri": "https://localhost:8080/"
        },
        "outputId": "d7bcef8b-741a-4d1b-d760-96980945d286"
      },
      "outputs": [
        {
          "output_type": "execute_result",
          "data": {
            "text/plain": [
              "(48839, 12)"
            ]
          },
          "metadata": {},
          "execution_count": 38
        }
      ],
      "source": [
        "df.shape"
      ]
    },
    {
      "cell_type": "markdown",
      "id": "b8f63655",
      "metadata": {
        "id": "b8f63655"
      },
      "source": [
        "# Splitting the Dataset "
      ]
    },
    {
      "cell_type": "markdown",
      "id": "a00f749d",
      "metadata": {
        "id": "a00f749d"
      },
      "source": [
        "### Look for all columns containing null value\n",
        "\n",
        "- Note - Output expected is only one column "
      ]
    },
    {
      "cell_type": "code",
      "execution_count": null,
      "id": "148c801e",
      "metadata": {
        "id": "148c801e",
        "colab": {
          "base_uri": "https://localhost:8080/"
        },
        "outputId": "f63c78bf-a952-4d48-9dd8-b781ec694a1e"
      },
      "outputs": [
        {
          "output_type": "execute_result",
          "data": {
            "text/plain": [
              "['clear_date']"
            ]
          },
          "metadata": {},
          "execution_count": 39
        }
      ],
      "source": [
        "df.columns[df.isnull().any()].tolist()\n"
      ]
    },
    {
      "cell_type": "code",
      "source": [
        "df['clear_date']"
      ],
      "metadata": {
        "colab": {
          "base_uri": "https://localhost:8080/"
        },
        "id": "IAl1IUDA4Ons",
        "outputId": "07df1dc8-0f67-43b8-f17d-60286dc70e3b"
      },
      "id": "IAl1IUDA4Ons",
      "execution_count": null,
      "outputs": [
        {
          "output_type": "execute_result",
          "data": {
            "text/plain": [
              "0       2020-02-11\n",
              "1       2019-08-08\n",
              "2       2019-12-30\n",
              "3              NaT\n",
              "4       2019-11-25\n",
              "           ...    \n",
              "49995          NaT\n",
              "49996   2019-09-03\n",
              "49997   2020-03-05\n",
              "49998   2019-12-12\n",
              "49999   2019-01-15\n",
              "Name: clear_date, Length: 48839, dtype: datetime64[ns]"
            ]
          },
          "metadata": {},
          "execution_count": 40
        }
      ]
    },
    {
      "cell_type": "markdown",
      "id": "a094a290",
      "metadata": {
        "id": "a094a290"
      },
      "source": [
        "#### Find out the number of null values from the column that you got from the above code"
      ]
    },
    {
      "cell_type": "code",
      "execution_count": null,
      "id": "30bfb113",
      "metadata": {
        "id": "30bfb113",
        "colab": {
          "base_uri": "https://localhost:8080/"
        },
        "outputId": "9daf9421-67d0-46a6-a553-68c9f60c5750"
      },
      "outputs": [
        {
          "output_type": "execute_result",
          "data": {
            "text/plain": [
              "9681"
            ]
          },
          "metadata": {},
          "execution_count": 41
        }
      ],
      "source": [
        "df['clear_date'].isnull().sum()"
      ]
    },
    {
      "cell_type": "markdown",
      "id": "7f6d939b",
      "metadata": {
        "id": "7f6d939b"
      },
      "source": [
        "### On basis of the above column we are spliting data into dataset\n",
        "\n",
        "- First dataframe (refer that as maindata) only containing the rows, that have NO NULL data in that column ( This is going to be our train dataset ) \n",
        "- Second dataframe (refer that as nulldata) that contains the columns, that have Null data in that column ( This is going to be our test dataset ) "
      ]
    },
    {
      "cell_type": "code",
      "execution_count": null,
      "id": "c8764c33",
      "metadata": {
        "id": "c8764c33"
      },
      "outputs": [],
      "source": [
        "df1=df.loc[df['clear_date'].notnull()]\n",
        "df2=df.loc[df['clear_date'].isnull()]"
      ]
    },
    {
      "cell_type": "markdown",
      "id": "3P8riRBHd_r6",
      "metadata": {
        "id": "3P8riRBHd_r6"
      },
      "source": [
        "### Check the number of Rows and Columns for both the dataframes "
      ]
    },
    {
      "cell_type": "code",
      "execution_count": null,
      "id": "0693a464",
      "metadata": {
        "id": "0693a464",
        "colab": {
          "base_uri": "https://localhost:8080/"
        },
        "outputId": "e7a64706-b1db-4f7a-d650-d0159f14010d"
      },
      "outputs": [
        {
          "output_type": "execute_result",
          "data": {
            "text/plain": [
              "(39158, 12)"
            ]
          },
          "metadata": {},
          "execution_count": 43
        }
      ],
      "source": [
        "df1.shape"
      ]
    },
    {
      "cell_type": "code",
      "execution_count": null,
      "id": "7f86bc74",
      "metadata": {
        "id": "7f86bc74",
        "colab": {
          "base_uri": "https://localhost:8080/"
        },
        "outputId": "580eecd8-22ed-44a6-98ef-9830ecb609d8"
      },
      "outputs": [
        {
          "output_type": "execute_result",
          "data": {
            "text/plain": [
              "(9681, 12)"
            ]
          },
          "metadata": {},
          "execution_count": 44
        }
      ],
      "source": [
        "df2.shape"
      ]
    },
    {
      "cell_type": "markdown",
      "id": "0747165d",
      "metadata": {
        "id": "0747165d"
      },
      "source": [
        "### Display the 5 records from maindata and nulldata dataframes"
      ]
    },
    {
      "cell_type": "code",
      "execution_count": null,
      "id": "dec2ec36",
      "metadata": {
        "id": "dec2ec36",
        "colab": {
          "base_uri": "https://localhost:8080/",
          "height": 305
        },
        "outputId": "81012543-7820-41c9-d767-4df0221a009d"
      },
      "outputs": [
        {
          "output_type": "execute_result",
          "data": {
            "text/plain": [
              "  business_code cust_number       name_customer clear_date  buisness_year  \\\n",
              "0          U001  0200769623        WAL-MAR corp 2020-02-11         2020.0   \n",
              "1          U001  0200980828              BEN E  2019-08-08         2019.0   \n",
              "2          U001  0200792734          MDV/ trust 2019-12-30         2019.0   \n",
              "4          U001  0200769623  WAL-MAR foundation 2019-11-25         2019.0   \n",
              "5          CA02  0140106181    THE  corporation 2019-12-04         2019.0   \n",
              "\n",
              "         doc_id posting_date document_create_date.1 due_in_date  \\\n",
              "0  1.930438e+09   2020-01-26             2020-01-26  2020-02-10   \n",
              "1  1.929646e+09   2019-07-22             2019-07-22  2019-08-11   \n",
              "2  1.929874e+09   2019-09-14             2019-09-14  2019-09-29   \n",
              "4  1.930148e+09   2019-11-13             2019-11-13  2019-11-28   \n",
              "5  2.960581e+09   2019-09-20             2019-09-20  2019-10-04   \n",
              "\n",
              "  baseline_create_date cust_payment_terms  converted_usd  \n",
              "0           2020-01-26               NAH4      54273.280  \n",
              "1           2019-07-22               NAD1      79656.600  \n",
              "2           2019-09-14               NAA8       2253.860  \n",
              "4           2019-11-13               NAH4      33133.290  \n",
              "5           2019-09-24               CA10      15558.088  "
            ],
            "text/html": [
              "\n",
              "  <div id=\"df-16b74c99-79fa-430e-a8f0-96bcaddf03ea\">\n",
              "    <div class=\"colab-df-container\">\n",
              "      <div>\n",
              "<style scoped>\n",
              "    .dataframe tbody tr th:only-of-type {\n",
              "        vertical-align: middle;\n",
              "    }\n",
              "\n",
              "    .dataframe tbody tr th {\n",
              "        vertical-align: top;\n",
              "    }\n",
              "\n",
              "    .dataframe thead th {\n",
              "        text-align: right;\n",
              "    }\n",
              "</style>\n",
              "<table border=\"1\" class=\"dataframe\">\n",
              "  <thead>\n",
              "    <tr style=\"text-align: right;\">\n",
              "      <th></th>\n",
              "      <th>business_code</th>\n",
              "      <th>cust_number</th>\n",
              "      <th>name_customer</th>\n",
              "      <th>clear_date</th>\n",
              "      <th>buisness_year</th>\n",
              "      <th>doc_id</th>\n",
              "      <th>posting_date</th>\n",
              "      <th>document_create_date.1</th>\n",
              "      <th>due_in_date</th>\n",
              "      <th>baseline_create_date</th>\n",
              "      <th>cust_payment_terms</th>\n",
              "      <th>converted_usd</th>\n",
              "    </tr>\n",
              "  </thead>\n",
              "  <tbody>\n",
              "    <tr>\n",
              "      <th>0</th>\n",
              "      <td>U001</td>\n",
              "      <td>0200769623</td>\n",
              "      <td>WAL-MAR corp</td>\n",
              "      <td>2020-02-11</td>\n",
              "      <td>2020.0</td>\n",
              "      <td>1.930438e+09</td>\n",
              "      <td>2020-01-26</td>\n",
              "      <td>2020-01-26</td>\n",
              "      <td>2020-02-10</td>\n",
              "      <td>2020-01-26</td>\n",
              "      <td>NAH4</td>\n",
              "      <td>54273.280</td>\n",
              "    </tr>\n",
              "    <tr>\n",
              "      <th>1</th>\n",
              "      <td>U001</td>\n",
              "      <td>0200980828</td>\n",
              "      <td>BEN E</td>\n",
              "      <td>2019-08-08</td>\n",
              "      <td>2019.0</td>\n",
              "      <td>1.929646e+09</td>\n",
              "      <td>2019-07-22</td>\n",
              "      <td>2019-07-22</td>\n",
              "      <td>2019-08-11</td>\n",
              "      <td>2019-07-22</td>\n",
              "      <td>NAD1</td>\n",
              "      <td>79656.600</td>\n",
              "    </tr>\n",
              "    <tr>\n",
              "      <th>2</th>\n",
              "      <td>U001</td>\n",
              "      <td>0200792734</td>\n",
              "      <td>MDV/ trust</td>\n",
              "      <td>2019-12-30</td>\n",
              "      <td>2019.0</td>\n",
              "      <td>1.929874e+09</td>\n",
              "      <td>2019-09-14</td>\n",
              "      <td>2019-09-14</td>\n",
              "      <td>2019-09-29</td>\n",
              "      <td>2019-09-14</td>\n",
              "      <td>NAA8</td>\n",
              "      <td>2253.860</td>\n",
              "    </tr>\n",
              "    <tr>\n",
              "      <th>4</th>\n",
              "      <td>U001</td>\n",
              "      <td>0200769623</td>\n",
              "      <td>WAL-MAR foundation</td>\n",
              "      <td>2019-11-25</td>\n",
              "      <td>2019.0</td>\n",
              "      <td>1.930148e+09</td>\n",
              "      <td>2019-11-13</td>\n",
              "      <td>2019-11-13</td>\n",
              "      <td>2019-11-28</td>\n",
              "      <td>2019-11-13</td>\n",
              "      <td>NAH4</td>\n",
              "      <td>33133.290</td>\n",
              "    </tr>\n",
              "    <tr>\n",
              "      <th>5</th>\n",
              "      <td>CA02</td>\n",
              "      <td>0140106181</td>\n",
              "      <td>THE  corporation</td>\n",
              "      <td>2019-12-04</td>\n",
              "      <td>2019.0</td>\n",
              "      <td>2.960581e+09</td>\n",
              "      <td>2019-09-20</td>\n",
              "      <td>2019-09-20</td>\n",
              "      <td>2019-10-04</td>\n",
              "      <td>2019-09-24</td>\n",
              "      <td>CA10</td>\n",
              "      <td>15558.088</td>\n",
              "    </tr>\n",
              "  </tbody>\n",
              "</table>\n",
              "</div>\n",
              "      <button class=\"colab-df-convert\" onclick=\"convertToInteractive('df-16b74c99-79fa-430e-a8f0-96bcaddf03ea')\"\n",
              "              title=\"Convert this dataframe to an interactive table.\"\n",
              "              style=\"display:none;\">\n",
              "        \n",
              "  <svg xmlns=\"http://www.w3.org/2000/svg\" height=\"24px\"viewBox=\"0 0 24 24\"\n",
              "       width=\"24px\">\n",
              "    <path d=\"M0 0h24v24H0V0z\" fill=\"none\"/>\n",
              "    <path d=\"M18.56 5.44l.94 2.06.94-2.06 2.06-.94-2.06-.94-.94-2.06-.94 2.06-2.06.94zm-11 1L8.5 8.5l.94-2.06 2.06-.94-2.06-.94L8.5 2.5l-.94 2.06-2.06.94zm10 10l.94 2.06.94-2.06 2.06-.94-2.06-.94-.94-2.06-.94 2.06-2.06.94z\"/><path d=\"M17.41 7.96l-1.37-1.37c-.4-.4-.92-.59-1.43-.59-.52 0-1.04.2-1.43.59L10.3 9.45l-7.72 7.72c-.78.78-.78 2.05 0 2.83L4 21.41c.39.39.9.59 1.41.59.51 0 1.02-.2 1.41-.59l7.78-7.78 2.81-2.81c.8-.78.8-2.07 0-2.86zM5.41 20L4 18.59l7.72-7.72 1.47 1.35L5.41 20z\"/>\n",
              "  </svg>\n",
              "      </button>\n",
              "      \n",
              "  <style>\n",
              "    .colab-df-container {\n",
              "      display:flex;\n",
              "      flex-wrap:wrap;\n",
              "      gap: 12px;\n",
              "    }\n",
              "\n",
              "    .colab-df-convert {\n",
              "      background-color: #E8F0FE;\n",
              "      border: none;\n",
              "      border-radius: 50%;\n",
              "      cursor: pointer;\n",
              "      display: none;\n",
              "      fill: #1967D2;\n",
              "      height: 32px;\n",
              "      padding: 0 0 0 0;\n",
              "      width: 32px;\n",
              "    }\n",
              "\n",
              "    .colab-df-convert:hover {\n",
              "      background-color: #E2EBFA;\n",
              "      box-shadow: 0px 1px 2px rgba(60, 64, 67, 0.3), 0px 1px 3px 1px rgba(60, 64, 67, 0.15);\n",
              "      fill: #174EA6;\n",
              "    }\n",
              "\n",
              "    [theme=dark] .colab-df-convert {\n",
              "      background-color: #3B4455;\n",
              "      fill: #D2E3FC;\n",
              "    }\n",
              "\n",
              "    [theme=dark] .colab-df-convert:hover {\n",
              "      background-color: #434B5C;\n",
              "      box-shadow: 0px 1px 3px 1px rgba(0, 0, 0, 0.15);\n",
              "      filter: drop-shadow(0px 1px 2px rgba(0, 0, 0, 0.3));\n",
              "      fill: #FFFFFF;\n",
              "    }\n",
              "  </style>\n",
              "\n",
              "      <script>\n",
              "        const buttonEl =\n",
              "          document.querySelector('#df-16b74c99-79fa-430e-a8f0-96bcaddf03ea button.colab-df-convert');\n",
              "        buttonEl.style.display =\n",
              "          google.colab.kernel.accessAllowed ? 'block' : 'none';\n",
              "\n",
              "        async function convertToInteractive(key) {\n",
              "          const element = document.querySelector('#df-16b74c99-79fa-430e-a8f0-96bcaddf03ea');\n",
              "          const dataTable =\n",
              "            await google.colab.kernel.invokeFunction('convertToInteractive',\n",
              "                                                     [key], {});\n",
              "          if (!dataTable) return;\n",
              "\n",
              "          const docLinkHtml = 'Like what you see? Visit the ' +\n",
              "            '<a target=\"_blank\" href=https://colab.research.google.com/notebooks/data_table.ipynb>data table notebook</a>'\n",
              "            + ' to learn more about interactive tables.';\n",
              "          element.innerHTML = '';\n",
              "          dataTable['output_type'] = 'display_data';\n",
              "          await google.colab.output.renderOutput(dataTable, element);\n",
              "          const docLink = document.createElement('div');\n",
              "          docLink.innerHTML = docLinkHtml;\n",
              "          element.appendChild(docLink);\n",
              "        }\n",
              "      </script>\n",
              "    </div>\n",
              "  </div>\n",
              "  "
            ]
          },
          "metadata": {},
          "execution_count": 45
        }
      ],
      "source": [
        "df1.head(5)"
      ]
    },
    {
      "cell_type": "code",
      "execution_count": null,
      "id": "eee2d68a",
      "metadata": {
        "id": "eee2d68a",
        "colab": {
          "base_uri": "https://localhost:8080/",
          "height": 287
        },
        "outputId": "91a8b2fa-afa5-47da-dbb7-7fdcf404f4aa"
      },
      "outputs": [
        {
          "output_type": "execute_result",
          "data": {
            "text/plain": [
              "   business_code cust_number     name_customer clear_date  buisness_year  \\\n",
              "3           CA02  0140105686          SYSC llc        NaT         2020.0   \n",
              "7           U001  0200744019           TARG us        NaT         2020.0   \n",
              "10          U001  0200418007               AM         NaT         2020.0   \n",
              "14          U001  0200739534        OK systems        NaT         2020.0   \n",
              "15          U001  0200353024  DECA corporation        NaT         2020.0   \n",
              "\n",
              "          doc_id posting_date document_create_date.1 due_in_date  \\\n",
              "3   2.960623e+09   2020-03-30             2020-03-30  2020-04-10   \n",
              "7   1.930659e+09   2020-03-19             2020-03-19  2020-04-03   \n",
              "10  1.930611e+09   2020-03-11             2020-03-11  2020-03-26   \n",
              "14  1.930788e+09   2020-04-15             2020-04-15  2020-04-30   \n",
              "15  1.930817e+09   2020-04-23             2020-04-23  2020-04-26   \n",
              "\n",
              "   baseline_create_date cust_payment_terms  converted_usd  \n",
              "3            2020-03-31               CA10        2309.79  \n",
              "7            2020-03-19               NAA8       11173.02  \n",
              "10           2020-03-11               NAA8        3525.59  \n",
              "14           2020-04-15               NAA8      121105.65  \n",
              "15           2020-04-16               NAM2        3726.06  "
            ],
            "text/html": [
              "\n",
              "  <div id=\"df-91263685-ce38-4d33-86cf-1d7dcae341ff\">\n",
              "    <div class=\"colab-df-container\">\n",
              "      <div>\n",
              "<style scoped>\n",
              "    .dataframe tbody tr th:only-of-type {\n",
              "        vertical-align: middle;\n",
              "    }\n",
              "\n",
              "    .dataframe tbody tr th {\n",
              "        vertical-align: top;\n",
              "    }\n",
              "\n",
              "    .dataframe thead th {\n",
              "        text-align: right;\n",
              "    }\n",
              "</style>\n",
              "<table border=\"1\" class=\"dataframe\">\n",
              "  <thead>\n",
              "    <tr style=\"text-align: right;\">\n",
              "      <th></th>\n",
              "      <th>business_code</th>\n",
              "      <th>cust_number</th>\n",
              "      <th>name_customer</th>\n",
              "      <th>clear_date</th>\n",
              "      <th>buisness_year</th>\n",
              "      <th>doc_id</th>\n",
              "      <th>posting_date</th>\n",
              "      <th>document_create_date.1</th>\n",
              "      <th>due_in_date</th>\n",
              "      <th>baseline_create_date</th>\n",
              "      <th>cust_payment_terms</th>\n",
              "      <th>converted_usd</th>\n",
              "    </tr>\n",
              "  </thead>\n",
              "  <tbody>\n",
              "    <tr>\n",
              "      <th>3</th>\n",
              "      <td>CA02</td>\n",
              "      <td>0140105686</td>\n",
              "      <td>SYSC llc</td>\n",
              "      <td>NaT</td>\n",
              "      <td>2020.0</td>\n",
              "      <td>2.960623e+09</td>\n",
              "      <td>2020-03-30</td>\n",
              "      <td>2020-03-30</td>\n",
              "      <td>2020-04-10</td>\n",
              "      <td>2020-03-31</td>\n",
              "      <td>CA10</td>\n",
              "      <td>2309.79</td>\n",
              "    </tr>\n",
              "    <tr>\n",
              "      <th>7</th>\n",
              "      <td>U001</td>\n",
              "      <td>0200744019</td>\n",
              "      <td>TARG us</td>\n",
              "      <td>NaT</td>\n",
              "      <td>2020.0</td>\n",
              "      <td>1.930659e+09</td>\n",
              "      <td>2020-03-19</td>\n",
              "      <td>2020-03-19</td>\n",
              "      <td>2020-04-03</td>\n",
              "      <td>2020-03-19</td>\n",
              "      <td>NAA8</td>\n",
              "      <td>11173.02</td>\n",
              "    </tr>\n",
              "    <tr>\n",
              "      <th>10</th>\n",
              "      <td>U001</td>\n",
              "      <td>0200418007</td>\n",
              "      <td>AM</td>\n",
              "      <td>NaT</td>\n",
              "      <td>2020.0</td>\n",
              "      <td>1.930611e+09</td>\n",
              "      <td>2020-03-11</td>\n",
              "      <td>2020-03-11</td>\n",
              "      <td>2020-03-26</td>\n",
              "      <td>2020-03-11</td>\n",
              "      <td>NAA8</td>\n",
              "      <td>3525.59</td>\n",
              "    </tr>\n",
              "    <tr>\n",
              "      <th>14</th>\n",
              "      <td>U001</td>\n",
              "      <td>0200739534</td>\n",
              "      <td>OK systems</td>\n",
              "      <td>NaT</td>\n",
              "      <td>2020.0</td>\n",
              "      <td>1.930788e+09</td>\n",
              "      <td>2020-04-15</td>\n",
              "      <td>2020-04-15</td>\n",
              "      <td>2020-04-30</td>\n",
              "      <td>2020-04-15</td>\n",
              "      <td>NAA8</td>\n",
              "      <td>121105.65</td>\n",
              "    </tr>\n",
              "    <tr>\n",
              "      <th>15</th>\n",
              "      <td>U001</td>\n",
              "      <td>0200353024</td>\n",
              "      <td>DECA corporation</td>\n",
              "      <td>NaT</td>\n",
              "      <td>2020.0</td>\n",
              "      <td>1.930817e+09</td>\n",
              "      <td>2020-04-23</td>\n",
              "      <td>2020-04-23</td>\n",
              "      <td>2020-04-26</td>\n",
              "      <td>2020-04-16</td>\n",
              "      <td>NAM2</td>\n",
              "      <td>3726.06</td>\n",
              "    </tr>\n",
              "  </tbody>\n",
              "</table>\n",
              "</div>\n",
              "      <button class=\"colab-df-convert\" onclick=\"convertToInteractive('df-91263685-ce38-4d33-86cf-1d7dcae341ff')\"\n",
              "              title=\"Convert this dataframe to an interactive table.\"\n",
              "              style=\"display:none;\">\n",
              "        \n",
              "  <svg xmlns=\"http://www.w3.org/2000/svg\" height=\"24px\"viewBox=\"0 0 24 24\"\n",
              "       width=\"24px\">\n",
              "    <path d=\"M0 0h24v24H0V0z\" fill=\"none\"/>\n",
              "    <path d=\"M18.56 5.44l.94 2.06.94-2.06 2.06-.94-2.06-.94-.94-2.06-.94 2.06-2.06.94zm-11 1L8.5 8.5l.94-2.06 2.06-.94-2.06-.94L8.5 2.5l-.94 2.06-2.06.94zm10 10l.94 2.06.94-2.06 2.06-.94-2.06-.94-.94-2.06-.94 2.06-2.06.94z\"/><path d=\"M17.41 7.96l-1.37-1.37c-.4-.4-.92-.59-1.43-.59-.52 0-1.04.2-1.43.59L10.3 9.45l-7.72 7.72c-.78.78-.78 2.05 0 2.83L4 21.41c.39.39.9.59 1.41.59.51 0 1.02-.2 1.41-.59l7.78-7.78 2.81-2.81c.8-.78.8-2.07 0-2.86zM5.41 20L4 18.59l7.72-7.72 1.47 1.35L5.41 20z\"/>\n",
              "  </svg>\n",
              "      </button>\n",
              "      \n",
              "  <style>\n",
              "    .colab-df-container {\n",
              "      display:flex;\n",
              "      flex-wrap:wrap;\n",
              "      gap: 12px;\n",
              "    }\n",
              "\n",
              "    .colab-df-convert {\n",
              "      background-color: #E8F0FE;\n",
              "      border: none;\n",
              "      border-radius: 50%;\n",
              "      cursor: pointer;\n",
              "      display: none;\n",
              "      fill: #1967D2;\n",
              "      height: 32px;\n",
              "      padding: 0 0 0 0;\n",
              "      width: 32px;\n",
              "    }\n",
              "\n",
              "    .colab-df-convert:hover {\n",
              "      background-color: #E2EBFA;\n",
              "      box-shadow: 0px 1px 2px rgba(60, 64, 67, 0.3), 0px 1px 3px 1px rgba(60, 64, 67, 0.15);\n",
              "      fill: #174EA6;\n",
              "    }\n",
              "\n",
              "    [theme=dark] .colab-df-convert {\n",
              "      background-color: #3B4455;\n",
              "      fill: #D2E3FC;\n",
              "    }\n",
              "\n",
              "    [theme=dark] .colab-df-convert:hover {\n",
              "      background-color: #434B5C;\n",
              "      box-shadow: 0px 1px 3px 1px rgba(0, 0, 0, 0.15);\n",
              "      filter: drop-shadow(0px 1px 2px rgba(0, 0, 0, 0.3));\n",
              "      fill: #FFFFFF;\n",
              "    }\n",
              "  </style>\n",
              "\n",
              "      <script>\n",
              "        const buttonEl =\n",
              "          document.querySelector('#df-91263685-ce38-4d33-86cf-1d7dcae341ff button.colab-df-convert');\n",
              "        buttonEl.style.display =\n",
              "          google.colab.kernel.accessAllowed ? 'block' : 'none';\n",
              "\n",
              "        async function convertToInteractive(key) {\n",
              "          const element = document.querySelector('#df-91263685-ce38-4d33-86cf-1d7dcae341ff');\n",
              "          const dataTable =\n",
              "            await google.colab.kernel.invokeFunction('convertToInteractive',\n",
              "                                                     [key], {});\n",
              "          if (!dataTable) return;\n",
              "\n",
              "          const docLinkHtml = 'Like what you see? Visit the ' +\n",
              "            '<a target=\"_blank\" href=https://colab.research.google.com/notebooks/data_table.ipynb>data table notebook</a>'\n",
              "            + ' to learn more about interactive tables.';\n",
              "          element.innerHTML = '';\n",
              "          dataTable['output_type'] = 'display_data';\n",
              "          await google.colab.output.renderOutput(dataTable, element);\n",
              "          const docLink = document.createElement('div');\n",
              "          docLink.innerHTML = docLinkHtml;\n",
              "          element.appendChild(docLink);\n",
              "        }\n",
              "      </script>\n",
              "    </div>\n",
              "  </div>\n",
              "  "
            ]
          },
          "metadata": {},
          "execution_count": 46
        }
      ],
      "source": [
        "df2.head(5)"
      ]
    },
    {
      "cell_type": "markdown",
      "id": "24aa6746",
      "metadata": {
        "id": "24aa6746"
      },
      "source": [
        "## Considering the **maindata**"
      ]
    },
    {
      "cell_type": "markdown",
      "id": "f92c4aa7",
      "metadata": {
        "id": "f92c4aa7"
      },
      "source": [
        "#### Generate a new column \"Delay\" from the existing columns\n",
        "\n",
        "- Note - You are expected to create a new column 'Delay' from two existing columns, \"clear_date\" and \"due_in_date\" \n",
        "- Formula - Delay = clear_date - due_in_date"
      ]
    },
    {
      "cell_type": "code",
      "source": [
        "df1['Delay']=(df1['clear_date']-df1['due_in_date']).dt.days"
      ],
      "metadata": {
        "colab": {
          "base_uri": "https://localhost:8080/"
        },
        "id": "RNhqtBQjCeZx",
        "outputId": "387bac8c-7728-4d22-f39e-600ce3df2f0c"
      },
      "id": "RNhqtBQjCeZx",
      "execution_count": null,
      "outputs": [
        {
          "output_type": "stream",
          "name": "stderr",
          "text": [
            "/usr/local/lib/python3.7/dist-packages/ipykernel_launcher.py:1: SettingWithCopyWarning: \n",
            "A value is trying to be set on a copy of a slice from a DataFrame.\n",
            "Try using .loc[row_indexer,col_indexer] = value instead\n",
            "\n",
            "See the caveats in the documentation: https://pandas.pydata.org/pandas-docs/stable/user_guide/indexing.html#returning-a-view-versus-a-copy\n",
            "  \"\"\"Entry point for launching an IPython kernel.\n"
          ]
        }
      ]
    },
    {
      "cell_type": "code",
      "source": [
        "df1.head(5)"
      ],
      "metadata": {
        "colab": {
          "base_uri": "https://localhost:8080/",
          "height": 305
        },
        "id": "7uYaGhpFCek_",
        "outputId": "9c7f89e7-6c41-4907-9efa-59bc8e1a93f8"
      },
      "id": "7uYaGhpFCek_",
      "execution_count": null,
      "outputs": [
        {
          "output_type": "execute_result",
          "data": {
            "text/plain": [
              "  business_code cust_number       name_customer clear_date  buisness_year  \\\n",
              "0          U001  0200769623        WAL-MAR corp 2020-02-11         2020.0   \n",
              "1          U001  0200980828              BEN E  2019-08-08         2019.0   \n",
              "2          U001  0200792734          MDV/ trust 2019-12-30         2019.0   \n",
              "4          U001  0200769623  WAL-MAR foundation 2019-11-25         2019.0   \n",
              "5          CA02  0140106181    THE  corporation 2019-12-04         2019.0   \n",
              "\n",
              "         doc_id posting_date document_create_date.1 due_in_date  \\\n",
              "0  1.930438e+09   2020-01-26             2020-01-26  2020-02-10   \n",
              "1  1.929646e+09   2019-07-22             2019-07-22  2019-08-11   \n",
              "2  1.929874e+09   2019-09-14             2019-09-14  2019-09-29   \n",
              "4  1.930148e+09   2019-11-13             2019-11-13  2019-11-28   \n",
              "5  2.960581e+09   2019-09-20             2019-09-20  2019-10-04   \n",
              "\n",
              "  baseline_create_date cust_payment_terms  converted_usd  Delay  \n",
              "0           2020-01-26               NAH4      54273.280      1  \n",
              "1           2019-07-22               NAD1      79656.600     -3  \n",
              "2           2019-09-14               NAA8       2253.860     92  \n",
              "4           2019-11-13               NAH4      33133.290     -3  \n",
              "5           2019-09-24               CA10      15558.088     61  "
            ],
            "text/html": [
              "\n",
              "  <div id=\"df-7d635151-1c02-4348-98b5-b202e9f45ab3\">\n",
              "    <div class=\"colab-df-container\">\n",
              "      <div>\n",
              "<style scoped>\n",
              "    .dataframe tbody tr th:only-of-type {\n",
              "        vertical-align: middle;\n",
              "    }\n",
              "\n",
              "    .dataframe tbody tr th {\n",
              "        vertical-align: top;\n",
              "    }\n",
              "\n",
              "    .dataframe thead th {\n",
              "        text-align: right;\n",
              "    }\n",
              "</style>\n",
              "<table border=\"1\" class=\"dataframe\">\n",
              "  <thead>\n",
              "    <tr style=\"text-align: right;\">\n",
              "      <th></th>\n",
              "      <th>business_code</th>\n",
              "      <th>cust_number</th>\n",
              "      <th>name_customer</th>\n",
              "      <th>clear_date</th>\n",
              "      <th>buisness_year</th>\n",
              "      <th>doc_id</th>\n",
              "      <th>posting_date</th>\n",
              "      <th>document_create_date.1</th>\n",
              "      <th>due_in_date</th>\n",
              "      <th>baseline_create_date</th>\n",
              "      <th>cust_payment_terms</th>\n",
              "      <th>converted_usd</th>\n",
              "      <th>Delay</th>\n",
              "    </tr>\n",
              "  </thead>\n",
              "  <tbody>\n",
              "    <tr>\n",
              "      <th>0</th>\n",
              "      <td>U001</td>\n",
              "      <td>0200769623</td>\n",
              "      <td>WAL-MAR corp</td>\n",
              "      <td>2020-02-11</td>\n",
              "      <td>2020.0</td>\n",
              "      <td>1.930438e+09</td>\n",
              "      <td>2020-01-26</td>\n",
              "      <td>2020-01-26</td>\n",
              "      <td>2020-02-10</td>\n",
              "      <td>2020-01-26</td>\n",
              "      <td>NAH4</td>\n",
              "      <td>54273.280</td>\n",
              "      <td>1</td>\n",
              "    </tr>\n",
              "    <tr>\n",
              "      <th>1</th>\n",
              "      <td>U001</td>\n",
              "      <td>0200980828</td>\n",
              "      <td>BEN E</td>\n",
              "      <td>2019-08-08</td>\n",
              "      <td>2019.0</td>\n",
              "      <td>1.929646e+09</td>\n",
              "      <td>2019-07-22</td>\n",
              "      <td>2019-07-22</td>\n",
              "      <td>2019-08-11</td>\n",
              "      <td>2019-07-22</td>\n",
              "      <td>NAD1</td>\n",
              "      <td>79656.600</td>\n",
              "      <td>-3</td>\n",
              "    </tr>\n",
              "    <tr>\n",
              "      <th>2</th>\n",
              "      <td>U001</td>\n",
              "      <td>0200792734</td>\n",
              "      <td>MDV/ trust</td>\n",
              "      <td>2019-12-30</td>\n",
              "      <td>2019.0</td>\n",
              "      <td>1.929874e+09</td>\n",
              "      <td>2019-09-14</td>\n",
              "      <td>2019-09-14</td>\n",
              "      <td>2019-09-29</td>\n",
              "      <td>2019-09-14</td>\n",
              "      <td>NAA8</td>\n",
              "      <td>2253.860</td>\n",
              "      <td>92</td>\n",
              "    </tr>\n",
              "    <tr>\n",
              "      <th>4</th>\n",
              "      <td>U001</td>\n",
              "      <td>0200769623</td>\n",
              "      <td>WAL-MAR foundation</td>\n",
              "      <td>2019-11-25</td>\n",
              "      <td>2019.0</td>\n",
              "      <td>1.930148e+09</td>\n",
              "      <td>2019-11-13</td>\n",
              "      <td>2019-11-13</td>\n",
              "      <td>2019-11-28</td>\n",
              "      <td>2019-11-13</td>\n",
              "      <td>NAH4</td>\n",
              "      <td>33133.290</td>\n",
              "      <td>-3</td>\n",
              "    </tr>\n",
              "    <tr>\n",
              "      <th>5</th>\n",
              "      <td>CA02</td>\n",
              "      <td>0140106181</td>\n",
              "      <td>THE  corporation</td>\n",
              "      <td>2019-12-04</td>\n",
              "      <td>2019.0</td>\n",
              "      <td>2.960581e+09</td>\n",
              "      <td>2019-09-20</td>\n",
              "      <td>2019-09-20</td>\n",
              "      <td>2019-10-04</td>\n",
              "      <td>2019-09-24</td>\n",
              "      <td>CA10</td>\n",
              "      <td>15558.088</td>\n",
              "      <td>61</td>\n",
              "    </tr>\n",
              "  </tbody>\n",
              "</table>\n",
              "</div>\n",
              "      <button class=\"colab-df-convert\" onclick=\"convertToInteractive('df-7d635151-1c02-4348-98b5-b202e9f45ab3')\"\n",
              "              title=\"Convert this dataframe to an interactive table.\"\n",
              "              style=\"display:none;\">\n",
              "        \n",
              "  <svg xmlns=\"http://www.w3.org/2000/svg\" height=\"24px\"viewBox=\"0 0 24 24\"\n",
              "       width=\"24px\">\n",
              "    <path d=\"M0 0h24v24H0V0z\" fill=\"none\"/>\n",
              "    <path d=\"M18.56 5.44l.94 2.06.94-2.06 2.06-.94-2.06-.94-.94-2.06-.94 2.06-2.06.94zm-11 1L8.5 8.5l.94-2.06 2.06-.94-2.06-.94L8.5 2.5l-.94 2.06-2.06.94zm10 10l.94 2.06.94-2.06 2.06-.94-2.06-.94-.94-2.06-.94 2.06-2.06.94z\"/><path d=\"M17.41 7.96l-1.37-1.37c-.4-.4-.92-.59-1.43-.59-.52 0-1.04.2-1.43.59L10.3 9.45l-7.72 7.72c-.78.78-.78 2.05 0 2.83L4 21.41c.39.39.9.59 1.41.59.51 0 1.02-.2 1.41-.59l7.78-7.78 2.81-2.81c.8-.78.8-2.07 0-2.86zM5.41 20L4 18.59l7.72-7.72 1.47 1.35L5.41 20z\"/>\n",
              "  </svg>\n",
              "      </button>\n",
              "      \n",
              "  <style>\n",
              "    .colab-df-container {\n",
              "      display:flex;\n",
              "      flex-wrap:wrap;\n",
              "      gap: 12px;\n",
              "    }\n",
              "\n",
              "    .colab-df-convert {\n",
              "      background-color: #E8F0FE;\n",
              "      border: none;\n",
              "      border-radius: 50%;\n",
              "      cursor: pointer;\n",
              "      display: none;\n",
              "      fill: #1967D2;\n",
              "      height: 32px;\n",
              "      padding: 0 0 0 0;\n",
              "      width: 32px;\n",
              "    }\n",
              "\n",
              "    .colab-df-convert:hover {\n",
              "      background-color: #E2EBFA;\n",
              "      box-shadow: 0px 1px 2px rgba(60, 64, 67, 0.3), 0px 1px 3px 1px rgba(60, 64, 67, 0.15);\n",
              "      fill: #174EA6;\n",
              "    }\n",
              "\n",
              "    [theme=dark] .colab-df-convert {\n",
              "      background-color: #3B4455;\n",
              "      fill: #D2E3FC;\n",
              "    }\n",
              "\n",
              "    [theme=dark] .colab-df-convert:hover {\n",
              "      background-color: #434B5C;\n",
              "      box-shadow: 0px 1px 3px 1px rgba(0, 0, 0, 0.15);\n",
              "      filter: drop-shadow(0px 1px 2px rgba(0, 0, 0, 0.3));\n",
              "      fill: #FFFFFF;\n",
              "    }\n",
              "  </style>\n",
              "\n",
              "      <script>\n",
              "        const buttonEl =\n",
              "          document.querySelector('#df-7d635151-1c02-4348-98b5-b202e9f45ab3 button.colab-df-convert');\n",
              "        buttonEl.style.display =\n",
              "          google.colab.kernel.accessAllowed ? 'block' : 'none';\n",
              "\n",
              "        async function convertToInteractive(key) {\n",
              "          const element = document.querySelector('#df-7d635151-1c02-4348-98b5-b202e9f45ab3');\n",
              "          const dataTable =\n",
              "            await google.colab.kernel.invokeFunction('convertToInteractive',\n",
              "                                                     [key], {});\n",
              "          if (!dataTable) return;\n",
              "\n",
              "          const docLinkHtml = 'Like what you see? Visit the ' +\n",
              "            '<a target=\"_blank\" href=https://colab.research.google.com/notebooks/data_table.ipynb>data table notebook</a>'\n",
              "            + ' to learn more about interactive tables.';\n",
              "          element.innerHTML = '';\n",
              "          dataTable['output_type'] = 'display_data';\n",
              "          await google.colab.output.renderOutput(dataTable, element);\n",
              "          const docLink = document.createElement('div');\n",
              "          docLink.innerHTML = docLinkHtml;\n",
              "          element.appendChild(docLink);\n",
              "        }\n",
              "      </script>\n",
              "    </div>\n",
              "  </div>\n",
              "  "
            ]
          },
          "metadata": {},
          "execution_count": 48
        }
      ]
    },
    {
      "cell_type": "code",
      "source": [
        "df1.sort_values(by='document_create_date.1',inplace=True) # sorting in ascending order by document_create_date.1\n",
        "df1"
      ],
      "metadata": {
        "colab": {
          "base_uri": "https://localhost:8080/",
          "height": 627
        },
        "id": "Hjvl97faNo5M",
        "outputId": "189186d8-ce3a-4045-b609-5e20747301ea"
      },
      "id": "Hjvl97faNo5M",
      "execution_count": null,
      "outputs": [
        {
          "output_type": "stream",
          "name": "stderr",
          "text": [
            "/usr/local/lib/python3.7/dist-packages/pandas/util/_decorators.py:311: SettingWithCopyWarning: \n",
            "A value is trying to be set on a copy of a slice from a DataFrame\n",
            "\n",
            "See the caveats in the documentation: https://pandas.pydata.org/pandas-docs/stable/user_guide/indexing.html#returning-a-view-versus-a-copy\n",
            "  return func(*args, **kwargs)\n"
          ]
        },
        {
          "output_type": "execute_result",
          "data": {
            "text/plain": [
              "      business_code cust_number        name_customer clear_date  \\\n",
              "30571          U001  0200794332      COST foundation 2019-01-23   \n",
              "3390           U001  0200769623           WAL-MAR us 2019-01-14   \n",
              "26350          U001  0200769623        WAL-MAR trust 2019-01-09   \n",
              "48624          U001  0200769623           WAL-MAR in 2019-01-10   \n",
              "9633           U001  0200769623  WAL-MAR corporation 2019-01-15   \n",
              "...             ...         ...                  ...        ...   \n",
              "12041          U001  0200900909             SYSCO co 2020-04-03   \n",
              "32335          U001  0200943275             US  corp 2020-03-11   \n",
              "2874           U001  0200418007        AM associates 2020-03-19   \n",
              "16955          U001  0200759878              SA corp 2020-03-13   \n",
              "19322          U001  0200739044   PERFOR corporation 2020-03-16   \n",
              "\n",
              "       buisness_year        doc_id posting_date document_create_date.1  \\\n",
              "30571         2019.0  1.928523e+09   2018-12-30             2018-12-30   \n",
              "3390          2019.0  1.928535e+09   2018-12-30             2018-12-30   \n",
              "26350         2019.0  1.928543e+09   2018-12-30             2018-12-30   \n",
              "48624         2019.0  1.928541e+09   2018-12-30             2018-12-30   \n",
              "9633          2019.0  1.928538e+09   2018-12-30             2018-12-30   \n",
              "...              ...           ...          ...                    ...   \n",
              "12041         2020.0  1.930559e+09   2020-02-26             2020-02-26   \n",
              "32335         2020.0  1.930576e+09   2020-02-26             2020-02-26   \n",
              "2874          2020.0  1.930568e+09   2020-02-27             2020-02-27   \n",
              "16955         2020.0  1.930574e+09   2020-02-27             2020-02-27   \n",
              "19322         2020.0  1.930574e+09   2020-02-27             2020-02-27   \n",
              "\n",
              "      due_in_date baseline_create_date cust_payment_terms  converted_usd  \\\n",
              "30571  2019-01-14           2018-12-30               NAAX        8041.59   \n",
              "3390   2019-01-14           2018-12-30               NAH4        3408.73   \n",
              "26350  2019-01-14           2018-12-30               NAH4       10318.00   \n",
              "48624  2019-01-14           2018-12-30               NAH4       72181.59   \n",
              "9633   2019-01-14           2018-12-30               NAH4       70483.35   \n",
              "...           ...                  ...                ...            ...   \n",
              "12041  2020-03-29           2020-02-26               NA32       44033.76   \n",
              "32335  2020-03-12           2020-02-26               NAA8       45445.78   \n",
              "2874   2020-03-13           2020-02-27               NAA8       10349.36   \n",
              "16955  2020-03-13           2020-02-27               NAH4       49290.19   \n",
              "19322  2020-03-13           2020-02-27               NAA8       25143.02   \n",
              "\n",
              "       Delay  \n",
              "30571      9  \n",
              "3390       0  \n",
              "26350     -5  \n",
              "48624     -4  \n",
              "9633       1  \n",
              "...      ...  \n",
              "12041      5  \n",
              "32335     -1  \n",
              "2874       6  \n",
              "16955      0  \n",
              "19322      3  \n",
              "\n",
              "[39158 rows x 13 columns]"
            ],
            "text/html": [
              "\n",
              "  <div id=\"df-5625391b-fa2d-4f54-a255-2ab13a748b4e\">\n",
              "    <div class=\"colab-df-container\">\n",
              "      <div>\n",
              "<style scoped>\n",
              "    .dataframe tbody tr th:only-of-type {\n",
              "        vertical-align: middle;\n",
              "    }\n",
              "\n",
              "    .dataframe tbody tr th {\n",
              "        vertical-align: top;\n",
              "    }\n",
              "\n",
              "    .dataframe thead th {\n",
              "        text-align: right;\n",
              "    }\n",
              "</style>\n",
              "<table border=\"1\" class=\"dataframe\">\n",
              "  <thead>\n",
              "    <tr style=\"text-align: right;\">\n",
              "      <th></th>\n",
              "      <th>business_code</th>\n",
              "      <th>cust_number</th>\n",
              "      <th>name_customer</th>\n",
              "      <th>clear_date</th>\n",
              "      <th>buisness_year</th>\n",
              "      <th>doc_id</th>\n",
              "      <th>posting_date</th>\n",
              "      <th>document_create_date.1</th>\n",
              "      <th>due_in_date</th>\n",
              "      <th>baseline_create_date</th>\n",
              "      <th>cust_payment_terms</th>\n",
              "      <th>converted_usd</th>\n",
              "      <th>Delay</th>\n",
              "    </tr>\n",
              "  </thead>\n",
              "  <tbody>\n",
              "    <tr>\n",
              "      <th>30571</th>\n",
              "      <td>U001</td>\n",
              "      <td>0200794332</td>\n",
              "      <td>COST foundation</td>\n",
              "      <td>2019-01-23</td>\n",
              "      <td>2019.0</td>\n",
              "      <td>1.928523e+09</td>\n",
              "      <td>2018-12-30</td>\n",
              "      <td>2018-12-30</td>\n",
              "      <td>2019-01-14</td>\n",
              "      <td>2018-12-30</td>\n",
              "      <td>NAAX</td>\n",
              "      <td>8041.59</td>\n",
              "      <td>9</td>\n",
              "    </tr>\n",
              "    <tr>\n",
              "      <th>3390</th>\n",
              "      <td>U001</td>\n",
              "      <td>0200769623</td>\n",
              "      <td>WAL-MAR us</td>\n",
              "      <td>2019-01-14</td>\n",
              "      <td>2019.0</td>\n",
              "      <td>1.928535e+09</td>\n",
              "      <td>2018-12-30</td>\n",
              "      <td>2018-12-30</td>\n",
              "      <td>2019-01-14</td>\n",
              "      <td>2018-12-30</td>\n",
              "      <td>NAH4</td>\n",
              "      <td>3408.73</td>\n",
              "      <td>0</td>\n",
              "    </tr>\n",
              "    <tr>\n",
              "      <th>26350</th>\n",
              "      <td>U001</td>\n",
              "      <td>0200769623</td>\n",
              "      <td>WAL-MAR trust</td>\n",
              "      <td>2019-01-09</td>\n",
              "      <td>2019.0</td>\n",
              "      <td>1.928543e+09</td>\n",
              "      <td>2018-12-30</td>\n",
              "      <td>2018-12-30</td>\n",
              "      <td>2019-01-14</td>\n",
              "      <td>2018-12-30</td>\n",
              "      <td>NAH4</td>\n",
              "      <td>10318.00</td>\n",
              "      <td>-5</td>\n",
              "    </tr>\n",
              "    <tr>\n",
              "      <th>48624</th>\n",
              "      <td>U001</td>\n",
              "      <td>0200769623</td>\n",
              "      <td>WAL-MAR in</td>\n",
              "      <td>2019-01-10</td>\n",
              "      <td>2019.0</td>\n",
              "      <td>1.928541e+09</td>\n",
              "      <td>2018-12-30</td>\n",
              "      <td>2018-12-30</td>\n",
              "      <td>2019-01-14</td>\n",
              "      <td>2018-12-30</td>\n",
              "      <td>NAH4</td>\n",
              "      <td>72181.59</td>\n",
              "      <td>-4</td>\n",
              "    </tr>\n",
              "    <tr>\n",
              "      <th>9633</th>\n",
              "      <td>U001</td>\n",
              "      <td>0200769623</td>\n",
              "      <td>WAL-MAR corporation</td>\n",
              "      <td>2019-01-15</td>\n",
              "      <td>2019.0</td>\n",
              "      <td>1.928538e+09</td>\n",
              "      <td>2018-12-30</td>\n",
              "      <td>2018-12-30</td>\n",
              "      <td>2019-01-14</td>\n",
              "      <td>2018-12-30</td>\n",
              "      <td>NAH4</td>\n",
              "      <td>70483.35</td>\n",
              "      <td>1</td>\n",
              "    </tr>\n",
              "    <tr>\n",
              "      <th>...</th>\n",
              "      <td>...</td>\n",
              "      <td>...</td>\n",
              "      <td>...</td>\n",
              "      <td>...</td>\n",
              "      <td>...</td>\n",
              "      <td>...</td>\n",
              "      <td>...</td>\n",
              "      <td>...</td>\n",
              "      <td>...</td>\n",
              "      <td>...</td>\n",
              "      <td>...</td>\n",
              "      <td>...</td>\n",
              "      <td>...</td>\n",
              "    </tr>\n",
              "    <tr>\n",
              "      <th>12041</th>\n",
              "      <td>U001</td>\n",
              "      <td>0200900909</td>\n",
              "      <td>SYSCO co</td>\n",
              "      <td>2020-04-03</td>\n",
              "      <td>2020.0</td>\n",
              "      <td>1.930559e+09</td>\n",
              "      <td>2020-02-26</td>\n",
              "      <td>2020-02-26</td>\n",
              "      <td>2020-03-29</td>\n",
              "      <td>2020-02-26</td>\n",
              "      <td>NA32</td>\n",
              "      <td>44033.76</td>\n",
              "      <td>5</td>\n",
              "    </tr>\n",
              "    <tr>\n",
              "      <th>32335</th>\n",
              "      <td>U001</td>\n",
              "      <td>0200943275</td>\n",
              "      <td>US  corp</td>\n",
              "      <td>2020-03-11</td>\n",
              "      <td>2020.0</td>\n",
              "      <td>1.930576e+09</td>\n",
              "      <td>2020-02-26</td>\n",
              "      <td>2020-02-26</td>\n",
              "      <td>2020-03-12</td>\n",
              "      <td>2020-02-26</td>\n",
              "      <td>NAA8</td>\n",
              "      <td>45445.78</td>\n",
              "      <td>-1</td>\n",
              "    </tr>\n",
              "    <tr>\n",
              "      <th>2874</th>\n",
              "      <td>U001</td>\n",
              "      <td>0200418007</td>\n",
              "      <td>AM associates</td>\n",
              "      <td>2020-03-19</td>\n",
              "      <td>2020.0</td>\n",
              "      <td>1.930568e+09</td>\n",
              "      <td>2020-02-27</td>\n",
              "      <td>2020-02-27</td>\n",
              "      <td>2020-03-13</td>\n",
              "      <td>2020-02-27</td>\n",
              "      <td>NAA8</td>\n",
              "      <td>10349.36</td>\n",
              "      <td>6</td>\n",
              "    </tr>\n",
              "    <tr>\n",
              "      <th>16955</th>\n",
              "      <td>U001</td>\n",
              "      <td>0200759878</td>\n",
              "      <td>SA corp</td>\n",
              "      <td>2020-03-13</td>\n",
              "      <td>2020.0</td>\n",
              "      <td>1.930574e+09</td>\n",
              "      <td>2020-02-27</td>\n",
              "      <td>2020-02-27</td>\n",
              "      <td>2020-03-13</td>\n",
              "      <td>2020-02-27</td>\n",
              "      <td>NAH4</td>\n",
              "      <td>49290.19</td>\n",
              "      <td>0</td>\n",
              "    </tr>\n",
              "    <tr>\n",
              "      <th>19322</th>\n",
              "      <td>U001</td>\n",
              "      <td>0200739044</td>\n",
              "      <td>PERFOR corporation</td>\n",
              "      <td>2020-03-16</td>\n",
              "      <td>2020.0</td>\n",
              "      <td>1.930574e+09</td>\n",
              "      <td>2020-02-27</td>\n",
              "      <td>2020-02-27</td>\n",
              "      <td>2020-03-13</td>\n",
              "      <td>2020-02-27</td>\n",
              "      <td>NAA8</td>\n",
              "      <td>25143.02</td>\n",
              "      <td>3</td>\n",
              "    </tr>\n",
              "  </tbody>\n",
              "</table>\n",
              "<p>39158 rows × 13 columns</p>\n",
              "</div>\n",
              "      <button class=\"colab-df-convert\" onclick=\"convertToInteractive('df-5625391b-fa2d-4f54-a255-2ab13a748b4e')\"\n",
              "              title=\"Convert this dataframe to an interactive table.\"\n",
              "              style=\"display:none;\">\n",
              "        \n",
              "  <svg xmlns=\"http://www.w3.org/2000/svg\" height=\"24px\"viewBox=\"0 0 24 24\"\n",
              "       width=\"24px\">\n",
              "    <path d=\"M0 0h24v24H0V0z\" fill=\"none\"/>\n",
              "    <path d=\"M18.56 5.44l.94 2.06.94-2.06 2.06-.94-2.06-.94-.94-2.06-.94 2.06-2.06.94zm-11 1L8.5 8.5l.94-2.06 2.06-.94-2.06-.94L8.5 2.5l-.94 2.06-2.06.94zm10 10l.94 2.06.94-2.06 2.06-.94-2.06-.94-.94-2.06-.94 2.06-2.06.94z\"/><path d=\"M17.41 7.96l-1.37-1.37c-.4-.4-.92-.59-1.43-.59-.52 0-1.04.2-1.43.59L10.3 9.45l-7.72 7.72c-.78.78-.78 2.05 0 2.83L4 21.41c.39.39.9.59 1.41.59.51 0 1.02-.2 1.41-.59l7.78-7.78 2.81-2.81c.8-.78.8-2.07 0-2.86zM5.41 20L4 18.59l7.72-7.72 1.47 1.35L5.41 20z\"/>\n",
              "  </svg>\n",
              "      </button>\n",
              "      \n",
              "  <style>\n",
              "    .colab-df-container {\n",
              "      display:flex;\n",
              "      flex-wrap:wrap;\n",
              "      gap: 12px;\n",
              "    }\n",
              "\n",
              "    .colab-df-convert {\n",
              "      background-color: #E8F0FE;\n",
              "      border: none;\n",
              "      border-radius: 50%;\n",
              "      cursor: pointer;\n",
              "      display: none;\n",
              "      fill: #1967D2;\n",
              "      height: 32px;\n",
              "      padding: 0 0 0 0;\n",
              "      width: 32px;\n",
              "    }\n",
              "\n",
              "    .colab-df-convert:hover {\n",
              "      background-color: #E2EBFA;\n",
              "      box-shadow: 0px 1px 2px rgba(60, 64, 67, 0.3), 0px 1px 3px 1px rgba(60, 64, 67, 0.15);\n",
              "      fill: #174EA6;\n",
              "    }\n",
              "\n",
              "    [theme=dark] .colab-df-convert {\n",
              "      background-color: #3B4455;\n",
              "      fill: #D2E3FC;\n",
              "    }\n",
              "\n",
              "    [theme=dark] .colab-df-convert:hover {\n",
              "      background-color: #434B5C;\n",
              "      box-shadow: 0px 1px 3px 1px rgba(0, 0, 0, 0.15);\n",
              "      filter: drop-shadow(0px 1px 2px rgba(0, 0, 0, 0.3));\n",
              "      fill: #FFFFFF;\n",
              "    }\n",
              "  </style>\n",
              "\n",
              "      <script>\n",
              "        const buttonEl =\n",
              "          document.querySelector('#df-5625391b-fa2d-4f54-a255-2ab13a748b4e button.colab-df-convert');\n",
              "        buttonEl.style.display =\n",
              "          google.colab.kernel.accessAllowed ? 'block' : 'none';\n",
              "\n",
              "        async function convertToInteractive(key) {\n",
              "          const element = document.querySelector('#df-5625391b-fa2d-4f54-a255-2ab13a748b4e');\n",
              "          const dataTable =\n",
              "            await google.colab.kernel.invokeFunction('convertToInteractive',\n",
              "                                                     [key], {});\n",
              "          if (!dataTable) return;\n",
              "\n",
              "          const docLinkHtml = 'Like what you see? Visit the ' +\n",
              "            '<a target=\"_blank\" href=https://colab.research.google.com/notebooks/data_table.ipynb>data table notebook</a>'\n",
              "            + ' to learn more about interactive tables.';\n",
              "          element.innerHTML = '';\n",
              "          dataTable['output_type'] = 'display_data';\n",
              "          await google.colab.output.renderOutput(dataTable, element);\n",
              "          const docLink = document.createElement('div');\n",
              "          docLink.innerHTML = docLinkHtml;\n",
              "          element.appendChild(docLink);\n",
              "        }\n",
              "      </script>\n",
              "    </div>\n",
              "  </div>\n",
              "  "
            ]
          },
          "metadata": {},
          "execution_count": 49
        }
      ]
    },
    {
      "cell_type": "markdown",
      "id": "f482144e",
      "metadata": {
        "id": "f482144e"
      },
      "source": [
        "### Generate a new column \"avgdelay\" from the existing columns\n",
        "\n",
        "- Note - You are expected to make a new column \"avgdelay\" by grouping \"name_customer\" column with reapect to mean of the \"Delay\" column.\n",
        "- This new column \"avg_delay\" is meant to store \"customer_name\" wise delay\n",
        "- groupby('name_customer')['Delay'].mean(numeric_only=False)\n",
        "- Display the new \"avg_delay\" column"
      ]
    },
    {
      "cell_type": "code",
      "execution_count": null,
      "id": "d18d2f8d",
      "metadata": {
        "id": "d18d2f8d"
      },
      "outputs": [],
      "source": [
        "avg_delay=df1.groupby('name_customer')['Delay'].mean(numeric_only=False)"
      ]
    },
    {
      "cell_type": "code",
      "source": [
        "print(avg_delay)"
      ],
      "metadata": {
        "colab": {
          "base_uri": "https://localhost:8080/"
        },
        "id": "OwoaUMItDrc7",
        "outputId": "93a1eedb-98a0-4a12-9346-aff8c1fbb51f"
      },
      "id": "OwoaUMItDrc7",
      "execution_count": null,
      "outputs": [
        {
          "output_type": "stream",
          "name": "stdout",
          "text": [
            "name_customer\n",
            "11078 us                17.0\n",
            "17135 associates       -10.0\n",
            "17135 llc               -3.0\n",
            "236008 associates       -3.0\n",
            "99 CE                    2.0\n",
            "                        ... \n",
            "YEN BROS corp            0.0\n",
            "YEN BROS corporation    -0.5\n",
            "YEN BROS llc            -2.0\n",
            "ZARCO co                -1.0\n",
            "ZIYAD  us                6.0\n",
            "Name: Delay, Length: 3889, dtype: float64\n"
          ]
        }
      ]
    },
    {
      "cell_type": "markdown",
      "id": "64b995e8",
      "metadata": {
        "id": "64b995e8"
      },
      "source": [
        "You need to add the \"avg_delay\" column with the maindata, mapped with \"name_customer\" column\n",
        "\n",
        " - Note - You need to use map function to map the avgdelay with respect to \"name_customer\" column"
      ]
    },
    {
      "cell_type": "code",
      "execution_count": null,
      "id": "e1e1f3d9",
      "metadata": {
        "id": "e1e1f3d9",
        "colab": {
          "base_uri": "https://localhost:8080/"
        },
        "outputId": "e8974d7d-2b81-45f0-b43d-2a88f72cf98f"
      },
      "outputs": [
        {
          "output_type": "stream",
          "name": "stderr",
          "text": [
            "/usr/local/lib/python3.7/dist-packages/ipykernel_launcher.py:1: SettingWithCopyWarning: \n",
            "A value is trying to be set on a copy of a slice from a DataFrame.\n",
            "Try using .loc[row_indexer,col_indexer] = value instead\n",
            "\n",
            "See the caveats in the documentation: https://pandas.pydata.org/pandas-docs/stable/user_guide/indexing.html#returning-a-view-versus-a-copy\n",
            "  \"\"\"Entry point for launching an IPython kernel.\n"
          ]
        }
      ],
      "source": [
        "df1['avg_delay']= df1['name_customer'].map(avg_delay)"
      ]
    },
    {
      "cell_type": "code",
      "source": [
        "df1.head(10)"
      ],
      "metadata": {
        "colab": {
          "base_uri": "https://localhost:8080/",
          "height": 496
        },
        "id": "DPCxXzbQGKbX",
        "outputId": "8faf4238-a129-42af-9b18-550a0c0c2114"
      },
      "id": "DPCxXzbQGKbX",
      "execution_count": null,
      "outputs": [
        {
          "output_type": "execute_result",
          "data": {
            "text/plain": [
              "      business_code cust_number        name_customer clear_date  \\\n",
              "30571          U001  0200794332      COST foundation 2019-01-23   \n",
              "3390           U001  0200769623           WAL-MAR us 2019-01-14   \n",
              "26350          U001  0200769623        WAL-MAR trust 2019-01-09   \n",
              "48624          U001  0200769623           WAL-MAR in 2019-01-10   \n",
              "9633           U001  0200769623  WAL-MAR corporation 2019-01-15   \n",
              "37703          U001  0200769623           WAL-MAR in 2019-01-11   \n",
              "21115          U001  0200704858      WAKE foundation 2019-01-22   \n",
              "48622          U001  0200726979        BJ'S  systems 2019-01-15   \n",
              "33779          U001  0200769623      WAL-MAR systems 2019-01-09   \n",
              "11157          U001  0200769623             WAL-MAR  2019-01-09   \n",
              "\n",
              "       buisness_year        doc_id posting_date document_create_date.1  \\\n",
              "30571         2019.0  1.928523e+09   2018-12-30             2018-12-30   \n",
              "3390          2019.0  1.928535e+09   2018-12-30             2018-12-30   \n",
              "26350         2019.0  1.928543e+09   2018-12-30             2018-12-30   \n",
              "48624         2019.0  1.928541e+09   2018-12-30             2018-12-30   \n",
              "9633          2019.0  1.928538e+09   2018-12-30             2018-12-30   \n",
              "37703         2019.0  1.928543e+09   2018-12-30             2018-12-30   \n",
              "21115         2019.0  1.928540e+09   2018-12-30             2018-12-30   \n",
              "48622         2019.0  1.928542e+09   2018-12-30             2018-12-30   \n",
              "33779         2019.0  1.928539e+09   2018-12-30             2018-12-30   \n",
              "11157         2019.0  1.928541e+09   2018-12-30             2018-12-30   \n",
              "\n",
              "      due_in_date baseline_create_date cust_payment_terms  converted_usd  \\\n",
              "30571  2019-01-14           2018-12-30               NAAX        8041.59   \n",
              "3390   2019-01-14           2018-12-30               NAH4        3408.73   \n",
              "26350  2019-01-14           2018-12-30               NAH4       10318.00   \n",
              "48624  2019-01-14           2018-12-30               NAH4       72181.59   \n",
              "9633   2019-01-14           2018-12-30               NAH4       70483.35   \n",
              "37703  2019-01-14           2018-12-30               NAH4       43689.83   \n",
              "21115  2019-01-14           2018-12-30               NAA8       18420.49   \n",
              "48622  2019-01-14           2018-12-30               NAA8         131.10   \n",
              "33779  2019-01-14           2018-12-30               NAH4         580.67   \n",
              "11157  2019-01-14           2018-12-30               NAH4       13904.40   \n",
              "\n",
              "       Delay  avg_delay  \n",
              "30571      9  -0.178947  \n",
              "3390       0  -2.251825  \n",
              "26350     -5  -2.317047  \n",
              "48624     -4  -2.519774  \n",
              "9633       1  -2.534104  \n",
              "37703     -3  -2.519774  \n",
              "21115      8  -5.043478  \n",
              "48622      1   0.944785  \n",
              "33779     -5  -2.376412  \n",
              "11157     -5  -2.124719  "
            ],
            "text/html": [
              "\n",
              "  <div id=\"df-faa47510-a111-4744-b7b9-762112dc8952\">\n",
              "    <div class=\"colab-df-container\">\n",
              "      <div>\n",
              "<style scoped>\n",
              "    .dataframe tbody tr th:only-of-type {\n",
              "        vertical-align: middle;\n",
              "    }\n",
              "\n",
              "    .dataframe tbody tr th {\n",
              "        vertical-align: top;\n",
              "    }\n",
              "\n",
              "    .dataframe thead th {\n",
              "        text-align: right;\n",
              "    }\n",
              "</style>\n",
              "<table border=\"1\" class=\"dataframe\">\n",
              "  <thead>\n",
              "    <tr style=\"text-align: right;\">\n",
              "      <th></th>\n",
              "      <th>business_code</th>\n",
              "      <th>cust_number</th>\n",
              "      <th>name_customer</th>\n",
              "      <th>clear_date</th>\n",
              "      <th>buisness_year</th>\n",
              "      <th>doc_id</th>\n",
              "      <th>posting_date</th>\n",
              "      <th>document_create_date.1</th>\n",
              "      <th>due_in_date</th>\n",
              "      <th>baseline_create_date</th>\n",
              "      <th>cust_payment_terms</th>\n",
              "      <th>converted_usd</th>\n",
              "      <th>Delay</th>\n",
              "      <th>avg_delay</th>\n",
              "    </tr>\n",
              "  </thead>\n",
              "  <tbody>\n",
              "    <tr>\n",
              "      <th>30571</th>\n",
              "      <td>U001</td>\n",
              "      <td>0200794332</td>\n",
              "      <td>COST foundation</td>\n",
              "      <td>2019-01-23</td>\n",
              "      <td>2019.0</td>\n",
              "      <td>1.928523e+09</td>\n",
              "      <td>2018-12-30</td>\n",
              "      <td>2018-12-30</td>\n",
              "      <td>2019-01-14</td>\n",
              "      <td>2018-12-30</td>\n",
              "      <td>NAAX</td>\n",
              "      <td>8041.59</td>\n",
              "      <td>9</td>\n",
              "      <td>-0.178947</td>\n",
              "    </tr>\n",
              "    <tr>\n",
              "      <th>3390</th>\n",
              "      <td>U001</td>\n",
              "      <td>0200769623</td>\n",
              "      <td>WAL-MAR us</td>\n",
              "      <td>2019-01-14</td>\n",
              "      <td>2019.0</td>\n",
              "      <td>1.928535e+09</td>\n",
              "      <td>2018-12-30</td>\n",
              "      <td>2018-12-30</td>\n",
              "      <td>2019-01-14</td>\n",
              "      <td>2018-12-30</td>\n",
              "      <td>NAH4</td>\n",
              "      <td>3408.73</td>\n",
              "      <td>0</td>\n",
              "      <td>-2.251825</td>\n",
              "    </tr>\n",
              "    <tr>\n",
              "      <th>26350</th>\n",
              "      <td>U001</td>\n",
              "      <td>0200769623</td>\n",
              "      <td>WAL-MAR trust</td>\n",
              "      <td>2019-01-09</td>\n",
              "      <td>2019.0</td>\n",
              "      <td>1.928543e+09</td>\n",
              "      <td>2018-12-30</td>\n",
              "      <td>2018-12-30</td>\n",
              "      <td>2019-01-14</td>\n",
              "      <td>2018-12-30</td>\n",
              "      <td>NAH4</td>\n",
              "      <td>10318.00</td>\n",
              "      <td>-5</td>\n",
              "      <td>-2.317047</td>\n",
              "    </tr>\n",
              "    <tr>\n",
              "      <th>48624</th>\n",
              "      <td>U001</td>\n",
              "      <td>0200769623</td>\n",
              "      <td>WAL-MAR in</td>\n",
              "      <td>2019-01-10</td>\n",
              "      <td>2019.0</td>\n",
              "      <td>1.928541e+09</td>\n",
              "      <td>2018-12-30</td>\n",
              "      <td>2018-12-30</td>\n",
              "      <td>2019-01-14</td>\n",
              "      <td>2018-12-30</td>\n",
              "      <td>NAH4</td>\n",
              "      <td>72181.59</td>\n",
              "      <td>-4</td>\n",
              "      <td>-2.519774</td>\n",
              "    </tr>\n",
              "    <tr>\n",
              "      <th>9633</th>\n",
              "      <td>U001</td>\n",
              "      <td>0200769623</td>\n",
              "      <td>WAL-MAR corporation</td>\n",
              "      <td>2019-01-15</td>\n",
              "      <td>2019.0</td>\n",
              "      <td>1.928538e+09</td>\n",
              "      <td>2018-12-30</td>\n",
              "      <td>2018-12-30</td>\n",
              "      <td>2019-01-14</td>\n",
              "      <td>2018-12-30</td>\n",
              "      <td>NAH4</td>\n",
              "      <td>70483.35</td>\n",
              "      <td>1</td>\n",
              "      <td>-2.534104</td>\n",
              "    </tr>\n",
              "    <tr>\n",
              "      <th>37703</th>\n",
              "      <td>U001</td>\n",
              "      <td>0200769623</td>\n",
              "      <td>WAL-MAR in</td>\n",
              "      <td>2019-01-11</td>\n",
              "      <td>2019.0</td>\n",
              "      <td>1.928543e+09</td>\n",
              "      <td>2018-12-30</td>\n",
              "      <td>2018-12-30</td>\n",
              "      <td>2019-01-14</td>\n",
              "      <td>2018-12-30</td>\n",
              "      <td>NAH4</td>\n",
              "      <td>43689.83</td>\n",
              "      <td>-3</td>\n",
              "      <td>-2.519774</td>\n",
              "    </tr>\n",
              "    <tr>\n",
              "      <th>21115</th>\n",
              "      <td>U001</td>\n",
              "      <td>0200704858</td>\n",
              "      <td>WAKE foundation</td>\n",
              "      <td>2019-01-22</td>\n",
              "      <td>2019.0</td>\n",
              "      <td>1.928540e+09</td>\n",
              "      <td>2018-12-30</td>\n",
              "      <td>2018-12-30</td>\n",
              "      <td>2019-01-14</td>\n",
              "      <td>2018-12-30</td>\n",
              "      <td>NAA8</td>\n",
              "      <td>18420.49</td>\n",
              "      <td>8</td>\n",
              "      <td>-5.043478</td>\n",
              "    </tr>\n",
              "    <tr>\n",
              "      <th>48622</th>\n",
              "      <td>U001</td>\n",
              "      <td>0200726979</td>\n",
              "      <td>BJ'S  systems</td>\n",
              "      <td>2019-01-15</td>\n",
              "      <td>2019.0</td>\n",
              "      <td>1.928542e+09</td>\n",
              "      <td>2018-12-30</td>\n",
              "      <td>2018-12-30</td>\n",
              "      <td>2019-01-14</td>\n",
              "      <td>2018-12-30</td>\n",
              "      <td>NAA8</td>\n",
              "      <td>131.10</td>\n",
              "      <td>1</td>\n",
              "      <td>0.944785</td>\n",
              "    </tr>\n",
              "    <tr>\n",
              "      <th>33779</th>\n",
              "      <td>U001</td>\n",
              "      <td>0200769623</td>\n",
              "      <td>WAL-MAR systems</td>\n",
              "      <td>2019-01-09</td>\n",
              "      <td>2019.0</td>\n",
              "      <td>1.928539e+09</td>\n",
              "      <td>2018-12-30</td>\n",
              "      <td>2018-12-30</td>\n",
              "      <td>2019-01-14</td>\n",
              "      <td>2018-12-30</td>\n",
              "      <td>NAH4</td>\n",
              "      <td>580.67</td>\n",
              "      <td>-5</td>\n",
              "      <td>-2.376412</td>\n",
              "    </tr>\n",
              "    <tr>\n",
              "      <th>11157</th>\n",
              "      <td>U001</td>\n",
              "      <td>0200769623</td>\n",
              "      <td>WAL-MAR</td>\n",
              "      <td>2019-01-09</td>\n",
              "      <td>2019.0</td>\n",
              "      <td>1.928541e+09</td>\n",
              "      <td>2018-12-30</td>\n",
              "      <td>2018-12-30</td>\n",
              "      <td>2019-01-14</td>\n",
              "      <td>2018-12-30</td>\n",
              "      <td>NAH4</td>\n",
              "      <td>13904.40</td>\n",
              "      <td>-5</td>\n",
              "      <td>-2.124719</td>\n",
              "    </tr>\n",
              "  </tbody>\n",
              "</table>\n",
              "</div>\n",
              "      <button class=\"colab-df-convert\" onclick=\"convertToInteractive('df-faa47510-a111-4744-b7b9-762112dc8952')\"\n",
              "              title=\"Convert this dataframe to an interactive table.\"\n",
              "              style=\"display:none;\">\n",
              "        \n",
              "  <svg xmlns=\"http://www.w3.org/2000/svg\" height=\"24px\"viewBox=\"0 0 24 24\"\n",
              "       width=\"24px\">\n",
              "    <path d=\"M0 0h24v24H0V0z\" fill=\"none\"/>\n",
              "    <path d=\"M18.56 5.44l.94 2.06.94-2.06 2.06-.94-2.06-.94-.94-2.06-.94 2.06-2.06.94zm-11 1L8.5 8.5l.94-2.06 2.06-.94-2.06-.94L8.5 2.5l-.94 2.06-2.06.94zm10 10l.94 2.06.94-2.06 2.06-.94-2.06-.94-.94-2.06-.94 2.06-2.06.94z\"/><path d=\"M17.41 7.96l-1.37-1.37c-.4-.4-.92-.59-1.43-.59-.52 0-1.04.2-1.43.59L10.3 9.45l-7.72 7.72c-.78.78-.78 2.05 0 2.83L4 21.41c.39.39.9.59 1.41.59.51 0 1.02-.2 1.41-.59l7.78-7.78 2.81-2.81c.8-.78.8-2.07 0-2.86zM5.41 20L4 18.59l7.72-7.72 1.47 1.35L5.41 20z\"/>\n",
              "  </svg>\n",
              "      </button>\n",
              "      \n",
              "  <style>\n",
              "    .colab-df-container {\n",
              "      display:flex;\n",
              "      flex-wrap:wrap;\n",
              "      gap: 12px;\n",
              "    }\n",
              "\n",
              "    .colab-df-convert {\n",
              "      background-color: #E8F0FE;\n",
              "      border: none;\n",
              "      border-radius: 50%;\n",
              "      cursor: pointer;\n",
              "      display: none;\n",
              "      fill: #1967D2;\n",
              "      height: 32px;\n",
              "      padding: 0 0 0 0;\n",
              "      width: 32px;\n",
              "    }\n",
              "\n",
              "    .colab-df-convert:hover {\n",
              "      background-color: #E2EBFA;\n",
              "      box-shadow: 0px 1px 2px rgba(60, 64, 67, 0.3), 0px 1px 3px 1px rgba(60, 64, 67, 0.15);\n",
              "      fill: #174EA6;\n",
              "    }\n",
              "\n",
              "    [theme=dark] .colab-df-convert {\n",
              "      background-color: #3B4455;\n",
              "      fill: #D2E3FC;\n",
              "    }\n",
              "\n",
              "    [theme=dark] .colab-df-convert:hover {\n",
              "      background-color: #434B5C;\n",
              "      box-shadow: 0px 1px 3px 1px rgba(0, 0, 0, 0.15);\n",
              "      filter: drop-shadow(0px 1px 2px rgba(0, 0, 0, 0.3));\n",
              "      fill: #FFFFFF;\n",
              "    }\n",
              "  </style>\n",
              "\n",
              "      <script>\n",
              "        const buttonEl =\n",
              "          document.querySelector('#df-faa47510-a111-4744-b7b9-762112dc8952 button.colab-df-convert');\n",
              "        buttonEl.style.display =\n",
              "          google.colab.kernel.accessAllowed ? 'block' : 'none';\n",
              "\n",
              "        async function convertToInteractive(key) {\n",
              "          const element = document.querySelector('#df-faa47510-a111-4744-b7b9-762112dc8952');\n",
              "          const dataTable =\n",
              "            await google.colab.kernel.invokeFunction('convertToInteractive',\n",
              "                                                     [key], {});\n",
              "          if (!dataTable) return;\n",
              "\n",
              "          const docLinkHtml = 'Like what you see? Visit the ' +\n",
              "            '<a target=\"_blank\" href=https://colab.research.google.com/notebooks/data_table.ipynb>data table notebook</a>'\n",
              "            + ' to learn more about interactive tables.';\n",
              "          element.innerHTML = '';\n",
              "          dataTable['output_type'] = 'display_data';\n",
              "          await google.colab.output.renderOutput(dataTable, element);\n",
              "          const docLink = document.createElement('div');\n",
              "          docLink.innerHTML = docLinkHtml;\n",
              "          element.appendChild(docLink);\n",
              "        }\n",
              "      </script>\n",
              "    </div>\n",
              "  </div>\n",
              "  "
            ]
          },
          "metadata": {},
          "execution_count": 53
        }
      ]
    },
    {
      "cell_type": "markdown",
      "id": "1d332525",
      "metadata": {
        "id": "1d332525"
      },
      "source": [
        "### Observe that the \"avg_delay\" column is in days format. You need to change the format into seconds\n",
        "\n",
        "- Days_format :  17 days 00:00:00\n",
        "- Format in seconds : 1641600.0"
      ]
    },
    {
      "cell_type": "code",
      "execution_count": null,
      "id": "d5f1041e",
      "metadata": {
        "id": "d5f1041e",
        "colab": {
          "base_uri": "https://localhost:8080/"
        },
        "outputId": "ebff5a38-f387-446e-876b-feb1534db9d8"
      },
      "outputs": [
        {
          "output_type": "stream",
          "name": "stderr",
          "text": [
            "/usr/local/lib/python3.7/dist-packages/ipykernel_launcher.py:1: SettingWithCopyWarning: \n",
            "A value is trying to be set on a copy of a slice from a DataFrame.\n",
            "Try using .loc[row_indexer,col_indexer] = value instead\n",
            "\n",
            "See the caveats in the documentation: https://pandas.pydata.org/pandas-docs/stable/user_guide/indexing.html#returning-a-view-versus-a-copy\n",
            "  \"\"\"Entry point for launching an IPython kernel.\n"
          ]
        }
      ],
      "source": [
        "df1['avg_delay']=pd.to_timedelta(df1['avg_delay']).view(np.int64)"
      ]
    },
    {
      "cell_type": "markdown",
      "id": "OvgtHSsx_O-n",
      "metadata": {
        "id": "OvgtHSsx_O-n"
      },
      "source": [
        "### Display the maindata dataframe "
      ]
    },
    {
      "cell_type": "code",
      "execution_count": null,
      "id": "97ca9c45",
      "metadata": {
        "id": "97ca9c45",
        "colab": {
          "base_uri": "https://localhost:8080/",
          "height": 496
        },
        "outputId": "f9eb64a3-8d27-475f-8184-1b3c58e61cbb"
      },
      "outputs": [
        {
          "output_type": "execute_result",
          "data": {
            "text/plain": [
              "      business_code cust_number        name_customer clear_date  \\\n",
              "30571          U001  0200794332      COST foundation 2019-01-23   \n",
              "3390           U001  0200769623           WAL-MAR us 2019-01-14   \n",
              "26350          U001  0200769623        WAL-MAR trust 2019-01-09   \n",
              "48624          U001  0200769623           WAL-MAR in 2019-01-10   \n",
              "9633           U001  0200769623  WAL-MAR corporation 2019-01-15   \n",
              "37703          U001  0200769623           WAL-MAR in 2019-01-11   \n",
              "21115          U001  0200704858      WAKE foundation 2019-01-22   \n",
              "48622          U001  0200726979        BJ'S  systems 2019-01-15   \n",
              "33779          U001  0200769623      WAL-MAR systems 2019-01-09   \n",
              "11157          U001  0200769623             WAL-MAR  2019-01-09   \n",
              "\n",
              "       buisness_year        doc_id posting_date document_create_date.1  \\\n",
              "30571         2019.0  1.928523e+09   2018-12-30             2018-12-30   \n",
              "3390          2019.0  1.928535e+09   2018-12-30             2018-12-30   \n",
              "26350         2019.0  1.928543e+09   2018-12-30             2018-12-30   \n",
              "48624         2019.0  1.928541e+09   2018-12-30             2018-12-30   \n",
              "9633          2019.0  1.928538e+09   2018-12-30             2018-12-30   \n",
              "37703         2019.0  1.928543e+09   2018-12-30             2018-12-30   \n",
              "21115         2019.0  1.928540e+09   2018-12-30             2018-12-30   \n",
              "48622         2019.0  1.928542e+09   2018-12-30             2018-12-30   \n",
              "33779         2019.0  1.928539e+09   2018-12-30             2018-12-30   \n",
              "11157         2019.0  1.928541e+09   2018-12-30             2018-12-30   \n",
              "\n",
              "      due_in_date baseline_create_date cust_payment_terms  converted_usd  \\\n",
              "30571  2019-01-14           2018-12-30               NAAX        8041.59   \n",
              "3390   2019-01-14           2018-12-30               NAH4        3408.73   \n",
              "26350  2019-01-14           2018-12-30               NAH4       10318.00   \n",
              "48624  2019-01-14           2018-12-30               NAH4       72181.59   \n",
              "9633   2019-01-14           2018-12-30               NAH4       70483.35   \n",
              "37703  2019-01-14           2018-12-30               NAH4       43689.83   \n",
              "21115  2019-01-14           2018-12-30               NAA8       18420.49   \n",
              "48622  2019-01-14           2018-12-30               NAA8         131.10   \n",
              "33779  2019-01-14           2018-12-30               NAH4         580.67   \n",
              "11157  2019-01-14           2018-12-30               NAH4       13904.40   \n",
              "\n",
              "       Delay  avg_delay  \n",
              "30571      9          0  \n",
              "3390       0         -2  \n",
              "26350     -5         -2  \n",
              "48624     -4         -2  \n",
              "9633       1         -2  \n",
              "37703     -3         -2  \n",
              "21115      8         -5  \n",
              "48622      1          0  \n",
              "33779     -5         -2  \n",
              "11157     -5         -2  "
            ],
            "text/html": [
              "\n",
              "  <div id=\"df-a7a4a57c-aabb-46ef-83ef-a5dc2b35696d\">\n",
              "    <div class=\"colab-df-container\">\n",
              "      <div>\n",
              "<style scoped>\n",
              "    .dataframe tbody tr th:only-of-type {\n",
              "        vertical-align: middle;\n",
              "    }\n",
              "\n",
              "    .dataframe tbody tr th {\n",
              "        vertical-align: top;\n",
              "    }\n",
              "\n",
              "    .dataframe thead th {\n",
              "        text-align: right;\n",
              "    }\n",
              "</style>\n",
              "<table border=\"1\" class=\"dataframe\">\n",
              "  <thead>\n",
              "    <tr style=\"text-align: right;\">\n",
              "      <th></th>\n",
              "      <th>business_code</th>\n",
              "      <th>cust_number</th>\n",
              "      <th>name_customer</th>\n",
              "      <th>clear_date</th>\n",
              "      <th>buisness_year</th>\n",
              "      <th>doc_id</th>\n",
              "      <th>posting_date</th>\n",
              "      <th>document_create_date.1</th>\n",
              "      <th>due_in_date</th>\n",
              "      <th>baseline_create_date</th>\n",
              "      <th>cust_payment_terms</th>\n",
              "      <th>converted_usd</th>\n",
              "      <th>Delay</th>\n",
              "      <th>avg_delay</th>\n",
              "    </tr>\n",
              "  </thead>\n",
              "  <tbody>\n",
              "    <tr>\n",
              "      <th>30571</th>\n",
              "      <td>U001</td>\n",
              "      <td>0200794332</td>\n",
              "      <td>COST foundation</td>\n",
              "      <td>2019-01-23</td>\n",
              "      <td>2019.0</td>\n",
              "      <td>1.928523e+09</td>\n",
              "      <td>2018-12-30</td>\n",
              "      <td>2018-12-30</td>\n",
              "      <td>2019-01-14</td>\n",
              "      <td>2018-12-30</td>\n",
              "      <td>NAAX</td>\n",
              "      <td>8041.59</td>\n",
              "      <td>9</td>\n",
              "      <td>0</td>\n",
              "    </tr>\n",
              "    <tr>\n",
              "      <th>3390</th>\n",
              "      <td>U001</td>\n",
              "      <td>0200769623</td>\n",
              "      <td>WAL-MAR us</td>\n",
              "      <td>2019-01-14</td>\n",
              "      <td>2019.0</td>\n",
              "      <td>1.928535e+09</td>\n",
              "      <td>2018-12-30</td>\n",
              "      <td>2018-12-30</td>\n",
              "      <td>2019-01-14</td>\n",
              "      <td>2018-12-30</td>\n",
              "      <td>NAH4</td>\n",
              "      <td>3408.73</td>\n",
              "      <td>0</td>\n",
              "      <td>-2</td>\n",
              "    </tr>\n",
              "    <tr>\n",
              "      <th>26350</th>\n",
              "      <td>U001</td>\n",
              "      <td>0200769623</td>\n",
              "      <td>WAL-MAR trust</td>\n",
              "      <td>2019-01-09</td>\n",
              "      <td>2019.0</td>\n",
              "      <td>1.928543e+09</td>\n",
              "      <td>2018-12-30</td>\n",
              "      <td>2018-12-30</td>\n",
              "      <td>2019-01-14</td>\n",
              "      <td>2018-12-30</td>\n",
              "      <td>NAH4</td>\n",
              "      <td>10318.00</td>\n",
              "      <td>-5</td>\n",
              "      <td>-2</td>\n",
              "    </tr>\n",
              "    <tr>\n",
              "      <th>48624</th>\n",
              "      <td>U001</td>\n",
              "      <td>0200769623</td>\n",
              "      <td>WAL-MAR in</td>\n",
              "      <td>2019-01-10</td>\n",
              "      <td>2019.0</td>\n",
              "      <td>1.928541e+09</td>\n",
              "      <td>2018-12-30</td>\n",
              "      <td>2018-12-30</td>\n",
              "      <td>2019-01-14</td>\n",
              "      <td>2018-12-30</td>\n",
              "      <td>NAH4</td>\n",
              "      <td>72181.59</td>\n",
              "      <td>-4</td>\n",
              "      <td>-2</td>\n",
              "    </tr>\n",
              "    <tr>\n",
              "      <th>9633</th>\n",
              "      <td>U001</td>\n",
              "      <td>0200769623</td>\n",
              "      <td>WAL-MAR corporation</td>\n",
              "      <td>2019-01-15</td>\n",
              "      <td>2019.0</td>\n",
              "      <td>1.928538e+09</td>\n",
              "      <td>2018-12-30</td>\n",
              "      <td>2018-12-30</td>\n",
              "      <td>2019-01-14</td>\n",
              "      <td>2018-12-30</td>\n",
              "      <td>NAH4</td>\n",
              "      <td>70483.35</td>\n",
              "      <td>1</td>\n",
              "      <td>-2</td>\n",
              "    </tr>\n",
              "    <tr>\n",
              "      <th>37703</th>\n",
              "      <td>U001</td>\n",
              "      <td>0200769623</td>\n",
              "      <td>WAL-MAR in</td>\n",
              "      <td>2019-01-11</td>\n",
              "      <td>2019.0</td>\n",
              "      <td>1.928543e+09</td>\n",
              "      <td>2018-12-30</td>\n",
              "      <td>2018-12-30</td>\n",
              "      <td>2019-01-14</td>\n",
              "      <td>2018-12-30</td>\n",
              "      <td>NAH4</td>\n",
              "      <td>43689.83</td>\n",
              "      <td>-3</td>\n",
              "      <td>-2</td>\n",
              "    </tr>\n",
              "    <tr>\n",
              "      <th>21115</th>\n",
              "      <td>U001</td>\n",
              "      <td>0200704858</td>\n",
              "      <td>WAKE foundation</td>\n",
              "      <td>2019-01-22</td>\n",
              "      <td>2019.0</td>\n",
              "      <td>1.928540e+09</td>\n",
              "      <td>2018-12-30</td>\n",
              "      <td>2018-12-30</td>\n",
              "      <td>2019-01-14</td>\n",
              "      <td>2018-12-30</td>\n",
              "      <td>NAA8</td>\n",
              "      <td>18420.49</td>\n",
              "      <td>8</td>\n",
              "      <td>-5</td>\n",
              "    </tr>\n",
              "    <tr>\n",
              "      <th>48622</th>\n",
              "      <td>U001</td>\n",
              "      <td>0200726979</td>\n",
              "      <td>BJ'S  systems</td>\n",
              "      <td>2019-01-15</td>\n",
              "      <td>2019.0</td>\n",
              "      <td>1.928542e+09</td>\n",
              "      <td>2018-12-30</td>\n",
              "      <td>2018-12-30</td>\n",
              "      <td>2019-01-14</td>\n",
              "      <td>2018-12-30</td>\n",
              "      <td>NAA8</td>\n",
              "      <td>131.10</td>\n",
              "      <td>1</td>\n",
              "      <td>0</td>\n",
              "    </tr>\n",
              "    <tr>\n",
              "      <th>33779</th>\n",
              "      <td>U001</td>\n",
              "      <td>0200769623</td>\n",
              "      <td>WAL-MAR systems</td>\n",
              "      <td>2019-01-09</td>\n",
              "      <td>2019.0</td>\n",
              "      <td>1.928539e+09</td>\n",
              "      <td>2018-12-30</td>\n",
              "      <td>2018-12-30</td>\n",
              "      <td>2019-01-14</td>\n",
              "      <td>2018-12-30</td>\n",
              "      <td>NAH4</td>\n",
              "      <td>580.67</td>\n",
              "      <td>-5</td>\n",
              "      <td>-2</td>\n",
              "    </tr>\n",
              "    <tr>\n",
              "      <th>11157</th>\n",
              "      <td>U001</td>\n",
              "      <td>0200769623</td>\n",
              "      <td>WAL-MAR</td>\n",
              "      <td>2019-01-09</td>\n",
              "      <td>2019.0</td>\n",
              "      <td>1.928541e+09</td>\n",
              "      <td>2018-12-30</td>\n",
              "      <td>2018-12-30</td>\n",
              "      <td>2019-01-14</td>\n",
              "      <td>2018-12-30</td>\n",
              "      <td>NAH4</td>\n",
              "      <td>13904.40</td>\n",
              "      <td>-5</td>\n",
              "      <td>-2</td>\n",
              "    </tr>\n",
              "  </tbody>\n",
              "</table>\n",
              "</div>\n",
              "      <button class=\"colab-df-convert\" onclick=\"convertToInteractive('df-a7a4a57c-aabb-46ef-83ef-a5dc2b35696d')\"\n",
              "              title=\"Convert this dataframe to an interactive table.\"\n",
              "              style=\"display:none;\">\n",
              "        \n",
              "  <svg xmlns=\"http://www.w3.org/2000/svg\" height=\"24px\"viewBox=\"0 0 24 24\"\n",
              "       width=\"24px\">\n",
              "    <path d=\"M0 0h24v24H0V0z\" fill=\"none\"/>\n",
              "    <path d=\"M18.56 5.44l.94 2.06.94-2.06 2.06-.94-2.06-.94-.94-2.06-.94 2.06-2.06.94zm-11 1L8.5 8.5l.94-2.06 2.06-.94-2.06-.94L8.5 2.5l-.94 2.06-2.06.94zm10 10l.94 2.06.94-2.06 2.06-.94-2.06-.94-.94-2.06-.94 2.06-2.06.94z\"/><path d=\"M17.41 7.96l-1.37-1.37c-.4-.4-.92-.59-1.43-.59-.52 0-1.04.2-1.43.59L10.3 9.45l-7.72 7.72c-.78.78-.78 2.05 0 2.83L4 21.41c.39.39.9.59 1.41.59.51 0 1.02-.2 1.41-.59l7.78-7.78 2.81-2.81c.8-.78.8-2.07 0-2.86zM5.41 20L4 18.59l7.72-7.72 1.47 1.35L5.41 20z\"/>\n",
              "  </svg>\n",
              "      </button>\n",
              "      \n",
              "  <style>\n",
              "    .colab-df-container {\n",
              "      display:flex;\n",
              "      flex-wrap:wrap;\n",
              "      gap: 12px;\n",
              "    }\n",
              "\n",
              "    .colab-df-convert {\n",
              "      background-color: #E8F0FE;\n",
              "      border: none;\n",
              "      border-radius: 50%;\n",
              "      cursor: pointer;\n",
              "      display: none;\n",
              "      fill: #1967D2;\n",
              "      height: 32px;\n",
              "      padding: 0 0 0 0;\n",
              "      width: 32px;\n",
              "    }\n",
              "\n",
              "    .colab-df-convert:hover {\n",
              "      background-color: #E2EBFA;\n",
              "      box-shadow: 0px 1px 2px rgba(60, 64, 67, 0.3), 0px 1px 3px 1px rgba(60, 64, 67, 0.15);\n",
              "      fill: #174EA6;\n",
              "    }\n",
              "\n",
              "    [theme=dark] .colab-df-convert {\n",
              "      background-color: #3B4455;\n",
              "      fill: #D2E3FC;\n",
              "    }\n",
              "\n",
              "    [theme=dark] .colab-df-convert:hover {\n",
              "      background-color: #434B5C;\n",
              "      box-shadow: 0px 1px 3px 1px rgba(0, 0, 0, 0.15);\n",
              "      filter: drop-shadow(0px 1px 2px rgba(0, 0, 0, 0.3));\n",
              "      fill: #FFFFFF;\n",
              "    }\n",
              "  </style>\n",
              "\n",
              "      <script>\n",
              "        const buttonEl =\n",
              "          document.querySelector('#df-a7a4a57c-aabb-46ef-83ef-a5dc2b35696d button.colab-df-convert');\n",
              "        buttonEl.style.display =\n",
              "          google.colab.kernel.accessAllowed ? 'block' : 'none';\n",
              "\n",
              "        async function convertToInteractive(key) {\n",
              "          const element = document.querySelector('#df-a7a4a57c-aabb-46ef-83ef-a5dc2b35696d');\n",
              "          const dataTable =\n",
              "            await google.colab.kernel.invokeFunction('convertToInteractive',\n",
              "                                                     [key], {});\n",
              "          if (!dataTable) return;\n",
              "\n",
              "          const docLinkHtml = 'Like what you see? Visit the ' +\n",
              "            '<a target=\"_blank\" href=https://colab.research.google.com/notebooks/data_table.ipynb>data table notebook</a>'\n",
              "            + ' to learn more about interactive tables.';\n",
              "          element.innerHTML = '';\n",
              "          dataTable['output_type'] = 'display_data';\n",
              "          await google.colab.output.renderOutput(dataTable, element);\n",
              "          const docLink = document.createElement('div');\n",
              "          docLink.innerHTML = docLinkHtml;\n",
              "          element.appendChild(docLink);\n",
              "        }\n",
              "      </script>\n",
              "    </div>\n",
              "  </div>\n",
              "  "
            ]
          },
          "metadata": {},
          "execution_count": 55
        }
      ],
      "source": [
        "df1.head(10)"
      ]
    },
    {
      "cell_type": "markdown",
      "id": "ae24c7bb",
      "metadata": {
        "id": "ae24c7bb"
      },
      "source": [
        "### Since you have created the \"avg_delay\" column from \"Delay\" and \"clear_date\" column, there is no need of these two columns anymore \n",
        "\n",
        "- You are expected to drop \"Delay\" and \"clear_date\" columns from maindata dataframe "
      ]
    },
    {
      "cell_type": "code",
      "execution_count": null,
      "id": "78a61ab9",
      "metadata": {
        "id": "78a61ab9",
        "colab": {
          "base_uri": "https://localhost:8080/"
        },
        "outputId": "c49d66a5-548d-4a6f-90a0-0a641fd6410d"
      },
      "outputs": [
        {
          "output_type": "stream",
          "name": "stderr",
          "text": [
            "/usr/local/lib/python3.7/dist-packages/pandas/core/frame.py:4913: SettingWithCopyWarning: \n",
            "A value is trying to be set on a copy of a slice from a DataFrame\n",
            "\n",
            "See the caveats in the documentation: https://pandas.pydata.org/pandas-docs/stable/user_guide/indexing.html#returning-a-view-versus-a-copy\n",
            "  errors=errors,\n"
          ]
        }
      ],
      "source": [
        "df1.drop(['Delay', 'clear_date'], axis = 1, inplace = True) "
      ]
    },
    {
      "cell_type": "code",
      "source": [
        "df1.head(10)"
      ],
      "metadata": {
        "colab": {
          "base_uri": "https://localhost:8080/",
          "height": 496
        },
        "id": "qlJn8u1AHxVn",
        "outputId": "9e3aa344-1279-4a58-96a3-2b87a10cdd1d"
      },
      "id": "qlJn8u1AHxVn",
      "execution_count": null,
      "outputs": [
        {
          "output_type": "execute_result",
          "data": {
            "text/plain": [
              "      business_code cust_number        name_customer  buisness_year  \\\n",
              "30571          U001  0200794332      COST foundation         2019.0   \n",
              "3390           U001  0200769623           WAL-MAR us         2019.0   \n",
              "26350          U001  0200769623        WAL-MAR trust         2019.0   \n",
              "48624          U001  0200769623           WAL-MAR in         2019.0   \n",
              "9633           U001  0200769623  WAL-MAR corporation         2019.0   \n",
              "37703          U001  0200769623           WAL-MAR in         2019.0   \n",
              "21115          U001  0200704858      WAKE foundation         2019.0   \n",
              "48622          U001  0200726979        BJ'S  systems         2019.0   \n",
              "33779          U001  0200769623      WAL-MAR systems         2019.0   \n",
              "11157          U001  0200769623             WAL-MAR          2019.0   \n",
              "\n",
              "             doc_id posting_date document_create_date.1 due_in_date  \\\n",
              "30571  1.928523e+09   2018-12-30             2018-12-30  2019-01-14   \n",
              "3390   1.928535e+09   2018-12-30             2018-12-30  2019-01-14   \n",
              "26350  1.928543e+09   2018-12-30             2018-12-30  2019-01-14   \n",
              "48624  1.928541e+09   2018-12-30             2018-12-30  2019-01-14   \n",
              "9633   1.928538e+09   2018-12-30             2018-12-30  2019-01-14   \n",
              "37703  1.928543e+09   2018-12-30             2018-12-30  2019-01-14   \n",
              "21115  1.928540e+09   2018-12-30             2018-12-30  2019-01-14   \n",
              "48622  1.928542e+09   2018-12-30             2018-12-30  2019-01-14   \n",
              "33779  1.928539e+09   2018-12-30             2018-12-30  2019-01-14   \n",
              "11157  1.928541e+09   2018-12-30             2018-12-30  2019-01-14   \n",
              "\n",
              "      baseline_create_date cust_payment_terms  converted_usd  avg_delay  \n",
              "30571           2018-12-30               NAAX        8041.59          0  \n",
              "3390            2018-12-30               NAH4        3408.73         -2  \n",
              "26350           2018-12-30               NAH4       10318.00         -2  \n",
              "48624           2018-12-30               NAH4       72181.59         -2  \n",
              "9633            2018-12-30               NAH4       70483.35         -2  \n",
              "37703           2018-12-30               NAH4       43689.83         -2  \n",
              "21115           2018-12-30               NAA8       18420.49         -5  \n",
              "48622           2018-12-30               NAA8         131.10          0  \n",
              "33779           2018-12-30               NAH4         580.67         -2  \n",
              "11157           2018-12-30               NAH4       13904.40         -2  "
            ],
            "text/html": [
              "\n",
              "  <div id=\"df-cb9b3ea3-c3ff-4128-819c-3fd94327d9e1\">\n",
              "    <div class=\"colab-df-container\">\n",
              "      <div>\n",
              "<style scoped>\n",
              "    .dataframe tbody tr th:only-of-type {\n",
              "        vertical-align: middle;\n",
              "    }\n",
              "\n",
              "    .dataframe tbody tr th {\n",
              "        vertical-align: top;\n",
              "    }\n",
              "\n",
              "    .dataframe thead th {\n",
              "        text-align: right;\n",
              "    }\n",
              "</style>\n",
              "<table border=\"1\" class=\"dataframe\">\n",
              "  <thead>\n",
              "    <tr style=\"text-align: right;\">\n",
              "      <th></th>\n",
              "      <th>business_code</th>\n",
              "      <th>cust_number</th>\n",
              "      <th>name_customer</th>\n",
              "      <th>buisness_year</th>\n",
              "      <th>doc_id</th>\n",
              "      <th>posting_date</th>\n",
              "      <th>document_create_date.1</th>\n",
              "      <th>due_in_date</th>\n",
              "      <th>baseline_create_date</th>\n",
              "      <th>cust_payment_terms</th>\n",
              "      <th>converted_usd</th>\n",
              "      <th>avg_delay</th>\n",
              "    </tr>\n",
              "  </thead>\n",
              "  <tbody>\n",
              "    <tr>\n",
              "      <th>30571</th>\n",
              "      <td>U001</td>\n",
              "      <td>0200794332</td>\n",
              "      <td>COST foundation</td>\n",
              "      <td>2019.0</td>\n",
              "      <td>1.928523e+09</td>\n",
              "      <td>2018-12-30</td>\n",
              "      <td>2018-12-30</td>\n",
              "      <td>2019-01-14</td>\n",
              "      <td>2018-12-30</td>\n",
              "      <td>NAAX</td>\n",
              "      <td>8041.59</td>\n",
              "      <td>0</td>\n",
              "    </tr>\n",
              "    <tr>\n",
              "      <th>3390</th>\n",
              "      <td>U001</td>\n",
              "      <td>0200769623</td>\n",
              "      <td>WAL-MAR us</td>\n",
              "      <td>2019.0</td>\n",
              "      <td>1.928535e+09</td>\n",
              "      <td>2018-12-30</td>\n",
              "      <td>2018-12-30</td>\n",
              "      <td>2019-01-14</td>\n",
              "      <td>2018-12-30</td>\n",
              "      <td>NAH4</td>\n",
              "      <td>3408.73</td>\n",
              "      <td>-2</td>\n",
              "    </tr>\n",
              "    <tr>\n",
              "      <th>26350</th>\n",
              "      <td>U001</td>\n",
              "      <td>0200769623</td>\n",
              "      <td>WAL-MAR trust</td>\n",
              "      <td>2019.0</td>\n",
              "      <td>1.928543e+09</td>\n",
              "      <td>2018-12-30</td>\n",
              "      <td>2018-12-30</td>\n",
              "      <td>2019-01-14</td>\n",
              "      <td>2018-12-30</td>\n",
              "      <td>NAH4</td>\n",
              "      <td>10318.00</td>\n",
              "      <td>-2</td>\n",
              "    </tr>\n",
              "    <tr>\n",
              "      <th>48624</th>\n",
              "      <td>U001</td>\n",
              "      <td>0200769623</td>\n",
              "      <td>WAL-MAR in</td>\n",
              "      <td>2019.0</td>\n",
              "      <td>1.928541e+09</td>\n",
              "      <td>2018-12-30</td>\n",
              "      <td>2018-12-30</td>\n",
              "      <td>2019-01-14</td>\n",
              "      <td>2018-12-30</td>\n",
              "      <td>NAH4</td>\n",
              "      <td>72181.59</td>\n",
              "      <td>-2</td>\n",
              "    </tr>\n",
              "    <tr>\n",
              "      <th>9633</th>\n",
              "      <td>U001</td>\n",
              "      <td>0200769623</td>\n",
              "      <td>WAL-MAR corporation</td>\n",
              "      <td>2019.0</td>\n",
              "      <td>1.928538e+09</td>\n",
              "      <td>2018-12-30</td>\n",
              "      <td>2018-12-30</td>\n",
              "      <td>2019-01-14</td>\n",
              "      <td>2018-12-30</td>\n",
              "      <td>NAH4</td>\n",
              "      <td>70483.35</td>\n",
              "      <td>-2</td>\n",
              "    </tr>\n",
              "    <tr>\n",
              "      <th>37703</th>\n",
              "      <td>U001</td>\n",
              "      <td>0200769623</td>\n",
              "      <td>WAL-MAR in</td>\n",
              "      <td>2019.0</td>\n",
              "      <td>1.928543e+09</td>\n",
              "      <td>2018-12-30</td>\n",
              "      <td>2018-12-30</td>\n",
              "      <td>2019-01-14</td>\n",
              "      <td>2018-12-30</td>\n",
              "      <td>NAH4</td>\n",
              "      <td>43689.83</td>\n",
              "      <td>-2</td>\n",
              "    </tr>\n",
              "    <tr>\n",
              "      <th>21115</th>\n",
              "      <td>U001</td>\n",
              "      <td>0200704858</td>\n",
              "      <td>WAKE foundation</td>\n",
              "      <td>2019.0</td>\n",
              "      <td>1.928540e+09</td>\n",
              "      <td>2018-12-30</td>\n",
              "      <td>2018-12-30</td>\n",
              "      <td>2019-01-14</td>\n",
              "      <td>2018-12-30</td>\n",
              "      <td>NAA8</td>\n",
              "      <td>18420.49</td>\n",
              "      <td>-5</td>\n",
              "    </tr>\n",
              "    <tr>\n",
              "      <th>48622</th>\n",
              "      <td>U001</td>\n",
              "      <td>0200726979</td>\n",
              "      <td>BJ'S  systems</td>\n",
              "      <td>2019.0</td>\n",
              "      <td>1.928542e+09</td>\n",
              "      <td>2018-12-30</td>\n",
              "      <td>2018-12-30</td>\n",
              "      <td>2019-01-14</td>\n",
              "      <td>2018-12-30</td>\n",
              "      <td>NAA8</td>\n",
              "      <td>131.10</td>\n",
              "      <td>0</td>\n",
              "    </tr>\n",
              "    <tr>\n",
              "      <th>33779</th>\n",
              "      <td>U001</td>\n",
              "      <td>0200769623</td>\n",
              "      <td>WAL-MAR systems</td>\n",
              "      <td>2019.0</td>\n",
              "      <td>1.928539e+09</td>\n",
              "      <td>2018-12-30</td>\n",
              "      <td>2018-12-30</td>\n",
              "      <td>2019-01-14</td>\n",
              "      <td>2018-12-30</td>\n",
              "      <td>NAH4</td>\n",
              "      <td>580.67</td>\n",
              "      <td>-2</td>\n",
              "    </tr>\n",
              "    <tr>\n",
              "      <th>11157</th>\n",
              "      <td>U001</td>\n",
              "      <td>0200769623</td>\n",
              "      <td>WAL-MAR</td>\n",
              "      <td>2019.0</td>\n",
              "      <td>1.928541e+09</td>\n",
              "      <td>2018-12-30</td>\n",
              "      <td>2018-12-30</td>\n",
              "      <td>2019-01-14</td>\n",
              "      <td>2018-12-30</td>\n",
              "      <td>NAH4</td>\n",
              "      <td>13904.40</td>\n",
              "      <td>-2</td>\n",
              "    </tr>\n",
              "  </tbody>\n",
              "</table>\n",
              "</div>\n",
              "      <button class=\"colab-df-convert\" onclick=\"convertToInteractive('df-cb9b3ea3-c3ff-4128-819c-3fd94327d9e1')\"\n",
              "              title=\"Convert this dataframe to an interactive table.\"\n",
              "              style=\"display:none;\">\n",
              "        \n",
              "  <svg xmlns=\"http://www.w3.org/2000/svg\" height=\"24px\"viewBox=\"0 0 24 24\"\n",
              "       width=\"24px\">\n",
              "    <path d=\"M0 0h24v24H0V0z\" fill=\"none\"/>\n",
              "    <path d=\"M18.56 5.44l.94 2.06.94-2.06 2.06-.94-2.06-.94-.94-2.06-.94 2.06-2.06.94zm-11 1L8.5 8.5l.94-2.06 2.06-.94-2.06-.94L8.5 2.5l-.94 2.06-2.06.94zm10 10l.94 2.06.94-2.06 2.06-.94-2.06-.94-.94-2.06-.94 2.06-2.06.94z\"/><path d=\"M17.41 7.96l-1.37-1.37c-.4-.4-.92-.59-1.43-.59-.52 0-1.04.2-1.43.59L10.3 9.45l-7.72 7.72c-.78.78-.78 2.05 0 2.83L4 21.41c.39.39.9.59 1.41.59.51 0 1.02-.2 1.41-.59l7.78-7.78 2.81-2.81c.8-.78.8-2.07 0-2.86zM5.41 20L4 18.59l7.72-7.72 1.47 1.35L5.41 20z\"/>\n",
              "  </svg>\n",
              "      </button>\n",
              "      \n",
              "  <style>\n",
              "    .colab-df-container {\n",
              "      display:flex;\n",
              "      flex-wrap:wrap;\n",
              "      gap: 12px;\n",
              "    }\n",
              "\n",
              "    .colab-df-convert {\n",
              "      background-color: #E8F0FE;\n",
              "      border: none;\n",
              "      border-radius: 50%;\n",
              "      cursor: pointer;\n",
              "      display: none;\n",
              "      fill: #1967D2;\n",
              "      height: 32px;\n",
              "      padding: 0 0 0 0;\n",
              "      width: 32px;\n",
              "    }\n",
              "\n",
              "    .colab-df-convert:hover {\n",
              "      background-color: #E2EBFA;\n",
              "      box-shadow: 0px 1px 2px rgba(60, 64, 67, 0.3), 0px 1px 3px 1px rgba(60, 64, 67, 0.15);\n",
              "      fill: #174EA6;\n",
              "    }\n",
              "\n",
              "    [theme=dark] .colab-df-convert {\n",
              "      background-color: #3B4455;\n",
              "      fill: #D2E3FC;\n",
              "    }\n",
              "\n",
              "    [theme=dark] .colab-df-convert:hover {\n",
              "      background-color: #434B5C;\n",
              "      box-shadow: 0px 1px 3px 1px rgba(0, 0, 0, 0.15);\n",
              "      filter: drop-shadow(0px 1px 2px rgba(0, 0, 0, 0.3));\n",
              "      fill: #FFFFFF;\n",
              "    }\n",
              "  </style>\n",
              "\n",
              "      <script>\n",
              "        const buttonEl =\n",
              "          document.querySelector('#df-cb9b3ea3-c3ff-4128-819c-3fd94327d9e1 button.colab-df-convert');\n",
              "        buttonEl.style.display =\n",
              "          google.colab.kernel.accessAllowed ? 'block' : 'none';\n",
              "\n",
              "        async function convertToInteractive(key) {\n",
              "          const element = document.querySelector('#df-cb9b3ea3-c3ff-4128-819c-3fd94327d9e1');\n",
              "          const dataTable =\n",
              "            await google.colab.kernel.invokeFunction('convertToInteractive',\n",
              "                                                     [key], {});\n",
              "          if (!dataTable) return;\n",
              "\n",
              "          const docLinkHtml = 'Like what you see? Visit the ' +\n",
              "            '<a target=\"_blank\" href=https://colab.research.google.com/notebooks/data_table.ipynb>data table notebook</a>'\n",
              "            + ' to learn more about interactive tables.';\n",
              "          element.innerHTML = '';\n",
              "          dataTable['output_type'] = 'display_data';\n",
              "          await google.colab.output.renderOutput(dataTable, element);\n",
              "          const docLink = document.createElement('div');\n",
              "          docLink.innerHTML = docLinkHtml;\n",
              "          element.appendChild(docLink);\n",
              "        }\n",
              "      </script>\n",
              "    </div>\n",
              "  </div>\n",
              "  "
            ]
          },
          "metadata": {},
          "execution_count": 57
        }
      ]
    },
    {
      "cell_type": "markdown",
      "id": "ae724bfc",
      "metadata": {
        "id": "ae724bfc"
      },
      "source": [
        "# Splitting of Train and the Test Data"
      ]
    },
    {
      "cell_type": "markdown",
      "id": "cb6f0264",
      "metadata": {
        "id": "cb6f0264"
      },
      "source": [
        "### You need to split the \"maindata\" columns into X and y dataframe\n",
        "\n",
        "- Note - y should have the target column i.e. \"avg_delay\" and the other column should be in X\n",
        "\n",
        "- X is going to hold the source fields and y will be going to hold the target fields"
      ]
    },
    {
      "cell_type": "code",
      "source": [
        "df1.head(10)"
      ],
      "metadata": {
        "colab": {
          "base_uri": "https://localhost:8080/",
          "height": 496
        },
        "id": "uuIGMTXLPBwB",
        "outputId": "074e7bec-d33a-4585-f07d-291a0992651b"
      },
      "id": "uuIGMTXLPBwB",
      "execution_count": null,
      "outputs": [
        {
          "output_type": "execute_result",
          "data": {
            "text/plain": [
              "      business_code cust_number        name_customer  buisness_year  \\\n",
              "30571          U001  0200794332      COST foundation         2019.0   \n",
              "3390           U001  0200769623           WAL-MAR us         2019.0   \n",
              "26350          U001  0200769623        WAL-MAR trust         2019.0   \n",
              "48624          U001  0200769623           WAL-MAR in         2019.0   \n",
              "9633           U001  0200769623  WAL-MAR corporation         2019.0   \n",
              "37703          U001  0200769623           WAL-MAR in         2019.0   \n",
              "21115          U001  0200704858      WAKE foundation         2019.0   \n",
              "48622          U001  0200726979        BJ'S  systems         2019.0   \n",
              "33779          U001  0200769623      WAL-MAR systems         2019.0   \n",
              "11157          U001  0200769623             WAL-MAR          2019.0   \n",
              "\n",
              "             doc_id posting_date document_create_date.1 due_in_date  \\\n",
              "30571  1.928523e+09   2018-12-30             2018-12-30  2019-01-14   \n",
              "3390   1.928535e+09   2018-12-30             2018-12-30  2019-01-14   \n",
              "26350  1.928543e+09   2018-12-30             2018-12-30  2019-01-14   \n",
              "48624  1.928541e+09   2018-12-30             2018-12-30  2019-01-14   \n",
              "9633   1.928538e+09   2018-12-30             2018-12-30  2019-01-14   \n",
              "37703  1.928543e+09   2018-12-30             2018-12-30  2019-01-14   \n",
              "21115  1.928540e+09   2018-12-30             2018-12-30  2019-01-14   \n",
              "48622  1.928542e+09   2018-12-30             2018-12-30  2019-01-14   \n",
              "33779  1.928539e+09   2018-12-30             2018-12-30  2019-01-14   \n",
              "11157  1.928541e+09   2018-12-30             2018-12-30  2019-01-14   \n",
              "\n",
              "      baseline_create_date cust_payment_terms  converted_usd  avg_delay  \n",
              "30571           2018-12-30               NAAX        8041.59          0  \n",
              "3390            2018-12-30               NAH4        3408.73         -2  \n",
              "26350           2018-12-30               NAH4       10318.00         -2  \n",
              "48624           2018-12-30               NAH4       72181.59         -2  \n",
              "9633            2018-12-30               NAH4       70483.35         -2  \n",
              "37703           2018-12-30               NAH4       43689.83         -2  \n",
              "21115           2018-12-30               NAA8       18420.49         -5  \n",
              "48622           2018-12-30               NAA8         131.10          0  \n",
              "33779           2018-12-30               NAH4         580.67         -2  \n",
              "11157           2018-12-30               NAH4       13904.40         -2  "
            ],
            "text/html": [
              "\n",
              "  <div id=\"df-564b3e22-f9d0-40aa-8a32-7af9d18e73c5\">\n",
              "    <div class=\"colab-df-container\">\n",
              "      <div>\n",
              "<style scoped>\n",
              "    .dataframe tbody tr th:only-of-type {\n",
              "        vertical-align: middle;\n",
              "    }\n",
              "\n",
              "    .dataframe tbody tr th {\n",
              "        vertical-align: top;\n",
              "    }\n",
              "\n",
              "    .dataframe thead th {\n",
              "        text-align: right;\n",
              "    }\n",
              "</style>\n",
              "<table border=\"1\" class=\"dataframe\">\n",
              "  <thead>\n",
              "    <tr style=\"text-align: right;\">\n",
              "      <th></th>\n",
              "      <th>business_code</th>\n",
              "      <th>cust_number</th>\n",
              "      <th>name_customer</th>\n",
              "      <th>buisness_year</th>\n",
              "      <th>doc_id</th>\n",
              "      <th>posting_date</th>\n",
              "      <th>document_create_date.1</th>\n",
              "      <th>due_in_date</th>\n",
              "      <th>baseline_create_date</th>\n",
              "      <th>cust_payment_terms</th>\n",
              "      <th>converted_usd</th>\n",
              "      <th>avg_delay</th>\n",
              "    </tr>\n",
              "  </thead>\n",
              "  <tbody>\n",
              "    <tr>\n",
              "      <th>30571</th>\n",
              "      <td>U001</td>\n",
              "      <td>0200794332</td>\n",
              "      <td>COST foundation</td>\n",
              "      <td>2019.0</td>\n",
              "      <td>1.928523e+09</td>\n",
              "      <td>2018-12-30</td>\n",
              "      <td>2018-12-30</td>\n",
              "      <td>2019-01-14</td>\n",
              "      <td>2018-12-30</td>\n",
              "      <td>NAAX</td>\n",
              "      <td>8041.59</td>\n",
              "      <td>0</td>\n",
              "    </tr>\n",
              "    <tr>\n",
              "      <th>3390</th>\n",
              "      <td>U001</td>\n",
              "      <td>0200769623</td>\n",
              "      <td>WAL-MAR us</td>\n",
              "      <td>2019.0</td>\n",
              "      <td>1.928535e+09</td>\n",
              "      <td>2018-12-30</td>\n",
              "      <td>2018-12-30</td>\n",
              "      <td>2019-01-14</td>\n",
              "      <td>2018-12-30</td>\n",
              "      <td>NAH4</td>\n",
              "      <td>3408.73</td>\n",
              "      <td>-2</td>\n",
              "    </tr>\n",
              "    <tr>\n",
              "      <th>26350</th>\n",
              "      <td>U001</td>\n",
              "      <td>0200769623</td>\n",
              "      <td>WAL-MAR trust</td>\n",
              "      <td>2019.0</td>\n",
              "      <td>1.928543e+09</td>\n",
              "      <td>2018-12-30</td>\n",
              "      <td>2018-12-30</td>\n",
              "      <td>2019-01-14</td>\n",
              "      <td>2018-12-30</td>\n",
              "      <td>NAH4</td>\n",
              "      <td>10318.00</td>\n",
              "      <td>-2</td>\n",
              "    </tr>\n",
              "    <tr>\n",
              "      <th>48624</th>\n",
              "      <td>U001</td>\n",
              "      <td>0200769623</td>\n",
              "      <td>WAL-MAR in</td>\n",
              "      <td>2019.0</td>\n",
              "      <td>1.928541e+09</td>\n",
              "      <td>2018-12-30</td>\n",
              "      <td>2018-12-30</td>\n",
              "      <td>2019-01-14</td>\n",
              "      <td>2018-12-30</td>\n",
              "      <td>NAH4</td>\n",
              "      <td>72181.59</td>\n",
              "      <td>-2</td>\n",
              "    </tr>\n",
              "    <tr>\n",
              "      <th>9633</th>\n",
              "      <td>U001</td>\n",
              "      <td>0200769623</td>\n",
              "      <td>WAL-MAR corporation</td>\n",
              "      <td>2019.0</td>\n",
              "      <td>1.928538e+09</td>\n",
              "      <td>2018-12-30</td>\n",
              "      <td>2018-12-30</td>\n",
              "      <td>2019-01-14</td>\n",
              "      <td>2018-12-30</td>\n",
              "      <td>NAH4</td>\n",
              "      <td>70483.35</td>\n",
              "      <td>-2</td>\n",
              "    </tr>\n",
              "    <tr>\n",
              "      <th>37703</th>\n",
              "      <td>U001</td>\n",
              "      <td>0200769623</td>\n",
              "      <td>WAL-MAR in</td>\n",
              "      <td>2019.0</td>\n",
              "      <td>1.928543e+09</td>\n",
              "      <td>2018-12-30</td>\n",
              "      <td>2018-12-30</td>\n",
              "      <td>2019-01-14</td>\n",
              "      <td>2018-12-30</td>\n",
              "      <td>NAH4</td>\n",
              "      <td>43689.83</td>\n",
              "      <td>-2</td>\n",
              "    </tr>\n",
              "    <tr>\n",
              "      <th>21115</th>\n",
              "      <td>U001</td>\n",
              "      <td>0200704858</td>\n",
              "      <td>WAKE foundation</td>\n",
              "      <td>2019.0</td>\n",
              "      <td>1.928540e+09</td>\n",
              "      <td>2018-12-30</td>\n",
              "      <td>2018-12-30</td>\n",
              "      <td>2019-01-14</td>\n",
              "      <td>2018-12-30</td>\n",
              "      <td>NAA8</td>\n",
              "      <td>18420.49</td>\n",
              "      <td>-5</td>\n",
              "    </tr>\n",
              "    <tr>\n",
              "      <th>48622</th>\n",
              "      <td>U001</td>\n",
              "      <td>0200726979</td>\n",
              "      <td>BJ'S  systems</td>\n",
              "      <td>2019.0</td>\n",
              "      <td>1.928542e+09</td>\n",
              "      <td>2018-12-30</td>\n",
              "      <td>2018-12-30</td>\n",
              "      <td>2019-01-14</td>\n",
              "      <td>2018-12-30</td>\n",
              "      <td>NAA8</td>\n",
              "      <td>131.10</td>\n",
              "      <td>0</td>\n",
              "    </tr>\n",
              "    <tr>\n",
              "      <th>33779</th>\n",
              "      <td>U001</td>\n",
              "      <td>0200769623</td>\n",
              "      <td>WAL-MAR systems</td>\n",
              "      <td>2019.0</td>\n",
              "      <td>1.928539e+09</td>\n",
              "      <td>2018-12-30</td>\n",
              "      <td>2018-12-30</td>\n",
              "      <td>2019-01-14</td>\n",
              "      <td>2018-12-30</td>\n",
              "      <td>NAH4</td>\n",
              "      <td>580.67</td>\n",
              "      <td>-2</td>\n",
              "    </tr>\n",
              "    <tr>\n",
              "      <th>11157</th>\n",
              "      <td>U001</td>\n",
              "      <td>0200769623</td>\n",
              "      <td>WAL-MAR</td>\n",
              "      <td>2019.0</td>\n",
              "      <td>1.928541e+09</td>\n",
              "      <td>2018-12-30</td>\n",
              "      <td>2018-12-30</td>\n",
              "      <td>2019-01-14</td>\n",
              "      <td>2018-12-30</td>\n",
              "      <td>NAH4</td>\n",
              "      <td>13904.40</td>\n",
              "      <td>-2</td>\n",
              "    </tr>\n",
              "  </tbody>\n",
              "</table>\n",
              "</div>\n",
              "      <button class=\"colab-df-convert\" onclick=\"convertToInteractive('df-564b3e22-f9d0-40aa-8a32-7af9d18e73c5')\"\n",
              "              title=\"Convert this dataframe to an interactive table.\"\n",
              "              style=\"display:none;\">\n",
              "        \n",
              "  <svg xmlns=\"http://www.w3.org/2000/svg\" height=\"24px\"viewBox=\"0 0 24 24\"\n",
              "       width=\"24px\">\n",
              "    <path d=\"M0 0h24v24H0V0z\" fill=\"none\"/>\n",
              "    <path d=\"M18.56 5.44l.94 2.06.94-2.06 2.06-.94-2.06-.94-.94-2.06-.94 2.06-2.06.94zm-11 1L8.5 8.5l.94-2.06 2.06-.94-2.06-.94L8.5 2.5l-.94 2.06-2.06.94zm10 10l.94 2.06.94-2.06 2.06-.94-2.06-.94-.94-2.06-.94 2.06-2.06.94z\"/><path d=\"M17.41 7.96l-1.37-1.37c-.4-.4-.92-.59-1.43-.59-.52 0-1.04.2-1.43.59L10.3 9.45l-7.72 7.72c-.78.78-.78 2.05 0 2.83L4 21.41c.39.39.9.59 1.41.59.51 0 1.02-.2 1.41-.59l7.78-7.78 2.81-2.81c.8-.78.8-2.07 0-2.86zM5.41 20L4 18.59l7.72-7.72 1.47 1.35L5.41 20z\"/>\n",
              "  </svg>\n",
              "      </button>\n",
              "      \n",
              "  <style>\n",
              "    .colab-df-container {\n",
              "      display:flex;\n",
              "      flex-wrap:wrap;\n",
              "      gap: 12px;\n",
              "    }\n",
              "\n",
              "    .colab-df-convert {\n",
              "      background-color: #E8F0FE;\n",
              "      border: none;\n",
              "      border-radius: 50%;\n",
              "      cursor: pointer;\n",
              "      display: none;\n",
              "      fill: #1967D2;\n",
              "      height: 32px;\n",
              "      padding: 0 0 0 0;\n",
              "      width: 32px;\n",
              "    }\n",
              "\n",
              "    .colab-df-convert:hover {\n",
              "      background-color: #E2EBFA;\n",
              "      box-shadow: 0px 1px 2px rgba(60, 64, 67, 0.3), 0px 1px 3px 1px rgba(60, 64, 67, 0.15);\n",
              "      fill: #174EA6;\n",
              "    }\n",
              "\n",
              "    [theme=dark] .colab-df-convert {\n",
              "      background-color: #3B4455;\n",
              "      fill: #D2E3FC;\n",
              "    }\n",
              "\n",
              "    [theme=dark] .colab-df-convert:hover {\n",
              "      background-color: #434B5C;\n",
              "      box-shadow: 0px 1px 3px 1px rgba(0, 0, 0, 0.15);\n",
              "      filter: drop-shadow(0px 1px 2px rgba(0, 0, 0, 0.3));\n",
              "      fill: #FFFFFF;\n",
              "    }\n",
              "  </style>\n",
              "\n",
              "      <script>\n",
              "        const buttonEl =\n",
              "          document.querySelector('#df-564b3e22-f9d0-40aa-8a32-7af9d18e73c5 button.colab-df-convert');\n",
              "        buttonEl.style.display =\n",
              "          google.colab.kernel.accessAllowed ? 'block' : 'none';\n",
              "\n",
              "        async function convertToInteractive(key) {\n",
              "          const element = document.querySelector('#df-564b3e22-f9d0-40aa-8a32-7af9d18e73c5');\n",
              "          const dataTable =\n",
              "            await google.colab.kernel.invokeFunction('convertToInteractive',\n",
              "                                                     [key], {});\n",
              "          if (!dataTable) return;\n",
              "\n",
              "          const docLinkHtml = 'Like what you see? Visit the ' +\n",
              "            '<a target=\"_blank\" href=https://colab.research.google.com/notebooks/data_table.ipynb>data table notebook</a>'\n",
              "            + ' to learn more about interactive tables.';\n",
              "          element.innerHTML = '';\n",
              "          dataTable['output_type'] = 'display_data';\n",
              "          await google.colab.output.renderOutput(dataTable, element);\n",
              "          const docLink = document.createElement('div');\n",
              "          docLink.innerHTML = docLinkHtml;\n",
              "          element.appendChild(docLink);\n",
              "        }\n",
              "      </script>\n",
              "    </div>\n",
              "  </div>\n",
              "  "
            ]
          },
          "metadata": {},
          "execution_count": 58
        }
      ]
    },
    {
      "cell_type": "code",
      "execution_count": null,
      "id": "75ab29ab",
      "metadata": {
        "id": "75ab29ab"
      },
      "outputs": [],
      "source": [
        "x = df1.iloc[:, 0:11]\n",
        "y = df1.iloc[:, -1]\n"
      ]
    },
    {
      "cell_type": "code",
      "execution_count": null,
      "id": "6412c62b",
      "metadata": {
        "id": "6412c62b",
        "colab": {
          "base_uri": "https://localhost:8080/",
          "height": 496
        },
        "outputId": "2565dff7-7657-4e91-f15e-d7d367eabb75"
      },
      "outputs": [
        {
          "output_type": "execute_result",
          "data": {
            "text/plain": [
              "      business_code cust_number        name_customer  buisness_year  \\\n",
              "30571          U001  0200794332      COST foundation         2019.0   \n",
              "3390           U001  0200769623           WAL-MAR us         2019.0   \n",
              "26350          U001  0200769623        WAL-MAR trust         2019.0   \n",
              "48624          U001  0200769623           WAL-MAR in         2019.0   \n",
              "9633           U001  0200769623  WAL-MAR corporation         2019.0   \n",
              "37703          U001  0200769623           WAL-MAR in         2019.0   \n",
              "21115          U001  0200704858      WAKE foundation         2019.0   \n",
              "48622          U001  0200726979        BJ'S  systems         2019.0   \n",
              "33779          U001  0200769623      WAL-MAR systems         2019.0   \n",
              "11157          U001  0200769623             WAL-MAR          2019.0   \n",
              "\n",
              "             doc_id posting_date document_create_date.1 due_in_date  \\\n",
              "30571  1.928523e+09   2018-12-30             2018-12-30  2019-01-14   \n",
              "3390   1.928535e+09   2018-12-30             2018-12-30  2019-01-14   \n",
              "26350  1.928543e+09   2018-12-30             2018-12-30  2019-01-14   \n",
              "48624  1.928541e+09   2018-12-30             2018-12-30  2019-01-14   \n",
              "9633   1.928538e+09   2018-12-30             2018-12-30  2019-01-14   \n",
              "37703  1.928543e+09   2018-12-30             2018-12-30  2019-01-14   \n",
              "21115  1.928540e+09   2018-12-30             2018-12-30  2019-01-14   \n",
              "48622  1.928542e+09   2018-12-30             2018-12-30  2019-01-14   \n",
              "33779  1.928539e+09   2018-12-30             2018-12-30  2019-01-14   \n",
              "11157  1.928541e+09   2018-12-30             2018-12-30  2019-01-14   \n",
              "\n",
              "      baseline_create_date cust_payment_terms  converted_usd  \n",
              "30571           2018-12-30               NAAX        8041.59  \n",
              "3390            2018-12-30               NAH4        3408.73  \n",
              "26350           2018-12-30               NAH4       10318.00  \n",
              "48624           2018-12-30               NAH4       72181.59  \n",
              "9633            2018-12-30               NAH4       70483.35  \n",
              "37703           2018-12-30               NAH4       43689.83  \n",
              "21115           2018-12-30               NAA8       18420.49  \n",
              "48622           2018-12-30               NAA8         131.10  \n",
              "33779           2018-12-30               NAH4         580.67  \n",
              "11157           2018-12-30               NAH4       13904.40  "
            ],
            "text/html": [
              "\n",
              "  <div id=\"df-f37e4d99-cf04-4601-af65-0b7f183802d6\">\n",
              "    <div class=\"colab-df-container\">\n",
              "      <div>\n",
              "<style scoped>\n",
              "    .dataframe tbody tr th:only-of-type {\n",
              "        vertical-align: middle;\n",
              "    }\n",
              "\n",
              "    .dataframe tbody tr th {\n",
              "        vertical-align: top;\n",
              "    }\n",
              "\n",
              "    .dataframe thead th {\n",
              "        text-align: right;\n",
              "    }\n",
              "</style>\n",
              "<table border=\"1\" class=\"dataframe\">\n",
              "  <thead>\n",
              "    <tr style=\"text-align: right;\">\n",
              "      <th></th>\n",
              "      <th>business_code</th>\n",
              "      <th>cust_number</th>\n",
              "      <th>name_customer</th>\n",
              "      <th>buisness_year</th>\n",
              "      <th>doc_id</th>\n",
              "      <th>posting_date</th>\n",
              "      <th>document_create_date.1</th>\n",
              "      <th>due_in_date</th>\n",
              "      <th>baseline_create_date</th>\n",
              "      <th>cust_payment_terms</th>\n",
              "      <th>converted_usd</th>\n",
              "    </tr>\n",
              "  </thead>\n",
              "  <tbody>\n",
              "    <tr>\n",
              "      <th>30571</th>\n",
              "      <td>U001</td>\n",
              "      <td>0200794332</td>\n",
              "      <td>COST foundation</td>\n",
              "      <td>2019.0</td>\n",
              "      <td>1.928523e+09</td>\n",
              "      <td>2018-12-30</td>\n",
              "      <td>2018-12-30</td>\n",
              "      <td>2019-01-14</td>\n",
              "      <td>2018-12-30</td>\n",
              "      <td>NAAX</td>\n",
              "      <td>8041.59</td>\n",
              "    </tr>\n",
              "    <tr>\n",
              "      <th>3390</th>\n",
              "      <td>U001</td>\n",
              "      <td>0200769623</td>\n",
              "      <td>WAL-MAR us</td>\n",
              "      <td>2019.0</td>\n",
              "      <td>1.928535e+09</td>\n",
              "      <td>2018-12-30</td>\n",
              "      <td>2018-12-30</td>\n",
              "      <td>2019-01-14</td>\n",
              "      <td>2018-12-30</td>\n",
              "      <td>NAH4</td>\n",
              "      <td>3408.73</td>\n",
              "    </tr>\n",
              "    <tr>\n",
              "      <th>26350</th>\n",
              "      <td>U001</td>\n",
              "      <td>0200769623</td>\n",
              "      <td>WAL-MAR trust</td>\n",
              "      <td>2019.0</td>\n",
              "      <td>1.928543e+09</td>\n",
              "      <td>2018-12-30</td>\n",
              "      <td>2018-12-30</td>\n",
              "      <td>2019-01-14</td>\n",
              "      <td>2018-12-30</td>\n",
              "      <td>NAH4</td>\n",
              "      <td>10318.00</td>\n",
              "    </tr>\n",
              "    <tr>\n",
              "      <th>48624</th>\n",
              "      <td>U001</td>\n",
              "      <td>0200769623</td>\n",
              "      <td>WAL-MAR in</td>\n",
              "      <td>2019.0</td>\n",
              "      <td>1.928541e+09</td>\n",
              "      <td>2018-12-30</td>\n",
              "      <td>2018-12-30</td>\n",
              "      <td>2019-01-14</td>\n",
              "      <td>2018-12-30</td>\n",
              "      <td>NAH4</td>\n",
              "      <td>72181.59</td>\n",
              "    </tr>\n",
              "    <tr>\n",
              "      <th>9633</th>\n",
              "      <td>U001</td>\n",
              "      <td>0200769623</td>\n",
              "      <td>WAL-MAR corporation</td>\n",
              "      <td>2019.0</td>\n",
              "      <td>1.928538e+09</td>\n",
              "      <td>2018-12-30</td>\n",
              "      <td>2018-12-30</td>\n",
              "      <td>2019-01-14</td>\n",
              "      <td>2018-12-30</td>\n",
              "      <td>NAH4</td>\n",
              "      <td>70483.35</td>\n",
              "    </tr>\n",
              "    <tr>\n",
              "      <th>37703</th>\n",
              "      <td>U001</td>\n",
              "      <td>0200769623</td>\n",
              "      <td>WAL-MAR in</td>\n",
              "      <td>2019.0</td>\n",
              "      <td>1.928543e+09</td>\n",
              "      <td>2018-12-30</td>\n",
              "      <td>2018-12-30</td>\n",
              "      <td>2019-01-14</td>\n",
              "      <td>2018-12-30</td>\n",
              "      <td>NAH4</td>\n",
              "      <td>43689.83</td>\n",
              "    </tr>\n",
              "    <tr>\n",
              "      <th>21115</th>\n",
              "      <td>U001</td>\n",
              "      <td>0200704858</td>\n",
              "      <td>WAKE foundation</td>\n",
              "      <td>2019.0</td>\n",
              "      <td>1.928540e+09</td>\n",
              "      <td>2018-12-30</td>\n",
              "      <td>2018-12-30</td>\n",
              "      <td>2019-01-14</td>\n",
              "      <td>2018-12-30</td>\n",
              "      <td>NAA8</td>\n",
              "      <td>18420.49</td>\n",
              "    </tr>\n",
              "    <tr>\n",
              "      <th>48622</th>\n",
              "      <td>U001</td>\n",
              "      <td>0200726979</td>\n",
              "      <td>BJ'S  systems</td>\n",
              "      <td>2019.0</td>\n",
              "      <td>1.928542e+09</td>\n",
              "      <td>2018-12-30</td>\n",
              "      <td>2018-12-30</td>\n",
              "      <td>2019-01-14</td>\n",
              "      <td>2018-12-30</td>\n",
              "      <td>NAA8</td>\n",
              "      <td>131.10</td>\n",
              "    </tr>\n",
              "    <tr>\n",
              "      <th>33779</th>\n",
              "      <td>U001</td>\n",
              "      <td>0200769623</td>\n",
              "      <td>WAL-MAR systems</td>\n",
              "      <td>2019.0</td>\n",
              "      <td>1.928539e+09</td>\n",
              "      <td>2018-12-30</td>\n",
              "      <td>2018-12-30</td>\n",
              "      <td>2019-01-14</td>\n",
              "      <td>2018-12-30</td>\n",
              "      <td>NAH4</td>\n",
              "      <td>580.67</td>\n",
              "    </tr>\n",
              "    <tr>\n",
              "      <th>11157</th>\n",
              "      <td>U001</td>\n",
              "      <td>0200769623</td>\n",
              "      <td>WAL-MAR</td>\n",
              "      <td>2019.0</td>\n",
              "      <td>1.928541e+09</td>\n",
              "      <td>2018-12-30</td>\n",
              "      <td>2018-12-30</td>\n",
              "      <td>2019-01-14</td>\n",
              "      <td>2018-12-30</td>\n",
              "      <td>NAH4</td>\n",
              "      <td>13904.40</td>\n",
              "    </tr>\n",
              "  </tbody>\n",
              "</table>\n",
              "</div>\n",
              "      <button class=\"colab-df-convert\" onclick=\"convertToInteractive('df-f37e4d99-cf04-4601-af65-0b7f183802d6')\"\n",
              "              title=\"Convert this dataframe to an interactive table.\"\n",
              "              style=\"display:none;\">\n",
              "        \n",
              "  <svg xmlns=\"http://www.w3.org/2000/svg\" height=\"24px\"viewBox=\"0 0 24 24\"\n",
              "       width=\"24px\">\n",
              "    <path d=\"M0 0h24v24H0V0z\" fill=\"none\"/>\n",
              "    <path d=\"M18.56 5.44l.94 2.06.94-2.06 2.06-.94-2.06-.94-.94-2.06-.94 2.06-2.06.94zm-11 1L8.5 8.5l.94-2.06 2.06-.94-2.06-.94L8.5 2.5l-.94 2.06-2.06.94zm10 10l.94 2.06.94-2.06 2.06-.94-2.06-.94-.94-2.06-.94 2.06-2.06.94z\"/><path d=\"M17.41 7.96l-1.37-1.37c-.4-.4-.92-.59-1.43-.59-.52 0-1.04.2-1.43.59L10.3 9.45l-7.72 7.72c-.78.78-.78 2.05 0 2.83L4 21.41c.39.39.9.59 1.41.59.51 0 1.02-.2 1.41-.59l7.78-7.78 2.81-2.81c.8-.78.8-2.07 0-2.86zM5.41 20L4 18.59l7.72-7.72 1.47 1.35L5.41 20z\"/>\n",
              "  </svg>\n",
              "      </button>\n",
              "      \n",
              "  <style>\n",
              "    .colab-df-container {\n",
              "      display:flex;\n",
              "      flex-wrap:wrap;\n",
              "      gap: 12px;\n",
              "    }\n",
              "\n",
              "    .colab-df-convert {\n",
              "      background-color: #E8F0FE;\n",
              "      border: none;\n",
              "      border-radius: 50%;\n",
              "      cursor: pointer;\n",
              "      display: none;\n",
              "      fill: #1967D2;\n",
              "      height: 32px;\n",
              "      padding: 0 0 0 0;\n",
              "      width: 32px;\n",
              "    }\n",
              "\n",
              "    .colab-df-convert:hover {\n",
              "      background-color: #E2EBFA;\n",
              "      box-shadow: 0px 1px 2px rgba(60, 64, 67, 0.3), 0px 1px 3px 1px rgba(60, 64, 67, 0.15);\n",
              "      fill: #174EA6;\n",
              "    }\n",
              "\n",
              "    [theme=dark] .colab-df-convert {\n",
              "      background-color: #3B4455;\n",
              "      fill: #D2E3FC;\n",
              "    }\n",
              "\n",
              "    [theme=dark] .colab-df-convert:hover {\n",
              "      background-color: #434B5C;\n",
              "      box-shadow: 0px 1px 3px 1px rgba(0, 0, 0, 0.15);\n",
              "      filter: drop-shadow(0px 1px 2px rgba(0, 0, 0, 0.3));\n",
              "      fill: #FFFFFF;\n",
              "    }\n",
              "  </style>\n",
              "\n",
              "      <script>\n",
              "        const buttonEl =\n",
              "          document.querySelector('#df-f37e4d99-cf04-4601-af65-0b7f183802d6 button.colab-df-convert');\n",
              "        buttonEl.style.display =\n",
              "          google.colab.kernel.accessAllowed ? 'block' : 'none';\n",
              "\n",
              "        async function convertToInteractive(key) {\n",
              "          const element = document.querySelector('#df-f37e4d99-cf04-4601-af65-0b7f183802d6');\n",
              "          const dataTable =\n",
              "            await google.colab.kernel.invokeFunction('convertToInteractive',\n",
              "                                                     [key], {});\n",
              "          if (!dataTable) return;\n",
              "\n",
              "          const docLinkHtml = 'Like what you see? Visit the ' +\n",
              "            '<a target=\"_blank\" href=https://colab.research.google.com/notebooks/data_table.ipynb>data table notebook</a>'\n",
              "            + ' to learn more about interactive tables.';\n",
              "          element.innerHTML = '';\n",
              "          dataTable['output_type'] = 'display_data';\n",
              "          await google.colab.output.renderOutput(dataTable, element);\n",
              "          const docLink = document.createElement('div');\n",
              "          docLink.innerHTML = docLinkHtml;\n",
              "          element.appendChild(docLink);\n",
              "        }\n",
              "      </script>\n",
              "    </div>\n",
              "  </div>\n",
              "  "
            ]
          },
          "metadata": {},
          "execution_count": 60
        }
      ],
      "source": [
        "x.head(10)"
      ]
    },
    {
      "cell_type": "code",
      "source": [
        "y.head(10)"
      ],
      "metadata": {
        "colab": {
          "base_uri": "https://localhost:8080/"
        },
        "id": "1MhXPD4VPqqY",
        "outputId": "70b58d00-5a9e-4684-dae3-84ebb07f0c98"
      },
      "id": "1MhXPD4VPqqY",
      "execution_count": null,
      "outputs": [
        {
          "output_type": "execute_result",
          "data": {
            "text/plain": [
              "30571    0\n",
              "3390    -2\n",
              "26350   -2\n",
              "48624   -2\n",
              "9633    -2\n",
              "37703   -2\n",
              "21115   -5\n",
              "48622    0\n",
              "33779   -2\n",
              "11157   -2\n",
              "Name: avg_delay, dtype: int64"
            ]
          },
          "metadata": {},
          "execution_count": 61
        }
      ]
    },
    {
      "cell_type": "markdown",
      "id": "1c2942bf",
      "metadata": {
        "id": "1c2942bf"
      },
      "source": [
        "#### You are expected to split both the dataframes into train and test format in 60:40 ratio \n",
        "\n",
        "- Note - The expected output should be in \"X_train\", \"X_loc_test\", \"y_train\", \"y_loc_test\" format "
      ]
    },
    {
      "cell_type": "code",
      "execution_count": null,
      "id": "d92160a5",
      "metadata": {
        "id": "d92160a5"
      },
      "outputs": [],
      "source": [
        "x_train,x_loc_test,y_train,y_loc_test=train_test_split(x,y,test_size=0.4)"
      ]
    },
    {
      "cell_type": "markdown",
      "id": "p4OME62pDufR",
      "metadata": {
        "id": "p4OME62pDufR"
      },
      "source": [
        "### Please check for the number of rows and columns of all the new dataframes (all 4)"
      ]
    },
    {
      "cell_type": "code",
      "execution_count": null,
      "id": "48328d0a",
      "metadata": {
        "id": "48328d0a",
        "colab": {
          "base_uri": "https://localhost:8080/"
        },
        "outputId": "9adb70bc-f4d7-40ce-cc8b-709af8ad94b1"
      },
      "outputs": [
        {
          "output_type": "stream",
          "name": "stdout",
          "text": [
            "(23494, 11) (15664, 11) (23494,) (15664,)\n"
          ]
        }
      ],
      "source": [
        "print(x_train.shape,\n",
        "x_loc_test.shape, \n",
        "y_train.shape,\n",
        "y_loc_test.shape)"
      ]
    },
    {
      "cell_type": "markdown",
      "id": "4a68ed71",
      "metadata": {
        "id": "4a68ed71"
      },
      "source": [
        "### Now you are expected to split the \"X_loc_test\" and \"y_loc_test\" dataset into \"Test\" and \"Validation\" (as the names given below) dataframe with 50:50 format \n",
        "\n",
        "- Note - The expected output should be in \"X_val\", \"X_test\", \"y_val\", \"y_test\" format"
      ]
    },
    {
      "cell_type": "code",
      "execution_count": null,
      "id": "b56c62f2",
      "metadata": {
        "id": "b56c62f2"
      },
      "outputs": [],
      "source": [
        "x_test, x_val, y_test, y_val = train_test_split(x_loc_test, y_loc_test, test_size=0.5)"
      ]
    },
    {
      "cell_type": "markdown",
      "id": "bJTSAskvERH1",
      "metadata": {
        "id": "bJTSAskvERH1"
      },
      "source": [
        "### Please check for the number of rows and columns of all the 4 dataframes "
      ]
    },
    {
      "cell_type": "code",
      "execution_count": null,
      "id": "845d7564",
      "metadata": {
        "id": "845d7564",
        "colab": {
          "base_uri": "https://localhost:8080/"
        },
        "outputId": "a07a5f67-76ec-46de-a604-3339f510fca1"
      },
      "outputs": [
        {
          "output_type": "stream",
          "name": "stdout",
          "text": [
            "(7832, 11) (7832, 11) (7832,) (7832,)\n"
          ]
        }
      ],
      "source": [
        "print(x_test.shape, x_val.shape, y_test.shape, y_val.shape)"
      ]
    },
    {
      "cell_type": "markdown",
      "id": "110fa872",
      "metadata": {
        "id": "110fa872"
      },
      "source": [
        "# Exploratory Data Analysis (EDA) "
      ]
    },
    {
      "cell_type": "markdown",
      "id": "ffc8fe0f",
      "metadata": {
        "id": "ffc8fe0f"
      },
      "source": [
        "### Distribution Plot of the target variable (use the dataframe which contains the target field)\n",
        "\n",
        "- Note - You are expected to make a distribution plot for the target variable "
      ]
    },
    {
      "cell_type": "code",
      "execution_count": null,
      "id": "ba2bf8ed",
      "metadata": {
        "id": "ba2bf8ed",
        "colab": {
          "base_uri": "https://localhost:8080/",
          "height": 454
        },
        "outputId": "74adf075-f190-4a46-c68d-1b580412e5d9"
      },
      "outputs": [
        {
          "output_type": "execute_result",
          "data": {
            "text/plain": [
              "<matplotlib.axes._subplots.AxesSubplot at 0x7fdb3abd1710>"
            ]
          },
          "metadata": {},
          "execution_count": 285
        },
        {
          "output_type": "display_data",
          "data": {
            "text/plain": [
              "<Figure size 1440x504 with 1 Axes>"
            ],
            "image/png": "[encoded data removed]"
          },
          "metadata": {}
        }
      ],
      "source": [
        "plt.subplots(figsize=(20,7))\n",
        "sns.countplot(x=y_train)"
      ]
    },
    {
      "cell_type": "markdown",
      "id": "d0e323a3",
      "metadata": {
        "id": "d0e323a3"
      },
      "source": [
        "### You are expected to group the X_train dataset on 'name_customer' column with 'doc_id' in the x_train set\n",
        "\n",
        "### Need to store the outcome into a new dataframe \n",
        "\n",
        "- Note code given for groupby statement- X_train.groupby(by=['name_customer'], as_index=False)['doc_id'].count()"
      ]
    },
    {
      "cell_type": "code",
      "execution_count": null,
      "id": "f7acf0ee",
      "metadata": {
        "id": "f7acf0ee"
      },
      "outputs": [],
      "source": [
        "group=x_train.groupby(by=['name_customer'], as_index=False)['doc_id'].count()"
      ]
    },
    {
      "cell_type": "markdown",
      "id": "cA43bFffFt6i",
      "metadata": {
        "id": "cA43bFffFt6i"
      },
      "source": [
        "### You can make another distribution plot of the \"doc_id\" column from x_train"
      ]
    },
    {
      "cell_type": "code",
      "source": [
        "plt.subplots(figsize=(15,7))\n",
        "plt.hist(x_train['doc_id'])"
      ],
      "metadata": {
        "colab": {
          "base_uri": "https://localhost:8080/",
          "height": 548
        },
        "id": "SMyDJ5_4eXps",
        "outputId": "254a2a3d-f051-43fe-f81f-8eff0a45335e"
      },
      "id": "SMyDJ5_4eXps",
      "execution_count": null,
      "outputs": [
        {
          "output_type": "execute_result",
          "data": {
            "text/plain": [
              "(array([2.1642e+04, 1.8480e+03, 0.0000e+00, 0.0000e+00, 0.0000e+00,\n",
              "        0.0000e+00, 0.0000e+00, 0.0000e+00, 0.0000e+00, 4.0000e+00]),\n",
              " array([1.92850176e+09, 2.68565159e+09, 3.44280143e+09, 4.19995127e+09,\n",
              "        4.95710111e+09, 5.71425094e+09, 6.47140078e+09, 7.22855062e+09,\n",
              "        7.98570046e+09, 8.74285030e+09, 9.50000013e+09]),\n",
              " <a list of 10 Patch objects>)"
            ]
          },
          "metadata": {},
          "execution_count": 287
        },
        {
          "output_type": "display_data",
          "data": {
            "text/plain": [
              "<Figure size 1080x504 with 1 Axes>"
            ],
            "image/png": "[encoded data removed]"
          },
          "metadata": {}
        }
      ]
    },
    {
      "cell_type": "markdown",
      "id": "fba2c44f",
      "metadata": {
        "id": "fba2c44f"
      },
      "source": [
        "#### Create a Distribution plot only for business_year and a seperate distribution plot of \"business_year\" column along with the doc_id\" column\n"
      ]
    },
    {
      "cell_type": "code",
      "execution_count": null,
      "id": "4fecec77",
      "metadata": {
        "id": "4fecec77",
        "colab": {
          "base_uri": "https://localhost:8080/",
          "height": 531
        },
        "outputId": "53e0a05c-7a49-4d93-c621-6c5c274db46a"
      },
      "outputs": [
        {
          "output_type": "execute_result",
          "data": {
            "text/plain": [
              "(array([20397.,     0.,     0.,     0.,     0.,     0.,     0.,     0.,\n",
              "            0.,  3097.]),\n",
              " array([2019. , 2019.1, 2019.2, 2019.3, 2019.4, 2019.5, 2019.6, 2019.7,\n",
              "        2019.8, 2019.9, 2020. ]),\n",
              " <a list of 10 Patch objects>)"
            ]
          },
          "metadata": {},
          "execution_count": 288
        },
        {
          "output_type": "display_data",
          "data": {
            "text/plain": [
              "<Figure size 1080x504 with 1 Axes>"
            ],
            "image/png": "[encoded data removed]"
          },
          "metadata": {}
        }
      ],
      "source": [
        "plt.subplots(figsize=(15,7))\n",
        "plt.hist(x_train['buisness_year'])"
      ]
    },
    {
      "cell_type": "code",
      "execution_count": null,
      "id": "qr1jGhfOKjnw",
      "metadata": {
        "id": "qr1jGhfOKjnw",
        "colab": {
          "base_uri": "https://localhost:8080/",
          "height": 548
        },
        "outputId": "a00b0c7a-b896-42bb-dff2-85b578424983"
      },
      "outputs": [
        {
          "output_type": "execute_result",
          "data": {
            "text/plain": [
              "(array([2.1642e+04, 1.8480e+03, 0.0000e+00, 0.0000e+00, 0.0000e+00,\n",
              "        0.0000e+00, 0.0000e+00, 0.0000e+00, 0.0000e+00, 4.0000e+00]),\n",
              " array([1.92850176e+09, 2.68565159e+09, 3.44280143e+09, 4.19995127e+09,\n",
              "        4.95710111e+09, 5.71425094e+09, 6.47140078e+09, 7.22855062e+09,\n",
              "        7.98570046e+09, 8.74285030e+09, 9.50000013e+09]),\n",
              " <a list of 10 Patch objects>)"
            ]
          },
          "metadata": {},
          "execution_count": 289
        },
        {
          "output_type": "display_data",
          "data": {
            "text/plain": [
              "<Figure size 1080x504 with 1 Axes>"
            ],
            "image/png": "[encoded data removed]"
          },
          "metadata": {}
        }
      ],
      "source": [
        "plt.subplots(figsize=(15,7))\n",
        "plt.hist(x_train['buisness_year'])\n",
        "plt.hist(x_train['doc_id'])"
      ]
    },
    {
      "cell_type": "markdown",
      "id": "968fbcc9",
      "metadata": {
        "id": "968fbcc9"
      },
      "source": [
        "# Feature Engineering "
      ]
    },
    {
      "cell_type": "markdown",
      "id": "jbh6CyGqH3XE",
      "metadata": {
        "id": "jbh6CyGqH3XE"
      },
      "source": [
        "### Display and describe the X_train dataframe "
      ]
    },
    {
      "cell_type": "code",
      "execution_count": null,
      "id": "e6bcf307",
      "metadata": {
        "id": "e6bcf307",
        "colab": {
          "base_uri": "https://localhost:8080/",
          "height": 496
        },
        "outputId": "e03229d3-2e0d-42a9-84ff-1539d05e04e3"
      },
      "outputs": [
        {
          "output_type": "execute_result",
          "data": {
            "text/plain": [
              "      business_code cust_number     name_customer  buisness_year  \\\n",
              "46871          U001  0200353024  DECA corporation         2019.0   \n",
              "13721          CA02  0100030194         AMAZO llc         2019.0   \n",
              "15691          U001  0200759878             SA us         2019.0   \n",
              "2054           U001  0200705742    DOT associates         2019.0   \n",
              "48194          U001  0200799367           MCL llc         2020.0   \n",
              "11074          U001  0200764795         SYSCO  us         2020.0   \n",
              "9960           U001  0200772670    ASSOCIAT trust         2019.0   \n",
              "4164           CA02  0140105686         SYSC corp         2019.0   \n",
              "7955           U001  0200769623   WAL-MAR systems         2020.0   \n",
              "15206          U001  0200772670     ASSOCIAT corp         2019.0   \n",
              "\n",
              "             doc_id posting_date document_create_date.1 due_in_date  \\\n",
              "46871  1.930180e+09   2019-11-21             2019-11-21  2019-12-09   \n",
              "13721  2.960587e+09   2019-10-20             2019-10-20  2019-11-08   \n",
              "15691  1.929872e+09   2019-09-14             2019-09-14  2019-09-29   \n",
              "2054   1.928764e+09   2019-02-07             2019-02-07  2019-02-22   \n",
              "48194  1.930339e+09   2020-01-03             2020-01-03  2020-01-18   \n",
              "11074  1.930393e+09   2020-01-13             2020-01-13  2020-01-28   \n",
              "9960   1.930166e+09   2019-11-13             2019-11-13  2019-11-28   \n",
              "4164   2.960547e+09   2019-05-08             2019-05-08  2019-05-26   \n",
              "7955   1.930390e+09   2020-01-11             2020-01-11  2020-01-26   \n",
              "15206  1.929585e+09   2019-07-07             2019-07-07  2019-07-22   \n",
              "\n",
              "      baseline_create_date cust_payment_terms  converted_usd  \n",
              "46871           2019-11-16               NAM4        516.840  \n",
              "13721           2019-10-29               CA10       2124.150  \n",
              "15691           2019-09-14               NAH4      13891.020  \n",
              "2054            2019-02-07               NAA8      14352.210  \n",
              "48194           2020-01-03               NAA8      89148.070  \n",
              "11074           2020-01-13               NAA8         65.090  \n",
              "9960            2019-11-13               NAU5      47950.850  \n",
              "4164            2019-05-16               CA10      39986.912  \n",
              "7955            2020-01-11               NAH4      50499.490  \n",
              "15206           2019-07-07               NAU5      97327.340  "
            ],
            "text/html": [
              "\n",
              "  <div id=\"df-7ae001e8-d19f-4b6e-af45-83e3b015eb2c\">\n",
              "    <div class=\"colab-df-container\">\n",
              "      <div>\n",
              "<style scoped>\n",
              "    .dataframe tbody tr th:only-of-type {\n",
              "        vertical-align: middle;\n",
              "    }\n",
              "\n",
              "    .dataframe tbody tr th {\n",
              "        vertical-align: top;\n",
              "    }\n",
              "\n",
              "    .dataframe thead th {\n",
              "        text-align: right;\n",
              "    }\n",
              "</style>\n",
              "<table border=\"1\" class=\"dataframe\">\n",
              "  <thead>\n",
              "    <tr style=\"text-align: right;\">\n",
              "      <th></th>\n",
              "      <th>business_code</th>\n",
              "      <th>cust_number</th>\n",
              "      <th>name_customer</th>\n",
              "      <th>buisness_year</th>\n",
              "      <th>doc_id</th>\n",
              "      <th>posting_date</th>\n",
              "      <th>document_create_date.1</th>\n",
              "      <th>due_in_date</th>\n",
              "      <th>baseline_create_date</th>\n",
              "      <th>cust_payment_terms</th>\n",
              "      <th>converted_usd</th>\n",
              "    </tr>\n",
              "  </thead>\n",
              "  <tbody>\n",
              "    <tr>\n",
              "      <th>46871</th>\n",
              "      <td>U001</td>\n",
              "      <td>0200353024</td>\n",
              "      <td>DECA corporation</td>\n",
              "      <td>2019.0</td>\n",
              "      <td>1.930180e+09</td>\n",
              "      <td>2019-11-21</td>\n",
              "      <td>2019-11-21</td>\n",
              "      <td>2019-12-09</td>\n",
              "      <td>2019-11-16</td>\n",
              "      <td>NAM4</td>\n",
              "      <td>516.840</td>\n",
              "    </tr>\n",
              "    <tr>\n",
              "      <th>13721</th>\n",
              "      <td>CA02</td>\n",
              "      <td>0100030194</td>\n",
              "      <td>AMAZO llc</td>\n",
              "      <td>2019.0</td>\n",
              "      <td>2.960587e+09</td>\n",
              "      <td>2019-10-20</td>\n",
              "      <td>2019-10-20</td>\n",
              "      <td>2019-11-08</td>\n",
              "      <td>2019-10-29</td>\n",
              "      <td>CA10</td>\n",
              "      <td>2124.150</td>\n",
              "    </tr>\n",
              "    <tr>\n",
              "      <th>15691</th>\n",
              "      <td>U001</td>\n",
              "      <td>0200759878</td>\n",
              "      <td>SA us</td>\n",
              "      <td>2019.0</td>\n",
              "      <td>1.929872e+09</td>\n",
              "      <td>2019-09-14</td>\n",
              "      <td>2019-09-14</td>\n",
              "      <td>2019-09-29</td>\n",
              "      <td>2019-09-14</td>\n",
              "      <td>NAH4</td>\n",
              "      <td>13891.020</td>\n",
              "    </tr>\n",
              "    <tr>\n",
              "      <th>2054</th>\n",
              "      <td>U001</td>\n",
              "      <td>0200705742</td>\n",
              "      <td>DOT associates</td>\n",
              "      <td>2019.0</td>\n",
              "      <td>1.928764e+09</td>\n",
              "      <td>2019-02-07</td>\n",
              "      <td>2019-02-07</td>\n",
              "      <td>2019-02-22</td>\n",
              "      <td>2019-02-07</td>\n",
              "      <td>NAA8</td>\n",
              "      <td>14352.210</td>\n",
              "    </tr>\n",
              "    <tr>\n",
              "      <th>48194</th>\n",
              "      <td>U001</td>\n",
              "      <td>0200799367</td>\n",
              "      <td>MCL llc</td>\n",
              "      <td>2020.0</td>\n",
              "      <td>1.930339e+09</td>\n",
              "      <td>2020-01-03</td>\n",
              "      <td>2020-01-03</td>\n",
              "      <td>2020-01-18</td>\n",
              "      <td>2020-01-03</td>\n",
              "      <td>NAA8</td>\n",
              "      <td>89148.070</td>\n",
              "    </tr>\n",
              "    <tr>\n",
              "      <th>11074</th>\n",
              "      <td>U001</td>\n",
              "      <td>0200764795</td>\n",
              "      <td>SYSCO  us</td>\n",
              "      <td>2020.0</td>\n",
              "      <td>1.930393e+09</td>\n",
              "      <td>2020-01-13</td>\n",
              "      <td>2020-01-13</td>\n",
              "      <td>2020-01-28</td>\n",
              "      <td>2020-01-13</td>\n",
              "      <td>NAA8</td>\n",
              "      <td>65.090</td>\n",
              "    </tr>\n",
              "    <tr>\n",
              "      <th>9960</th>\n",
              "      <td>U001</td>\n",
              "      <td>0200772670</td>\n",
              "      <td>ASSOCIAT trust</td>\n",
              "      <td>2019.0</td>\n",
              "      <td>1.930166e+09</td>\n",
              "      <td>2019-11-13</td>\n",
              "      <td>2019-11-13</td>\n",
              "      <td>2019-11-28</td>\n",
              "      <td>2019-11-13</td>\n",
              "      <td>NAU5</td>\n",
              "      <td>47950.850</td>\n",
              "    </tr>\n",
              "    <tr>\n",
              "      <th>4164</th>\n",
              "      <td>CA02</td>\n",
              "      <td>0140105686</td>\n",
              "      <td>SYSC corp</td>\n",
              "      <td>2019.0</td>\n",
              "      <td>2.960547e+09</td>\n",
              "      <td>2019-05-08</td>\n",
              "      <td>2019-05-08</td>\n",
              "      <td>2019-05-26</td>\n",
              "      <td>2019-05-16</td>\n",
              "      <td>CA10</td>\n",
              "      <td>39986.912</td>\n",
              "    </tr>\n",
              "    <tr>\n",
              "      <th>7955</th>\n",
              "      <td>U001</td>\n",
              "      <td>0200769623</td>\n",
              "      <td>WAL-MAR systems</td>\n",
              "      <td>2020.0</td>\n",
              "      <td>1.930390e+09</td>\n",
              "      <td>2020-01-11</td>\n",
              "      <td>2020-01-11</td>\n",
              "      <td>2020-01-26</td>\n",
              "      <td>2020-01-11</td>\n",
              "      <td>NAH4</td>\n",
              "      <td>50499.490</td>\n",
              "    </tr>\n",
              "    <tr>\n",
              "      <th>15206</th>\n",
              "      <td>U001</td>\n",
              "      <td>0200772670</td>\n",
              "      <td>ASSOCIAT corp</td>\n",
              "      <td>2019.0</td>\n",
              "      <td>1.929585e+09</td>\n",
              "      <td>2019-07-07</td>\n",
              "      <td>2019-07-07</td>\n",
              "      <td>2019-07-22</td>\n",
              "      <td>2019-07-07</td>\n",
              "      <td>NAU5</td>\n",
              "      <td>97327.340</td>\n",
              "    </tr>\n",
              "  </tbody>\n",
              "</table>\n",
              "</div>\n",
              "      <button class=\"colab-df-convert\" onclick=\"convertToInteractive('df-7ae001e8-d19f-4b6e-af45-83e3b015eb2c')\"\n",
              "              title=\"Convert this dataframe to an interactive table.\"\n",
              "              style=\"display:none;\">\n",
              "        \n",
              "  <svg xmlns=\"http://www.w3.org/2000/svg\" height=\"24px\"viewBox=\"0 0 24 24\"\n",
              "       width=\"24px\">\n",
              "    <path d=\"M0 0h24v24H0V0z\" fill=\"none\"/>\n",
              "    <path d=\"M18.56 5.44l.94 2.06.94-2.06 2.06-.94-2.06-.94-.94-2.06-.94 2.06-2.06.94zm-11 1L8.5 8.5l.94-2.06 2.06-.94-2.06-.94L8.5 2.5l-.94 2.06-2.06.94zm10 10l.94 2.06.94-2.06 2.06-.94-2.06-.94-.94-2.06-.94 2.06-2.06.94z\"/><path d=\"M17.41 7.96l-1.37-1.37c-.4-.4-.92-.59-1.43-.59-.52 0-1.04.2-1.43.59L10.3 9.45l-7.72 7.72c-.78.78-.78 2.05 0 2.83L4 21.41c.39.39.9.59 1.41.59.51 0 1.02-.2 1.41-.59l7.78-7.78 2.81-2.81c.8-.78.8-2.07 0-2.86zM5.41 20L4 18.59l7.72-7.72 1.47 1.35L5.41 20z\"/>\n",
              "  </svg>\n",
              "      </button>\n",
              "      \n",
              "  <style>\n",
              "    .colab-df-container {\n",
              "      display:flex;\n",
              "      flex-wrap:wrap;\n",
              "      gap: 12px;\n",
              "    }\n",
              "\n",
              "    .colab-df-convert {\n",
              "      background-color: #E8F0FE;\n",
              "      border: none;\n",
              "      border-radius: 50%;\n",
              "      cursor: pointer;\n",
              "      display: none;\n",
              "      fill: #1967D2;\n",
              "      height: 32px;\n",
              "      padding: 0 0 0 0;\n",
              "      width: 32px;\n",
              "    }\n",
              "\n",
              "    .colab-df-convert:hover {\n",
              "      background-color: #E2EBFA;\n",
              "      box-shadow: 0px 1px 2px rgba(60, 64, 67, 0.3), 0px 1px 3px 1px rgba(60, 64, 67, 0.15);\n",
              "      fill: #174EA6;\n",
              "    }\n",
              "\n",
              "    [theme=dark] .colab-df-convert {\n",
              "      background-color: #3B4455;\n",
              "      fill: #D2E3FC;\n",
              "    }\n",
              "\n",
              "    [theme=dark] .colab-df-convert:hover {\n",
              "      background-color: #434B5C;\n",
              "      box-shadow: 0px 1px 3px 1px rgba(0, 0, 0, 0.15);\n",
              "      filter: drop-shadow(0px 1px 2px rgba(0, 0, 0, 0.3));\n",
              "      fill: #FFFFFF;\n",
              "    }\n",
              "  </style>\n",
              "\n",
              "      <script>\n",
              "        const buttonEl =\n",
              "          document.querySelector('#df-7ae001e8-d19f-4b6e-af45-83e3b015eb2c button.colab-df-convert');\n",
              "        buttonEl.style.display =\n",
              "          google.colab.kernel.accessAllowed ? 'block' : 'none';\n",
              "\n",
              "        async function convertToInteractive(key) {\n",
              "          const element = document.querySelector('#df-7ae001e8-d19f-4b6e-af45-83e3b015eb2c');\n",
              "          const dataTable =\n",
              "            await google.colab.kernel.invokeFunction('convertToInteractive',\n",
              "                                                     [key], {});\n",
              "          if (!dataTable) return;\n",
              "\n",
              "          const docLinkHtml = 'Like what you see? Visit the ' +\n",
              "            '<a target=\"_blank\" href=https://colab.research.google.com/notebooks/data_table.ipynb>data table notebook</a>'\n",
              "            + ' to learn more about interactive tables.';\n",
              "          element.innerHTML = '';\n",
              "          dataTable['output_type'] = 'display_data';\n",
              "          await google.colab.output.renderOutput(dataTable, element);\n",
              "          const docLink = document.createElement('div');\n",
              "          docLink.innerHTML = docLinkHtml;\n",
              "          element.appendChild(docLink);\n",
              "        }\n",
              "      </script>\n",
              "    </div>\n",
              "  </div>\n",
              "  "
            ]
          },
          "metadata": {},
          "execution_count": 290
        }
      ],
      "source": [
        "x_train.head(10)"
      ]
    },
    {
      "cell_type": "code",
      "execution_count": null,
      "id": "08ccc819",
      "metadata": {
        "id": "08ccc819",
        "colab": {
          "base_uri": "https://localhost:8080/",
          "height": 300
        },
        "outputId": "8f136279-49d8-47aa-d30b-2d5979d26687"
      },
      "outputs": [
        {
          "output_type": "execute_result",
          "data": {
            "text/plain": [
              "       buisness_year        doc_id  converted_usd\n",
              "count   23494.000000  2.349400e+04   23494.000000\n",
              "mean     2019.131821  2.012946e+09   30973.357505\n",
              "std         0.338303  2.940739e+08   36861.381341\n",
              "min      2019.000000  1.928502e+09       4.380000\n",
              "25%      2019.000000  1.929186e+09    4549.520000\n",
              "50%      2019.000000  1.929737e+09   17092.220000\n",
              "75%      2019.000000  1.930210e+09   45768.506000\n",
              "max      2020.000000  9.500000e+09  668593.360000"
            ],
            "text/html": [
              "\n",
              "  <div id=\"df-f8472ba2-e939-4bc9-b1e8-36bb1b32c8a0\">\n",
              "    <div class=\"colab-df-container\">\n",
              "      <div>\n",
              "<style scoped>\n",
              "    .dataframe tbody tr th:only-of-type {\n",
              "        vertical-align: middle;\n",
              "    }\n",
              "\n",
              "    .dataframe tbody tr th {\n",
              "        vertical-align: top;\n",
              "    }\n",
              "\n",
              "    .dataframe thead th {\n",
              "        text-align: right;\n",
              "    }\n",
              "</style>\n",
              "<table border=\"1\" class=\"dataframe\">\n",
              "  <thead>\n",
              "    <tr style=\"text-align: right;\">\n",
              "      <th></th>\n",
              "      <th>buisness_year</th>\n",
              "      <th>doc_id</th>\n",
              "      <th>converted_usd</th>\n",
              "    </tr>\n",
              "  </thead>\n",
              "  <tbody>\n",
              "    <tr>\n",
              "      <th>count</th>\n",
              "      <td>23494.000000</td>\n",
              "      <td>2.349400e+04</td>\n",
              "      <td>23494.000000</td>\n",
              "    </tr>\n",
              "    <tr>\n",
              "      <th>mean</th>\n",
              "      <td>2019.131821</td>\n",
              "      <td>2.012946e+09</td>\n",
              "      <td>30973.357505</td>\n",
              "    </tr>\n",
              "    <tr>\n",
              "      <th>std</th>\n",
              "      <td>0.338303</td>\n",
              "      <td>2.940739e+08</td>\n",
              "      <td>36861.381341</td>\n",
              "    </tr>\n",
              "    <tr>\n",
              "      <th>min</th>\n",
              "      <td>2019.000000</td>\n",
              "      <td>1.928502e+09</td>\n",
              "      <td>4.380000</td>\n",
              "    </tr>\n",
              "    <tr>\n",
              "      <th>25%</th>\n",
              "      <td>2019.000000</td>\n",
              "      <td>1.929186e+09</td>\n",
              "      <td>4549.520000</td>\n",
              "    </tr>\n",
              "    <tr>\n",
              "      <th>50%</th>\n",
              "      <td>2019.000000</td>\n",
              "      <td>1.929737e+09</td>\n",
              "      <td>17092.220000</td>\n",
              "    </tr>\n",
              "    <tr>\n",
              "      <th>75%</th>\n",
              "      <td>2019.000000</td>\n",
              "      <td>1.930210e+09</td>\n",
              "      <td>45768.506000</td>\n",
              "    </tr>\n",
              "    <tr>\n",
              "      <th>max</th>\n",
              "      <td>2020.000000</td>\n",
              "      <td>9.500000e+09</td>\n",
              "      <td>668593.360000</td>\n",
              "    </tr>\n",
              "  </tbody>\n",
              "</table>\n",
              "</div>\n",
              "      <button class=\"colab-df-convert\" onclick=\"convertToInteractive('df-f8472ba2-e939-4bc9-b1e8-36bb1b32c8a0')\"\n",
              "              title=\"Convert this dataframe to an interactive table.\"\n",
              "              style=\"display:none;\">\n",
              "        \n",
              "  <svg xmlns=\"http://www.w3.org/2000/svg\" height=\"24px\"viewBox=\"0 0 24 24\"\n",
              "       width=\"24px\">\n",
              "    <path d=\"M0 0h24v24H0V0z\" fill=\"none\"/>\n",
              "    <path d=\"M18.56 5.44l.94 2.06.94-2.06 2.06-.94-2.06-.94-.94-2.06-.94 2.06-2.06.94zm-11 1L8.5 8.5l.94-2.06 2.06-.94-2.06-.94L8.5 2.5l-.94 2.06-2.06.94zm10 10l.94 2.06.94-2.06 2.06-.94-2.06-.94-.94-2.06-.94 2.06-2.06.94z\"/><path d=\"M17.41 7.96l-1.37-1.37c-.4-.4-.92-.59-1.43-.59-.52 0-1.04.2-1.43.59L10.3 9.45l-7.72 7.72c-.78.78-.78 2.05 0 2.83L4 21.41c.39.39.9.59 1.41.59.51 0 1.02-.2 1.41-.59l7.78-7.78 2.81-2.81c.8-.78.8-2.07 0-2.86zM5.41 20L4 18.59l7.72-7.72 1.47 1.35L5.41 20z\"/>\n",
              "  </svg>\n",
              "      </button>\n",
              "      \n",
              "  <style>\n",
              "    .colab-df-container {\n",
              "      display:flex;\n",
              "      flex-wrap:wrap;\n",
              "      gap: 12px;\n",
              "    }\n",
              "\n",
              "    .colab-df-convert {\n",
              "      background-color: #E8F0FE;\n",
              "      border: none;\n",
              "      border-radius: 50%;\n",
              "      cursor: pointer;\n",
              "      display: none;\n",
              "      fill: #1967D2;\n",
              "      height: 32px;\n",
              "      padding: 0 0 0 0;\n",
              "      width: 32px;\n",
              "    }\n",
              "\n",
              "    .colab-df-convert:hover {\n",
              "      background-color: #E2EBFA;\n",
              "      box-shadow: 0px 1px 2px rgba(60, 64, 67, 0.3), 0px 1px 3px 1px rgba(60, 64, 67, 0.15);\n",
              "      fill: #174EA6;\n",
              "    }\n",
              "\n",
              "    [theme=dark] .colab-df-convert {\n",
              "      background-color: #3B4455;\n",
              "      fill: #D2E3FC;\n",
              "    }\n",
              "\n",
              "    [theme=dark] .colab-df-convert:hover {\n",
              "      background-color: #434B5C;\n",
              "      box-shadow: 0px 1px 3px 1px rgba(0, 0, 0, 0.15);\n",
              "      filter: drop-shadow(0px 1px 2px rgba(0, 0, 0, 0.3));\n",
              "      fill: #FFFFFF;\n",
              "    }\n",
              "  </style>\n",
              "\n",
              "      <script>\n",
              "        const buttonEl =\n",
              "          document.querySelector('#df-f8472ba2-e939-4bc9-b1e8-36bb1b32c8a0 button.colab-df-convert');\n",
              "        buttonEl.style.display =\n",
              "          google.colab.kernel.accessAllowed ? 'block' : 'none';\n",
              "\n",
              "        async function convertToInteractive(key) {\n",
              "          const element = document.querySelector('#df-f8472ba2-e939-4bc9-b1e8-36bb1b32c8a0');\n",
              "          const dataTable =\n",
              "            await google.colab.kernel.invokeFunction('convertToInteractive',\n",
              "                                                     [key], {});\n",
              "          if (!dataTable) return;\n",
              "\n",
              "          const docLinkHtml = 'Like what you see? Visit the ' +\n",
              "            '<a target=\"_blank\" href=https://colab.research.google.com/notebooks/data_table.ipynb>data table notebook</a>'\n",
              "            + ' to learn more about interactive tables.';\n",
              "          element.innerHTML = '';\n",
              "          dataTable['output_type'] = 'display_data';\n",
              "          await google.colab.output.renderOutput(dataTable, element);\n",
              "          const docLink = document.createElement('div');\n",
              "          docLink.innerHTML = docLinkHtml;\n",
              "          element.appendChild(docLink);\n",
              "        }\n",
              "      </script>\n",
              "    </div>\n",
              "  </div>\n",
              "  "
            ]
          },
          "metadata": {},
          "execution_count": 291
        }
      ],
      "source": [
        "x_train.describe()"
      ]
    },
    {
      "cell_type": "markdown",
      "id": "abd7ac8b",
      "metadata": {
        "id": "abd7ac8b"
      },
      "source": [
        "#### The \"business_code\" column inside X_train, is a categorical column, so you need to perform Labelencoder on that particular column\n",
        "\n",
        "- Note - call the Label Encoder from sklearn library and use the fit() function on \"business_code\" column\n",
        "- Note - Please fill in the blanks (two) to complete this code"
      ]
    },
    {
      "cell_type": "code",
      "execution_count": null,
      "id": "7c223545",
      "metadata": {
        "id": "7c223545",
        "colab": {
          "base_uri": "https://localhost:8080/"
        },
        "outputId": "786c8f88-8a04-40ed-e069-8fab1e515919"
      },
      "outputs": [
        {
          "output_type": "execute_result",
          "data": {
            "text/plain": [
              "LabelEncoder()"
            ]
          },
          "metadata": {},
          "execution_count": 292
        }
      ],
      "source": [
        "from sklearn.preprocessing import LabelEncoder\n",
        "business_coder = LabelEncoder()\n",
        "business_coder.fit(x_train['business_code'])"
      ]
    },
    {
      "cell_type": "markdown",
      "id": "f86f7d9c",
      "metadata": {
        "id": "f86f7d9c"
      },
      "source": [
        "#### You are expected to store the value into a new column i.e. \"business_code_enc\"\n",
        "\n",
        "- Note - For Training set you are expected to use fit_trainsform()\n",
        "- Note - For Test set you are expected to use the trainsform()\n",
        "- Note - For Validation set you are expected to use the trainsform()\n",
        "\n",
        "\n",
        "- Partial code is provided, please fill in the blanks "
      ]
    },
    {
      "cell_type": "code",
      "execution_count": null,
      "id": "4269c307",
      "metadata": {
        "id": "4269c307"
      },
      "outputs": [],
      "source": [
        "x_train['business_code_enc'] = business_coder.fit_transform(x_train['business_code'])"
      ]
    },
    {
      "cell_type": "code",
      "execution_count": null,
      "id": "70a53712",
      "metadata": {
        "id": "70a53712"
      },
      "outputs": [],
      "source": [
        "x_val['business_code_enc'] = business_coder.transform(x_val['business_code'])\n",
        "x_test['business_code_enc'] = business_coder.transform(x_test['business_code'])"
      ]
    },
    {
      "cell_type": "markdown",
      "id": "gdNYxTkqNfmz",
      "metadata": {
        "id": "gdNYxTkqNfmz"
      },
      "source": [
        "### Display \"business_code\" and \"business_code_enc\" together from X_train dataframe "
      ]
    },
    {
      "cell_type": "code",
      "execution_count": null,
      "id": "1196a002",
      "metadata": {
        "id": "1196a002",
        "colab": {
          "base_uri": "https://localhost:8080/",
          "height": 423
        },
        "outputId": "615beb12-8656-48e1-9075-c1a37c2ab887"
      },
      "outputs": [
        {
          "output_type": "execute_result",
          "data": {
            "text/plain": [
              "      business_code  business_code_enc\n",
              "46871          U001                  1\n",
              "13721          CA02                  0\n",
              "15691          U001                  1\n",
              "2054           U001                  1\n",
              "48194          U001                  1\n",
              "...             ...                ...\n",
              "35298          U001                  1\n",
              "23062          U001                  1\n",
              "15380          U001                  1\n",
              "3803           U001                  1\n",
              "3940           U001                  1\n",
              "\n",
              "[23494 rows x 2 columns]"
            ],
            "text/html": [
              "\n",
              "  <div id=\"df-3afba3b8-e8f0-4ea5-a82a-f83187cb5527\">\n",
              "    <div class=\"colab-df-container\">\n",
              "      <div>\n",
              "<style scoped>\n",
              "    .dataframe tbody tr th:only-of-type {\n",
              "        vertical-align: middle;\n",
              "    }\n",
              "\n",
              "    .dataframe tbody tr th {\n",
              "        vertical-align: top;\n",
              "    }\n",
              "\n",
              "    .dataframe thead th {\n",
              "        text-align: right;\n",
              "    }\n",
              "</style>\n",
              "<table border=\"1\" class=\"dataframe\">\n",
              "  <thead>\n",
              "    <tr style=\"text-align: right;\">\n",
              "      <th></th>\n",
              "      <th>business_code</th>\n",
              "      <th>business_code_enc</th>\n",
              "    </tr>\n",
              "  </thead>\n",
              "  <tbody>\n",
              "    <tr>\n",
              "      <th>46871</th>\n",
              "      <td>U001</td>\n",
              "      <td>1</td>\n",
              "    </tr>\n",
              "    <tr>\n",
              "      <th>13721</th>\n",
              "      <td>CA02</td>\n",
              "      <td>0</td>\n",
              "    </tr>\n",
              "    <tr>\n",
              "      <th>15691</th>\n",
              "      <td>U001</td>\n",
              "      <td>1</td>\n",
              "    </tr>\n",
              "    <tr>\n",
              "      <th>2054</th>\n",
              "      <td>U001</td>\n",
              "      <td>1</td>\n",
              "    </tr>\n",
              "    <tr>\n",
              "      <th>48194</th>\n",
              "      <td>U001</td>\n",
              "      <td>1</td>\n",
              "    </tr>\n",
              "    <tr>\n",
              "      <th>...</th>\n",
              "      <td>...</td>\n",
              "      <td>...</td>\n",
              "    </tr>\n",
              "    <tr>\n",
              "      <th>35298</th>\n",
              "      <td>U001</td>\n",
              "      <td>1</td>\n",
              "    </tr>\n",
              "    <tr>\n",
              "      <th>23062</th>\n",
              "      <td>U001</td>\n",
              "      <td>1</td>\n",
              "    </tr>\n",
              "    <tr>\n",
              "      <th>15380</th>\n",
              "      <td>U001</td>\n",
              "      <td>1</td>\n",
              "    </tr>\n",
              "    <tr>\n",
              "      <th>3803</th>\n",
              "      <td>U001</td>\n",
              "      <td>1</td>\n",
              "    </tr>\n",
              "    <tr>\n",
              "      <th>3940</th>\n",
              "      <td>U001</td>\n",
              "      <td>1</td>\n",
              "    </tr>\n",
              "  </tbody>\n",
              "</table>\n",
              "<p>23494 rows × 2 columns</p>\n",
              "</div>\n",
              "      <button class=\"colab-df-convert\" onclick=\"convertToInteractive('df-3afba3b8-e8f0-4ea5-a82a-f83187cb5527')\"\n",
              "              title=\"Convert this dataframe to an interactive table.\"\n",
              "              style=\"display:none;\">\n",
              "        \n",
              "  <svg xmlns=\"http://www.w3.org/2000/svg\" height=\"24px\"viewBox=\"0 0 24 24\"\n",
              "       width=\"24px\">\n",
              "    <path d=\"M0 0h24v24H0V0z\" fill=\"none\"/>\n",
              "    <path d=\"M18.56 5.44l.94 2.06.94-2.06 2.06-.94-2.06-.94-.94-2.06-.94 2.06-2.06.94zm-11 1L8.5 8.5l.94-2.06 2.06-.94-2.06-.94L8.5 2.5l-.94 2.06-2.06.94zm10 10l.94 2.06.94-2.06 2.06-.94-2.06-.94-.94-2.06-.94 2.06-2.06.94z\"/><path d=\"M17.41 7.96l-1.37-1.37c-.4-.4-.92-.59-1.43-.59-.52 0-1.04.2-1.43.59L10.3 9.45l-7.72 7.72c-.78.78-.78 2.05 0 2.83L4 21.41c.39.39.9.59 1.41.59.51 0 1.02-.2 1.41-.59l7.78-7.78 2.81-2.81c.8-.78.8-2.07 0-2.86zM5.41 20L4 18.59l7.72-7.72 1.47 1.35L5.41 20z\"/>\n",
              "  </svg>\n",
              "      </button>\n",
              "      \n",
              "  <style>\n",
              "    .colab-df-container {\n",
              "      display:flex;\n",
              "      flex-wrap:wrap;\n",
              "      gap: 12px;\n",
              "    }\n",
              "\n",
              "    .colab-df-convert {\n",
              "      background-color: #E8F0FE;\n",
              "      border: none;\n",
              "      border-radius: 50%;\n",
              "      cursor: pointer;\n",
              "      display: none;\n",
              "      fill: #1967D2;\n",
              "      height: 32px;\n",
              "      padding: 0 0 0 0;\n",
              "      width: 32px;\n",
              "    }\n",
              "\n",
              "    .colab-df-convert:hover {\n",
              "      background-color: #E2EBFA;\n",
              "      box-shadow: 0px 1px 2px rgba(60, 64, 67, 0.3), 0px 1px 3px 1px rgba(60, 64, 67, 0.15);\n",
              "      fill: #174EA6;\n",
              "    }\n",
              "\n",
              "    [theme=dark] .colab-df-convert {\n",
              "      background-color: #3B4455;\n",
              "      fill: #D2E3FC;\n",
              "    }\n",
              "\n",
              "    [theme=dark] .colab-df-convert:hover {\n",
              "      background-color: #434B5C;\n",
              "      box-shadow: 0px 1px 3px 1px rgba(0, 0, 0, 0.15);\n",
              "      filter: drop-shadow(0px 1px 2px rgba(0, 0, 0, 0.3));\n",
              "      fill: #FFFFFF;\n",
              "    }\n",
              "  </style>\n",
              "\n",
              "      <script>\n",
              "        const buttonEl =\n",
              "          document.querySelector('#df-3afba3b8-e8f0-4ea5-a82a-f83187cb5527 button.colab-df-convert');\n",
              "        buttonEl.style.display =\n",
              "          google.colab.kernel.accessAllowed ? 'block' : 'none';\n",
              "\n",
              "        async function convertToInteractive(key) {\n",
              "          const element = document.querySelector('#df-3afba3b8-e8f0-4ea5-a82a-f83187cb5527');\n",
              "          const dataTable =\n",
              "            await google.colab.kernel.invokeFunction('convertToInteractive',\n",
              "                                                     [key], {});\n",
              "          if (!dataTable) return;\n",
              "\n",
              "          const docLinkHtml = 'Like what you see? Visit the ' +\n",
              "            '<a target=\"_blank\" href=https://colab.research.google.com/notebooks/data_table.ipynb>data table notebook</a>'\n",
              "            + ' to learn more about interactive tables.';\n",
              "          element.innerHTML = '';\n",
              "          dataTable['output_type'] = 'display_data';\n",
              "          await google.colab.output.renderOutput(dataTable, element);\n",
              "          const docLink = document.createElement('div');\n",
              "          docLink.innerHTML = docLinkHtml;\n",
              "          element.appendChild(docLink);\n",
              "        }\n",
              "      </script>\n",
              "    </div>\n",
              "  </div>\n",
              "  "
            ]
          },
          "metadata": {},
          "execution_count": 295
        }
      ],
      "source": [
        "x_train[['business_code', 'business_code_enc']]"
      ]
    },
    {
      "cell_type": "markdown",
      "id": "11477224",
      "metadata": {
        "id": "11477224"
      },
      "source": [
        "#### Create a function called \"custom\" for dropping the columns 'business_code' from train, test and validation dataframe\n",
        "\n",
        "- Note - Fill in the blank to complete the code"
      ]
    },
    {
      "cell_type": "code",
      "execution_count": null,
      "id": "1052868a",
      "metadata": {
        "id": "1052868a"
      },
      "outputs": [],
      "source": [
        "def custom(col ,traindf = x_train,valdf = x_val,testdf = x_test):\n",
        "    traindf.drop(col, axis =1,inplace=True)\n",
        "    valdf.drop(col,axis=1 , inplace=True)\n",
        "    testdf.drop(col,axis=1 , inplace=True)\n",
        "\n",
        "    return traindf,valdf ,testdf"
      ]
    },
    {
      "cell_type": "markdown",
      "id": "rI--ZuMbNLne",
      "metadata": {
        "id": "rI--ZuMbNLne"
      },
      "source": [
        "### Call the function by passing the column name which needed to be dropped from train, test and validation dataframes. Return updated dataframes to be stored in X_train ,X_val, X_test  \n",
        "\n",
        "- Note = Fill in the blank to complete the code "
      ]
    },
    {
      "cell_type": "code",
      "execution_count": null,
      "id": "1a0f955c",
      "metadata": {
        "id": "1a0f955c"
      },
      "outputs": [],
      "source": [
        "x_train , x_val , x_test = custom(['business_code'])"
      ]
    },
    {
      "cell_type": "markdown",
      "id": "28b5b27e",
      "metadata": {
        "id": "28b5b27e"
      },
      "source": [
        "### Manually replacing str values with numbers, Here we are trying manually replace the customer numbers with some specific values like, 'CCCA' as 1, 'CCU' as 2 and so on. Also we are converting the datatype \"cust_number\" field to int type.\n",
        "\n",
        "- We are doing it for all the three dataframes as shown below. This is fully completed code. No need to modify anything here \n",
        "\n"
      ]
    },
    {
      "cell_type": "code",
      "execution_count": null,
      "id": "85dd129e",
      "metadata": {
        "id": "85dd129e"
      },
      "outputs": [],
      "source": [
        "x_train['cust_number'] = x_train['cust_number'].str.replace('CCCA',\"1\").str.replace('CCU',\"2\").str.replace('CC',\"3\").astype(int)\n",
        "x_test['cust_number'] = x_test['cust_number'].str.replace('CCCA',\"1\").str.replace('CCU',\"2\").str.replace('CC',\"3\").astype(int)\n",
        "x_val['cust_number'] = x_val['cust_number'].str.replace('CCCA',\"1\").str.replace('CCU',\"2\").str.replace('CC',\"3\").astype(int)\n"
      ]
    },
    {
      "cell_type": "markdown",
      "id": "U8vA-zmdPnJ8",
      "metadata": {
        "id": "U8vA-zmdPnJ8"
      },
      "source": [
        "#### It differs from LabelEncoder by handling new classes and providing a value for it [Unknown]. Unknown will be added in fit and transform will take care of new item. It gives unknown class id.\n",
        "\n",
        "#### This will fit the encoder for all the unique values and introduce unknown value\n",
        "\n",
        "- Note - Keep this code as it is, we will be using this later on.  "
      ]
    },
    {
      "cell_type": "code",
      "execution_count": null,
      "id": "151f48ba",
      "metadata": {
        "id": "151f48ba"
      },
      "outputs": [],
      "source": [
        "#For encoding unseen labels\n",
        "class EncoderExt(object):\n",
        "    def __init__(self):\n",
        "        self.label_encoder = LabelEncoder()\n",
        "    def fit(self, data_list):\n",
        "        self.label_encoder = self.label_encoder.fit(list(data_list) + ['Unknown'])\n",
        "        self.classes_ = self.label_encoder.classes_\n",
        "        return self\n",
        "    def transform(self, data_list):\n",
        "        new_data_list = list(data_list)\n",
        "        for unique_item in np.unique(data_list):\n",
        "            if unique_item not in self.label_encoder.classes_:\n",
        "                new_data_list = ['Unknown' if x==unique_item else x for x in new_data_list]\n",
        "        return self.label_encoder.transform(new_data_list)"
      ]
    },
    {
      "cell_type": "markdown",
      "id": "254c64e6",
      "metadata": {
        "id": "254c64e6"
      },
      "source": [
        "### Use the user define Label Encoder function called \"EncoderExt\" for the \"name_customer\" column\n",
        "\n",
        "- Note - Keep the code as it is, no need to change"
      ]
    },
    {
      "cell_type": "code",
      "execution_count": null,
      "id": "62b17eff",
      "metadata": {
        "id": "62b17eff"
      },
      "outputs": [],
      "source": [
        "label_encoder = EncoderExt()\n",
        "label_encoder.fit(x_train['name_customer'])\n",
        "x_train['name_customer_enc']=label_encoder.transform(x_train['name_customer'])\n",
        "x_val['name_customer_enc']=label_encoder.transform(x_val['name_customer'])\n",
        "x_test['name_customer_enc']=label_encoder.transform(x_test['name_customer'])"
      ]
    },
    {
      "cell_type": "markdown",
      "id": "mK7LMoy2QZhy",
      "metadata": {
        "id": "mK7LMoy2QZhy"
      },
      "source": [
        "### As we have created the a new column \"name_customer_enc\", so now drop \"name_customer\" column from all three dataframes\n",
        "\n",
        "- Note - Keep the code as it is, no need to change"
      ]
    },
    {
      "cell_type": "code",
      "execution_count": null,
      "id": "ef85f1c0",
      "metadata": {
        "id": "ef85f1c0"
      },
      "outputs": [],
      "source": [
        "x_train ,x_val, x_test = custom(['name_customer'])"
      ]
    },
    {
      "cell_type": "markdown",
      "id": "3aa09d22",
      "metadata": {
        "id": "3aa09d22"
      },
      "source": [
        "### Using Label Encoder for the \"cust_payment_terms\" column\n",
        "\n",
        "- Note - Keep the code as it is, no need to change"
      ]
    },
    {
      "cell_type": "code",
      "execution_count": null,
      "id": "6f9ab642",
      "metadata": {
        "id": "6f9ab642"
      },
      "outputs": [],
      "source": [
        "label_encoder1 = EncoderExt()\n",
        "label_encoder1.fit(x_train['cust_payment_terms'])\n",
        "x_train['cust_payment_terms_enc']=label_encoder1.transform(x_train['cust_payment_terms'])\n",
        "x_val['cust_payment_terms_enc']=label_encoder1.transform(x_val['cust_payment_terms'])\n",
        "x_test['cust_payment_terms_enc']=label_encoder1.transform(x_test['cust_payment_terms'])"
      ]
    },
    {
      "cell_type": "code",
      "execution_count": null,
      "id": "55f9a7c2",
      "metadata": {
        "id": "55f9a7c2"
      },
      "outputs": [],
      "source": [
        "x_train ,x_val, x_test = custom(['cust_payment_terms'])"
      ]
    },
    {
      "cell_type": "markdown",
      "id": "0788f42b",
      "metadata": {
        "id": "0788f42b"
      },
      "source": [
        "## Check the datatype of all the columns of Train, Test and Validation dataframes realted to X\n",
        "\n",
        "- Note - You are expected yo use dtype"
      ]
    },
    {
      "cell_type": "code",
      "execution_count": null,
      "id": "bc79a316",
      "metadata": {
        "id": "bc79a316",
        "colab": {
          "base_uri": "https://localhost:8080/"
        },
        "outputId": "fedd5898-b5fd-47ae-f6ce-583f1bcd8a9b"
      },
      "outputs": [
        {
          "output_type": "execute_result",
          "data": {
            "text/plain": [
              "cust_number                        int64\n",
              "buisness_year                    float64\n",
              "doc_id                           float64\n",
              "posting_date              datetime64[ns]\n",
              "document_create_date.1    datetime64[ns]\n",
              "due_in_date               datetime64[ns]\n",
              "baseline_create_date      datetime64[ns]\n",
              "converted_usd                    float64\n",
              "business_code_enc                  int64\n",
              "name_customer_enc                  int64\n",
              "cust_payment_terms_enc             int64\n",
              "dtype: object"
            ]
          },
          "metadata": {},
          "execution_count": 304
        }
      ],
      "source": [
        "x_train.dtypes\n"
      ]
    },
    {
      "cell_type": "code",
      "execution_count": null,
      "id": "b33242d8",
      "metadata": {
        "id": "b33242d8",
        "colab": {
          "base_uri": "https://localhost:8080/"
        },
        "outputId": "60032788-56cd-4283-bf49-2cb45224b87e"
      },
      "outputs": [
        {
          "output_type": "execute_result",
          "data": {
            "text/plain": [
              "cust_number                        int64\n",
              "buisness_year                    float64\n",
              "doc_id                           float64\n",
              "posting_date              datetime64[ns]\n",
              "document_create_date.1    datetime64[ns]\n",
              "due_in_date               datetime64[ns]\n",
              "baseline_create_date      datetime64[ns]\n",
              "converted_usd                    float64\n",
              "business_code_enc                  int64\n",
              "name_customer_enc                  int64\n",
              "cust_payment_terms_enc             int64\n",
              "dtype: object"
            ]
          },
          "metadata": {},
          "execution_count": 305
        }
      ],
      "source": [
        "x_test.dtypes"
      ]
    },
    {
      "cell_type": "code",
      "execution_count": null,
      "id": "6bd4da71",
      "metadata": {
        "id": "6bd4da71",
        "colab": {
          "base_uri": "https://localhost:8080/"
        },
        "outputId": "a1fe8654-b766-416c-d785-e615c4164619"
      },
      "outputs": [
        {
          "output_type": "execute_result",
          "data": {
            "text/plain": [
              "cust_number                        int64\n",
              "buisness_year                    float64\n",
              "doc_id                           float64\n",
              "posting_date              datetime64[ns]\n",
              "document_create_date.1    datetime64[ns]\n",
              "due_in_date               datetime64[ns]\n",
              "baseline_create_date      datetime64[ns]\n",
              "converted_usd                    float64\n",
              "business_code_enc                  int64\n",
              "name_customer_enc                  int64\n",
              "cust_payment_terms_enc             int64\n",
              "dtype: object"
            ]
          },
          "metadata": {},
          "execution_count": 306
        }
      ],
      "source": [
        "x_val.dtypes"
      ]
    },
    {
      "cell_type": "markdown",
      "id": "LVfvuPiWPeMB",
      "metadata": {
        "id": "LVfvuPiWPeMB"
      },
      "source": [
        "### From the above output you can notice their are multiple date columns with datetime format\n",
        "\n",
        "### In order to pass it into our model, we need to convert it into float format"
      ]
    },
    {
      "cell_type": "markdown",
      "id": "9d344db9",
      "metadata": {
        "id": "9d344db9"
      },
      "source": [
        "### You need to extract day, month and year from the \"posting_date\" column \n",
        "\n",
        "1.   Extract days from \"posting_date\" column and store it into a new column \"day_of_postingdate\" for train, test and validation dataset \n",
        "2.   Extract months from \"posting_date\" column and store it into a new column \"month_of_postingdate\" for train, test and validation dataset\n",
        "3.   Extract year from \"posting_date\" column and store it into a new column \"year_of_postingdate\" for train, test and validation dataset \n",
        "\n",
        "\n",
        "\n",
        "- Note - You are supposed yo use \n",
        "\n",
        "*   dt.day\n",
        "*   dt.month\n",
        "*   dt.year\n",
        "\n",
        "\n",
        "\n",
        "\n"
      ]
    },
    {
      "cell_type": "code",
      "source": [
        "x_train['posting_date'] = pd.to_datetime(x_train['posting_date'], errors='coerce')\n",
        "x_val['posting_date']= pd.to_datetime(x_val['posting_date'], errors='coerce')\n",
        "x_test['posting_date']= pd.to_datetime(x_test['posting_date'], errors='coerce')\n"
      ],
      "metadata": {
        "id": "imrTDkZpLW-8"
      },
      "id": "imrTDkZpLW-8",
      "execution_count": null,
      "outputs": []
    },
    {
      "cell_type": "code",
      "execution_count": null,
      "id": "6e3cdfd6",
      "metadata": {
        "id": "6e3cdfd6"
      },
      "outputs": [],
      "source": [
        "x_train['day_of_postingdate'] = x_train['posting_date'].dt.day\n",
        "x_train['month_of_postingdate'] = x_train['posting_date'].dt.month\n",
        "x_train['year_of_postingdate'] = x_train['posting_date'].dt.year\n",
        "\n",
        "x_val['day_of_postingdate'] = x_val['posting_date'].dt.day\n",
        "x_val['month_of_postingdate'] = x_val['posting_date'].dt.month\n",
        "x_val['year_of_postingdate'] = x_val['posting_date'].dt.year\n",
        "\n",
        "\n",
        "x_test['day_of_postingdate'] = x_test['posting_date'].dt.day\n",
        "x_test['month_of_postingdate'] = x_test['posting_date'].dt.month\n",
        "x_test['year_of_postingdate'] = x_test['posting_date'].dt.year\n",
        "\n"
      ]
    },
    {
      "cell_type": "markdown",
      "id": "GyI-F853Rxa7",
      "metadata": {
        "id": "GyI-F853Rxa7"
      },
      "source": [
        "### pass the \"posting_date\" column into the Custom function for train, test and validation dataset"
      ]
    },
    {
      "cell_type": "code",
      "execution_count": null,
      "id": "FQHtQkrnRx_V",
      "metadata": {
        "id": "FQHtQkrnRx_V"
      },
      "outputs": [],
      "source": [
        "x_train ,x_val, x_test = custom(['posting_date'])"
      ]
    },
    {
      "cell_type": "markdown",
      "id": "GMnCaEcKReSw",
      "metadata": {
        "id": "GMnCaEcKReSw"
      },
      "source": [
        "### You need to extract day, month and year from the \"baseline_create_date\" column \n",
        "\n",
        "1.   Extract days from \"baseline_create_date\" column and store it into a new column \"day_of_createdate\" for train, test and validation dataset \n",
        "2.   Extract months from \"baseline_create_date\" column and store it into a new column \"month_of_createdate\" for train, test and validation dataset\n",
        "3.   Extract year from \"baseline_create_date\" column and store it into a new column \"year_of_createdate\" for train, test and validation dataset \n",
        "\n",
        "\n",
        "\n",
        "- Note - You are supposed yo use \n",
        "\n",
        "*   dt.day\n",
        "*   dt.month\n",
        "*   dt.year\n",
        "\n",
        "\n",
        "- Note - Do as it is been shown in the previous two code boxes"
      ]
    },
    {
      "cell_type": "markdown",
      "id": "ee4d83d0",
      "metadata": {
        "id": "ee4d83d0"
      },
      "source": [
        "### Extracting Day, Month, Year for 'baseline_create_date' column"
      ]
    },
    {
      "cell_type": "code",
      "source": [
        "x_train['baseline_create_date'] = pd.to_datetime(x_train['baseline_create_date'], errors='coerce')\n",
        "x_val['baseline_create_date']= pd.to_datetime(x_val['baseline_create_date'], errors='coerce')\n",
        "x_test['baseline_create_date']= pd.to_datetime(x_test['baseline_create_date'], errors='coerce')"
      ],
      "metadata": {
        "id": "Oq35x1ZbNJ9r"
      },
      "id": "Oq35x1ZbNJ9r",
      "execution_count": null,
      "outputs": []
    },
    {
      "cell_type": "code",
      "execution_count": null,
      "id": "32b240e1",
      "metadata": {
        "id": "32b240e1"
      },
      "outputs": [],
      "source": [
        "x_train['day_of_createdate'] = x_train['baseline_create_date'].dt.day\n",
        "x_train['month_of_createdate'] = x_train['baseline_create_date'].dt.month\n",
        "x_train['year_of_createdate'] = x_train['baseline_create_date'].dt.year\n",
        "\n",
        "x_val['day_of_createdate'] = x_val['baseline_create_date'].dt.day\n",
        "x_val['month_of_createdate'] = x_val['baseline_create_date'].dt.month\n",
        "x_val['year_of_createdate'] = x_val['baseline_create_date'].dt.year\n",
        "\n",
        "\n",
        "x_test['day_of_createdate'] = x_test['baseline_create_date'].dt.day\n",
        "x_test['month_of_createdate'] = x_test['baseline_create_date'].dt.month\n",
        "x_test['year_of_createdate'] = x_test['baseline_create_date'].dt.year"
      ]
    },
    {
      "cell_type": "markdown",
      "id": "cFgwkS5rSDDs",
      "metadata": {
        "id": "cFgwkS5rSDDs"
      },
      "source": [
        "### pass the \"baseline_create_date\" column into the Custom function for train, test and validation dataset"
      ]
    },
    {
      "cell_type": "code",
      "execution_count": null,
      "id": "RGYa2BEQSDg3",
      "metadata": {
        "id": "RGYa2BEQSDg3"
      },
      "outputs": [],
      "source": [
        "x_train ,x_val, x_test = custom(['baseline_create_date'])"
      ]
    },
    {
      "cell_type": "markdown",
      "id": "77c7a0df",
      "metadata": {
        "id": "77c7a0df"
      },
      "source": [
        "### You need to extract day, month and year from the \"due_in_date\" column \n",
        "\n",
        "1.   Extract days from \"due_in_date\" column and store it into a new column \"day_of_due\" for train, test and validation dataset \n",
        "2.   Extract months from \"due_in_date\" column and store it into a new column \"month_of_due\" for train, test and validation dataset\n",
        "3.   Extract year from \"due_in_date\" column and store it into a new column \"year_of_due\" for train, test and validation dataset \n",
        "\n",
        "\n",
        "\n",
        "- Note - You are supposed yo use \n",
        "\n",
        "*   dt.day\n",
        "*   dt.month\n",
        "*   dt.year\n",
        "\n",
        "- Note - Do as it is been shown in the previous code"
      ]
    },
    {
      "cell_type": "code",
      "execution_count": null,
      "id": "5c745547",
      "metadata": {
        "id": "5c745547"
      },
      "outputs": [],
      "source": [
        "x_train['due_in_date'] = pd.to_datetime(x_train['due_in_date'], errors='coerce')\n",
        "x_val['due_in_date']= pd.to_datetime(x_val['due_in_date'], errors='coerce')\n",
        "x_test['due_in_date']= pd.to_datetime(x_test['due_in_date'], errors='coerce')"
      ]
    },
    {
      "cell_type": "code",
      "source": [
        "x_train['day_of_due'] = x_train['due_in_date'].dt.day\n",
        "x_train['month_of_due'] = x_train['due_in_date'].dt.month\n",
        "x_train['year_of_due'] = x_train['due_in_date'].dt.year\n",
        "\n",
        "x_val['day_of_due'] = x_val['due_in_date'].dt.day\n",
        "x_val['month_of_due'] = x_val['due_in_date'].dt.month\n",
        "x_val['year_of_due'] = x_val['due_in_date'].dt.year\n",
        "\n",
        "\n",
        "x_test['day_of_due'] = x_test['due_in_date'].dt.day\n",
        "x_test['month_of_due'] = x_test['due_in_date'].dt.month\n",
        "x_test['year_of_due'] = x_test['due_in_date'].dt.year"
      ],
      "metadata": {
        "id": "5a4XJWlbNbfk"
      },
      "id": "5a4XJWlbNbfk",
      "execution_count": null,
      "outputs": []
    },
    {
      "cell_type": "markdown",
      "id": "FYLLzulGSvRd",
      "metadata": {
        "id": "FYLLzulGSvRd"
      },
      "source": [
        "pass the \"due_in_date\" column into the Custom function for train, test and validation dataset"
      ]
    },
    {
      "cell_type": "code",
      "execution_count": null,
      "id": "1-s6QuY9Svrh",
      "metadata": {
        "id": "1-s6QuY9Svrh"
      },
      "outputs": [],
      "source": [
        "x_train ,x_val, x_test = custom(['due_in_date'])"
      ]
    },
    {
      "cell_type": "markdown",
      "id": "1ae5d052",
      "metadata": {
        "id": "1ae5d052"
      },
      "source": [
        "### Check for the datatypes for train, test and validation set again\n",
        "\n",
        "- Note - all the data type should be in either int64 or float64 format \n"
      ]
    },
    {
      "cell_type": "code",
      "source": [
        "x_train.drop(['document_create_date.1'], axis = 1, inplace = True) \n",
        "x_test.drop(['document_create_date.1'], axis = 1, inplace = True) \n",
        "x_val.drop(['document_create_date.1'], axis = 1, inplace = True) "
      ],
      "metadata": {
        "id": "_8OzOXwrU2-x"
      },
      "id": "_8OzOXwrU2-x",
      "execution_count": null,
      "outputs": []
    },
    {
      "cell_type": "code",
      "execution_count": null,
      "id": "aee9d828",
      "metadata": {
        "id": "aee9d828",
        "colab": {
          "base_uri": "https://localhost:8080/"
        },
        "outputId": "a1bdcfa0-aef9-4140-8cd9-16bcbea16dfa"
      },
      "outputs": [
        {
          "output_type": "execute_result",
          "data": {
            "text/plain": [
              "cust_number                 int64\n",
              "buisness_year             float64\n",
              "doc_id                    float64\n",
              "converted_usd             float64\n",
              "business_code_enc           int64\n",
              "name_customer_enc           int64\n",
              "cust_payment_terms_enc      int64\n",
              "day_of_postingdate          int64\n",
              "month_of_postingdate        int64\n",
              "year_of_postingdate         int64\n",
              "day_of_createdate           int64\n",
              "month_of_createdate         int64\n",
              "year_of_createdate          int64\n",
              "day_of_due                  int64\n",
              "month_of_due                int64\n",
              "year_of_due                 int64\n",
              "dtype: object"
            ]
          },
          "metadata": {},
          "execution_count": 317
        }
      ],
      "source": [
        "x_train.dtypes"
      ]
    },
    {
      "cell_type": "code",
      "source": [
        "x_test.dtypes"
      ],
      "metadata": {
        "colab": {
          "base_uri": "https://localhost:8080/"
        },
        "id": "mTYOJLHTOJAR",
        "outputId": "773176da-ec6e-4071-f83e-8b71e4cb1312"
      },
      "id": "mTYOJLHTOJAR",
      "execution_count": null,
      "outputs": [
        {
          "output_type": "execute_result",
          "data": {
            "text/plain": [
              "cust_number                 int64\n",
              "buisness_year             float64\n",
              "doc_id                    float64\n",
              "converted_usd             float64\n",
              "business_code_enc           int64\n",
              "name_customer_enc           int64\n",
              "cust_payment_terms_enc      int64\n",
              "day_of_postingdate          int64\n",
              "month_of_postingdate        int64\n",
              "year_of_postingdate         int64\n",
              "day_of_createdate           int64\n",
              "month_of_createdate         int64\n",
              "year_of_createdate          int64\n",
              "day_of_due                  int64\n",
              "month_of_due                int64\n",
              "year_of_due                 int64\n",
              "dtype: object"
            ]
          },
          "metadata": {},
          "execution_count": 318
        }
      ]
    },
    {
      "cell_type": "code",
      "source": [
        "x_val.dtypes"
      ],
      "metadata": {
        "colab": {
          "base_uri": "https://localhost:8080/"
        },
        "id": "kDmvoXfCOJJe",
        "outputId": "7e7cd964-7fa3-4a74-a5e7-b4759c97ca50"
      },
      "id": "kDmvoXfCOJJe",
      "execution_count": null,
      "outputs": [
        {
          "output_type": "execute_result",
          "data": {
            "text/plain": [
              "cust_number                 int64\n",
              "buisness_year             float64\n",
              "doc_id                    float64\n",
              "converted_usd             float64\n",
              "business_code_enc           int64\n",
              "name_customer_enc           int64\n",
              "cust_payment_terms_enc      int64\n",
              "day_of_postingdate          int64\n",
              "month_of_postingdate        int64\n",
              "year_of_postingdate         int64\n",
              "day_of_createdate           int64\n",
              "month_of_createdate         int64\n",
              "year_of_createdate          int64\n",
              "day_of_due                  int64\n",
              "month_of_due                int64\n",
              "year_of_due                 int64\n",
              "dtype: object"
            ]
          },
          "metadata": {},
          "execution_count": 319
        }
      ]
    },
    {
      "cell_type": "markdown",
      "id": "65810f55",
      "metadata": {
        "id": "65810f55"
      },
      "source": [
        "# Feature Selection"
      ]
    },
    {
      "cell_type": "markdown",
      "id": "4bb1ad9f",
      "metadata": {
        "id": "4bb1ad9f"
      },
      "source": [
        "### Filter Method\n",
        "\n",
        "- Calling the VarianceThreshold Function \n",
        "- Note - Keep the code as it is, no need to change "
      ]
    },
    {
      "cell_type": "code",
      "execution_count": null,
      "id": "e882509f",
      "metadata": {
        "id": "e882509f",
        "colab": {
          "base_uri": "https://localhost:8080/"
        },
        "outputId": "d1edce9b-19eb-4c75-c762-2a14a055a1bc"
      },
      "outputs": [
        {
          "output_type": "execute_result",
          "data": {
            "text/plain": [
              "16"
            ]
          },
          "metadata": {},
          "execution_count": 320
        }
      ],
      "source": [
        "from sklearn.feature_selection import VarianceThreshold\n",
        "constant_filter = VarianceThreshold(threshold=0)\n",
        "constant_filter.fit(x_train)\n",
        "len(x_train.columns[constant_filter.get_support()])"
      ]
    },
    {
      "cell_type": "markdown",
      "id": "V9531H3jR-W2",
      "metadata": {
        "id": "V9531H3jR-W2"
      },
      "source": [
        "- Note - Keep the code as it is, no need to change \n"
      ]
    },
    {
      "cell_type": "code",
      "execution_count": null,
      "id": "c77c12e1",
      "metadata": {
        "id": "c77c12e1",
        "colab": {
          "base_uri": "https://localhost:8080/"
        },
        "outputId": "2be885af-a4fb-43f4-ca5b-5c293f1df04b"
      },
      "outputs": [
        {
          "output_type": "stream",
          "name": "stdout",
          "text": [
            "0\n"
          ]
        }
      ],
      "source": [
        "constant_columns = [column for column in x_train.columns\n",
        "                    if column not in x_train.columns[constant_filter.get_support()]]\n",
        "print(len(constant_columns))"
      ]
    },
    {
      "cell_type": "markdown",
      "id": "6d9b8610",
      "metadata": {
        "id": "6d9b8610"
      },
      "source": [
        "- transpose the feature matrice\n",
        "- print the number of duplicated features\n",
        "- select the duplicated features columns names\n",
        "\n",
        "- Note - Keep the code as it is, no need to change \n"
      ]
    },
    {
      "cell_type": "code",
      "execution_count": null,
      "id": "0fb7db95",
      "metadata": {
        "id": "0fb7db95",
        "colab": {
          "base_uri": "https://localhost:8080/"
        },
        "outputId": "b105b729-5522-4545-df5c-047c42de9c3b"
      },
      "outputs": [
        {
          "output_type": "stream",
          "name": "stdout",
          "text": [
            "0\n"
          ]
        }
      ],
      "source": [
        "x_train_T = x_train.T\n",
        "print(x_train_T.duplicated().sum())\n",
        "duplicated_columns = x_train_T[x_train_T.duplicated()].index.values"
      ]
    },
    {
      "cell_type": "markdown",
      "id": "510fa831",
      "metadata": {
        "id": "510fa831"
      },
      "source": [
        "### Filtering depending upon correlation matrix value\n",
        "- We have created a function called handling correlation which is going to return fields based on the correlation matrix value with a threshold of 0.8\n",
        "\n",
        "- Note - Keep the code as it is, no need to change "
      ]
    },
    {
      "cell_type": "code",
      "execution_count": null,
      "id": "67731abc",
      "metadata": {
        "id": "67731abc"
      },
      "outputs": [],
      "source": [
        "def handling_correlation(x_train,threshold=0.8):\n",
        "    corr_features = set()\n",
        "    corr_matrix = x_train.corr()\n",
        "    for i in range(len(corr_matrix .columns)):\n",
        "        for j in range(i):\n",
        "            if abs(corr_matrix.iloc[i, j]) >threshold:\n",
        "                colname = corr_matrix.columns[i]\n",
        "                corr_features.add(colname)\n",
        "    return list(corr_features)"
      ]
    },
    {
      "cell_type": "markdown",
      "id": "JaE_6qVgSXl3",
      "metadata": {
        "id": "JaE_6qVgSXl3"
      },
      "source": [
        "- Note : Here we are trying to find out the relevant fields, from X_train\n",
        "- Please fill in the blanks to call handling_correlation() function with a threshold value of 0.85"
      ]
    },
    {
      "cell_type": "code",
      "execution_count": null,
      "id": "dd91d1a2",
      "metadata": {
        "id": "dd91d1a2",
        "colab": {
          "base_uri": "https://localhost:8080/"
        },
        "outputId": "a27cdbe9-4453-42e1-8ab2-9bc8eaf37939"
      },
      "outputs": [
        {
          "output_type": "execute_result",
          "data": {
            "text/plain": [
              "['month_of_due',\n",
              " 'day_of_createdate',\n",
              " 'year_of_due',\n",
              " 'year_of_createdate',\n",
              " 'year_of_postingdate',\n",
              " 'month_of_createdate']"
            ]
          },
          "metadata": {},
          "execution_count": 324
        }
      ],
      "source": [
        "train=x_train.copy()\n",
        "handling_correlation(train.copy(),0.85)"
      ]
    },
    {
      "cell_type": "markdown",
      "id": "154da511",
      "metadata": {
        "id": "154da511"
      },
      "source": [
        "### Heatmap for X_train\n",
        "\n",
        "- Note - Keep the code as it is, no need to change"
      ]
    },
    {
      "cell_type": "code",
      "execution_count": null,
      "id": "2e8f2fe4",
      "metadata": {
        "id": "2e8f2fe4",
        "colab": {
          "base_uri": "https://localhost:8080/",
          "height": 877
        },
        "outputId": "506b40ee-3503-4f5a-807f-80676cfa6ba9"
      },
      "outputs": [
        {
          "output_type": "execute_result",
          "data": {
            "text/plain": [
              "<matplotlib.axes._subplots.AxesSubplot at 0x7fdb3a8970d0>"
            ]
          },
          "metadata": {},
          "execution_count": 325
        },
        {
          "output_type": "display_data",
          "data": {
            "text/plain": [
              "<Figure size 1008x864 with 2 Axes>"
            ],
            "image/png": "[encoded data removed]"
          },
          "metadata": {}
        }
      ],
      "source": [
        "colormap = plt.cm.RdBu\n",
        "plt.figure(figsize=(14,12))\n",
        "plt.title('Pearson Correlation of Features', y=1.05, size=20)\n",
        "sns.heatmap(x_train.merge(y_train , on = x_train.index ).corr(),linewidths=0.1,vmax=1.0, \n",
        "            square=True, cmap='gist_rainbow_r', linecolor='white', annot=True)"
      ]
    },
    {
      "cell_type": "markdown",
      "id": "e3b0d745",
      "metadata": {
        "id": "e3b0d745"
      },
      "source": [
        "#### Calling variance threshold for threshold value = 0.8\n",
        "\n",
        "- Note -  Fill in the blanks to call the appropriate method"
      ]
    },
    {
      "cell_type": "code",
      "execution_count": null,
      "id": "a9b2080f",
      "metadata": {
        "id": "a9b2080f",
        "colab": {
          "base_uri": "https://localhost:8080/"
        },
        "outputId": "c9a4b049-9da8-48ec-8a23-bbee55b86937"
      },
      "outputs": [
        {
          "output_type": "execute_result",
          "data": {
            "text/plain": [
              "VarianceThreshold(threshold=0.8)"
            ]
          },
          "metadata": {},
          "execution_count": 326
        }
      ],
      "source": [
        "from sklearn.feature_selection import VarianceThreshold\n",
        "sel = VarianceThreshold(0.8)\n",
        "sel.fit(x_train)"
      ]
    },
    {
      "cell_type": "code",
      "execution_count": null,
      "id": "6cb8c3dc",
      "metadata": {
        "id": "6cb8c3dc",
        "colab": {
          "base_uri": "https://localhost:8080/"
        },
        "outputId": "98c2c05e-1f28-45ac-d535-27811a895235"
      },
      "outputs": [
        {
          "output_type": "execute_result",
          "data": {
            "text/plain": [
              "array([1.75993758e+15, 1.14444143e-01, 8.64757754e+16, 1.35870360e+09,\n",
              "       2.78026454e-01, 1.06914117e+06, 1.32350859e+02, 7.57801924e+01,\n",
              "       1.23431542e+01, 1.14840324e-01, 7.73816150e+01, 1.23512185e+01,\n",
              "       1.15021517e-01, 7.64990161e+01, 1.21465443e+01, 1.18009196e-01])"
            ]
          },
          "metadata": {},
          "execution_count": 327
        }
      ],
      "source": [
        "sel.variances_"
      ]
    },
    {
      "cell_type": "markdown",
      "id": "62633a84",
      "metadata": {
        "id": "62633a84"
      },
      "source": [
        "### Features columns are \n",
        "- 'year_of_createdate' \n",
        "- 'year_of_due'\n",
        "- 'day_of_createdate'\n",
        "- 'year_of_postingdate'\n",
        "- 'month_of_due'\n",
        "- 'month_of_createdate'"
      ]
    },
    {
      "cell_type": "markdown",
      "id": "651f1ad0",
      "metadata": {
        "id": "651f1ad0"
      },
      "source": [
        "# Modelling \n",
        "\n",
        "#### Now you need to compare with different machine learning models, and needs to find out the best predicted model\n",
        "\n",
        "- Linear Regression\n",
        "- Decision Tree Regression\n",
        "- Random Forest Regression\n",
        "- Support Vector Regression\n",
        "- Extreme Gradient Boost Regression "
      ]
    },
    {
      "cell_type": "markdown",
      "id": "PicEhSuUUOkt",
      "metadata": {
        "id": "PicEhSuUUOkt"
      },
      "source": [
        "### You need to make different blank list for different evaluation matrix \n",
        "\n",
        "- MSE\n",
        "- R2\n",
        "- Algorithm"
      ]
    },
    {
      "cell_type": "code",
      "execution_count": null,
      "id": "701e12b0",
      "metadata": {
        "id": "701e12b0"
      },
      "outputs": [],
      "source": [
        "MSE_Score = []\n",
        "R2_Score = []\n",
        "Algorithm = []\n",
        "Accuracy = []\n",
        "from sklearn.metrics import mean_squared_error\n",
        "from sklearn.metrics import r2_score"
      ]
    },
    {
      "cell_type": "markdown",
      "id": "29310119",
      "metadata": {
        "id": "29310119"
      },
      "source": [
        "### You need to start with the baseline model Linear Regression\n",
        "\n",
        "- Step 1 : Call the Linear Regression from sklearn library\n",
        "- Step 2 : make an object of Linear Regression \n",
        "- Step 3 : fit the X_train and y_train dataframe into the object \n",
        "- Step 4 : Predict the output by passing the X_test Dataset into predict function\n",
        "\n",
        "\n",
        "\n",
        "\n",
        "- Note - Append the Algorithm name into the algorithm list for tracking purpose"
      ]
    },
    {
      "cell_type": "code",
      "execution_count": null,
      "id": "6bdea395",
      "metadata": {
        "id": "6bdea395"
      },
      "outputs": [],
      "source": [
        "from sklearn.linear_model import LinearRegression\n",
        "Algorithm.append('LinearRegression')\n",
        "regressor = LinearRegression()\n",
        "regressor.fit(x_train, y_train)\n",
        "predicted= regressor.predict(x_test)"
      ]
    },
    {
      "cell_type": "markdown",
      "id": "G02cpnBhXJ14",
      "metadata": {
        "id": "G02cpnBhXJ14"
      },
      "source": [
        "### Check for the \n",
        "\n",
        "- Mean Square Error\n",
        "- R Square Error \n",
        "\n",
        "for y_test and predicted dataset and store those data inside respective list for comparison "
      ]
    },
    {
      "cell_type": "code",
      "execution_count": null,
      "id": "0f69ca19",
      "metadata": {
        "id": "0f69ca19"
      },
      "outputs": [],
      "source": [
        "MSE_Score.append(round(sm.mean_squared_error(y_test, predicted), 2)) \n",
        "R2_Score.append(round(sm.r2_score(y_test, predicted), 2))\n",
        "Accuracy.append(regressor.score(x_test, y_test))"
      ]
    },
    {
      "cell_type": "markdown",
      "id": "CsmScbHjYMv1",
      "metadata": {
        "id": "CsmScbHjYMv1"
      },
      "source": [
        "### Check the same for the Validation set also "
      ]
    },
    {
      "cell_type": "code",
      "execution_count": null,
      "id": "fe653295",
      "metadata": {
        "id": "fe653295",
        "colab": {
          "base_uri": "https://localhost:8080/"
        },
        "outputId": "f6a2ec44-e9b7-441a-c020-12ddc43d6b5d"
      },
      "outputs": [
        {
          "output_type": "execute_result",
          "data": {
            "text/plain": [
              "6.044823044360258"
            ]
          },
          "metadata": {},
          "execution_count": 331
        }
      ],
      "source": [
        "predict_test= regressor.predict(x_val)\n",
        "mean_squared_error(y_val, predict_test, squared=False)"
      ]
    },
    {
      "cell_type": "markdown",
      "id": "LokxV2LGYUVh",
      "metadata": {
        "id": "LokxV2LGYUVh"
      },
      "source": [
        "### Display The Comparison Lists"
      ]
    },
    {
      "cell_type": "code",
      "execution_count": null,
      "id": "9c405bd3",
      "metadata": {
        "id": "9c405bd3",
        "colab": {
          "base_uri": "https://localhost:8080/"
        },
        "outputId": "70a71331-e60c-4e3f-a128-9f4101cec72e"
      },
      "outputs": [
        {
          "output_type": "stream",
          "name": "stdout",
          "text": [
            "['LinearRegression'],[39.58],[0.29],"
          ]
        }
      ],
      "source": [
        "for i in Algorithm, MSE_Score, R2_Score:\n",
        "    print(i,end=',')"
      ]
    },
    {
      "cell_type": "markdown",
      "id": "b0e65c86",
      "metadata": {
        "id": "b0e65c86"
      },
      "source": [
        "### You need to start with the baseline model Support Vector Regression\n",
        "\n",
        "- Step 1 : Call the Support Vector Regressor from sklearn library\n",
        "- Step 2 : make an object of SVR\n",
        "- Step 3 : fit the X_train and y_train dataframe into the object \n",
        "- Step 4 : Predict the output by passing the X_test Dataset into predict function\n",
        "\n",
        "\n",
        "\n",
        "\n",
        "- Note - Append the Algorithm name into the algorithm list for tracking purpose"
      ]
    },
    {
      "cell_type": "code",
      "execution_count": null,
      "id": "ccb5de08",
      "metadata": {
        "id": "ccb5de08"
      },
      "outputs": [],
      "source": [
        "from sklearn.svm import SVR\n",
        "Algorithm.append('Support Vector Regressor')\n",
        "regressor = SVR()\n",
        "regressor.fit(x_train, y_train)\n",
        "predicted= regressor.predict(x_test)"
      ]
    },
    {
      "cell_type": "markdown",
      "id": "zz9kcrViYt7e",
      "metadata": {
        "id": "zz9kcrViYt7e"
      },
      "source": [
        "### Check for the \n",
        "\n",
        "- Mean Square Error\n",
        "- R Square Error \n",
        "\n",
        "for \"y_test\" and \"predicted\" dataset and store those data inside respective list for comparison "
      ]
    },
    {
      "cell_type": "code",
      "execution_count": null,
      "id": "5bb9db76",
      "metadata": {
        "id": "5bb9db76"
      },
      "outputs": [],
      "source": [
        "MSE_Score.append(round(sm.mean_squared_error(y_test, predicted), 2)) \n",
        "R2_Score.append(round(sm.r2_score(y_test, predicted), 2))\n",
        "Accuracy.append(regressor.score(x_test, y_test))"
      ]
    },
    {
      "cell_type": "markdown",
      "id": "0YAxd8N9Y0hJ",
      "metadata": {
        "id": "0YAxd8N9Y0hJ"
      },
      "source": [
        "### Check the same for the Validation set also "
      ]
    },
    {
      "cell_type": "code",
      "execution_count": null,
      "id": "d6ee71b1",
      "metadata": {
        "id": "d6ee71b1",
        "colab": {
          "base_uri": "https://localhost:8080/"
        },
        "outputId": "b4aac64c-2950-439c-fef6-081d525a098a"
      },
      "outputs": [
        {
          "output_type": "execute_result",
          "data": {
            "text/plain": [
              "6.9668362189851845"
            ]
          },
          "metadata": {},
          "execution_count": 335
        }
      ],
      "source": [
        "predict_test= regressor.predict(x_val)\n",
        "mean_squared_error(y_val, predict_test, squared=False)"
      ]
    },
    {
      "cell_type": "markdown",
      "id": "eGcqS5EcY4BI",
      "metadata": {
        "id": "eGcqS5EcY4BI"
      },
      "source": [
        "### Display The Comparison Lists"
      ]
    },
    {
      "cell_type": "code",
      "execution_count": null,
      "id": "aa72c1ec",
      "metadata": {
        "id": "aa72c1ec",
        "colab": {
          "base_uri": "https://localhost:8080/"
        },
        "outputId": "53c8b683-8343-4ac0-ef0b-c001fb0311e2"
      },
      "outputs": [
        {
          "output_type": "stream",
          "name": "stdout",
          "text": [
            "['LinearRegression', 'Support Vector Regressor'],[39.58, 47.21],[0.29, 0.15],"
          ]
        }
      ],
      "source": [
        "for i in Algorithm, MSE_Score, R2_Score:\n",
        "    print(i,end=',')"
      ]
    },
    {
      "cell_type": "markdown",
      "id": "dad18bb3",
      "metadata": {
        "id": "dad18bb3"
      },
      "source": [
        "### Your next model would be Decision Tree Regression\n",
        "\n",
        "- Step 1 : Call the Decision Tree Regressor from sklearn library\n",
        "- Step 2 : make an object of Decision Tree\n",
        "- Step 3 : fit the X_train and y_train dataframe into the object \n",
        "- Step 4 : Predict the output by passing the X_test Dataset into predict function\n",
        "\n",
        "\n",
        "\n",
        "\n",
        "- Note - Append the Algorithm name into the algorithm list for tracking purpose"
      ]
    },
    {
      "cell_type": "code",
      "execution_count": null,
      "id": "1b6a51eb",
      "metadata": {
        "id": "1b6a51eb"
      },
      "outputs": [],
      "source": [
        "from sklearn.tree import DecisionTreeRegressor\n",
        "Algorithm.append('Decision Tree Regressor')\n",
        "regressor = DecisionTreeRegressor()\n",
        "regressor.fit(x_train, y_train)\n",
        "predicted= regressor.predict(x_test)"
      ]
    },
    {
      "cell_type": "markdown",
      "id": "AOzfgfeOZo3F",
      "metadata": {
        "id": "AOzfgfeOZo3F"
      },
      "source": [
        "### Check for the \n",
        "\n",
        "- Mean Square Error\n",
        "- R Square Error \n",
        "\n",
        "for y_test and predicted dataset and store those data inside respective list for comparison "
      ]
    },
    {
      "cell_type": "code",
      "execution_count": null,
      "id": "776e6983",
      "metadata": {
        "id": "776e6983"
      },
      "outputs": [],
      "source": [
        "MSE_Score.append(round(sm.mean_squared_error(y_test, predicted), 2)) \n",
        "R2_Score.append(round(sm.r2_score(y_test, predicted), 2))\n",
        "Accuracy.append(regressor.score(x_test, y_test))"
      ]
    },
    {
      "cell_type": "markdown",
      "id": "eI6d49DQZrhW",
      "metadata": {
        "id": "eI6d49DQZrhW"
      },
      "source": [
        "### Check the same for the Validation set also "
      ]
    },
    {
      "cell_type": "code",
      "execution_count": null,
      "id": "155fb55c",
      "metadata": {
        "id": "155fb55c",
        "colab": {
          "base_uri": "https://localhost:8080/"
        },
        "outputId": "c864eb89-88f4-4d35-f722-ce86eb6b48f8"
      },
      "outputs": [
        {
          "output_type": "execute_result",
          "data": {
            "text/plain": [
              "5.2351497252281805"
            ]
          },
          "metadata": {},
          "execution_count": 339
        }
      ],
      "source": [
        "predict_test= regressor.predict(x_val)\n",
        "mean_squared_error(y_val, predict_test, squared=False)"
      ]
    },
    {
      "cell_type": "markdown",
      "id": "sbGXvBLQZw5E",
      "metadata": {
        "id": "sbGXvBLQZw5E"
      },
      "source": [
        "### Display The Comparison Lists"
      ]
    },
    {
      "cell_type": "code",
      "execution_count": null,
      "id": "1d74d515",
      "metadata": {
        "id": "1d74d515",
        "colab": {
          "base_uri": "https://localhost:8080/"
        },
        "outputId": "8cd1c847-3ad9-4453-a0a0-9bb7117a840e"
      },
      "outputs": [
        {
          "output_type": "stream",
          "name": "stdout",
          "text": [
            "['LinearRegression', 'Support Vector Regressor', 'Decision Tree Regressor'],[39.58, 47.21, 27.09],[0.29, 0.15, 0.51],"
          ]
        }
      ],
      "source": [
        "for i in Algorithm, MSE_Score, R2_Score:\n",
        "    print(i,end=',')"
      ]
    },
    {
      "cell_type": "markdown",
      "id": "4ae9979b",
      "metadata": {
        "id": "4ae9979b"
      },
      "source": [
        "### Your next model would be Random Forest Regression\n",
        "\n",
        "- Step 1 : Call the Random Forest Regressor from sklearn library\n",
        "- Step 2 : make an object of Random Forest\n",
        "- Step 3 : fit the X_train and y_train dataframe into the object \n",
        "- Step 4 : Predict the output by passing the X_test Dataset into predict function\n",
        "\n",
        "\n",
        "\n",
        "\n",
        "- Note - Append the Algorithm name into the algorithm list for tracking purpose"
      ]
    },
    {
      "cell_type": "code",
      "execution_count": null,
      "id": "a69e476a",
      "metadata": {
        "id": "a69e476a"
      },
      "outputs": [],
      "source": [
        "from sklearn.ensemble import RandomForestRegressor\n",
        "Algorithm.append('Random Forest Regressor')\n",
        "regressor = RandomForestRegressor()\n",
        "regressor.fit(x_train, y_train)\n",
        "predicted= regressor.predict(x_test)\n"
      ]
    },
    {
      "cell_type": "markdown",
      "id": "XNcEJF-6anof",
      "metadata": {
        "id": "XNcEJF-6anof"
      },
      "source": [
        "### Check for the \n",
        "\n",
        "- Mean Square Error\n",
        "- R Square Error \n",
        "\n",
        "for y_test and predicted dataset and store those data inside respective list for comparison "
      ]
    },
    {
      "cell_type": "code",
      "execution_count": null,
      "id": "826f63f4",
      "metadata": {
        "id": "826f63f4"
      },
      "outputs": [],
      "source": [
        "MSE_Score.append(round(sm.mean_squared_error(y_test, predicted), 2)) \n",
        "R2_Score.append(round(sm.r2_score(y_test, predicted), 2))\n",
        "Accuracy.append(regressor.score(x_test, y_test))"
      ]
    },
    {
      "cell_type": "markdown",
      "id": "yMbyr9V4ati1",
      "metadata": {
        "id": "yMbyr9V4ati1"
      },
      "source": [
        "### Check the same for the Validation set also "
      ]
    },
    {
      "cell_type": "code",
      "execution_count": null,
      "id": "55b9fb54",
      "metadata": {
        "id": "55b9fb54",
        "colab": {
          "base_uri": "https://localhost:8080/"
        },
        "outputId": "0ff76c8e-d3dc-42b8-cc35-d03feabe253b"
      },
      "outputs": [
        {
          "output_type": "execute_result",
          "data": {
            "text/plain": [
              "3.884678880564937"
            ]
          },
          "metadata": {},
          "execution_count": 343
        }
      ],
      "source": [
        "predict_test= regressor.predict(x_val)\n",
        "mean_squared_error(y_val, predict_test, squared=False)"
      ]
    },
    {
      "cell_type": "markdown",
      "id": "tiBawcCsaw_Z",
      "metadata": {
        "id": "tiBawcCsaw_Z"
      },
      "source": [
        "### Display The Comparison Lists\n"
      ]
    },
    {
      "cell_type": "code",
      "execution_count": null,
      "id": "8277c13e",
      "metadata": {
        "id": "8277c13e",
        "colab": {
          "base_uri": "https://localhost:8080/"
        },
        "outputId": "7c5736b3-385c-401a-a18a-7f6a88fc2489"
      },
      "outputs": [
        {
          "output_type": "stream",
          "name": "stdout",
          "text": [
            "['LinearRegression', 'Support Vector Regressor', 'Decision Tree Regressor', 'Random Forest Regressor'],[39.58, 47.21, 27.09, 17.16],[0.29, 0.15, 0.51, 0.69],"
          ]
        }
      ],
      "source": [
        "for i in Algorithm, MSE_Score, R2_Score:\n",
        "    print(i,end=',')"
      ]
    },
    {
      "cell_type": "markdown",
      "id": "e6b21881",
      "metadata": {
        "id": "e6b21881"
      },
      "source": [
        "### The last but not the least model would be XGBoost or Extreme Gradient Boost Regression\n",
        "\n",
        "- Step 1 : Call the XGBoost Regressor from xgb library\n",
        "- Step 2 : make an object of Xgboost\n",
        "- Step 3 : fit the X_train and y_train dataframe into the object \n",
        "- Step 4 : Predict the output by passing the X_test Dataset into predict function\n",
        "\n",
        "\n",
        "\n",
        "\n",
        "- Note - Append the Algorithm name into the algorithm list for tracking purpose### Extreme Gradient Boost Regression\n",
        "- Note -  No need to change the code "
      ]
    },
    {
      "cell_type": "code",
      "execution_count": null,
      "id": "705a38ec",
      "metadata": {
        "id": "705a38ec",
        "colab": {
          "base_uri": "https://localhost:8080/"
        },
        "outputId": "e1a4c0d0-76db-48fc-dc86-630c2ef36503"
      },
      "outputs": [
        {
          "output_type": "stream",
          "name": "stdout",
          "text": [
            "[07:40:24] WARNING: /workspace/src/objective/regression_obj.cu:152: reg:linear is now deprecated in favor of reg:squarederror.\n"
          ]
        }
      ],
      "source": [
        "import xgboost as xgb\n",
        "Algorithm.append('XGB Regressor')\n",
        "regressor = xgb.XGBRegressor()\n",
        "regressor.fit(x_train, y_train)\n",
        "predicted = regressor.predict(x_test)"
      ]
    },
    {
      "cell_type": "markdown",
      "id": "ierNZkb9bQDD",
      "metadata": {
        "id": "ierNZkb9bQDD"
      },
      "source": [
        "### Check for the \n",
        "\n",
        "- Mean Square Error\n",
        "- R Square Error \n",
        "\n",
        "for y_test and predicted dataset and store those data inside respective list for comparison "
      ]
    },
    {
      "cell_type": "code",
      "execution_count": null,
      "id": "507a9d2f",
      "metadata": {
        "id": "507a9d2f"
      },
      "outputs": [],
      "source": [
        "MSE_Score.append(round(sm.mean_squared_error(y_test, predicted), 2)) \n",
        "R2_Score.append(round(sm.r2_score(y_test, predicted), 2))\n",
        "Accuracy.append(regressor.score(x_test, y_test))"
      ]
    },
    {
      "cell_type": "markdown",
      "id": "84UZ2ojsbWaH",
      "metadata": {
        "id": "84UZ2ojsbWaH"
      },
      "source": [
        "### Check the same for the Validation set also "
      ]
    },
    {
      "cell_type": "code",
      "execution_count": null,
      "id": "e78ac250",
      "metadata": {
        "id": "e78ac250",
        "colab": {
          "base_uri": "https://localhost:8080/"
        },
        "outputId": "d2d2a1c4-5f17-4055-8f4a-fd598c0c7e4e"
      },
      "outputs": [
        {
          "output_type": "execute_result",
          "data": {
            "text/plain": [
              "4.280997956577644"
            ]
          },
          "metadata": {},
          "execution_count": 347
        }
      ],
      "source": [
        "predict_test= regressor.predict(x_val)\n",
        "mean_squared_error(y_val, predict_test, squared=False)"
      ]
    },
    {
      "cell_type": "markdown",
      "id": "9FJFyaVbbbAH",
      "metadata": {
        "id": "9FJFyaVbbbAH"
      },
      "source": [
        "### Display The Comparison Lists\n"
      ]
    },
    {
      "cell_type": "code",
      "execution_count": null,
      "id": "f765ba35",
      "metadata": {
        "id": "f765ba35",
        "colab": {
          "base_uri": "https://localhost:8080/"
        },
        "outputId": "01ae6bfb-b09a-4c1e-8b7e-cfbcce8b1a68"
      },
      "outputs": [
        {
          "output_type": "stream",
          "name": "stdout",
          "text": [
            "['LinearRegression', 'Support Vector Regressor', 'Decision Tree Regressor', 'Random Forest Regressor', 'XGB Regressor'],[39.58, 47.21, 27.09, 17.16, 21.72],[0.29, 0.15, 0.51, 0.69, 0.61],"
          ]
        }
      ],
      "source": [
        "for i in Algorithm, MSE_Score, R2_Score:\n",
        "    print(i,end=',')"
      ]
    },
    {
      "cell_type": "markdown",
      "id": "a71bc90f",
      "metadata": {
        "id": "a71bc90f"
      },
      "source": [
        "## You need to make the comparison list into a comparison dataframe "
      ]
    },
    {
      "cell_type": "code",
      "execution_count": null,
      "id": "ff5159a7",
      "metadata": {
        "id": "ff5159a7",
        "colab": {
          "base_uri": "https://localhost:8080/",
          "height": 206
        },
        "outputId": "d9decc2b-eec1-4135-b264-044b20edb11a"
      },
      "outputs": [
        {
          "output_type": "execute_result",
          "data": {
            "text/plain": [
              "                 Algorithms  MSE_Score  R2_Score  Accuracy\n",
              "0          LinearRegression      39.58      0.29  0.289970\n",
              "1  Support Vector Regressor      47.21      0.15  0.153141\n",
              "2   Decision Tree Regressor      27.09      0.51  0.513934\n",
              "3   Random Forest Regressor      17.16      0.69  0.692063\n",
              "4             XGB Regressor      21.72      0.61  0.610256"
            ],
            "text/html": [
              "\n",
              "  <div id=\"df-38e317ba-3d2e-4f06-a003-197be4c917ec\">\n",
              "    <div class=\"colab-df-container\">\n",
              "      <div>\n",
              "<style scoped>\n",
              "    .dataframe tbody tr th:only-of-type {\n",
              "        vertical-align: middle;\n",
              "    }\n",
              "\n",
              "    .dataframe tbody tr th {\n",
              "        vertical-align: top;\n",
              "    }\n",
              "\n",
              "    .dataframe thead th {\n",
              "        text-align: right;\n",
              "    }\n",
              "</style>\n",
              "<table border=\"1\" class=\"dataframe\">\n",
              "  <thead>\n",
              "    <tr style=\"text-align: right;\">\n",
              "      <th></th>\n",
              "      <th>Algorithms</th>\n",
              "      <th>MSE_Score</th>\n",
              "      <th>R2_Score</th>\n",
              "      <th>Accuracy</th>\n",
              "    </tr>\n",
              "  </thead>\n",
              "  <tbody>\n",
              "    <tr>\n",
              "      <th>0</th>\n",
              "      <td>LinearRegression</td>\n",
              "      <td>39.58</td>\n",
              "      <td>0.29</td>\n",
              "      <td>0.289970</td>\n",
              "    </tr>\n",
              "    <tr>\n",
              "      <th>1</th>\n",
              "      <td>Support Vector Regressor</td>\n",
              "      <td>47.21</td>\n",
              "      <td>0.15</td>\n",
              "      <td>0.153141</td>\n",
              "    </tr>\n",
              "    <tr>\n",
              "      <th>2</th>\n",
              "      <td>Decision Tree Regressor</td>\n",
              "      <td>27.09</td>\n",
              "      <td>0.51</td>\n",
              "      <td>0.513934</td>\n",
              "    </tr>\n",
              "    <tr>\n",
              "      <th>3</th>\n",
              "      <td>Random Forest Regressor</td>\n",
              "      <td>17.16</td>\n",
              "      <td>0.69</td>\n",
              "      <td>0.692063</td>\n",
              "    </tr>\n",
              "    <tr>\n",
              "      <th>4</th>\n",
              "      <td>XGB Regressor</td>\n",
              "      <td>21.72</td>\n",
              "      <td>0.61</td>\n",
              "      <td>0.610256</td>\n",
              "    </tr>\n",
              "  </tbody>\n",
              "</table>\n",
              "</div>\n",
              "      <button class=\"colab-df-convert\" onclick=\"convertToInteractive('df-38e317ba-3d2e-4f06-a003-197be4c917ec')\"\n",
              "              title=\"Convert this dataframe to an interactive table.\"\n",
              "              style=\"display:none;\">\n",
              "        \n",
              "  <svg xmlns=\"http://www.w3.org/2000/svg\" height=\"24px\"viewBox=\"0 0 24 24\"\n",
              "       width=\"24px\">\n",
              "    <path d=\"M0 0h24v24H0V0z\" fill=\"none\"/>\n",
              "    <path d=\"M18.56 5.44l.94 2.06.94-2.06 2.06-.94-2.06-.94-.94-2.06-.94 2.06-2.06.94zm-11 1L8.5 8.5l.94-2.06 2.06-.94-2.06-.94L8.5 2.5l-.94 2.06-2.06.94zm10 10l.94 2.06.94-2.06 2.06-.94-2.06-.94-.94-2.06-.94 2.06-2.06.94z\"/><path d=\"M17.41 7.96l-1.37-1.37c-.4-.4-.92-.59-1.43-.59-.52 0-1.04.2-1.43.59L10.3 9.45l-7.72 7.72c-.78.78-.78 2.05 0 2.83L4 21.41c.39.39.9.59 1.41.59.51 0 1.02-.2 1.41-.59l7.78-7.78 2.81-2.81c.8-.78.8-2.07 0-2.86zM5.41 20L4 18.59l7.72-7.72 1.47 1.35L5.41 20z\"/>\n",
              "  </svg>\n",
              "      </button>\n",
              "      \n",
              "  <style>\n",
              "    .colab-df-container {\n",
              "      display:flex;\n",
              "      flex-wrap:wrap;\n",
              "      gap: 12px;\n",
              "    }\n",
              "\n",
              "    .colab-df-convert {\n",
              "      background-color: #E8F0FE;\n",
              "      border: none;\n",
              "      border-radius: 50%;\n",
              "      cursor: pointer;\n",
              "      display: none;\n",
              "      fill: #1967D2;\n",
              "      height: 32px;\n",
              "      padding: 0 0 0 0;\n",
              "      width: 32px;\n",
              "    }\n",
              "\n",
              "    .colab-df-convert:hover {\n",
              "      background-color: #E2EBFA;\n",
              "      box-shadow: 0px 1px 2px rgba(60, 64, 67, 0.3), 0px 1px 3px 1px rgba(60, 64, 67, 0.15);\n",
              "      fill: #174EA6;\n",
              "    }\n",
              "\n",
              "    [theme=dark] .colab-df-convert {\n",
              "      background-color: #3B4455;\n",
              "      fill: #D2E3FC;\n",
              "    }\n",
              "\n",
              "    [theme=dark] .colab-df-convert:hover {\n",
              "      background-color: #434B5C;\n",
              "      box-shadow: 0px 1px 3px 1px rgba(0, 0, 0, 0.15);\n",
              "      filter: drop-shadow(0px 1px 2px rgba(0, 0, 0, 0.3));\n",
              "      fill: #FFFFFF;\n",
              "    }\n",
              "  </style>\n",
              "\n",
              "      <script>\n",
              "        const buttonEl =\n",
              "          document.querySelector('#df-38e317ba-3d2e-4f06-a003-197be4c917ec button.colab-df-convert');\n",
              "        buttonEl.style.display =\n",
              "          google.colab.kernel.accessAllowed ? 'block' : 'none';\n",
              "\n",
              "        async function convertToInteractive(key) {\n",
              "          const element = document.querySelector('#df-38e317ba-3d2e-4f06-a003-197be4c917ec');\n",
              "          const dataTable =\n",
              "            await google.colab.kernel.invokeFunction('convertToInteractive',\n",
              "                                                     [key], {});\n",
              "          if (!dataTable) return;\n",
              "\n",
              "          const docLinkHtml = 'Like what you see? Visit the ' +\n",
              "            '<a target=\"_blank\" href=https://colab.research.google.com/notebooks/data_table.ipynb>data table notebook</a>'\n",
              "            + ' to learn more about interactive tables.';\n",
              "          element.innerHTML = '';\n",
              "          dataTable['output_type'] = 'display_data';\n",
              "          await google.colab.output.renderOutput(dataTable, element);\n",
              "          const docLink = document.createElement('div');\n",
              "          docLink.innerHTML = docLinkHtml;\n",
              "          element.appendChild(docLink);\n",
              "        }\n",
              "      </script>\n",
              "    </div>\n",
              "  </div>\n",
              "  "
            ]
          },
          "metadata": {},
          "execution_count": 349
        }
      ],
      "source": [
        "comparison= pd.DataFrame(list(zip(Algorithm, MSE_Score, R2_Score, Accuracy)),columns=['Algorithms', 'MSE_Score', 'R2_Score', 'Accuracy'])\n",
        "comparison\n"
      ]
    },
    {
      "cell_type": "markdown",
      "id": "62e61c60",
      "metadata": {
        "id": "62e61c60"
      },
      "source": [
        "## Now from the Comparison table, you need to choose the best fit model\n",
        "\n",
        "- Step 1 - Fit X_train and y_train inside the model \n",
        "- Step 2 - Predict the X_test dataset\n",
        "- Step 3 - Predict the X_val dataset\n",
        "\n",
        "\n",
        "- Note - No need to change the code"
      ]
    },
    {
      "cell_type": "code",
      "execution_count": null,
      "id": "3e07c258",
      "metadata": {
        "id": "3e07c258"
      },
      "outputs": [],
      "source": [
        "regressorfinal = RandomForestRegressor()\n",
        "regressorfinal.fit(x_train, y_train)\n",
        "predictedfinal = regressorfinal.predict(x_test)\n",
        "predict_testfinal = regressorfinal.predict(x_val)"
      ]
    },
    {
      "cell_type": "markdown",
      "id": "8e4df6c4",
      "metadata": {
        "id": "8e4df6c4"
      },
      "source": [
        "### Calculate the Mean Square Error for test dataset\n",
        "\n",
        "- Note - No need to change the code"
      ]
    },
    {
      "cell_type": "code",
      "execution_count": null,
      "id": "5fb466d0",
      "metadata": {
        "id": "5fb466d0",
        "colab": {
          "base_uri": "https://localhost:8080/"
        },
        "outputId": "1ddac7b3-ac4e-45d6-be37-294375a4e2e0"
      },
      "outputs": [
        {
          "output_type": "execute_result",
          "data": {
            "text/plain": [
              "17.24"
            ]
          },
          "metadata": {},
          "execution_count": 351
        }
      ],
      "source": [
        "round(sm.mean_squared_error(y_test,predictedfinal), 2)"
      ]
    },
    {
      "cell_type": "markdown",
      "id": "ce27f87f",
      "metadata": {
        "id": "ce27f87f"
      },
      "source": [
        "### Calculate the mean Square Error for validation dataset"
      ]
    },
    {
      "cell_type": "code",
      "execution_count": null,
      "id": "b47978ea",
      "metadata": {
        "id": "b47978ea",
        "colab": {
          "base_uri": "https://localhost:8080/"
        },
        "outputId": "90e5da1f-058a-4b26-9532-48f6c15ade38"
      },
      "outputs": [
        {
          "output_type": "execute_result",
          "data": {
            "text/plain": [
              "3.895195568761193"
            ]
          },
          "metadata": {},
          "execution_count": 352
        }
      ],
      "source": [
        "mean_squared_error(y_val,predict_testfinal,squared=False)"
      ]
    },
    {
      "cell_type": "markdown",
      "id": "30014dbd",
      "metadata": {
        "id": "30014dbd"
      },
      "source": [
        "### Calculate the R2 score for test"
      ]
    },
    {
      "cell_type": "code",
      "execution_count": null,
      "id": "8a162737",
      "metadata": {
        "id": "8a162737",
        "colab": {
          "base_uri": "https://localhost:8080/"
        },
        "outputId": "648cee4b-5f5f-42ea-a6ef-a58edc77e17d"
      },
      "outputs": [
        {
          "output_type": "execute_result",
          "data": {
            "text/plain": [
              "0.6907486450931768"
            ]
          },
          "metadata": {},
          "execution_count": 353
        }
      ],
      "source": [
        "r2_score(y_test, predictedfinal)"
      ]
    },
    {
      "cell_type": "markdown",
      "id": "1c9853b0",
      "metadata": {
        "id": "1c9853b0"
      },
      "source": [
        "### Calculate the R2 score for Validation"
      ]
    },
    {
      "cell_type": "code",
      "execution_count": null,
      "id": "1a6dc77c",
      "metadata": {
        "id": "1a6dc77c",
        "colab": {
          "base_uri": "https://localhost:8080/"
        },
        "outputId": "1f33b271-7be9-4f12-fd8d-0b65db1d9f37"
      },
      "outputs": [
        {
          "output_type": "execute_result",
          "data": {
            "text/plain": [
              "0.7422783747298979"
            ]
          },
          "metadata": {},
          "execution_count": 354
        }
      ],
      "source": [
        "r2_score(y_val, predict_testfinal)"
      ]
    },
    {
      "cell_type": "markdown",
      "id": "499522d9",
      "metadata": {
        "id": "499522d9"
      },
      "source": [
        "### Calculate the Accuracy for train Dataset "
      ]
    },
    {
      "cell_type": "code",
      "execution_count": null,
      "id": "7a4f1ce8",
      "metadata": {
        "id": "7a4f1ce8",
        "colab": {
          "base_uri": "https://localhost:8080/"
        },
        "outputId": "a3ad94ae-b7bb-4ee1-f076-a87a32bf46b6"
      },
      "outputs": [
        {
          "output_type": "execute_result",
          "data": {
            "text/plain": [
              "0.9686485639776211"
            ]
          },
          "metadata": {},
          "execution_count": 355
        }
      ],
      "source": [
        "regressorfinal.score(x_train, y_train)"
      ]
    },
    {
      "cell_type": "markdown",
      "id": "12a1c921",
      "metadata": {
        "id": "12a1c921"
      },
      "source": [
        "### Calculate the accuracy for validation"
      ]
    },
    {
      "cell_type": "code",
      "execution_count": null,
      "id": "d2579b4f",
      "metadata": {
        "id": "d2579b4f",
        "colab": {
          "base_uri": "https://localhost:8080/"
        },
        "outputId": "af444f60-3764-406f-a74b-6ede044f315c"
      },
      "outputs": [
        {
          "output_type": "execute_result",
          "data": {
            "text/plain": [
              "0.6907486450931768"
            ]
          },
          "metadata": {},
          "execution_count": 356
        }
      ],
      "source": [
        "regressorfinal.score(x_test, y_test)"
      ]
    },
    {
      "cell_type": "markdown",
      "id": "79b82e84",
      "metadata": {
        "id": "79b82e84"
      },
      "source": [
        "### Calculate the accuracy for test"
      ]
    },
    {
      "cell_type": "code",
      "execution_count": null,
      "id": "f09e6431",
      "metadata": {
        "id": "f09e6431",
        "colab": {
          "base_uri": "https://localhost:8080/"
        },
        "outputId": "e49e4200-064f-4d34-c563-4e89762e1313"
      },
      "outputs": [
        {
          "output_type": "execute_result",
          "data": {
            "text/plain": [
              "0.7422783747298979"
            ]
          },
          "metadata": {},
          "execution_count": 357
        }
      ],
      "source": [
        "regressorfinal.score(x_val, y_val)"
      ]
    },
    {
      "cell_type": "markdown",
      "id": "9488a5d9",
      "metadata": {
        "id": "9488a5d9"
      },
      "source": [
        "## Specify the reason behind choosing your machine learning model \n",
        "\n",
        "- Note : Provide your answer as a text here"
      ]
    },
    {
      "cell_type": "markdown",
      "source": [
        "I have choosed Random Forest Regressor as the accuracy for train,test and validation dataset was high compared to other models."
      ],
      "metadata": {
        "id": "6wSYUbVR0Ksd"
      },
      "id": "6wSYUbVR0Ksd"
    },
    {
      "cell_type": "markdown",
      "source": [
        "**Hyperparameter Tuning**\n",
        "\n",
        "\n",
        "\n"
      ],
      "metadata": {
        "id": "LH0xWGyXcHlV"
      },
      "id": "LH0xWGyXcHlV"
    },
    {
      "cell_type": "code",
      "source": [
        "n_estimators = [5,20,50,100] # number of trees in the random forest\n",
        "max_features = ['auto', 'sqrt'] # number of features in consideration at every split\n",
        "max_depth = [int(x) for x in np.linspace(10, 120, num = 12)] # maximum number of levels allowed in each decision tree\n",
        "min_samples_split = [2, 6, 10] # minimum sample number to split a node\n",
        "min_samples_leaf = [1, 3, 4] # minimum sample number that can be stored in a leaf node\n",
        "bootstrap = [True, False] # method used to sample data points\n",
        "\n",
        "random_grid = {'n_estimators': n_estimators,\n",
        "\n",
        "'max_features': max_features,\n",
        "\n",
        "'max_depth': max_depth,\n",
        "\n",
        "'min_samples_split': min_samples_split,\n",
        "\n",
        "'min_samples_leaf': min_samples_leaf,\n",
        "\n",
        "'bootstrap': bootstrap}"
      ],
      "metadata": {
        "id": "hejNS-u_cc3g"
      },
      "id": "hejNS-u_cc3g",
      "execution_count": null,
      "outputs": []
    },
    {
      "cell_type": "code",
      "source": [
        "from sklearn.model_selection import RandomizedSearchCV\n",
        "rf_random = RandomizedSearchCV(estimator = regressorfinal,param_distributions = random_grid,\n",
        "               n_iter = 100, cv = 5, verbose=2, random_state=35, n_jobs = -1)"
      ],
      "metadata": {
        "id": "Jib9a-FUcgnH"
      },
      "id": "Jib9a-FUcgnH",
      "execution_count": null,
      "outputs": []
    },
    {
      "cell_type": "code",
      "source": [
        "rf_random.fit(x_train, y_train)"
      ],
      "metadata": {
        "colab": {
          "base_uri": "https://localhost:8080/"
        },
        "id": "jnIr23xJdSWq",
        "outputId": "b23fe508-95f6-495a-fe7a-a8276c696db4"
      },
      "id": "jnIr23xJdSWq",
      "execution_count": null,
      "outputs": [
        {
          "output_type": "stream",
          "name": "stdout",
          "text": [
            "Fitting 5 folds for each of 100 candidates, totalling 500 fits\n"
          ]
        },
        {
          "output_type": "execute_result",
          "data": {
            "text/plain": [
              "RandomizedSearchCV(cv=5, estimator=RandomForestRegressor(), n_iter=100,\n",
              "                   n_jobs=-1,\n",
              "                   param_distributions={'bootstrap': [True, False],\n",
              "                                        'max_depth': [10, 20, 30, 40, 50, 60,\n",
              "                                                      70, 80, 90, 100, 110,\n",
              "                                                      120],\n",
              "                                        'max_features': ['auto', 'sqrt'],\n",
              "                                        'min_samples_leaf': [1, 3, 4],\n",
              "                                        'min_samples_split': [2, 6, 10],\n",
              "                                        'n_estimators': [5, 20, 50, 100]},\n",
              "                   random_state=35, verbose=2)"
            ]
          },
          "metadata": {},
          "execution_count": 360
        }
      ]
    },
    {
      "cell_type": "code",
      "source": [
        "rf_random.best_estimator_"
      ],
      "metadata": {
        "colab": {
          "base_uri": "https://localhost:8080/"
        },
        "id": "lyrKeVAedSiQ",
        "outputId": "855dea9d-8e87-4b01-d418-a7e5f6931f6b"
      },
      "id": "lyrKeVAedSiQ",
      "execution_count": null,
      "outputs": [
        {
          "output_type": "execute_result",
          "data": {
            "text/plain": [
              "RandomForestRegressor(max_depth=40, min_samples_split=6)"
            ]
          },
          "metadata": {},
          "execution_count": 361
        }
      ]
    },
    {
      "cell_type": "code",
      "source": [
        "x_val"
      ],
      "metadata": {
        "colab": {
          "base_uri": "https://localhost:8080/",
          "height": 487
        },
        "id": "WPiRm2_djx9b",
        "outputId": "03394b56-a79b-4b8e-f6ba-082469c61ecc"
      },
      "id": "WPiRm2_djx9b",
      "execution_count": null,
      "outputs": [
        {
          "output_type": "execute_result",
          "data": {
            "text/plain": [
              "       cust_number  buisness_year        doc_id  converted_usd  \\\n",
              "34873    200748108         2020.0  1.930458e+09       6856.270   \n",
              "8855     200580232         2019.0  1.929616e+09      18212.000   \n",
              "26874    140104440         2019.0  2.960530e+09     184625.238   \n",
              "28822    200762301         2019.0  1.929101e+09        886.160   \n",
              "15481    200772670         2019.0  1.930195e+09      46202.680   \n",
              "...            ...            ...           ...            ...   \n",
              "6581          2002         2019.0  1.929068e+09       8923.200   \n",
              "4638     200769623         2020.0  1.930471e+09       3797.100   \n",
              "19661    200769623         2019.0  1.930277e+09      22501.180   \n",
              "18399    200722444         2019.0  1.929751e+09      55306.980   \n",
              "31816    200769623         2019.0  1.929617e+09      17818.850   \n",
              "\n",
              "       business_code_enc  name_customer_enc  cust_payment_terms_enc  \\\n",
              "34873                  1               1574                      21   \n",
              "8855                   1               1335                      11   \n",
              "26874                  0               2543                       5   \n",
              "28822                  1                428                      33   \n",
              "15481                  1                187                      48   \n",
              "...                  ...                ...                     ...   \n",
              "6581                   1               1538                      32   \n",
              "4638                   1               2983                      34   \n",
              "19661                  1               2978                      34   \n",
              "18399                  1               2081                      21   \n",
              "31816                  1               2975                      34   \n",
              "\n",
              "       day_of_postingdate  month_of_postingdate  year_of_postingdate  \\\n",
              "34873                  31                     1                 2020   \n",
              "8855                   12                     7                 2019   \n",
              "26874                  20                     2                 2019   \n",
              "28822                   9                     4                 2019   \n",
              "15481                  26                    11                 2019   \n",
              "...                   ...                   ...                  ...   \n",
              "6581                    3                     4                 2019   \n",
              "4638                    4                     2                 2020   \n",
              "19661                  14                    12                 2019   \n",
              "18399                  16                     8                 2019   \n",
              "31816                  13                     7                 2019   \n",
              "\n",
              "       day_of_createdate  month_of_createdate  year_of_createdate  day_of_due  \\\n",
              "34873                 31                    1                2020          15   \n",
              "8855                  12                    7                2019          22   \n",
              "26874                 27                    2                2019           9   \n",
              "28822                  9                    4                2019          13   \n",
              "15481                 26                   11                2019          11   \n",
              "...                  ...                  ...                 ...         ...   \n",
              "6581                   3                    4                2019           8   \n",
              "4638                   4                    2                2020          19   \n",
              "19661                 14                   12                2019          29   \n",
              "18399                 16                    8                2019          31   \n",
              "31816                 13                    7                2019          28   \n",
              "\n",
              "       month_of_due  year_of_due  \n",
              "34873             2         2020  \n",
              "8855              7         2019  \n",
              "26874             3         2019  \n",
              "28822             6         2019  \n",
              "15481            12         2019  \n",
              "...             ...          ...  \n",
              "6581              5         2019  \n",
              "4638              2         2020  \n",
              "19661            12         2019  \n",
              "18399             8         2019  \n",
              "31816             7         2019  \n",
              "\n",
              "[7832 rows x 16 columns]"
            ],
            "text/html": [
              "\n",
              "  <div id=\"df-79706cc0-c552-4ef4-94f0-632600fe51e7\">\n",
              "    <div class=\"colab-df-container\">\n",
              "      <div>\n",
              "<style scoped>\n",
              "    .dataframe tbody tr th:only-of-type {\n",
              "        vertical-align: middle;\n",
              "    }\n",
              "\n",
              "    .dataframe tbody tr th {\n",
              "        vertical-align: top;\n",
              "    }\n",
              "\n",
              "    .dataframe thead th {\n",
              "        text-align: right;\n",
              "    }\n",
              "</style>\n",
              "<table border=\"1\" class=\"dataframe\">\n",
              "  <thead>\n",
              "    <tr style=\"text-align: right;\">\n",
              "      <th></th>\n",
              "      <th>cust_number</th>\n",
              "      <th>buisness_year</th>\n",
              "      <th>doc_id</th>\n",
              "      <th>converted_usd</th>\n",
              "      <th>business_code_enc</th>\n",
              "      <th>name_customer_enc</th>\n",
              "      <th>cust_payment_terms_enc</th>\n",
              "      <th>day_of_postingdate</th>\n",
              "      <th>month_of_postingdate</th>\n",
              "      <th>year_of_postingdate</th>\n",
              "      <th>day_of_createdate</th>\n",
              "      <th>month_of_createdate</th>\n",
              "      <th>year_of_createdate</th>\n",
              "      <th>day_of_due</th>\n",
              "      <th>month_of_due</th>\n",
              "      <th>year_of_due</th>\n",
              "    </tr>\n",
              "  </thead>\n",
              "  <tbody>\n",
              "    <tr>\n",
              "      <th>34873</th>\n",
              "      <td>200748108</td>\n",
              "      <td>2020.0</td>\n",
              "      <td>1.930458e+09</td>\n",
              "      <td>6856.270</td>\n",
              "      <td>1</td>\n",
              "      <td>1574</td>\n",
              "      <td>21</td>\n",
              "      <td>31</td>\n",
              "      <td>1</td>\n",
              "      <td>2020</td>\n",
              "      <td>31</td>\n",
              "      <td>1</td>\n",
              "      <td>2020</td>\n",
              "      <td>15</td>\n",
              "      <td>2</td>\n",
              "      <td>2020</td>\n",
              "    </tr>\n",
              "    <tr>\n",
              "      <th>8855</th>\n",
              "      <td>200580232</td>\n",
              "      <td>2019.0</td>\n",
              "      <td>1.929616e+09</td>\n",
              "      <td>18212.000</td>\n",
              "      <td>1</td>\n",
              "      <td>1335</td>\n",
              "      <td>11</td>\n",
              "      <td>12</td>\n",
              "      <td>7</td>\n",
              "      <td>2019</td>\n",
              "      <td>12</td>\n",
              "      <td>7</td>\n",
              "      <td>2019</td>\n",
              "      <td>22</td>\n",
              "      <td>7</td>\n",
              "      <td>2019</td>\n",
              "    </tr>\n",
              "    <tr>\n",
              "      <th>26874</th>\n",
              "      <td>140104440</td>\n",
              "      <td>2019.0</td>\n",
              "      <td>2.960530e+09</td>\n",
              "      <td>184625.238</td>\n",
              "      <td>0</td>\n",
              "      <td>2543</td>\n",
              "      <td>5</td>\n",
              "      <td>20</td>\n",
              "      <td>2</td>\n",
              "      <td>2019</td>\n",
              "      <td>27</td>\n",
              "      <td>2</td>\n",
              "      <td>2019</td>\n",
              "      <td>9</td>\n",
              "      <td>3</td>\n",
              "      <td>2019</td>\n",
              "    </tr>\n",
              "    <tr>\n",
              "      <th>28822</th>\n",
              "      <td>200762301</td>\n",
              "      <td>2019.0</td>\n",
              "      <td>1.929101e+09</td>\n",
              "      <td>886.160</td>\n",
              "      <td>1</td>\n",
              "      <td>428</td>\n",
              "      <td>33</td>\n",
              "      <td>9</td>\n",
              "      <td>4</td>\n",
              "      <td>2019</td>\n",
              "      <td>9</td>\n",
              "      <td>4</td>\n",
              "      <td>2019</td>\n",
              "      <td>13</td>\n",
              "      <td>6</td>\n",
              "      <td>2019</td>\n",
              "    </tr>\n",
              "    <tr>\n",
              "      <th>15481</th>\n",
              "      <td>200772670</td>\n",
              "      <td>2019.0</td>\n",
              "      <td>1.930195e+09</td>\n",
              "      <td>46202.680</td>\n",
              "      <td>1</td>\n",
              "      <td>187</td>\n",
              "      <td>48</td>\n",
              "      <td>26</td>\n",
              "      <td>11</td>\n",
              "      <td>2019</td>\n",
              "      <td>26</td>\n",
              "      <td>11</td>\n",
              "      <td>2019</td>\n",
              "      <td>11</td>\n",
              "      <td>12</td>\n",
              "      <td>2019</td>\n",
              "    </tr>\n",
              "    <tr>\n",
              "      <th>...</th>\n",
              "      <td>...</td>\n",
              "      <td>...</td>\n",
              "      <td>...</td>\n",
              "      <td>...</td>\n",
              "      <td>...</td>\n",
              "      <td>...</td>\n",
              "      <td>...</td>\n",
              "      <td>...</td>\n",
              "      <td>...</td>\n",
              "      <td>...</td>\n",
              "      <td>...</td>\n",
              "      <td>...</td>\n",
              "      <td>...</td>\n",
              "      <td>...</td>\n",
              "      <td>...</td>\n",
              "      <td>...</td>\n",
              "    </tr>\n",
              "    <tr>\n",
              "      <th>6581</th>\n",
              "      <td>2002</td>\n",
              "      <td>2019.0</td>\n",
              "      <td>1.929068e+09</td>\n",
              "      <td>8923.200</td>\n",
              "      <td>1</td>\n",
              "      <td>1538</td>\n",
              "      <td>32</td>\n",
              "      <td>3</td>\n",
              "      <td>4</td>\n",
              "      <td>2019</td>\n",
              "      <td>3</td>\n",
              "      <td>4</td>\n",
              "      <td>2019</td>\n",
              "      <td>8</td>\n",
              "      <td>5</td>\n",
              "      <td>2019</td>\n",
              "    </tr>\n",
              "    <tr>\n",
              "      <th>4638</th>\n",
              "      <td>200769623</td>\n",
              "      <td>2020.0</td>\n",
              "      <td>1.930471e+09</td>\n",
              "      <td>3797.100</td>\n",
              "      <td>1</td>\n",
              "      <td>2983</td>\n",
              "      <td>34</td>\n",
              "      <td>4</td>\n",
              "      <td>2</td>\n",
              "      <td>2020</td>\n",
              "      <td>4</td>\n",
              "      <td>2</td>\n",
              "      <td>2020</td>\n",
              "      <td>19</td>\n",
              "      <td>2</td>\n",
              "      <td>2020</td>\n",
              "    </tr>\n",
              "    <tr>\n",
              "      <th>19661</th>\n",
              "      <td>200769623</td>\n",
              "      <td>2019.0</td>\n",
              "      <td>1.930277e+09</td>\n",
              "      <td>22501.180</td>\n",
              "      <td>1</td>\n",
              "      <td>2978</td>\n",
              "      <td>34</td>\n",
              "      <td>14</td>\n",
              "      <td>12</td>\n",
              "      <td>2019</td>\n",
              "      <td>14</td>\n",
              "      <td>12</td>\n",
              "      <td>2019</td>\n",
              "      <td>29</td>\n",
              "      <td>12</td>\n",
              "      <td>2019</td>\n",
              "    </tr>\n",
              "    <tr>\n",
              "      <th>18399</th>\n",
              "      <td>200722444</td>\n",
              "      <td>2019.0</td>\n",
              "      <td>1.929751e+09</td>\n",
              "      <td>55306.980</td>\n",
              "      <td>1</td>\n",
              "      <td>2081</td>\n",
              "      <td>21</td>\n",
              "      <td>16</td>\n",
              "      <td>8</td>\n",
              "      <td>2019</td>\n",
              "      <td>16</td>\n",
              "      <td>8</td>\n",
              "      <td>2019</td>\n",
              "      <td>31</td>\n",
              "      <td>8</td>\n",
              "      <td>2019</td>\n",
              "    </tr>\n",
              "    <tr>\n",
              "      <th>31816</th>\n",
              "      <td>200769623</td>\n",
              "      <td>2019.0</td>\n",
              "      <td>1.929617e+09</td>\n",
              "      <td>17818.850</td>\n",
              "      <td>1</td>\n",
              "      <td>2975</td>\n",
              "      <td>34</td>\n",
              "      <td>13</td>\n",
              "      <td>7</td>\n",
              "      <td>2019</td>\n",
              "      <td>13</td>\n",
              "      <td>7</td>\n",
              "      <td>2019</td>\n",
              "      <td>28</td>\n",
              "      <td>7</td>\n",
              "      <td>2019</td>\n",
              "    </tr>\n",
              "  </tbody>\n",
              "</table>\n",
              "<p>7832 rows × 16 columns</p>\n",
              "</div>\n",
              "      <button class=\"colab-df-convert\" onclick=\"convertToInteractive('df-79706cc0-c552-4ef4-94f0-632600fe51e7')\"\n",
              "              title=\"Convert this dataframe to an interactive table.\"\n",
              "              style=\"display:none;\">\n",
              "        \n",
              "  <svg xmlns=\"http://www.w3.org/2000/svg\" height=\"24px\"viewBox=\"0 0 24 24\"\n",
              "       width=\"24px\">\n",
              "    <path d=\"M0 0h24v24H0V0z\" fill=\"none\"/>\n",
              "    <path d=\"M18.56 5.44l.94 2.06.94-2.06 2.06-.94-2.06-.94-.94-2.06-.94 2.06-2.06.94zm-11 1L8.5 8.5l.94-2.06 2.06-.94-2.06-.94L8.5 2.5l-.94 2.06-2.06.94zm10 10l.94 2.06.94-2.06 2.06-.94-2.06-.94-.94-2.06-.94 2.06-2.06.94z\"/><path d=\"M17.41 7.96l-1.37-1.37c-.4-.4-.92-.59-1.43-.59-.52 0-1.04.2-1.43.59L10.3 9.45l-7.72 7.72c-.78.78-.78 2.05 0 2.83L4 21.41c.39.39.9.59 1.41.59.51 0 1.02-.2 1.41-.59l7.78-7.78 2.81-2.81c.8-.78.8-2.07 0-2.86zM5.41 20L4 18.59l7.72-7.72 1.47 1.35L5.41 20z\"/>\n",
              "  </svg>\n",
              "      </button>\n",
              "      \n",
              "  <style>\n",
              "    .colab-df-container {\n",
              "      display:flex;\n",
              "      flex-wrap:wrap;\n",
              "      gap: 12px;\n",
              "    }\n",
              "\n",
              "    .colab-df-convert {\n",
              "      background-color: #E8F0FE;\n",
              "      border: none;\n",
              "      border-radius: 50%;\n",
              "      cursor: pointer;\n",
              "      display: none;\n",
              "      fill: #1967D2;\n",
              "      height: 32px;\n",
              "      padding: 0 0 0 0;\n",
              "      width: 32px;\n",
              "    }\n",
              "\n",
              "    .colab-df-convert:hover {\n",
              "      background-color: #E2EBFA;\n",
              "      box-shadow: 0px 1px 2px rgba(60, 64, 67, 0.3), 0px 1px 3px 1px rgba(60, 64, 67, 0.15);\n",
              "      fill: #174EA6;\n",
              "    }\n",
              "\n",
              "    [theme=dark] .colab-df-convert {\n",
              "      background-color: #3B4455;\n",
              "      fill: #D2E3FC;\n",
              "    }\n",
              "\n",
              "    [theme=dark] .colab-df-convert:hover {\n",
              "      background-color: #434B5C;\n",
              "      box-shadow: 0px 1px 3px 1px rgba(0, 0, 0, 0.15);\n",
              "      filter: drop-shadow(0px 1px 2px rgba(0, 0, 0, 0.3));\n",
              "      fill: #FFFFFF;\n",
              "    }\n",
              "  </style>\n",
              "\n",
              "      <script>\n",
              "        const buttonEl =\n",
              "          document.querySelector('#df-79706cc0-c552-4ef4-94f0-632600fe51e7 button.colab-df-convert');\n",
              "        buttonEl.style.display =\n",
              "          google.colab.kernel.accessAllowed ? 'block' : 'none';\n",
              "\n",
              "        async function convertToInteractive(key) {\n",
              "          const element = document.querySelector('#df-79706cc0-c552-4ef4-94f0-632600fe51e7');\n",
              "          const dataTable =\n",
              "            await google.colab.kernel.invokeFunction('convertToInteractive',\n",
              "                                                     [key], {});\n",
              "          if (!dataTable) return;\n",
              "\n",
              "          const docLinkHtml = 'Like what you see? Visit the ' +\n",
              "            '<a target=\"_blank\" href=https://colab.research.google.com/notebooks/data_table.ipynb>data table notebook</a>'\n",
              "            + ' to learn more about interactive tables.';\n",
              "          element.innerHTML = '';\n",
              "          dataTable['output_type'] = 'display_data';\n",
              "          await google.colab.output.renderOutput(dataTable, element);\n",
              "          const docLink = document.createElement('div');\n",
              "          docLink.innerHTML = docLinkHtml;\n",
              "          element.appendChild(docLink);\n",
              "        }\n",
              "      </script>\n",
              "    </div>\n",
              "  </div>\n",
              "  "
            ]
          },
          "metadata": {},
          "execution_count": 362
        }
      ]
    },
    {
      "cell_type": "code",
      "source": [
        "regressorfinal1 = RandomForestRegressor(max_depth=40, min_samples_split=6)\n",
        "regressorfinal1.fit(x_train,y_train)\n",
        "predictedfinal1 = regressorfinal1.predict(x_val)"
      ],
      "metadata": {
        "id": "_1057PeAg-T6"
      },
      "id": "_1057PeAg-T6",
      "execution_count": null,
      "outputs": []
    },
    {
      "cell_type": "markdown",
      "id": "387a6519",
      "metadata": {
        "id": "387a6519"
      },
      "source": [
        "## Now you need to pass the Nulldata dataframe into this machine learning model\n",
        "\n",
        "#### In order to pass this Nulldata dataframe into the ML model, we need to perform the following\n",
        "\n",
        "- Step 1 : Label Encoding \n",
        "- Step 2 : Day, Month and Year extraction \n",
        "- Step 3 : Change all the column data type into int64 or float64\n",
        "- Step 4 : Need to drop the useless columns "
      ]
    },
    {
      "cell_type": "markdown",
      "id": "I7JuxAkdiAdI",
      "metadata": {
        "id": "I7JuxAkdiAdI"
      },
      "source": [
        "### Display the Nulldata "
      ]
    },
    {
      "cell_type": "code",
      "execution_count": null,
      "id": "6d6a51d2",
      "metadata": {
        "id": "6d6a51d2",
        "colab": {
          "base_uri": "https://localhost:8080/",
          "height": 522
        },
        "outputId": "3a2d565e-0ced-4968-bd4b-09cce40e2654"
      },
      "outputs": [
        {
          "output_type": "execute_result",
          "data": {
            "text/plain": [
              "      business_code cust_number        name_customer clear_date  \\\n",
              "3              CA02  0140105686             SYSC llc        NaT   \n",
              "7              U001  0200744019              TARG us        NaT   \n",
              "10             U001  0200418007                  AM         NaT   \n",
              "14             U001  0200739534           OK systems        NaT   \n",
              "15             U001  0200353024     DECA corporation        NaT   \n",
              "...             ...         ...                  ...        ...   \n",
              "49975          U001  0200769623           WAL-MAR in        NaT   \n",
              "49980          U001  0200769623  WAL-MAR corporation        NaT   \n",
              "49982          U001  0200148860             DOLLA co        NaT   \n",
              "49992          U001  0200900909             SYSCO co        NaT   \n",
              "49995          U001  0200561861       CO corporation        NaT   \n",
              "\n",
              "       buisness_year        doc_id posting_date document_create_date.1  \\\n",
              "3             2020.0  2.960623e+09   2020-03-30             2020-03-30   \n",
              "7             2020.0  1.930659e+09   2020-03-19             2020-03-19   \n",
              "10            2020.0  1.930611e+09   2020-03-11             2020-03-11   \n",
              "14            2020.0  1.930788e+09   2020-04-15             2020-04-15   \n",
              "15            2020.0  1.930817e+09   2020-04-23             2020-04-23   \n",
              "...              ...           ...          ...                    ...   \n",
              "49975         2020.0  1.930625e+09   2020-03-10             2020-03-10   \n",
              "49980         2020.0  1.930851e+09   2020-05-03             2020-05-03   \n",
              "49982         2020.0  1.930638e+09   2020-03-11             2020-03-11   \n",
              "49992         2020.0  1.930702e+09   2020-03-25             2020-03-25   \n",
              "49995         2020.0  1.930797e+09   2020-04-21             2020-04-21   \n",
              "\n",
              "      due_in_date baseline_create_date cust_payment_terms  converted_usd  \n",
              "3      2020-04-10           2020-03-31               CA10        2309.79  \n",
              "7      2020-04-03           2020-03-19               NAA8       11173.02  \n",
              "10     2020-03-26           2020-03-11               NAA8        3525.59  \n",
              "14     2020-04-30           2020-04-15               NAA8      121105.65  \n",
              "15     2020-04-26           2020-04-16               NAM2        3726.06  \n",
              "...           ...                  ...                ...            ...  \n",
              "49975  2020-03-25           2020-03-10               NAH4       13114.99  \n",
              "49980  2020-05-18           2020-05-03               NAH4        8899.71  \n",
              "49982  2020-03-26           2020-03-11               NAA8        4967.06  \n",
              "49992  2020-04-09           2020-03-25               NAA8        1998.64  \n",
              "49995  2020-05-06           2020-04-21               NAA8        3187.86  \n",
              "\n",
              "[9681 rows x 12 columns]"
            ],
            "text/html": [
              "\n",
              "  <div id=\"df-776515c5-64d5-48e3-9f4b-e5569f3ab99e\">\n",
              "    <div class=\"colab-df-container\">\n",
              "      <div>\n",
              "<style scoped>\n",
              "    .dataframe tbody tr th:only-of-type {\n",
              "        vertical-align: middle;\n",
              "    }\n",
              "\n",
              "    .dataframe tbody tr th {\n",
              "        vertical-align: top;\n",
              "    }\n",
              "\n",
              "    .dataframe thead th {\n",
              "        text-align: right;\n",
              "    }\n",
              "</style>\n",
              "<table border=\"1\" class=\"dataframe\">\n",
              "  <thead>\n",
              "    <tr style=\"text-align: right;\">\n",
              "      <th></th>\n",
              "      <th>business_code</th>\n",
              "      <th>cust_number</th>\n",
              "      <th>name_customer</th>\n",
              "      <th>clear_date</th>\n",
              "      <th>buisness_year</th>\n",
              "      <th>doc_id</th>\n",
              "      <th>posting_date</th>\n",
              "      <th>document_create_date.1</th>\n",
              "      <th>due_in_date</th>\n",
              "      <th>baseline_create_date</th>\n",
              "      <th>cust_payment_terms</th>\n",
              "      <th>converted_usd</th>\n",
              "    </tr>\n",
              "  </thead>\n",
              "  <tbody>\n",
              "    <tr>\n",
              "      <th>3</th>\n",
              "      <td>CA02</td>\n",
              "      <td>0140105686</td>\n",
              "      <td>SYSC llc</td>\n",
              "      <td>NaT</td>\n",
              "      <td>2020.0</td>\n",
              "      <td>2.960623e+09</td>\n",
              "      <td>2020-03-30</td>\n",
              "      <td>2020-03-30</td>\n",
              "      <td>2020-04-10</td>\n",
              "      <td>2020-03-31</td>\n",
              "      <td>CA10</td>\n",
              "      <td>2309.79</td>\n",
              "    </tr>\n",
              "    <tr>\n",
              "      <th>7</th>\n",
              "      <td>U001</td>\n",
              "      <td>0200744019</td>\n",
              "      <td>TARG us</td>\n",
              "      <td>NaT</td>\n",
              "      <td>2020.0</td>\n",
              "      <td>1.930659e+09</td>\n",
              "      <td>2020-03-19</td>\n",
              "      <td>2020-03-19</td>\n",
              "      <td>2020-04-03</td>\n",
              "      <td>2020-03-19</td>\n",
              "      <td>NAA8</td>\n",
              "      <td>11173.02</td>\n",
              "    </tr>\n",
              "    <tr>\n",
              "      <th>10</th>\n",
              "      <td>U001</td>\n",
              "      <td>0200418007</td>\n",
              "      <td>AM</td>\n",
              "      <td>NaT</td>\n",
              "      <td>2020.0</td>\n",
              "      <td>1.930611e+09</td>\n",
              "      <td>2020-03-11</td>\n",
              "      <td>2020-03-11</td>\n",
              "      <td>2020-03-26</td>\n",
              "      <td>2020-03-11</td>\n",
              "      <td>NAA8</td>\n",
              "      <td>3525.59</td>\n",
              "    </tr>\n",
              "    <tr>\n",
              "      <th>14</th>\n",
              "      <td>U001</td>\n",
              "      <td>0200739534</td>\n",
              "      <td>OK systems</td>\n",
              "      <td>NaT</td>\n",
              "      <td>2020.0</td>\n",
              "      <td>1.930788e+09</td>\n",
              "      <td>2020-04-15</td>\n",
              "      <td>2020-04-15</td>\n",
              "      <td>2020-04-30</td>\n",
              "      <td>2020-04-15</td>\n",
              "      <td>NAA8</td>\n",
              "      <td>121105.65</td>\n",
              "    </tr>\n",
              "    <tr>\n",
              "      <th>15</th>\n",
              "      <td>U001</td>\n",
              "      <td>0200353024</td>\n",
              "      <td>DECA corporation</td>\n",
              "      <td>NaT</td>\n",
              "      <td>2020.0</td>\n",
              "      <td>1.930817e+09</td>\n",
              "      <td>2020-04-23</td>\n",
              "      <td>2020-04-23</td>\n",
              "      <td>2020-04-26</td>\n",
              "      <td>2020-04-16</td>\n",
              "      <td>NAM2</td>\n",
              "      <td>3726.06</td>\n",
              "    </tr>\n",
              "    <tr>\n",
              "      <th>...</th>\n",
              "      <td>...</td>\n",
              "      <td>...</td>\n",
              "      <td>...</td>\n",
              "      <td>...</td>\n",
              "      <td>...</td>\n",
              "      <td>...</td>\n",
              "      <td>...</td>\n",
              "      <td>...</td>\n",
              "      <td>...</td>\n",
              "      <td>...</td>\n",
              "      <td>...</td>\n",
              "      <td>...</td>\n",
              "    </tr>\n",
              "    <tr>\n",
              "      <th>49975</th>\n",
              "      <td>U001</td>\n",
              "      <td>0200769623</td>\n",
              "      <td>WAL-MAR in</td>\n",
              "      <td>NaT</td>\n",
              "      <td>2020.0</td>\n",
              "      <td>1.930625e+09</td>\n",
              "      <td>2020-03-10</td>\n",
              "      <td>2020-03-10</td>\n",
              "      <td>2020-03-25</td>\n",
              "      <td>2020-03-10</td>\n",
              "      <td>NAH4</td>\n",
              "      <td>13114.99</td>\n",
              "    </tr>\n",
              "    <tr>\n",
              "      <th>49980</th>\n",
              "      <td>U001</td>\n",
              "      <td>0200769623</td>\n",
              "      <td>WAL-MAR corporation</td>\n",
              "      <td>NaT</td>\n",
              "      <td>2020.0</td>\n",
              "      <td>1.930851e+09</td>\n",
              "      <td>2020-05-03</td>\n",
              "      <td>2020-05-03</td>\n",
              "      <td>2020-05-18</td>\n",
              "      <td>2020-05-03</td>\n",
              "      <td>NAH4</td>\n",
              "      <td>8899.71</td>\n",
              "    </tr>\n",
              "    <tr>\n",
              "      <th>49982</th>\n",
              "      <td>U001</td>\n",
              "      <td>0200148860</td>\n",
              "      <td>DOLLA co</td>\n",
              "      <td>NaT</td>\n",
              "      <td>2020.0</td>\n",
              "      <td>1.930638e+09</td>\n",
              "      <td>2020-03-11</td>\n",
              "      <td>2020-03-11</td>\n",
              "      <td>2020-03-26</td>\n",
              "      <td>2020-03-11</td>\n",
              "      <td>NAA8</td>\n",
              "      <td>4967.06</td>\n",
              "    </tr>\n",
              "    <tr>\n",
              "      <th>49992</th>\n",
              "      <td>U001</td>\n",
              "      <td>0200900909</td>\n",
              "      <td>SYSCO co</td>\n",
              "      <td>NaT</td>\n",
              "      <td>2020.0</td>\n",
              "      <td>1.930702e+09</td>\n",
              "      <td>2020-03-25</td>\n",
              "      <td>2020-03-25</td>\n",
              "      <td>2020-04-09</td>\n",
              "      <td>2020-03-25</td>\n",
              "      <td>NAA8</td>\n",
              "      <td>1998.64</td>\n",
              "    </tr>\n",
              "    <tr>\n",
              "      <th>49995</th>\n",
              "      <td>U001</td>\n",
              "      <td>0200561861</td>\n",
              "      <td>CO corporation</td>\n",
              "      <td>NaT</td>\n",
              "      <td>2020.0</td>\n",
              "      <td>1.930797e+09</td>\n",
              "      <td>2020-04-21</td>\n",
              "      <td>2020-04-21</td>\n",
              "      <td>2020-05-06</td>\n",
              "      <td>2020-04-21</td>\n",
              "      <td>NAA8</td>\n",
              "      <td>3187.86</td>\n",
              "    </tr>\n",
              "  </tbody>\n",
              "</table>\n",
              "<p>9681 rows × 12 columns</p>\n",
              "</div>\n",
              "      <button class=\"colab-df-convert\" onclick=\"convertToInteractive('df-776515c5-64d5-48e3-9f4b-e5569f3ab99e')\"\n",
              "              title=\"Convert this dataframe to an interactive table.\"\n",
              "              style=\"display:none;\">\n",
              "        \n",
              "  <svg xmlns=\"http://www.w3.org/2000/svg\" height=\"24px\"viewBox=\"0 0 24 24\"\n",
              "       width=\"24px\">\n",
              "    <path d=\"M0 0h24v24H0V0z\" fill=\"none\"/>\n",
              "    <path d=\"M18.56 5.44l.94 2.06.94-2.06 2.06-.94-2.06-.94-.94-2.06-.94 2.06-2.06.94zm-11 1L8.5 8.5l.94-2.06 2.06-.94-2.06-.94L8.5 2.5l-.94 2.06-2.06.94zm10 10l.94 2.06.94-2.06 2.06-.94-2.06-.94-.94-2.06-.94 2.06-2.06.94z\"/><path d=\"M17.41 7.96l-1.37-1.37c-.4-.4-.92-.59-1.43-.59-.52 0-1.04.2-1.43.59L10.3 9.45l-7.72 7.72c-.78.78-.78 2.05 0 2.83L4 21.41c.39.39.9.59 1.41.59.51 0 1.02-.2 1.41-.59l7.78-7.78 2.81-2.81c.8-.78.8-2.07 0-2.86zM5.41 20L4 18.59l7.72-7.72 1.47 1.35L5.41 20z\"/>\n",
              "  </svg>\n",
              "      </button>\n",
              "      \n",
              "  <style>\n",
              "    .colab-df-container {\n",
              "      display:flex;\n",
              "      flex-wrap:wrap;\n",
              "      gap: 12px;\n",
              "    }\n",
              "\n",
              "    .colab-df-convert {\n",
              "      background-color: #E8F0FE;\n",
              "      border: none;\n",
              "      border-radius: 50%;\n",
              "      cursor: pointer;\n",
              "      display: none;\n",
              "      fill: #1967D2;\n",
              "      height: 32px;\n",
              "      padding: 0 0 0 0;\n",
              "      width: 32px;\n",
              "    }\n",
              "\n",
              "    .colab-df-convert:hover {\n",
              "      background-color: #E2EBFA;\n",
              "      box-shadow: 0px 1px 2px rgba(60, 64, 67, 0.3), 0px 1px 3px 1px rgba(60, 64, 67, 0.15);\n",
              "      fill: #174EA6;\n",
              "    }\n",
              "\n",
              "    [theme=dark] .colab-df-convert {\n",
              "      background-color: #3B4455;\n",
              "      fill: #D2E3FC;\n",
              "    }\n",
              "\n",
              "    [theme=dark] .colab-df-convert:hover {\n",
              "      background-color: #434B5C;\n",
              "      box-shadow: 0px 1px 3px 1px rgba(0, 0, 0, 0.15);\n",
              "      filter: drop-shadow(0px 1px 2px rgba(0, 0, 0, 0.3));\n",
              "      fill: #FFFFFF;\n",
              "    }\n",
              "  </style>\n",
              "\n",
              "      <script>\n",
              "        const buttonEl =\n",
              "          document.querySelector('#df-776515c5-64d5-48e3-9f4b-e5569f3ab99e button.colab-df-convert');\n",
              "        buttonEl.style.display =\n",
              "          google.colab.kernel.accessAllowed ? 'block' : 'none';\n",
              "\n",
              "        async function convertToInteractive(key) {\n",
              "          const element = document.querySelector('#df-776515c5-64d5-48e3-9f4b-e5569f3ab99e');\n",
              "          const dataTable =\n",
              "            await google.colab.kernel.invokeFunction('convertToInteractive',\n",
              "                                                     [key], {});\n",
              "          if (!dataTable) return;\n",
              "\n",
              "          const docLinkHtml = 'Like what you see? Visit the ' +\n",
              "            '<a target=\"_blank\" href=https://colab.research.google.com/notebooks/data_table.ipynb>data table notebook</a>'\n",
              "            + ' to learn more about interactive tables.';\n",
              "          element.innerHTML = '';\n",
              "          dataTable['output_type'] = 'display_data';\n",
              "          await google.colab.output.renderOutput(dataTable, element);\n",
              "          const docLink = document.createElement('div');\n",
              "          docLink.innerHTML = docLinkHtml;\n",
              "          element.appendChild(docLink);\n",
              "        }\n",
              "      </script>\n",
              "    </div>\n",
              "  </div>\n",
              "  "
            ]
          },
          "metadata": {},
          "execution_count": 364
        }
      ],
      "source": [
        "df2"
      ]
    },
    {
      "cell_type": "markdown",
      "id": "Vamx5xqtiHCH",
      "metadata": {
        "id": "Vamx5xqtiHCH"
      },
      "source": [
        "### Check for the number of rows and columns in the nulldata"
      ]
    },
    {
      "cell_type": "code",
      "execution_count": null,
      "id": "59de1092",
      "metadata": {
        "id": "59de1092",
        "colab": {
          "base_uri": "https://localhost:8080/"
        },
        "outputId": "1498778a-40ad-4cb4-9c37-0fef48cd6351"
      },
      "outputs": [
        {
          "output_type": "execute_result",
          "data": {
            "text/plain": [
              "(9681, 12)"
            ]
          },
          "metadata": {},
          "execution_count": 365
        }
      ],
      "source": [
        "df2.shape"
      ]
    },
    {
      "cell_type": "markdown",
      "id": "BxzHNbBjpqXL",
      "metadata": {
        "id": "BxzHNbBjpqXL"
      },
      "source": [
        "### Check the Description and Information of the nulldata "
      ]
    },
    {
      "cell_type": "code",
      "execution_count": null,
      "id": "a6294d29",
      "metadata": {
        "id": "a6294d29",
        "colab": {
          "base_uri": "https://localhost:8080/"
        },
        "outputId": "d091a992-0a83-4823-d1e8-6e80f7987d33"
      },
      "outputs": [
        {
          "output_type": "stream",
          "name": "stdout",
          "text": [
            "<class 'pandas.core.frame.DataFrame'>\n",
            "Int64Index: 9681 entries, 3 to 49995\n",
            "Data columns (total 12 columns):\n",
            " #   Column                  Non-Null Count  Dtype         \n",
            "---  ------                  --------------  -----         \n",
            " 0   business_code           9681 non-null   object        \n",
            " 1   cust_number             9681 non-null   object        \n",
            " 2   name_customer           9681 non-null   object        \n",
            " 3   clear_date              0 non-null      datetime64[ns]\n",
            " 4   buisness_year           9681 non-null   float64       \n",
            " 5   doc_id                  9681 non-null   float64       \n",
            " 6   posting_date            9681 non-null   datetime64[ns]\n",
            " 7   document_create_date.1  9681 non-null   datetime64[ns]\n",
            " 8   due_in_date             9681 non-null   datetime64[ns]\n",
            " 9   baseline_create_date    9681 non-null   datetime64[ns]\n",
            " 10  cust_payment_terms      9681 non-null   object        \n",
            " 11  converted_usd           9681 non-null   float64       \n",
            "dtypes: datetime64[ns](5), float64(3), object(4)\n",
            "memory usage: 983.2+ KB\n"
          ]
        }
      ],
      "source": [
        "df2.info()"
      ]
    },
    {
      "cell_type": "code",
      "source": [
        "df2.describe()"
      ],
      "metadata": {
        "colab": {
          "base_uri": "https://localhost:8080/",
          "height": 300
        },
        "id": "ZZVdjY_V2uF2",
        "outputId": "8cf1f810-63eb-40db-e085-3b157b08aa91"
      },
      "id": "ZZVdjY_V2uF2",
      "execution_count": null,
      "outputs": [
        {
          "output_type": "execute_result",
          "data": {
            "text/plain": [
              "       buisness_year        doc_id  converted_usd\n",
              "count         9681.0  9.681000e+03    9681.000000\n",
              "mean          2020.0  2.006165e+09   32065.681125\n",
              "std              0.0  2.673629e+08   35419.613688\n",
              "min           2020.0  1.930535e+09       0.720000\n",
              "25%           2020.0  1.930658e+09    5607.190000\n",
              "50%           2020.0  1.930731e+09   19024.190000\n",
              "75%           2020.0  1.930818e+09   47752.640000\n",
              "max           2020.0  2.960636e+09  653644.800000"
            ],
            "text/html": [
              "\n",
              "  <div id=\"df-c8bc2c15-47b4-462d-88cd-85b396e0a346\">\n",
              "    <div class=\"colab-df-container\">\n",
              "      <div>\n",
              "<style scoped>\n",
              "    .dataframe tbody tr th:only-of-type {\n",
              "        vertical-align: middle;\n",
              "    }\n",
              "\n",
              "    .dataframe tbody tr th {\n",
              "        vertical-align: top;\n",
              "    }\n",
              "\n",
              "    .dataframe thead th {\n",
              "        text-align: right;\n",
              "    }\n",
              "</style>\n",
              "<table border=\"1\" class=\"dataframe\">\n",
              "  <thead>\n",
              "    <tr style=\"text-align: right;\">\n",
              "      <th></th>\n",
              "      <th>buisness_year</th>\n",
              "      <th>doc_id</th>\n",
              "      <th>converted_usd</th>\n",
              "    </tr>\n",
              "  </thead>\n",
              "  <tbody>\n",
              "    <tr>\n",
              "      <th>count</th>\n",
              "      <td>9681.0</td>\n",
              "      <td>9.681000e+03</td>\n",
              "      <td>9681.000000</td>\n",
              "    </tr>\n",
              "    <tr>\n",
              "      <th>mean</th>\n",
              "      <td>2020.0</td>\n",
              "      <td>2.006165e+09</td>\n",
              "      <td>32065.681125</td>\n",
              "    </tr>\n",
              "    <tr>\n",
              "      <th>std</th>\n",
              "      <td>0.0</td>\n",
              "      <td>2.673629e+08</td>\n",
              "      <td>35419.613688</td>\n",
              "    </tr>\n",
              "    <tr>\n",
              "      <th>min</th>\n",
              "      <td>2020.0</td>\n",
              "      <td>1.930535e+09</td>\n",
              "      <td>0.720000</td>\n",
              "    </tr>\n",
              "    <tr>\n",
              "      <th>25%</th>\n",
              "      <td>2020.0</td>\n",
              "      <td>1.930658e+09</td>\n",
              "      <td>5607.190000</td>\n",
              "    </tr>\n",
              "    <tr>\n",
              "      <th>50%</th>\n",
              "      <td>2020.0</td>\n",
              "      <td>1.930731e+09</td>\n",
              "      <td>19024.190000</td>\n",
              "    </tr>\n",
              "    <tr>\n",
              "      <th>75%</th>\n",
              "      <td>2020.0</td>\n",
              "      <td>1.930818e+09</td>\n",
              "      <td>47752.640000</td>\n",
              "    </tr>\n",
              "    <tr>\n",
              "      <th>max</th>\n",
              "      <td>2020.0</td>\n",
              "      <td>2.960636e+09</td>\n",
              "      <td>653644.800000</td>\n",
              "    </tr>\n",
              "  </tbody>\n",
              "</table>\n",
              "</div>\n",
              "      <button class=\"colab-df-convert\" onclick=\"convertToInteractive('df-c8bc2c15-47b4-462d-88cd-85b396e0a346')\"\n",
              "              title=\"Convert this dataframe to an interactive table.\"\n",
              "              style=\"display:none;\">\n",
              "        \n",
              "  <svg xmlns=\"http://www.w3.org/2000/svg\" height=\"24px\"viewBox=\"0 0 24 24\"\n",
              "       width=\"24px\">\n",
              "    <path d=\"M0 0h24v24H0V0z\" fill=\"none\"/>\n",
              "    <path d=\"M18.56 5.44l.94 2.06.94-2.06 2.06-.94-2.06-.94-.94-2.06-.94 2.06-2.06.94zm-11 1L8.5 8.5l.94-2.06 2.06-.94-2.06-.94L8.5 2.5l-.94 2.06-2.06.94zm10 10l.94 2.06.94-2.06 2.06-.94-2.06-.94-.94-2.06-.94 2.06-2.06.94z\"/><path d=\"M17.41 7.96l-1.37-1.37c-.4-.4-.92-.59-1.43-.59-.52 0-1.04.2-1.43.59L10.3 9.45l-7.72 7.72c-.78.78-.78 2.05 0 2.83L4 21.41c.39.39.9.59 1.41.59.51 0 1.02-.2 1.41-.59l7.78-7.78 2.81-2.81c.8-.78.8-2.07 0-2.86zM5.41 20L4 18.59l7.72-7.72 1.47 1.35L5.41 20z\"/>\n",
              "  </svg>\n",
              "      </button>\n",
              "      \n",
              "  <style>\n",
              "    .colab-df-container {\n",
              "      display:flex;\n",
              "      flex-wrap:wrap;\n",
              "      gap: 12px;\n",
              "    }\n",
              "\n",
              "    .colab-df-convert {\n",
              "      background-color: #E8F0FE;\n",
              "      border: none;\n",
              "      border-radius: 50%;\n",
              "      cursor: pointer;\n",
              "      display: none;\n",
              "      fill: #1967D2;\n",
              "      height: 32px;\n",
              "      padding: 0 0 0 0;\n",
              "      width: 32px;\n",
              "    }\n",
              "\n",
              "    .colab-df-convert:hover {\n",
              "      background-color: #E2EBFA;\n",
              "      box-shadow: 0px 1px 2px rgba(60, 64, 67, 0.3), 0px 1px 3px 1px rgba(60, 64, 67, 0.15);\n",
              "      fill: #174EA6;\n",
              "    }\n",
              "\n",
              "    [theme=dark] .colab-df-convert {\n",
              "      background-color: #3B4455;\n",
              "      fill: #D2E3FC;\n",
              "    }\n",
              "\n",
              "    [theme=dark] .colab-df-convert:hover {\n",
              "      background-color: #434B5C;\n",
              "      box-shadow: 0px 1px 3px 1px rgba(0, 0, 0, 0.15);\n",
              "      filter: drop-shadow(0px 1px 2px rgba(0, 0, 0, 0.3));\n",
              "      fill: #FFFFFF;\n",
              "    }\n",
              "  </style>\n",
              "\n",
              "      <script>\n",
              "        const buttonEl =\n",
              "          document.querySelector('#df-c8bc2c15-47b4-462d-88cd-85b396e0a346 button.colab-df-convert');\n",
              "        buttonEl.style.display =\n",
              "          google.colab.kernel.accessAllowed ? 'block' : 'none';\n",
              "\n",
              "        async function convertToInteractive(key) {\n",
              "          const element = document.querySelector('#df-c8bc2c15-47b4-462d-88cd-85b396e0a346');\n",
              "          const dataTable =\n",
              "            await google.colab.kernel.invokeFunction('convertToInteractive',\n",
              "                                                     [key], {});\n",
              "          if (!dataTable) return;\n",
              "\n",
              "          const docLinkHtml = 'Like what you see? Visit the ' +\n",
              "            '<a target=\"_blank\" href=https://colab.research.google.com/notebooks/data_table.ipynb>data table notebook</a>'\n",
              "            + ' to learn more about interactive tables.';\n",
              "          element.innerHTML = '';\n",
              "          dataTable['output_type'] = 'display_data';\n",
              "          await google.colab.output.renderOutput(dataTable, element);\n",
              "          const docLink = document.createElement('div');\n",
              "          docLink.innerHTML = docLinkHtml;\n",
              "          element.appendChild(docLink);\n",
              "        }\n",
              "      </script>\n",
              "    </div>\n",
              "  </div>\n",
              "  "
            ]
          },
          "metadata": {},
          "execution_count": 367
        }
      ]
    },
    {
      "cell_type": "markdown",
      "id": "fe860d94",
      "metadata": {
        "id": "fe860d94"
      },
      "source": [
        "### Storing the Nulldata into a different dataset \n",
        "# for BACKUP"
      ]
    },
    {
      "cell_type": "code",
      "execution_count": null,
      "id": "16352034",
      "metadata": {
        "id": "16352034"
      },
      "outputs": [],
      "source": [
        "nulldata1=df2 \n"
      ]
    },
    {
      "cell_type": "markdown",
      "id": "00f35b8c",
      "metadata": {
        "id": "00f35b8c"
      },
      "source": [
        "### Call the Label Encoder for Nulldata\n",
        "\n",
        "- Note - you are expected to fit \"business_code\" as it is a categorical variable\n",
        "- Note - No need to change the code"
      ]
    },
    {
      "cell_type": "code",
      "execution_count": null,
      "id": "baf04b17",
      "metadata": {
        "id": "baf04b17",
        "colab": {
          "base_uri": "https://localhost:8080/"
        },
        "outputId": "d00a8039-3c4b-4578-8fff-56f86c79ee2d"
      },
      "outputs": [
        {
          "output_type": "stream",
          "name": "stderr",
          "text": [
            "/usr/local/lib/python3.7/dist-packages/ipykernel_launcher.py:4: SettingWithCopyWarning: \n",
            "A value is trying to be set on a copy of a slice from a DataFrame.\n",
            "Try using .loc[row_indexer,col_indexer] = value instead\n",
            "\n",
            "See the caveats in the documentation: https://pandas.pydata.org/pandas-docs/stable/user_guide/indexing.html#returning-a-view-versus-a-copy\n",
            "  after removing the cwd from sys.path.\n"
          ]
        }
      ],
      "source": [
        "from sklearn.preprocessing import LabelEncoder\n",
        "business_codern = LabelEncoder()\n",
        "business_codern.fit(df2['business_code'])\n",
        "df2['business_code_enc'] = business_codern.transform(df2['business_code'])"
      ]
    },
    {
      "cell_type": "markdown",
      "id": "ZCPBK9karIR-",
      "metadata": {
        "id": "ZCPBK9karIR-"
      },
      "source": [
        "### Now you need to manually replacing str values with numbers\n",
        "- Note - No need to change the code"
      ]
    },
    {
      "cell_type": "code",
      "execution_count": null,
      "id": "c64924be",
      "metadata": {
        "id": "c64924be",
        "colab": {
          "base_uri": "https://localhost:8080/"
        },
        "outputId": "c2f76549-854b-4bb3-f27c-dc0a78eaa6ab"
      },
      "outputs": [
        {
          "output_type": "stream",
          "name": "stderr",
          "text": [
            "/usr/local/lib/python3.7/dist-packages/ipykernel_launcher.py:1: SettingWithCopyWarning: \n",
            "A value is trying to be set on a copy of a slice from a DataFrame.\n",
            "Try using .loc[row_indexer,col_indexer] = value instead\n",
            "\n",
            "See the caveats in the documentation: https://pandas.pydata.org/pandas-docs/stable/user_guide/indexing.html#returning-a-view-versus-a-copy\n",
            "  \"\"\"Entry point for launching an IPython kernel.\n"
          ]
        }
      ],
      "source": [
        "df2['cust_number'] = df2['cust_number'].str.replace('CCCA',\"1\").str.replace('CCU',\"2\").str.replace('CC',\"3\").astype(int)"
      ]
    },
    {
      "cell_type": "markdown",
      "id": "9a55f5f6",
      "metadata": {
        "id": "9a55f5f6"
      },
      "source": [
        "## You need to extract day, month and year from the \"clear_date\", \"posting_date\", \"due_in_date\", \"baseline_create_date\" columns\n",
        "\n",
        "\n",
        "##### 1.   Extract day from \"clear_date\" column and store it into 'day_of_cleardate'\n",
        "##### 2.   Extract month from \"clear_date\" column and store it into 'month_of_cleardate'\n",
        "##### 3.   Extract year from \"clear_date\" column and store it into 'year_of_cleardate'\n",
        "\n",
        "\n",
        "\n",
        "##### 4.   Extract day from \"posting_date\" column and store it into 'day_of_postingdate'\n",
        "##### 5.   Extract month from \"posting_date\" column and store it into 'month_of_postingdate'\n",
        "##### 6.   Extract year from \"posting_date\" column and store it into 'year_of_postingdate'\n",
        "\n",
        "\n",
        "\n",
        "\n",
        "##### 7.   Extract day from \"due_in_date\" column and store it into 'day_of_due'\n",
        "##### 8.   Extract month from \"due_in_date\" column and store it into 'month_of_due'\n",
        "##### 9.   Extract year from \"due_in_date\" column and store it into 'year_of_due'\n",
        "\n",
        "\n",
        "\n",
        "\n",
        "##### 10.   Extract day from \"baseline_create_date\" column and store it into 'day_of_createdate'\n",
        "##### 11.   Extract month from \"baseline_create_date\" column and store it into 'month_of_createdate'\n",
        "##### 12.   Extract year from \"baseline_create_date\" column and store it into 'year_of_createdate'\n",
        "\n",
        "\n",
        "\n",
        "\n",
        "- Note - You are supposed To use - \n",
        "\n",
        "*   dt.day\n",
        "*   dt.month\n",
        "*   dt.year"
      ]
    },
    {
      "cell_type": "code",
      "source": [
        "df2['clear_date']= pd.to_datetime(df2['clear_date'], errors='coerce')\n",
        "df2['posting_date']= pd.to_datetime(df2['posting_date'], errors='coerce')\n",
        "df2['due_in_date']= pd.to_datetime(df2['due_in_date'], errors='coerce')\n",
        "df2['baseline_create_date']= pd.to_datetime(df2['baseline_create_date'], errors='coerce')"
      ],
      "metadata": {
        "colab": {
          "base_uri": "https://localhost:8080/"
        },
        "id": "sINfeAvp9sl0",
        "outputId": "fd41dfe3-25d1-40fd-cb9b-0256198c5b22"
      },
      "id": "sINfeAvp9sl0",
      "execution_count": null,
      "outputs": [
        {
          "output_type": "stream",
          "name": "stderr",
          "text": [
            "/usr/local/lib/python3.7/dist-packages/ipykernel_launcher.py:1: SettingWithCopyWarning: \n",
            "A value is trying to be set on a copy of a slice from a DataFrame.\n",
            "Try using .loc[row_indexer,col_indexer] = value instead\n",
            "\n",
            "See the caveats in the documentation: https://pandas.pydata.org/pandas-docs/stable/user_guide/indexing.html#returning-a-view-versus-a-copy\n",
            "  \"\"\"Entry point for launching an IPython kernel.\n",
            "/usr/local/lib/python3.7/dist-packages/ipykernel_launcher.py:2: SettingWithCopyWarning: \n",
            "A value is trying to be set on a copy of a slice from a DataFrame.\n",
            "Try using .loc[row_indexer,col_indexer] = value instead\n",
            "\n",
            "See the caveats in the documentation: https://pandas.pydata.org/pandas-docs/stable/user_guide/indexing.html#returning-a-view-versus-a-copy\n",
            "  \n",
            "/usr/local/lib/python3.7/dist-packages/ipykernel_launcher.py:3: SettingWithCopyWarning: \n",
            "A value is trying to be set on a copy of a slice from a DataFrame.\n",
            "Try using .loc[row_indexer,col_indexer] = value instead\n",
            "\n",
            "See the caveats in the documentation: https://pandas.pydata.org/pandas-docs/stable/user_guide/indexing.html#returning-a-view-versus-a-copy\n",
            "  This is separate from the ipykernel package so we can avoid doing imports until\n",
            "/usr/local/lib/python3.7/dist-packages/ipykernel_launcher.py:4: SettingWithCopyWarning: \n",
            "A value is trying to be set on a copy of a slice from a DataFrame.\n",
            "Try using .loc[row_indexer,col_indexer] = value instead\n",
            "\n",
            "See the caveats in the documentation: https://pandas.pydata.org/pandas-docs/stable/user_guide/indexing.html#returning-a-view-versus-a-copy\n",
            "  after removing the cwd from sys.path.\n"
          ]
        }
      ]
    },
    {
      "cell_type": "code",
      "execution_count": null,
      "id": "4166fbe4",
      "metadata": {
        "id": "4166fbe4",
        "colab": {
          "base_uri": "https://localhost:8080/"
        },
        "outputId": "fdd4739e-36bd-4265-b295-22d06f00ea62"
      },
      "outputs": [
        {
          "output_type": "stream",
          "name": "stderr",
          "text": [
            "/usr/local/lib/python3.7/dist-packages/ipykernel_launcher.py:1: SettingWithCopyWarning: \n",
            "A value is trying to be set on a copy of a slice from a DataFrame.\n",
            "Try using .loc[row_indexer,col_indexer] = value instead\n",
            "\n",
            "See the caveats in the documentation: https://pandas.pydata.org/pandas-docs/stable/user_guide/indexing.html#returning-a-view-versus-a-copy\n",
            "  \"\"\"Entry point for launching an IPython kernel.\n",
            "/usr/local/lib/python3.7/dist-packages/ipykernel_launcher.py:2: SettingWithCopyWarning: \n",
            "A value is trying to be set on a copy of a slice from a DataFrame.\n",
            "Try using .loc[row_indexer,col_indexer] = value instead\n",
            "\n",
            "See the caveats in the documentation: https://pandas.pydata.org/pandas-docs/stable/user_guide/indexing.html#returning-a-view-versus-a-copy\n",
            "  \n",
            "/usr/local/lib/python3.7/dist-packages/ipykernel_launcher.py:3: SettingWithCopyWarning: \n",
            "A value is trying to be set on a copy of a slice from a DataFrame.\n",
            "Try using .loc[row_indexer,col_indexer] = value instead\n",
            "\n",
            "See the caveats in the documentation: https://pandas.pydata.org/pandas-docs/stable/user_guide/indexing.html#returning-a-view-versus-a-copy\n",
            "  This is separate from the ipykernel package so we can avoid doing imports until\n",
            "/usr/local/lib/python3.7/dist-packages/ipykernel_launcher.py:5: SettingWithCopyWarning: \n",
            "A value is trying to be set on a copy of a slice from a DataFrame.\n",
            "Try using .loc[row_indexer,col_indexer] = value instead\n",
            "\n",
            "See the caveats in the documentation: https://pandas.pydata.org/pandas-docs/stable/user_guide/indexing.html#returning-a-view-versus-a-copy\n",
            "  \"\"\"\n",
            "/usr/local/lib/python3.7/dist-packages/ipykernel_launcher.py:6: SettingWithCopyWarning: \n",
            "A value is trying to be set on a copy of a slice from a DataFrame.\n",
            "Try using .loc[row_indexer,col_indexer] = value instead\n",
            "\n",
            "See the caveats in the documentation: https://pandas.pydata.org/pandas-docs/stable/user_guide/indexing.html#returning-a-view-versus-a-copy\n",
            "  \n",
            "/usr/local/lib/python3.7/dist-packages/ipykernel_launcher.py:7: SettingWithCopyWarning: \n",
            "A value is trying to be set on a copy of a slice from a DataFrame.\n",
            "Try using .loc[row_indexer,col_indexer] = value instead\n",
            "\n",
            "See the caveats in the documentation: https://pandas.pydata.org/pandas-docs/stable/user_guide/indexing.html#returning-a-view-versus-a-copy\n",
            "  import sys\n",
            "/usr/local/lib/python3.7/dist-packages/ipykernel_launcher.py:9: SettingWithCopyWarning: \n",
            "A value is trying to be set on a copy of a slice from a DataFrame.\n",
            "Try using .loc[row_indexer,col_indexer] = value instead\n",
            "\n",
            "See the caveats in the documentation: https://pandas.pydata.org/pandas-docs/stable/user_guide/indexing.html#returning-a-view-versus-a-copy\n",
            "  if __name__ == '__main__':\n",
            "/usr/local/lib/python3.7/dist-packages/ipykernel_launcher.py:10: SettingWithCopyWarning: \n",
            "A value is trying to be set on a copy of a slice from a DataFrame.\n",
            "Try using .loc[row_indexer,col_indexer] = value instead\n",
            "\n",
            "See the caveats in the documentation: https://pandas.pydata.org/pandas-docs/stable/user_guide/indexing.html#returning-a-view-versus-a-copy\n",
            "  # Remove the CWD from sys.path while we load stuff.\n",
            "/usr/local/lib/python3.7/dist-packages/ipykernel_launcher.py:11: SettingWithCopyWarning: \n",
            "A value is trying to be set on a copy of a slice from a DataFrame.\n",
            "Try using .loc[row_indexer,col_indexer] = value instead\n",
            "\n",
            "See the caveats in the documentation: https://pandas.pydata.org/pandas-docs/stable/user_guide/indexing.html#returning-a-view-versus-a-copy\n",
            "  # This is added back by InteractiveShellApp.init_path()\n",
            "/usr/local/lib/python3.7/dist-packages/ipykernel_launcher.py:13: SettingWithCopyWarning: \n",
            "A value is trying to be set on a copy of a slice from a DataFrame.\n",
            "Try using .loc[row_indexer,col_indexer] = value instead\n",
            "\n",
            "See the caveats in the documentation: https://pandas.pydata.org/pandas-docs/stable/user_guide/indexing.html#returning-a-view-versus-a-copy\n",
            "  del sys.path[0]\n",
            "/usr/local/lib/python3.7/dist-packages/ipykernel_launcher.py:14: SettingWithCopyWarning: \n",
            "A value is trying to be set on a copy of a slice from a DataFrame.\n",
            "Try using .loc[row_indexer,col_indexer] = value instead\n",
            "\n",
            "See the caveats in the documentation: https://pandas.pydata.org/pandas-docs/stable/user_guide/indexing.html#returning-a-view-versus-a-copy\n",
            "  \n",
            "/usr/local/lib/python3.7/dist-packages/ipykernel_launcher.py:15: SettingWithCopyWarning: \n",
            "A value is trying to be set on a copy of a slice from a DataFrame.\n",
            "Try using .loc[row_indexer,col_indexer] = value instead\n",
            "\n",
            "See the caveats in the documentation: https://pandas.pydata.org/pandas-docs/stable/user_guide/indexing.html#returning-a-view-versus-a-copy\n",
            "  from ipykernel import kernelapp as app\n"
          ]
        }
      ],
      "source": [
        "df2['day_of_cleardate']=df2['clear_date'].dt.day\n",
        "df2['month_of_cleardate']=df2['clear_date'].dt.month\n",
        "df2['year_of_cleardate']=df2['clear_date'].dt.year\n",
        "\n",
        "df2['day_of_postingdate']=df2['posting_date'].dt.day\n",
        "df2['month_of_postingdate']=df2['posting_date'].dt.month\n",
        "df2['year_of_postingdate']=df2['posting_date'].dt.year\n",
        "\n",
        "df2['day_of_due']=df2['due_in_date'].dt.day\n",
        "df2['month_of_due']=df2['due_in_date'].dt.month\n",
        "df2['year_of_due']=df2['due_in_date'].dt.year\n",
        "\n",
        "df2['day_of_createdate']=df2['baseline_create_date'].dt.day\n",
        "df2['month_of_createdate']=df2['baseline_create_date'].dt.month\n",
        "df2['year_of_createdate']=df2['baseline_create_date'].dt.year"
      ]
    },
    {
      "cell_type": "markdown",
      "id": "QeHWJYrAvOC6",
      "metadata": {
        "id": "QeHWJYrAvOC6"
      },
      "source": [
        "### Use Label Encoder1 of all the following columns - \n",
        "- 'cust_payment_terms' and store into 'cust_payment_terms_enc'\n",
        "- 'business_code' and store into 'business_code_enc'\n",
        "- 'name_customer' and store into 'name_customer_enc'\n",
        "\n",
        "Note - No need to change the code"
      ]
    },
    {
      "cell_type": "code",
      "execution_count": null,
      "id": "bac330e2",
      "metadata": {
        "id": "bac330e2",
        "colab": {
          "base_uri": "https://localhost:8080/"
        },
        "outputId": "32e79bd9-c9e8-4a74-f602-a8c8ea7acb93"
      },
      "outputs": [
        {
          "output_type": "stream",
          "name": "stderr",
          "text": [
            "/usr/local/lib/python3.7/dist-packages/ipykernel_launcher.py:1: SettingWithCopyWarning: \n",
            "A value is trying to be set on a copy of a slice from a DataFrame.\n",
            "Try using .loc[row_indexer,col_indexer] = value instead\n",
            "\n",
            "See the caveats in the documentation: https://pandas.pydata.org/pandas-docs/stable/user_guide/indexing.html#returning-a-view-versus-a-copy\n",
            "  \"\"\"Entry point for launching an IPython kernel.\n",
            "/usr/local/lib/python3.7/dist-packages/ipykernel_launcher.py:2: SettingWithCopyWarning: \n",
            "A value is trying to be set on a copy of a slice from a DataFrame.\n",
            "Try using .loc[row_indexer,col_indexer] = value instead\n",
            "\n",
            "See the caveats in the documentation: https://pandas.pydata.org/pandas-docs/stable/user_guide/indexing.html#returning-a-view-versus-a-copy\n",
            "  \n",
            "/usr/local/lib/python3.7/dist-packages/ipykernel_launcher.py:3: SettingWithCopyWarning: \n",
            "A value is trying to be set on a copy of a slice from a DataFrame.\n",
            "Try using .loc[row_indexer,col_indexer] = value instead\n",
            "\n",
            "See the caveats in the documentation: https://pandas.pydata.org/pandas-docs/stable/user_guide/indexing.html#returning-a-view-versus-a-copy\n",
            "  This is separate from the ipykernel package so we can avoid doing imports until\n"
          ]
        }
      ],
      "source": [
        "df2['cust_payment_terms_enc']=label_encoder1.transform(df2['cust_payment_terms'])\n",
        "df2['business_code_enc']=label_encoder1.transform(df2['business_code'])\n",
        "df2['name_customer_enc']=label_encoder.transform(df2['name_customer'])\n"
      ]
    },
    {
      "cell_type": "markdown",
      "id": "zD9I-XqQwC28",
      "metadata": {
        "id": "zD9I-XqQwC28"
      },
      "source": [
        "### Check for the datatypes of all the columns of Nulldata"
      ]
    },
    {
      "cell_type": "code",
      "execution_count": null,
      "id": "d4f72517",
      "metadata": {
        "id": "d4f72517",
        "colab": {
          "base_uri": "https://localhost:8080/"
        },
        "outputId": "d837e003-e8c0-4221-9f9f-269e5aceeec1"
      },
      "outputs": [
        {
          "output_type": "execute_result",
          "data": {
            "text/plain": [
              "business_code                     object\n",
              "cust_number                        int64\n",
              "name_customer                     object\n",
              "clear_date                datetime64[ns]\n",
              "buisness_year                    float64\n",
              "doc_id                           float64\n",
              "posting_date              datetime64[ns]\n",
              "document_create_date.1    datetime64[ns]\n",
              "due_in_date               datetime64[ns]\n",
              "baseline_create_date      datetime64[ns]\n",
              "cust_payment_terms                object\n",
              "converted_usd                    float64\n",
              "business_code_enc                  int64\n",
              "day_of_cleardate                 float64\n",
              "month_of_cleardate               float64\n",
              "year_of_cleardate                float64\n",
              "day_of_postingdate                 int64\n",
              "month_of_postingdate               int64\n",
              "year_of_postingdate                int64\n",
              "day_of_due                         int64\n",
              "month_of_due                       int64\n",
              "year_of_due                        int64\n",
              "day_of_createdate                  int64\n",
              "month_of_createdate                int64\n",
              "year_of_createdate                 int64\n",
              "cust_payment_terms_enc             int64\n",
              "name_customer_enc                  int64\n",
              "dtype: object"
            ]
          },
          "metadata": {},
          "execution_count": 374
        }
      ],
      "source": [
        "df2.dtypes"
      ]
    },
    {
      "cell_type": "markdown",
      "id": "17cd5452",
      "metadata": {
        "id": "17cd5452"
      },
      "source": [
        "### Now you need to drop all the unnecessary columns - \n",
        "\n",
        "- 'business_code'\n",
        "- \"baseline_create_date\"\n",
        "- \"due_in_date\"\n",
        "- \"posting_date\"\n",
        "- \"name_customer\"\n",
        "- \"clear_date\"\n",
        "- \"cust_payment_terms\"\n",
        "- 'day_of_cleardate'\n",
        "- \"month_of_cleardate\"\n",
        "- \"year_of_cleardate\""
      ]
    },
    {
      "cell_type": "code",
      "execution_count": null,
      "id": "d7c82076",
      "metadata": {
        "id": "d7c82076",
        "colab": {
          "base_uri": "https://localhost:8080/"
        },
        "outputId": "6cb7eff5-f86d-444d-96ff-12c158d1db75"
      },
      "outputs": [
        {
          "output_type": "stream",
          "name": "stderr",
          "text": [
            "/usr/local/lib/python3.7/dist-packages/pandas/core/frame.py:4913: SettingWithCopyWarning: \n",
            "A value is trying to be set on a copy of a slice from a DataFrame\n",
            "\n",
            "See the caveats in the documentation: https://pandas.pydata.org/pandas-docs/stable/user_guide/indexing.html#returning-a-view-versus-a-copy\n",
            "  errors=errors,\n"
          ]
        }
      ],
      "source": [
        "df2.drop(['business_code', 'baseline_create_date', 'due_in_date', 'posting_date', 'name_customer', 'clear_date', 'cust_payment_terms','day_of_cleardate','month_of_cleardate', 'year_of_cleardate'], axis = 1, inplace = True) "
      ]
    },
    {
      "cell_type": "markdown",
      "id": "Q_NCr9IPweVq",
      "metadata": {
        "id": "Q_NCr9IPweVq"
      },
      "source": [
        "### Check the information of the \"nulldata\" dataframe"
      ]
    },
    {
      "cell_type": "code",
      "execution_count": null,
      "id": "4e7ffee0",
      "metadata": {
        "id": "4e7ffee0",
        "colab": {
          "base_uri": "https://localhost:8080/"
        },
        "outputId": "b76018fa-9845-4871-ec11-3ef2aa778d36"
      },
      "outputs": [
        {
          "output_type": "stream",
          "name": "stdout",
          "text": [
            "<class 'pandas.core.frame.DataFrame'>\n",
            "Int64Index: 9681 entries, 3 to 49995\n",
            "Data columns (total 17 columns):\n",
            " #   Column                  Non-Null Count  Dtype         \n",
            "---  ------                  --------------  -----         \n",
            " 0   cust_number             9681 non-null   int64         \n",
            " 1   buisness_year           9681 non-null   float64       \n",
            " 2   doc_id                  9681 non-null   float64       \n",
            " 3   document_create_date.1  9681 non-null   datetime64[ns]\n",
            " 4   converted_usd           9681 non-null   float64       \n",
            " 5   business_code_enc       9681 non-null   int64         \n",
            " 6   day_of_postingdate      9681 non-null   int64         \n",
            " 7   month_of_postingdate    9681 non-null   int64         \n",
            " 8   year_of_postingdate     9681 non-null   int64         \n",
            " 9   day_of_due              9681 non-null   int64         \n",
            " 10  month_of_due            9681 non-null   int64         \n",
            " 11  year_of_due             9681 non-null   int64         \n",
            " 12  day_of_createdate       9681 non-null   int64         \n",
            " 13  month_of_createdate     9681 non-null   int64         \n",
            " 14  year_of_createdate      9681 non-null   int64         \n",
            " 15  cust_payment_terms_enc  9681 non-null   int64         \n",
            " 16  name_customer_enc       9681 non-null   int64         \n",
            "dtypes: datetime64[ns](1), float64(3), int64(13)\n",
            "memory usage: 1.3 MB\n"
          ]
        }
      ],
      "source": [
        "df2.info()"
      ]
    },
    {
      "cell_type": "markdown",
      "id": "-XvjhWqmwi-C",
      "metadata": {
        "id": "-XvjhWqmwi-C"
      },
      "source": [
        "### Compare \"nulldata\" with the \"X_test\" dataframe \n",
        "\n",
        "- use info() method"
      ]
    },
    {
      "cell_type": "code",
      "execution_count": null,
      "id": "02f4b62d",
      "metadata": {
        "id": "02f4b62d",
        "colab": {
          "base_uri": "https://localhost:8080/"
        },
        "outputId": "224449bc-ef0a-430c-9ed0-3bb303d480f6"
      },
      "outputs": [
        {
          "output_type": "stream",
          "name": "stdout",
          "text": [
            "<class 'pandas.core.frame.DataFrame'>\n",
            "Int64Index: 7832 entries, 4434 to 42523\n",
            "Data columns (total 16 columns):\n",
            " #   Column                  Non-Null Count  Dtype  \n",
            "---  ------                  --------------  -----  \n",
            " 0   cust_number             7832 non-null   int64  \n",
            " 1   buisness_year           7832 non-null   float64\n",
            " 2   doc_id                  7832 non-null   float64\n",
            " 3   converted_usd           7832 non-null   float64\n",
            " 4   business_code_enc       7832 non-null   int64  \n",
            " 5   name_customer_enc       7832 non-null   int64  \n",
            " 6   cust_payment_terms_enc  7832 non-null   int64  \n",
            " 7   day_of_postingdate      7832 non-null   int64  \n",
            " 8   month_of_postingdate    7832 non-null   int64  \n",
            " 9   year_of_postingdate     7832 non-null   int64  \n",
            " 10  day_of_createdate       7832 non-null   int64  \n",
            " 11  month_of_createdate     7832 non-null   int64  \n",
            " 12  year_of_createdate      7832 non-null   int64  \n",
            " 13  day_of_due              7832 non-null   int64  \n",
            " 14  month_of_due            7832 non-null   int64  \n",
            " 15  year_of_due             7832 non-null   int64  \n",
            "dtypes: float64(3), int64(13)\n",
            "memory usage: 1.0 MB\n"
          ]
        }
      ],
      "source": [
        "x_test.info()"
      ]
    },
    {
      "cell_type": "markdown",
      "id": "Us3ey-9zwqjq",
      "metadata": {
        "id": "Us3ey-9zwqjq"
      },
      "source": [
        "### You must have noticed that there is a mismatch in the column sequence while compairing the dataframes\n",
        "\n",
        "- Note - In order to fed into the machine learning model, you need to edit the sequence of \"nulldata\", similar to the \"X_test\" dataframe"
      ]
    },
    {
      "cell_type": "markdown",
      "id": "vduVNt1kxPW-",
      "metadata": {
        "id": "vduVNt1kxPW-"
      },
      "source": [
        "- Display all the columns of the X_test dataframe \n",
        "- Display all the columns of the Nulldata dataframe \n",
        "- Store the Nulldata with new sequence into a new dataframe \n",
        "\n",
        "\n",
        "- Note - The code is given below, no need to change "
      ]
    },
    {
      "cell_type": "code",
      "execution_count": null,
      "id": "6729353e",
      "metadata": {
        "id": "6729353e",
        "colab": {
          "base_uri": "https://localhost:8080/"
        },
        "outputId": "3565b9e9-2235-4b37-ee47-e6a8872a8fc1"
      },
      "outputs": [
        {
          "output_type": "execute_result",
          "data": {
            "text/plain": [
              "Index(['cust_number', 'buisness_year', 'doc_id', 'converted_usd',\n",
              "       'business_code_enc', 'name_customer_enc', 'cust_payment_terms_enc',\n",
              "       'day_of_postingdate', 'month_of_postingdate', 'year_of_postingdate',\n",
              "       'day_of_createdate', 'month_of_createdate', 'year_of_createdate',\n",
              "       'day_of_due', 'month_of_due', 'year_of_due'],\n",
              "      dtype='object')"
            ]
          },
          "metadata": {},
          "execution_count": 378
        }
      ],
      "source": [
        "x_test.columns"
      ]
    },
    {
      "cell_type": "code",
      "execution_count": null,
      "id": "47bd9c5e",
      "metadata": {
        "id": "47bd9c5e",
        "colab": {
          "base_uri": "https://localhost:8080/"
        },
        "outputId": "83b6f53d-18e2-4156-f388-f3d857ed67e8"
      },
      "outputs": [
        {
          "output_type": "execute_result",
          "data": {
            "text/plain": [
              "Index(['cust_number', 'buisness_year', 'doc_id', 'document_create_date.1',\n",
              "       'converted_usd', 'business_code_enc', 'day_of_postingdate',\n",
              "       'month_of_postingdate', 'year_of_postingdate', 'day_of_due',\n",
              "       'month_of_due', 'year_of_due', 'day_of_createdate',\n",
              "       'month_of_createdate', 'year_of_createdate', 'cust_payment_terms_enc',\n",
              "       'name_customer_enc'],\n",
              "      dtype='object')"
            ]
          },
          "metadata": {},
          "execution_count": 379
        }
      ],
      "source": [
        "df2.columns"
      ]
    },
    {
      "cell_type": "code",
      "execution_count": null,
      "id": "aa5a2103",
      "metadata": {
        "id": "aa5a2103"
      },
      "outputs": [],
      "source": [
        "nulldata2=df2[['cust_number', 'buisness_year', 'doc_id','converted_usd',\n",
        "       'business_code_enc', 'name_customer_enc', 'cust_payment_terms_enc',\n",
        "       'day_of_postingdate', 'month_of_postingdate', 'year_of_postingdate',\n",
        "       'day_of_createdate', 'month_of_createdate', 'year_of_createdate',\n",
        "       'day_of_due', 'month_of_due', 'year_of_due']]"
      ]
    },
    {
      "cell_type": "markdown",
      "id": "1dc8b021",
      "metadata": {
        "id": "1dc8b021"
      },
      "source": [
        "### Display the Final Dataset"
      ]
    },
    {
      "cell_type": "code",
      "execution_count": null,
      "id": "2f39785a",
      "metadata": {
        "id": "2f39785a",
        "colab": {
          "base_uri": "https://localhost:8080/",
          "height": 427
        },
        "outputId": "9fd20010-ed2d-4942-ee17-8b5e072e720f"
      },
      "outputs": [
        {
          "output_type": "execute_result",
          "data": {
            "text/plain": [
              "    cust_number  buisness_year        doc_id  converted_usd  \\\n",
              "3     140105686         2020.0  2.960623e+09       2309.790   \n",
              "7     200744019         2020.0  1.930659e+09      11173.020   \n",
              "10    200418007         2020.0  1.930611e+09       3525.590   \n",
              "14    200739534         2020.0  1.930788e+09     121105.650   \n",
              "15    200353024         2020.0  1.930817e+09       3726.060   \n",
              "22    200744019         2020.0  1.930676e+09       5893.010   \n",
              "25    140106408         2020.0  2.960619e+09      64982.589   \n",
              "27    200337148         2020.0  1.930592e+09      11380.830   \n",
              "35    200794332         2020.0  1.930731e+09       3863.930   \n",
              "37    200794332         2020.0  1.930804e+09      74453.010   \n",
              "\n",
              "    business_code_enc  name_customer_enc  cust_payment_terms_enc  \\\n",
              "3                  67               2696                       5   \n",
              "7                  67               2781                      21   \n",
              "10                 67                 85                      21   \n",
              "14                 67               2011                      21   \n",
              "15                 67                718                      36   \n",
              "22                 67               2772                      21   \n",
              "25                 67               2966                       5   \n",
              "27                 67                550                      21   \n",
              "35                 67                613                      23   \n",
              "37                 67                619                      23   \n",
              "\n",
              "    day_of_postingdate  month_of_postingdate  year_of_postingdate  \\\n",
              "3                   30                     3                 2020   \n",
              "7                   19                     3                 2020   \n",
              "10                  11                     3                 2020   \n",
              "14                  15                     4                 2020   \n",
              "15                  23                     4                 2020   \n",
              "22                  21                     3                 2020   \n",
              "25                   6                     3                 2020   \n",
              "27                   2                     3                 2020   \n",
              "35                   7                     4                 2020   \n",
              "37                  23                     4                 2020   \n",
              "\n",
              "    day_of_createdate  month_of_createdate  year_of_createdate  day_of_due  \\\n",
              "3                  31                    3                2020          10   \n",
              "7                  19                    3                2020           3   \n",
              "10                 11                    3                2020          26   \n",
              "14                 15                    4                2020          30   \n",
              "15                 16                    4                2020          26   \n",
              "22                 21                    3                2020           5   \n",
              "25                  6                    3                2020          16   \n",
              "27                  2                    3                2020          17   \n",
              "35                  7                    4                2020          22   \n",
              "37                 23                    4                2020           8   \n",
              "\n",
              "    month_of_due  year_of_due  \n",
              "3              4         2020  \n",
              "7              4         2020  \n",
              "10             3         2020  \n",
              "14             4         2020  \n",
              "15             4         2020  \n",
              "22             4         2020  \n",
              "25             3         2020  \n",
              "27             3         2020  \n",
              "35             4         2020  \n",
              "37             5         2020  "
            ],
            "text/html": [
              "\n",
              "  <div id=\"df-c98f4bef-5331-4192-ab7b-405be9853d1d\">\n",
              "    <div class=\"colab-df-container\">\n",
              "      <div>\n",
              "<style scoped>\n",
              "    .dataframe tbody tr th:only-of-type {\n",
              "        vertical-align: middle;\n",
              "    }\n",
              "\n",
              "    .dataframe tbody tr th {\n",
              "        vertical-align: top;\n",
              "    }\n",
              "\n",
              "    .dataframe thead th {\n",
              "        text-align: right;\n",
              "    }\n",
              "</style>\n",
              "<table border=\"1\" class=\"dataframe\">\n",
              "  <thead>\n",
              "    <tr style=\"text-align: right;\">\n",
              "      <th></th>\n",
              "      <th>cust_number</th>\n",
              "      <th>buisness_year</th>\n",
              "      <th>doc_id</th>\n",
              "      <th>converted_usd</th>\n",
              "      <th>business_code_enc</th>\n",
              "      <th>name_customer_enc</th>\n",
              "      <th>cust_payment_terms_enc</th>\n",
              "      <th>day_of_postingdate</th>\n",
              "      <th>month_of_postingdate</th>\n",
              "      <th>year_of_postingdate</th>\n",
              "      <th>day_of_createdate</th>\n",
              "      <th>month_of_createdate</th>\n",
              "      <th>year_of_createdate</th>\n",
              "      <th>day_of_due</th>\n",
              "      <th>month_of_due</th>\n",
              "      <th>year_of_due</th>\n",
              "    </tr>\n",
              "  </thead>\n",
              "  <tbody>\n",
              "    <tr>\n",
              "      <th>3</th>\n",
              "      <td>140105686</td>\n",
              "      <td>2020.0</td>\n",
              "      <td>2.960623e+09</td>\n",
              "      <td>2309.790</td>\n",
              "      <td>67</td>\n",
              "      <td>2696</td>\n",
              "      <td>5</td>\n",
              "      <td>30</td>\n",
              "      <td>3</td>\n",
              "      <td>2020</td>\n",
              "      <td>31</td>\n",
              "      <td>3</td>\n",
              "      <td>2020</td>\n",
              "      <td>10</td>\n",
              "      <td>4</td>\n",
              "      <td>2020</td>\n",
              "    </tr>\n",
              "    <tr>\n",
              "      <th>7</th>\n",
              "      <td>200744019</td>\n",
              "      <td>2020.0</td>\n",
              "      <td>1.930659e+09</td>\n",
              "      <td>11173.020</td>\n",
              "      <td>67</td>\n",
              "      <td>2781</td>\n",
              "      <td>21</td>\n",
              "      <td>19</td>\n",
              "      <td>3</td>\n",
              "      <td>2020</td>\n",
              "      <td>19</td>\n",
              "      <td>3</td>\n",
              "      <td>2020</td>\n",
              "      <td>3</td>\n",
              "      <td>4</td>\n",
              "      <td>2020</td>\n",
              "    </tr>\n",
              "    <tr>\n",
              "      <th>10</th>\n",
              "      <td>200418007</td>\n",
              "      <td>2020.0</td>\n",
              "      <td>1.930611e+09</td>\n",
              "      <td>3525.590</td>\n",
              "      <td>67</td>\n",
              "      <td>85</td>\n",
              "      <td>21</td>\n",
              "      <td>11</td>\n",
              "      <td>3</td>\n",
              "      <td>2020</td>\n",
              "      <td>11</td>\n",
              "      <td>3</td>\n",
              "      <td>2020</td>\n",
              "      <td>26</td>\n",
              "      <td>3</td>\n",
              "      <td>2020</td>\n",
              "    </tr>\n",
              "    <tr>\n",
              "      <th>14</th>\n",
              "      <td>200739534</td>\n",
              "      <td>2020.0</td>\n",
              "      <td>1.930788e+09</td>\n",
              "      <td>121105.650</td>\n",
              "      <td>67</td>\n",
              "      <td>2011</td>\n",
              "      <td>21</td>\n",
              "      <td>15</td>\n",
              "      <td>4</td>\n",
              "      <td>2020</td>\n",
              "      <td>15</td>\n",
              "      <td>4</td>\n",
              "      <td>2020</td>\n",
              "      <td>30</td>\n",
              "      <td>4</td>\n",
              "      <td>2020</td>\n",
              "    </tr>\n",
              "    <tr>\n",
              "      <th>15</th>\n",
              "      <td>200353024</td>\n",
              "      <td>2020.0</td>\n",
              "      <td>1.930817e+09</td>\n",
              "      <td>3726.060</td>\n",
              "      <td>67</td>\n",
              "      <td>718</td>\n",
              "      <td>36</td>\n",
              "      <td>23</td>\n",
              "      <td>4</td>\n",
              "      <td>2020</td>\n",
              "      <td>16</td>\n",
              "      <td>4</td>\n",
              "      <td>2020</td>\n",
              "      <td>26</td>\n",
              "      <td>4</td>\n",
              "      <td>2020</td>\n",
              "    </tr>\n",
              "    <tr>\n",
              "      <th>22</th>\n",
              "      <td>200744019</td>\n",
              "      <td>2020.0</td>\n",
              "      <td>1.930676e+09</td>\n",
              "      <td>5893.010</td>\n",
              "      <td>67</td>\n",
              "      <td>2772</td>\n",
              "      <td>21</td>\n",
              "      <td>21</td>\n",
              "      <td>3</td>\n",
              "      <td>2020</td>\n",
              "      <td>21</td>\n",
              "      <td>3</td>\n",
              "      <td>2020</td>\n",
              "      <td>5</td>\n",
              "      <td>4</td>\n",
              "      <td>2020</td>\n",
              "    </tr>\n",
              "    <tr>\n",
              "      <th>25</th>\n",
              "      <td>140106408</td>\n",
              "      <td>2020.0</td>\n",
              "      <td>2.960619e+09</td>\n",
              "      <td>64982.589</td>\n",
              "      <td>67</td>\n",
              "      <td>2966</td>\n",
              "      <td>5</td>\n",
              "      <td>6</td>\n",
              "      <td>3</td>\n",
              "      <td>2020</td>\n",
              "      <td>6</td>\n",
              "      <td>3</td>\n",
              "      <td>2020</td>\n",
              "      <td>16</td>\n",
              "      <td>3</td>\n",
              "      <td>2020</td>\n",
              "    </tr>\n",
              "    <tr>\n",
              "      <th>27</th>\n",
              "      <td>200337148</td>\n",
              "      <td>2020.0</td>\n",
              "      <td>1.930592e+09</td>\n",
              "      <td>11380.830</td>\n",
              "      <td>67</td>\n",
              "      <td>550</td>\n",
              "      <td>21</td>\n",
              "      <td>2</td>\n",
              "      <td>3</td>\n",
              "      <td>2020</td>\n",
              "      <td>2</td>\n",
              "      <td>3</td>\n",
              "      <td>2020</td>\n",
              "      <td>17</td>\n",
              "      <td>3</td>\n",
              "      <td>2020</td>\n",
              "    </tr>\n",
              "    <tr>\n",
              "      <th>35</th>\n",
              "      <td>200794332</td>\n",
              "      <td>2020.0</td>\n",
              "      <td>1.930731e+09</td>\n",
              "      <td>3863.930</td>\n",
              "      <td>67</td>\n",
              "      <td>613</td>\n",
              "      <td>23</td>\n",
              "      <td>7</td>\n",
              "      <td>4</td>\n",
              "      <td>2020</td>\n",
              "      <td>7</td>\n",
              "      <td>4</td>\n",
              "      <td>2020</td>\n",
              "      <td>22</td>\n",
              "      <td>4</td>\n",
              "      <td>2020</td>\n",
              "    </tr>\n",
              "    <tr>\n",
              "      <th>37</th>\n",
              "      <td>200794332</td>\n",
              "      <td>2020.0</td>\n",
              "      <td>1.930804e+09</td>\n",
              "      <td>74453.010</td>\n",
              "      <td>67</td>\n",
              "      <td>619</td>\n",
              "      <td>23</td>\n",
              "      <td>23</td>\n",
              "      <td>4</td>\n",
              "      <td>2020</td>\n",
              "      <td>23</td>\n",
              "      <td>4</td>\n",
              "      <td>2020</td>\n",
              "      <td>8</td>\n",
              "      <td>5</td>\n",
              "      <td>2020</td>\n",
              "    </tr>\n",
              "  </tbody>\n",
              "</table>\n",
              "</div>\n",
              "      <button class=\"colab-df-convert\" onclick=\"convertToInteractive('df-c98f4bef-5331-4192-ab7b-405be9853d1d')\"\n",
              "              title=\"Convert this dataframe to an interactive table.\"\n",
              "              style=\"display:none;\">\n",
              "        \n",
              "  <svg xmlns=\"http://www.w3.org/2000/svg\" height=\"24px\"viewBox=\"0 0 24 24\"\n",
              "       width=\"24px\">\n",
              "    <path d=\"M0 0h24v24H0V0z\" fill=\"none\"/>\n",
              "    <path d=\"M18.56 5.44l.94 2.06.94-2.06 2.06-.94-2.06-.94-.94-2.06-.94 2.06-2.06.94zm-11 1L8.5 8.5l.94-2.06 2.06-.94-2.06-.94L8.5 2.5l-.94 2.06-2.06.94zm10 10l.94 2.06.94-2.06 2.06-.94-2.06-.94-.94-2.06-.94 2.06-2.06.94z\"/><path d=\"M17.41 7.96l-1.37-1.37c-.4-.4-.92-.59-1.43-.59-.52 0-1.04.2-1.43.59L10.3 9.45l-7.72 7.72c-.78.78-.78 2.05 0 2.83L4 21.41c.39.39.9.59 1.41.59.51 0 1.02-.2 1.41-.59l7.78-7.78 2.81-2.81c.8-.78.8-2.07 0-2.86zM5.41 20L4 18.59l7.72-7.72 1.47 1.35L5.41 20z\"/>\n",
              "  </svg>\n",
              "      </button>\n",
              "      \n",
              "  <style>\n",
              "    .colab-df-container {\n",
              "      display:flex;\n",
              "      flex-wrap:wrap;\n",
              "      gap: 12px;\n",
              "    }\n",
              "\n",
              "    .colab-df-convert {\n",
              "      background-color: #E8F0FE;\n",
              "      border: none;\n",
              "      border-radius: 50%;\n",
              "      cursor: pointer;\n",
              "      display: none;\n",
              "      fill: #1967D2;\n",
              "      height: 32px;\n",
              "      padding: 0 0 0 0;\n",
              "      width: 32px;\n",
              "    }\n",
              "\n",
              "    .colab-df-convert:hover {\n",
              "      background-color: #E2EBFA;\n",
              "      box-shadow: 0px 1px 2px rgba(60, 64, 67, 0.3), 0px 1px 3px 1px rgba(60, 64, 67, 0.15);\n",
              "      fill: #174EA6;\n",
              "    }\n",
              "\n",
              "    [theme=dark] .colab-df-convert {\n",
              "      background-color: #3B4455;\n",
              "      fill: #D2E3FC;\n",
              "    }\n",
              "\n",
              "    [theme=dark] .colab-df-convert:hover {\n",
              "      background-color: #434B5C;\n",
              "      box-shadow: 0px 1px 3px 1px rgba(0, 0, 0, 0.15);\n",
              "      filter: drop-shadow(0px 1px 2px rgba(0, 0, 0, 0.3));\n",
              "      fill: #FFFFFF;\n",
              "    }\n",
              "  </style>\n",
              "\n",
              "      <script>\n",
              "        const buttonEl =\n",
              "          document.querySelector('#df-c98f4bef-5331-4192-ab7b-405be9853d1d button.colab-df-convert');\n",
              "        buttonEl.style.display =\n",
              "          google.colab.kernel.accessAllowed ? 'block' : 'none';\n",
              "\n",
              "        async function convertToInteractive(key) {\n",
              "          const element = document.querySelector('#df-c98f4bef-5331-4192-ab7b-405be9853d1d');\n",
              "          const dataTable =\n",
              "            await google.colab.kernel.invokeFunction('convertToInteractive',\n",
              "                                                     [key], {});\n",
              "          if (!dataTable) return;\n",
              "\n",
              "          const docLinkHtml = 'Like what you see? Visit the ' +\n",
              "            '<a target=\"_blank\" href=https://colab.research.google.com/notebooks/data_table.ipynb>data table notebook</a>'\n",
              "            + ' to learn more about interactive tables.';\n",
              "          element.innerHTML = '';\n",
              "          dataTable['output_type'] = 'display_data';\n",
              "          await google.colab.output.renderOutput(dataTable, element);\n",
              "          const docLink = document.createElement('div');\n",
              "          docLink.innerHTML = docLinkHtml;\n",
              "          element.appendChild(docLink);\n",
              "        }\n",
              "      </script>\n",
              "    </div>\n",
              "  </div>\n",
              "  "
            ]
          },
          "metadata": {},
          "execution_count": 384
        }
      ],
      "source": [
        "nulldata2.head(10)"
      ]
    },
    {
      "cell_type": "markdown",
      "id": "27b88c5a",
      "metadata": {
        "id": "27b88c5a"
      },
      "source": [
        "### Now you can pass this dataset into you final model and store it into \"final_result\""
      ]
    },
    {
      "cell_type": "code",
      "execution_count": null,
      "id": "9e0b6388",
      "metadata": {
        "id": "9e0b6388"
      },
      "outputs": [],
      "source": [
        "final_result= regressorfinal1.predict(nulldata2)"
      ]
    },
    {
      "cell_type": "markdown",
      "id": "9653d3c6",
      "metadata": {
        "id": "9653d3c6"
      },
      "source": [
        "### you need to make the final_result as dataframe, with a column name \"avg_delay\"\n",
        "\n",
        "- Note - No need to change the code"
      ]
    },
    {
      "cell_type": "code",
      "execution_count": null,
      "id": "25ef814d",
      "metadata": {
        "id": "25ef814d"
      },
      "outputs": [],
      "source": [
        "final_result = pd.Series(final_result,name='avg_delay')"
      ]
    },
    {
      "cell_type": "markdown",
      "id": "C86staIhyf2C",
      "metadata": {
        "id": "C86staIhyf2C"
      },
      "source": [
        "### Display the \"avg_delay\" column"
      ]
    },
    {
      "cell_type": "code",
      "execution_count": null,
      "id": "4fd46406",
      "metadata": {
        "id": "4fd46406",
        "colab": {
          "base_uri": "https://localhost:8080/"
        },
        "outputId": "921c57ce-074d-499a-8366-9bd328c7f35c"
      },
      "outputs": [
        {
          "output_type": "execute_result",
          "data": {
            "text/plain": [
              "0     3.047698\n",
              "1    20.464353\n",
              "2    -2.494762\n",
              "3    -0.991334\n",
              "4    -3.520139\n",
              "5     9.314381\n",
              "6    16.273261\n",
              "7     0.374488\n",
              "8    -0.268679\n",
              "9    -0.919262\n",
              "Name: avg_delay, dtype: float64"
            ]
          },
          "metadata": {},
          "execution_count": 388
        }
      ],
      "source": [
        "final_result.head(10)"
      ]
    },
    {
      "cell_type": "markdown",
      "id": "44f71a7e",
      "metadata": {
        "id": "44f71a7e"
      },
      "source": [
        "### Now you need to merge this final_result dataframe with the BACKUP of \"nulldata\" Dataframe which we have created in earlier steps"
      ]
    },
    {
      "cell_type": "code",
      "source": [
        "df2 = df2[df2.index.notnull()]"
      ],
      "metadata": {
        "id": "szn1KclRJZYa"
      },
      "id": "szn1KclRJZYa",
      "execution_count": null,
      "outputs": []
    },
    {
      "cell_type": "code",
      "execution_count": null,
      "id": "e8f0969d",
      "metadata": {
        "id": "e8f0969d"
      },
      "outputs": [],
      "source": [
        "nulldata1.reset_index(drop=True,inplace=True)\n",
        "Final = nulldata1.merge(final_result , on = df2.index )"
      ]
    },
    {
      "cell_type": "markdown",
      "id": "G-hLtxXgy4GZ",
      "metadata": {
        "id": "G-hLtxXgy4GZ"
      },
      "source": [
        "### Display the \"Final\" dataframe "
      ]
    },
    {
      "cell_type": "code",
      "execution_count": null,
      "id": "71fb4dc0",
      "metadata": {
        "id": "71fb4dc0",
        "colab": {
          "base_uri": "https://localhost:8080/",
          "height": 427
        },
        "outputId": "6f703ba6-aa0e-4f89-b814-d44a1725bd0d"
      },
      "outputs": [
        {
          "output_type": "execute_result",
          "data": {
            "text/plain": [
              "   key_0  cust_number  buisness_year        doc_id document_create_date.1  \\\n",
              "0      3    140105686         2020.0  2.960623e+09             2020-03-30   \n",
              "1      7    200744019         2020.0  1.930659e+09             2020-03-19   \n",
              "2     10    200418007         2020.0  1.930611e+09             2020-03-11   \n",
              "3     14    200739534         2020.0  1.930788e+09             2020-04-15   \n",
              "4     15    200353024         2020.0  1.930817e+09             2020-04-23   \n",
              "5     22    200744019         2020.0  1.930676e+09             2020-03-21   \n",
              "6     25    140106408         2020.0  2.960619e+09             2020-03-06   \n",
              "7     27    200337148         2020.0  1.930592e+09             2020-03-02   \n",
              "8     35    200794332         2020.0  1.930731e+09             2020-04-07   \n",
              "9     37    200794332         2020.0  1.930804e+09             2020-04-23   \n",
              "\n",
              "   converted_usd  business_code_enc  day_of_postingdate  month_of_postingdate  \\\n",
              "0       2309.790                 67                  30                     3   \n",
              "1      11173.020                 67                  19                     3   \n",
              "2       3525.590                 67                  11                     3   \n",
              "3     121105.650                 67                  15                     4   \n",
              "4       3726.060                 67                  23                     4   \n",
              "5       5893.010                 67                  21                     3   \n",
              "6      64982.589                 67                   6                     3   \n",
              "7      11380.830                 67                   2                     3   \n",
              "8       3863.930                 67                   7                     4   \n",
              "9      74453.010                 67                  23                     4   \n",
              "\n",
              "   year_of_postingdate  day_of_due  month_of_due  year_of_due  \\\n",
              "0                 2020          10             4         2020   \n",
              "1                 2020           3             4         2020   \n",
              "2                 2020          26             3         2020   \n",
              "3                 2020          30             4         2020   \n",
              "4                 2020          26             4         2020   \n",
              "5                 2020           5             4         2020   \n",
              "6                 2020          16             3         2020   \n",
              "7                 2020          17             3         2020   \n",
              "8                 2020          22             4         2020   \n",
              "9                 2020           8             5         2020   \n",
              "\n",
              "   day_of_createdate  month_of_createdate  year_of_createdate  \\\n",
              "0                 31                    3                2020   \n",
              "1                 19                    3                2020   \n",
              "2                 11                    3                2020   \n",
              "3                 15                    4                2020   \n",
              "4                 16                    4                2020   \n",
              "5                 21                    3                2020   \n",
              "6                  6                    3                2020   \n",
              "7                  2                    3                2020   \n",
              "8                  7                    4                2020   \n",
              "9                 23                    4                2020   \n",
              "\n",
              "   cust_payment_terms_enc  name_customer_enc  avg_delay  \n",
              "0                       5               2696   3.047698  \n",
              "1                      21               2781  20.464353  \n",
              "2                      21                 85  -2.494762  \n",
              "3                      21               2011  -0.991334  \n",
              "4                      36                718  -3.520139  \n",
              "5                      21               2772   9.314381  \n",
              "6                       5               2966  16.273261  \n",
              "7                      21                550   0.374488  \n",
              "8                      23                613  -0.268679  \n",
              "9                      23                619  -0.919262  "
            ],
            "text/html": [
              "\n",
              "  <div id=\"df-2614ebf9-aacd-4865-bac3-4e2a9eea363a\">\n",
              "    <div class=\"colab-df-container\">\n",
              "      <div>\n",
              "<style scoped>\n",
              "    .dataframe tbody tr th:only-of-type {\n",
              "        vertical-align: middle;\n",
              "    }\n",
              "\n",
              "    .dataframe tbody tr th {\n",
              "        vertical-align: top;\n",
              "    }\n",
              "\n",
              "    .dataframe thead th {\n",
              "        text-align: right;\n",
              "    }\n",
              "</style>\n",
              "<table border=\"1\" class=\"dataframe\">\n",
              "  <thead>\n",
              "    <tr style=\"text-align: right;\">\n",
              "      <th></th>\n",
              "      <th>key_0</th>\n",
              "      <th>cust_number</th>\n",
              "      <th>buisness_year</th>\n",
              "      <th>doc_id</th>\n",
              "      <th>document_create_date.1</th>\n",
              "      <th>converted_usd</th>\n",
              "      <th>business_code_enc</th>\n",
              "      <th>day_of_postingdate</th>\n",
              "      <th>month_of_postingdate</th>\n",
              "      <th>year_of_postingdate</th>\n",
              "      <th>day_of_due</th>\n",
              "      <th>month_of_due</th>\n",
              "      <th>year_of_due</th>\n",
              "      <th>day_of_createdate</th>\n",
              "      <th>month_of_createdate</th>\n",
              "      <th>year_of_createdate</th>\n",
              "      <th>cust_payment_terms_enc</th>\n",
              "      <th>name_customer_enc</th>\n",
              "      <th>avg_delay</th>\n",
              "    </tr>\n",
              "  </thead>\n",
              "  <tbody>\n",
              "    <tr>\n",
              "      <th>0</th>\n",
              "      <td>3</td>\n",
              "      <td>140105686</td>\n",
              "      <td>2020.0</td>\n",
              "      <td>2.960623e+09</td>\n",
              "      <td>2020-03-30</td>\n",
              "      <td>2309.790</td>\n",
              "      <td>67</td>\n",
              "      <td>30</td>\n",
              "      <td>3</td>\n",
              "      <td>2020</td>\n",
              "      <td>10</td>\n",
              "      <td>4</td>\n",
              "      <td>2020</td>\n",
              "      <td>31</td>\n",
              "      <td>3</td>\n",
              "      <td>2020</td>\n",
              "      <td>5</td>\n",
              "      <td>2696</td>\n",
              "      <td>3.047698</td>\n",
              "    </tr>\n",
              "    <tr>\n",
              "      <th>1</th>\n",
              "      <td>7</td>\n",
              "      <td>200744019</td>\n",
              "      <td>2020.0</td>\n",
              "      <td>1.930659e+09</td>\n",
              "      <td>2020-03-19</td>\n",
              "      <td>11173.020</td>\n",
              "      <td>67</td>\n",
              "      <td>19</td>\n",
              "      <td>3</td>\n",
              "      <td>2020</td>\n",
              "      <td>3</td>\n",
              "      <td>4</td>\n",
              "      <td>2020</td>\n",
              "      <td>19</td>\n",
              "      <td>3</td>\n",
              "      <td>2020</td>\n",
              "      <td>21</td>\n",
              "      <td>2781</td>\n",
              "      <td>20.464353</td>\n",
              "    </tr>\n",
              "    <tr>\n",
              "      <th>2</th>\n",
              "      <td>10</td>\n",
              "      <td>200418007</td>\n",
              "      <td>2020.0</td>\n",
              "      <td>1.930611e+09</td>\n",
              "      <td>2020-03-11</td>\n",
              "      <td>3525.590</td>\n",
              "      <td>67</td>\n",
              "      <td>11</td>\n",
              "      <td>3</td>\n",
              "      <td>2020</td>\n",
              "      <td>26</td>\n",
              "      <td>3</td>\n",
              "      <td>2020</td>\n",
              "      <td>11</td>\n",
              "      <td>3</td>\n",
              "      <td>2020</td>\n",
              "      <td>21</td>\n",
              "      <td>85</td>\n",
              "      <td>-2.494762</td>\n",
              "    </tr>\n",
              "    <tr>\n",
              "      <th>3</th>\n",
              "      <td>14</td>\n",
              "      <td>200739534</td>\n",
              "      <td>2020.0</td>\n",
              "      <td>1.930788e+09</td>\n",
              "      <td>2020-04-15</td>\n",
              "      <td>121105.650</td>\n",
              "      <td>67</td>\n",
              "      <td>15</td>\n",
              "      <td>4</td>\n",
              "      <td>2020</td>\n",
              "      <td>30</td>\n",
              "      <td>4</td>\n",
              "      <td>2020</td>\n",
              "      <td>15</td>\n",
              "      <td>4</td>\n",
              "      <td>2020</td>\n",
              "      <td>21</td>\n",
              "      <td>2011</td>\n",
              "      <td>-0.991334</td>\n",
              "    </tr>\n",
              "    <tr>\n",
              "      <th>4</th>\n",
              "      <td>15</td>\n",
              "      <td>200353024</td>\n",
              "      <td>2020.0</td>\n",
              "      <td>1.930817e+09</td>\n",
              "      <td>2020-04-23</td>\n",
              "      <td>3726.060</td>\n",
              "      <td>67</td>\n",
              "      <td>23</td>\n",
              "      <td>4</td>\n",
              "      <td>2020</td>\n",
              "      <td>26</td>\n",
              "      <td>4</td>\n",
              "      <td>2020</td>\n",
              "      <td>16</td>\n",
              "      <td>4</td>\n",
              "      <td>2020</td>\n",
              "      <td>36</td>\n",
              "      <td>718</td>\n",
              "      <td>-3.520139</td>\n",
              "    </tr>\n",
              "    <tr>\n",
              "      <th>5</th>\n",
              "      <td>22</td>\n",
              "      <td>200744019</td>\n",
              "      <td>2020.0</td>\n",
              "      <td>1.930676e+09</td>\n",
              "      <td>2020-03-21</td>\n",
              "      <td>5893.010</td>\n",
              "      <td>67</td>\n",
              "      <td>21</td>\n",
              "      <td>3</td>\n",
              "      <td>2020</td>\n",
              "      <td>5</td>\n",
              "      <td>4</td>\n",
              "      <td>2020</td>\n",
              "      <td>21</td>\n",
              "      <td>3</td>\n",
              "      <td>2020</td>\n",
              "      <td>21</td>\n",
              "      <td>2772</td>\n",
              "      <td>9.314381</td>\n",
              "    </tr>\n",
              "    <tr>\n",
              "      <th>6</th>\n",
              "      <td>25</td>\n",
              "      <td>140106408</td>\n",
              "      <td>2020.0</td>\n",
              "      <td>2.960619e+09</td>\n",
              "      <td>2020-03-06</td>\n",
              "      <td>64982.589</td>\n",
              "      <td>67</td>\n",
              "      <td>6</td>\n",
              "      <td>3</td>\n",
              "      <td>2020</td>\n",
              "      <td>16</td>\n",
              "      <td>3</td>\n",
              "      <td>2020</td>\n",
              "      <td>6</td>\n",
              "      <td>3</td>\n",
              "      <td>2020</td>\n",
              "      <td>5</td>\n",
              "      <td>2966</td>\n",
              "      <td>16.273261</td>\n",
              "    </tr>\n",
              "    <tr>\n",
              "      <th>7</th>\n",
              "      <td>27</td>\n",
              "      <td>200337148</td>\n",
              "      <td>2020.0</td>\n",
              "      <td>1.930592e+09</td>\n",
              "      <td>2020-03-02</td>\n",
              "      <td>11380.830</td>\n",
              "      <td>67</td>\n",
              "      <td>2</td>\n",
              "      <td>3</td>\n",
              "      <td>2020</td>\n",
              "      <td>17</td>\n",
              "      <td>3</td>\n",
              "      <td>2020</td>\n",
              "      <td>2</td>\n",
              "      <td>3</td>\n",
              "      <td>2020</td>\n",
              "      <td>21</td>\n",
              "      <td>550</td>\n",
              "      <td>0.374488</td>\n",
              "    </tr>\n",
              "    <tr>\n",
              "      <th>8</th>\n",
              "      <td>35</td>\n",
              "      <td>200794332</td>\n",
              "      <td>2020.0</td>\n",
              "      <td>1.930731e+09</td>\n",
              "      <td>2020-04-07</td>\n",
              "      <td>3863.930</td>\n",
              "      <td>67</td>\n",
              "      <td>7</td>\n",
              "      <td>4</td>\n",
              "      <td>2020</td>\n",
              "      <td>22</td>\n",
              "      <td>4</td>\n",
              "      <td>2020</td>\n",
              "      <td>7</td>\n",
              "      <td>4</td>\n",
              "      <td>2020</td>\n",
              "      <td>23</td>\n",
              "      <td>613</td>\n",
              "      <td>-0.268679</td>\n",
              "    </tr>\n",
              "    <tr>\n",
              "      <th>9</th>\n",
              "      <td>37</td>\n",
              "      <td>200794332</td>\n",
              "      <td>2020.0</td>\n",
              "      <td>1.930804e+09</td>\n",
              "      <td>2020-04-23</td>\n",
              "      <td>74453.010</td>\n",
              "      <td>67</td>\n",
              "      <td>23</td>\n",
              "      <td>4</td>\n",
              "      <td>2020</td>\n",
              "      <td>8</td>\n",
              "      <td>5</td>\n",
              "      <td>2020</td>\n",
              "      <td>23</td>\n",
              "      <td>4</td>\n",
              "      <td>2020</td>\n",
              "      <td>23</td>\n",
              "      <td>619</td>\n",
              "      <td>-0.919262</td>\n",
              "    </tr>\n",
              "  </tbody>\n",
              "</table>\n",
              "</div>\n",
              "      <button class=\"colab-df-convert\" onclick=\"convertToInteractive('df-2614ebf9-aacd-4865-bac3-4e2a9eea363a')\"\n",
              "              title=\"Convert this dataframe to an interactive table.\"\n",
              "              style=\"display:none;\">\n",
              "        \n",
              "  <svg xmlns=\"http://www.w3.org/2000/svg\" height=\"24px\"viewBox=\"0 0 24 24\"\n",
              "       width=\"24px\">\n",
              "    <path d=\"M0 0h24v24H0V0z\" fill=\"none\"/>\n",
              "    <path d=\"M18.56 5.44l.94 2.06.94-2.06 2.06-.94-2.06-.94-.94-2.06-.94 2.06-2.06.94zm-11 1L8.5 8.5l.94-2.06 2.06-.94-2.06-.94L8.5 2.5l-.94 2.06-2.06.94zm10 10l.94 2.06.94-2.06 2.06-.94-2.06-.94-.94-2.06-.94 2.06-2.06.94z\"/><path d=\"M17.41 7.96l-1.37-1.37c-.4-.4-.92-.59-1.43-.59-.52 0-1.04.2-1.43.59L10.3 9.45l-7.72 7.72c-.78.78-.78 2.05 0 2.83L4 21.41c.39.39.9.59 1.41.59.51 0 1.02-.2 1.41-.59l7.78-7.78 2.81-2.81c.8-.78.8-2.07 0-2.86zM5.41 20L4 18.59l7.72-7.72 1.47 1.35L5.41 20z\"/>\n",
              "  </svg>\n",
              "      </button>\n",
              "      \n",
              "  <style>\n",
              "    .colab-df-container {\n",
              "      display:flex;\n",
              "      flex-wrap:wrap;\n",
              "      gap: 12px;\n",
              "    }\n",
              "\n",
              "    .colab-df-convert {\n",
              "      background-color: #E8F0FE;\n",
              "      border: none;\n",
              "      border-radius: 50%;\n",
              "      cursor: pointer;\n",
              "      display: none;\n",
              "      fill: #1967D2;\n",
              "      height: 32px;\n",
              "      padding: 0 0 0 0;\n",
              "      width: 32px;\n",
              "    }\n",
              "\n",
              "    .colab-df-convert:hover {\n",
              "      background-color: #E2EBFA;\n",
              "      box-shadow: 0px 1px 2px rgba(60, 64, 67, 0.3), 0px 1px 3px 1px rgba(60, 64, 67, 0.15);\n",
              "      fill: #174EA6;\n",
              "    }\n",
              "\n",
              "    [theme=dark] .colab-df-convert {\n",
              "      background-color: #3B4455;\n",
              "      fill: #D2E3FC;\n",
              "    }\n",
              "\n",
              "    [theme=dark] .colab-df-convert:hover {\n",
              "      background-color: #434B5C;\n",
              "      box-shadow: 0px 1px 3px 1px rgba(0, 0, 0, 0.15);\n",
              "      filter: drop-shadow(0px 1px 2px rgba(0, 0, 0, 0.3));\n",
              "      fill: #FFFFFF;\n",
              "    }\n",
              "  </style>\n",
              "\n",
              "      <script>\n",
              "        const buttonEl =\n",
              "          document.querySelector('#df-2614ebf9-aacd-4865-bac3-4e2a9eea363a button.colab-df-convert');\n",
              "        buttonEl.style.display =\n",
              "          google.colab.kernel.accessAllowed ? 'block' : 'none';\n",
              "\n",
              "        async function convertToInteractive(key) {\n",
              "          const element = document.querySelector('#df-2614ebf9-aacd-4865-bac3-4e2a9eea363a');\n",
              "          const dataTable =\n",
              "            await google.colab.kernel.invokeFunction('convertToInteractive',\n",
              "                                                     [key], {});\n",
              "          if (!dataTable) return;\n",
              "\n",
              "          const docLinkHtml = 'Like what you see? Visit the ' +\n",
              "            '<a target=\"_blank\" href=https://colab.research.google.com/notebooks/data_table.ipynb>data table notebook</a>'\n",
              "            + ' to learn more about interactive tables.';\n",
              "          element.innerHTML = '';\n",
              "          dataTable['output_type'] = 'display_data';\n",
              "          await google.colab.output.renderOutput(dataTable, element);\n",
              "          const docLink = document.createElement('div');\n",
              "          docLink.innerHTML = docLinkHtml;\n",
              "          element.appendChild(docLink);\n",
              "        }\n",
              "      </script>\n",
              "    </div>\n",
              "  </div>\n",
              "  "
            ]
          },
          "metadata": {},
          "execution_count": 391
        }
      ],
      "source": [
        "Final.head(10)"
      ]
    },
    {
      "cell_type": "markdown",
      "id": "4sc27Uz-y-0O",
      "metadata": {
        "id": "4sc27Uz-y-0O"
      },
      "source": [
        "### Check for the Number of Rows and Columns in your \"Final\" dataframe "
      ]
    },
    {
      "cell_type": "code",
      "execution_count": null,
      "id": "5iUXOIhzy_HR",
      "metadata": {
        "id": "5iUXOIhzy_HR",
        "colab": {
          "base_uri": "https://localhost:8080/"
        },
        "outputId": "4771b67e-9937-4bc0-e74d-d1ba3b65de85"
      },
      "outputs": [
        {
          "output_type": "execute_result",
          "data": {
            "text/plain": [
              "(9681, 19)"
            ]
          },
          "metadata": {},
          "execution_count": 392
        }
      ],
      "source": [
        "Final.shape"
      ]
    },
    {
      "cell_type": "markdown",
      "id": "48886d2c",
      "metadata": {
        "id": "48886d2c"
      },
      "source": [
        "### Now, you need to do convert the below fields back into date and time format \n",
        "\n",
        "- Convert \"due_in_date\" into datetime format\n",
        "- Convert \"avg_delay\" into datetime format\n",
        "- Create a new column \"clear_date\" and store the sum of \"due_in_date\" and \"avg_delay\"\n",
        "- display the new \"clear_date\" column\n",
        "- Note - Code is given below, no need to change "
      ]
    },
    {
      "cell_type": "code",
      "source": [
        "cols=[\"day_of_due\",\"month_of_due\",\"year_of_due\"]\n",
        "Final['due_in_date'] = Final[cols].apply(lambda x: '-'.join(x.values.astype(str)), axis=\"columns\")\n"
      ],
      "metadata": {
        "id": "HwZJTWgMM39t"
      },
      "id": "HwZJTWgMM39t",
      "execution_count": null,
      "outputs": []
    },
    {
      "cell_type": "code",
      "source": [
        "Final.head(10)"
      ],
      "metadata": {
        "colab": {
          "base_uri": "https://localhost:8080/",
          "height": 427
        },
        "id": "-b0MfITCOSa5",
        "outputId": "9365465c-0523-44cf-d29b-49e2051f8588"
      },
      "id": "-b0MfITCOSa5",
      "execution_count": null,
      "outputs": [
        {
          "output_type": "execute_result",
          "data": {
            "text/plain": [
              "   key_0  cust_number  buisness_year        doc_id document_create_date.1  \\\n",
              "0      3    140105686         2020.0  2.960623e+09             2020-03-30   \n",
              "1      7    200744019         2020.0  1.930659e+09             2020-03-19   \n",
              "2     10    200418007         2020.0  1.930611e+09             2020-03-11   \n",
              "3     14    200739534         2020.0  1.930788e+09             2020-04-15   \n",
              "4     15    200353024         2020.0  1.930817e+09             2020-04-23   \n",
              "5     22    200744019         2020.0  1.930676e+09             2020-03-21   \n",
              "6     25    140106408         2020.0  2.960619e+09             2020-03-06   \n",
              "7     27    200337148         2020.0  1.930592e+09             2020-03-02   \n",
              "8     35    200794332         2020.0  1.930731e+09             2020-04-07   \n",
              "9     37    200794332         2020.0  1.930804e+09             2020-04-23   \n",
              "\n",
              "   converted_usd  business_code_enc  day_of_postingdate  month_of_postingdate  \\\n",
              "0       2309.790                 67                  30                     3   \n",
              "1      11173.020                 67                  19                     3   \n",
              "2       3525.590                 67                  11                     3   \n",
              "3     121105.650                 67                  15                     4   \n",
              "4       3726.060                 67                  23                     4   \n",
              "5       5893.010                 67                  21                     3   \n",
              "6      64982.589                 67                   6                     3   \n",
              "7      11380.830                 67                   2                     3   \n",
              "8       3863.930                 67                   7                     4   \n",
              "9      74453.010                 67                  23                     4   \n",
              "\n",
              "   year_of_postingdate  day_of_due  month_of_due  year_of_due  \\\n",
              "0                 2020          10             4         2020   \n",
              "1                 2020           3             4         2020   \n",
              "2                 2020          26             3         2020   \n",
              "3                 2020          30             4         2020   \n",
              "4                 2020          26             4         2020   \n",
              "5                 2020           5             4         2020   \n",
              "6                 2020          16             3         2020   \n",
              "7                 2020          17             3         2020   \n",
              "8                 2020          22             4         2020   \n",
              "9                 2020           8             5         2020   \n",
              "\n",
              "   day_of_createdate  month_of_createdate  year_of_createdate  \\\n",
              "0                 31                    3                2020   \n",
              "1                 19                    3                2020   \n",
              "2                 11                    3                2020   \n",
              "3                 15                    4                2020   \n",
              "4                 16                    4                2020   \n",
              "5                 21                    3                2020   \n",
              "6                  6                    3                2020   \n",
              "7                  2                    3                2020   \n",
              "8                  7                    4                2020   \n",
              "9                 23                    4                2020   \n",
              "\n",
              "   cust_payment_terms_enc  name_customer_enc  avg_delay due_in_date  \n",
              "0                       5               2696   3.047698   10-4-2020  \n",
              "1                      21               2781  20.464353    3-4-2020  \n",
              "2                      21                 85  -2.494762   26-3-2020  \n",
              "3                      21               2011  -0.991334   30-4-2020  \n",
              "4                      36                718  -3.520139   26-4-2020  \n",
              "5                      21               2772   9.314381    5-4-2020  \n",
              "6                       5               2966  16.273261   16-3-2020  \n",
              "7                      21                550   0.374488   17-3-2020  \n",
              "8                      23                613  -0.268679   22-4-2020  \n",
              "9                      23                619  -0.919262    8-5-2020  "
            ],
            "text/html": [
              "\n",
              "  <div id=\"df-e50a0f71-7940-42b5-80c5-29f33751d820\">\n",
              "    <div class=\"colab-df-container\">\n",
              "      <div>\n",
              "<style scoped>\n",
              "    .dataframe tbody tr th:only-of-type {\n",
              "        vertical-align: middle;\n",
              "    }\n",
              "\n",
              "    .dataframe tbody tr th {\n",
              "        vertical-align: top;\n",
              "    }\n",
              "\n",
              "    .dataframe thead th {\n",
              "        text-align: right;\n",
              "    }\n",
              "</style>\n",
              "<table border=\"1\" class=\"dataframe\">\n",
              "  <thead>\n",
              "    <tr style=\"text-align: right;\">\n",
              "      <th></th>\n",
              "      <th>key_0</th>\n",
              "      <th>cust_number</th>\n",
              "      <th>buisness_year</th>\n",
              "      <th>doc_id</th>\n",
              "      <th>document_create_date.1</th>\n",
              "      <th>converted_usd</th>\n",
              "      <th>business_code_enc</th>\n",
              "      <th>day_of_postingdate</th>\n",
              "      <th>month_of_postingdate</th>\n",
              "      <th>year_of_postingdate</th>\n",
              "      <th>day_of_due</th>\n",
              "      <th>month_of_due</th>\n",
              "      <th>year_of_due</th>\n",
              "      <th>day_of_createdate</th>\n",
              "      <th>month_of_createdate</th>\n",
              "      <th>year_of_createdate</th>\n",
              "      <th>cust_payment_terms_enc</th>\n",
              "      <th>name_customer_enc</th>\n",
              "      <th>avg_delay</th>\n",
              "      <th>due_in_date</th>\n",
              "    </tr>\n",
              "  </thead>\n",
              "  <tbody>\n",
              "    <tr>\n",
              "      <th>0</th>\n",
              "      <td>3</td>\n",
              "      <td>140105686</td>\n",
              "      <td>2020.0</td>\n",
              "      <td>2.960623e+09</td>\n",
              "      <td>2020-03-30</td>\n",
              "      <td>2309.790</td>\n",
              "      <td>67</td>\n",
              "      <td>30</td>\n",
              "      <td>3</td>\n",
              "      <td>2020</td>\n",
              "      <td>10</td>\n",
              "      <td>4</td>\n",
              "      <td>2020</td>\n",
              "      <td>31</td>\n",
              "      <td>3</td>\n",
              "      <td>2020</td>\n",
              "      <td>5</td>\n",
              "      <td>2696</td>\n",
              "      <td>3.047698</td>\n",
              "      <td>10-4-2020</td>\n",
              "    </tr>\n",
              "    <tr>\n",
              "      <th>1</th>\n",
              "      <td>7</td>\n",
              "      <td>200744019</td>\n",
              "      <td>2020.0</td>\n",
              "      <td>1.930659e+09</td>\n",
              "      <td>2020-03-19</td>\n",
              "      <td>11173.020</td>\n",
              "      <td>67</td>\n",
              "      <td>19</td>\n",
              "      <td>3</td>\n",
              "      <td>2020</td>\n",
              "      <td>3</td>\n",
              "      <td>4</td>\n",
              "      <td>2020</td>\n",
              "      <td>19</td>\n",
              "      <td>3</td>\n",
              "      <td>2020</td>\n",
              "      <td>21</td>\n",
              "      <td>2781</td>\n",
              "      <td>20.464353</td>\n",
              "      <td>3-4-2020</td>\n",
              "    </tr>\n",
              "    <tr>\n",
              "      <th>2</th>\n",
              "      <td>10</td>\n",
              "      <td>200418007</td>\n",
              "      <td>2020.0</td>\n",
              "      <td>1.930611e+09</td>\n",
              "      <td>2020-03-11</td>\n",
              "      <td>3525.590</td>\n",
              "      <td>67</td>\n",
              "      <td>11</td>\n",
              "      <td>3</td>\n",
              "      <td>2020</td>\n",
              "      <td>26</td>\n",
              "      <td>3</td>\n",
              "      <td>2020</td>\n",
              "      <td>11</td>\n",
              "      <td>3</td>\n",
              "      <td>2020</td>\n",
              "      <td>21</td>\n",
              "      <td>85</td>\n",
              "      <td>-2.494762</td>\n",
              "      <td>26-3-2020</td>\n",
              "    </tr>\n",
              "    <tr>\n",
              "      <th>3</th>\n",
              "      <td>14</td>\n",
              "      <td>200739534</td>\n",
              "      <td>2020.0</td>\n",
              "      <td>1.930788e+09</td>\n",
              "      <td>2020-04-15</td>\n",
              "      <td>121105.650</td>\n",
              "      <td>67</td>\n",
              "      <td>15</td>\n",
              "      <td>4</td>\n",
              "      <td>2020</td>\n",
              "      <td>30</td>\n",
              "      <td>4</td>\n",
              "      <td>2020</td>\n",
              "      <td>15</td>\n",
              "      <td>4</td>\n",
              "      <td>2020</td>\n",
              "      <td>21</td>\n",
              "      <td>2011</td>\n",
              "      <td>-0.991334</td>\n",
              "      <td>30-4-2020</td>\n",
              "    </tr>\n",
              "    <tr>\n",
              "      <th>4</th>\n",
              "      <td>15</td>\n",
              "      <td>200353024</td>\n",
              "      <td>2020.0</td>\n",
              "      <td>1.930817e+09</td>\n",
              "      <td>2020-04-23</td>\n",
              "      <td>3726.060</td>\n",
              "      <td>67</td>\n",
              "      <td>23</td>\n",
              "      <td>4</td>\n",
              "      <td>2020</td>\n",
              "      <td>26</td>\n",
              "      <td>4</td>\n",
              "      <td>2020</td>\n",
              "      <td>16</td>\n",
              "      <td>4</td>\n",
              "      <td>2020</td>\n",
              "      <td>36</td>\n",
              "      <td>718</td>\n",
              "      <td>-3.520139</td>\n",
              "      <td>26-4-2020</td>\n",
              "    </tr>\n",
              "    <tr>\n",
              "      <th>5</th>\n",
              "      <td>22</td>\n",
              "      <td>200744019</td>\n",
              "      <td>2020.0</td>\n",
              "      <td>1.930676e+09</td>\n",
              "      <td>2020-03-21</td>\n",
              "      <td>5893.010</td>\n",
              "      <td>67</td>\n",
              "      <td>21</td>\n",
              "      <td>3</td>\n",
              "      <td>2020</td>\n",
              "      <td>5</td>\n",
              "      <td>4</td>\n",
              "      <td>2020</td>\n",
              "      <td>21</td>\n",
              "      <td>3</td>\n",
              "      <td>2020</td>\n",
              "      <td>21</td>\n",
              "      <td>2772</td>\n",
              "      <td>9.314381</td>\n",
              "      <td>5-4-2020</td>\n",
              "    </tr>\n",
              "    <tr>\n",
              "      <th>6</th>\n",
              "      <td>25</td>\n",
              "      <td>140106408</td>\n",
              "      <td>2020.0</td>\n",
              "      <td>2.960619e+09</td>\n",
              "      <td>2020-03-06</td>\n",
              "      <td>64982.589</td>\n",
              "      <td>67</td>\n",
              "      <td>6</td>\n",
              "      <td>3</td>\n",
              "      <td>2020</td>\n",
              "      <td>16</td>\n",
              "      <td>3</td>\n",
              "      <td>2020</td>\n",
              "      <td>6</td>\n",
              "      <td>3</td>\n",
              "      <td>2020</td>\n",
              "      <td>5</td>\n",
              "      <td>2966</td>\n",
              "      <td>16.273261</td>\n",
              "      <td>16-3-2020</td>\n",
              "    </tr>\n",
              "    <tr>\n",
              "      <th>7</th>\n",
              "      <td>27</td>\n",
              "      <td>200337148</td>\n",
              "      <td>2020.0</td>\n",
              "      <td>1.930592e+09</td>\n",
              "      <td>2020-03-02</td>\n",
              "      <td>11380.830</td>\n",
              "      <td>67</td>\n",
              "      <td>2</td>\n",
              "      <td>3</td>\n",
              "      <td>2020</td>\n",
              "      <td>17</td>\n",
              "      <td>3</td>\n",
              "      <td>2020</td>\n",
              "      <td>2</td>\n",
              "      <td>3</td>\n",
              "      <td>2020</td>\n",
              "      <td>21</td>\n",
              "      <td>550</td>\n",
              "      <td>0.374488</td>\n",
              "      <td>17-3-2020</td>\n",
              "    </tr>\n",
              "    <tr>\n",
              "      <th>8</th>\n",
              "      <td>35</td>\n",
              "      <td>200794332</td>\n",
              "      <td>2020.0</td>\n",
              "      <td>1.930731e+09</td>\n",
              "      <td>2020-04-07</td>\n",
              "      <td>3863.930</td>\n",
              "      <td>67</td>\n",
              "      <td>7</td>\n",
              "      <td>4</td>\n",
              "      <td>2020</td>\n",
              "      <td>22</td>\n",
              "      <td>4</td>\n",
              "      <td>2020</td>\n",
              "      <td>7</td>\n",
              "      <td>4</td>\n",
              "      <td>2020</td>\n",
              "      <td>23</td>\n",
              "      <td>613</td>\n",
              "      <td>-0.268679</td>\n",
              "      <td>22-4-2020</td>\n",
              "    </tr>\n",
              "    <tr>\n",
              "      <th>9</th>\n",
              "      <td>37</td>\n",
              "      <td>200794332</td>\n",
              "      <td>2020.0</td>\n",
              "      <td>1.930804e+09</td>\n",
              "      <td>2020-04-23</td>\n",
              "      <td>74453.010</td>\n",
              "      <td>67</td>\n",
              "      <td>23</td>\n",
              "      <td>4</td>\n",
              "      <td>2020</td>\n",
              "      <td>8</td>\n",
              "      <td>5</td>\n",
              "      <td>2020</td>\n",
              "      <td>23</td>\n",
              "      <td>4</td>\n",
              "      <td>2020</td>\n",
              "      <td>23</td>\n",
              "      <td>619</td>\n",
              "      <td>-0.919262</td>\n",
              "      <td>8-5-2020</td>\n",
              "    </tr>\n",
              "  </tbody>\n",
              "</table>\n",
              "</div>\n",
              "      <button class=\"colab-df-convert\" onclick=\"convertToInteractive('df-e50a0f71-7940-42b5-80c5-29f33751d820')\"\n",
              "              title=\"Convert this dataframe to an interactive table.\"\n",
              "              style=\"display:none;\">\n",
              "        \n",
              "  <svg xmlns=\"http://www.w3.org/2000/svg\" height=\"24px\"viewBox=\"0 0 24 24\"\n",
              "       width=\"24px\">\n",
              "    <path d=\"M0 0h24v24H0V0z\" fill=\"none\"/>\n",
              "    <path d=\"M18.56 5.44l.94 2.06.94-2.06 2.06-.94-2.06-.94-.94-2.06-.94 2.06-2.06.94zm-11 1L8.5 8.5l.94-2.06 2.06-.94-2.06-.94L8.5 2.5l-.94 2.06-2.06.94zm10 10l.94 2.06.94-2.06 2.06-.94-2.06-.94-.94-2.06-.94 2.06-2.06.94z\"/><path d=\"M17.41 7.96l-1.37-1.37c-.4-.4-.92-.59-1.43-.59-.52 0-1.04.2-1.43.59L10.3 9.45l-7.72 7.72c-.78.78-.78 2.05 0 2.83L4 21.41c.39.39.9.59 1.41.59.51 0 1.02-.2 1.41-.59l7.78-7.78 2.81-2.81c.8-.78.8-2.07 0-2.86zM5.41 20L4 18.59l7.72-7.72 1.47 1.35L5.41 20z\"/>\n",
              "  </svg>\n",
              "      </button>\n",
              "      \n",
              "  <style>\n",
              "    .colab-df-container {\n",
              "      display:flex;\n",
              "      flex-wrap:wrap;\n",
              "      gap: 12px;\n",
              "    }\n",
              "\n",
              "    .colab-df-convert {\n",
              "      background-color: #E8F0FE;\n",
              "      border: none;\n",
              "      border-radius: 50%;\n",
              "      cursor: pointer;\n",
              "      display: none;\n",
              "      fill: #1967D2;\n",
              "      height: 32px;\n",
              "      padding: 0 0 0 0;\n",
              "      width: 32px;\n",
              "    }\n",
              "\n",
              "    .colab-df-convert:hover {\n",
              "      background-color: #E2EBFA;\n",
              "      box-shadow: 0px 1px 2px rgba(60, 64, 67, 0.3), 0px 1px 3px 1px rgba(60, 64, 67, 0.15);\n",
              "      fill: #174EA6;\n",
              "    }\n",
              "\n",
              "    [theme=dark] .colab-df-convert {\n",
              "      background-color: #3B4455;\n",
              "      fill: #D2E3FC;\n",
              "    }\n",
              "\n",
              "    [theme=dark] .colab-df-convert:hover {\n",
              "      background-color: #434B5C;\n",
              "      box-shadow: 0px 1px 3px 1px rgba(0, 0, 0, 0.15);\n",
              "      filter: drop-shadow(0px 1px 2px rgba(0, 0, 0, 0.3));\n",
              "      fill: #FFFFFF;\n",
              "    }\n",
              "  </style>\n",
              "\n",
              "      <script>\n",
              "        const buttonEl =\n",
              "          document.querySelector('#df-e50a0f71-7940-42b5-80c5-29f33751d820 button.colab-df-convert');\n",
              "        buttonEl.style.display =\n",
              "          google.colab.kernel.accessAllowed ? 'block' : 'none';\n",
              "\n",
              "        async function convertToInteractive(key) {\n",
              "          const element = document.querySelector('#df-e50a0f71-7940-42b5-80c5-29f33751d820');\n",
              "          const dataTable =\n",
              "            await google.colab.kernel.invokeFunction('convertToInteractive',\n",
              "                                                     [key], {});\n",
              "          if (!dataTable) return;\n",
              "\n",
              "          const docLinkHtml = 'Like what you see? Visit the ' +\n",
              "            '<a target=\"_blank\" href=https://colab.research.google.com/notebooks/data_table.ipynb>data table notebook</a>'\n",
              "            + ' to learn more about interactive tables.';\n",
              "          element.innerHTML = '';\n",
              "          dataTable['output_type'] = 'display_data';\n",
              "          await google.colab.output.renderOutput(dataTable, element);\n",
              "          const docLink = document.createElement('div');\n",
              "          docLink.innerHTML = docLinkHtml;\n",
              "          element.appendChild(docLink);\n",
              "        }\n",
              "      </script>\n",
              "    </div>\n",
              "  </div>\n",
              "  "
            ]
          },
          "metadata": {},
          "execution_count": 394
        }
      ]
    },
    {
      "cell_type": "code",
      "source": [
        "Final.dtypes"
      ],
      "metadata": {
        "colab": {
          "base_uri": "https://localhost:8080/"
        },
        "id": "AiNZAI5kUJdw",
        "outputId": "496de800-07ae-4671-cd0c-4f8fb8b0d2e3"
      },
      "id": "AiNZAI5kUJdw",
      "execution_count": null,
      "outputs": [
        {
          "output_type": "execute_result",
          "data": {
            "text/plain": [
              "key_0                              int64\n",
              "cust_number                        int64\n",
              "buisness_year                    float64\n",
              "doc_id                           float64\n",
              "document_create_date.1    datetime64[ns]\n",
              "converted_usd                    float64\n",
              "business_code_enc                  int64\n",
              "day_of_postingdate                 int64\n",
              "month_of_postingdate               int64\n",
              "year_of_postingdate                int64\n",
              "day_of_due                         int64\n",
              "month_of_due                       int64\n",
              "year_of_due                        int64\n",
              "day_of_createdate                  int64\n",
              "month_of_createdate                int64\n",
              "year_of_createdate                 int64\n",
              "cust_payment_terms_enc             int64\n",
              "name_customer_enc                  int64\n",
              "avg_delay                        float64\n",
              "due_in_date                       object\n",
              "dtype: object"
            ]
          },
          "metadata": {},
          "execution_count": 395
        }
      ]
    },
    {
      "cell_type": "code",
      "source": [
        "Final['avg_delay'].apply(lambda x: '%.5f' % x)"
      ],
      "metadata": {
        "colab": {
          "base_uri": "https://localhost:8080/"
        },
        "id": "moK24MBMWzUK",
        "outputId": "2ffee6ec-81a3-45c9-c495-3388a332a174"
      },
      "id": "moK24MBMWzUK",
      "execution_count": null,
      "outputs": [
        {
          "output_type": "execute_result",
          "data": {
            "text/plain": [
              "0        3.04770\n",
              "1       20.46435\n",
              "2       -2.49476\n",
              "3       -0.99133\n",
              "4       -3.52014\n",
              "          ...   \n",
              "9676    -0.99913\n",
              "9677    -0.94913\n",
              "9678    -3.68298\n",
              "9679     7.63143\n",
              "9680     1.06520\n",
              "Name: avg_delay, Length: 9681, dtype: object"
            ]
          },
          "metadata": {},
          "execution_count": 396
        }
      ]
    },
    {
      "cell_type": "code",
      "execution_count": null,
      "id": "243abc2d",
      "metadata": {
        "id": "243abc2d"
      },
      "outputs": [],
      "source": [
        "Final['clear_date'] = pd.to_datetime(Final['due_in_date']) + pd.to_timedelta(Final['avg_delay'])"
      ]
    },
    {
      "cell_type": "code",
      "source": [
        "Final['avg_delay']=pd.to_timedelta(Final['avg_delay'])"
      ],
      "metadata": {
        "id": "p5331Ds2aeZn"
      },
      "id": "p5331Ds2aeZn",
      "execution_count": null,
      "outputs": []
    },
    {
      "cell_type": "markdown",
      "id": "9QcX_fAjIkYR",
      "metadata": {
        "id": "9QcX_fAjIkYR"
      },
      "source": [
        "### Display the \"clear_date\" column"
      ]
    },
    {
      "cell_type": "code",
      "execution_count": null,
      "id": "740e1486",
      "metadata": {
        "id": "740e1486",
        "colab": {
          "base_uri": "https://localhost:8080/"
        },
        "outputId": "5819d3bb-76c6-4cef-a08c-bdd98dbf439f"
      },
      "outputs": [
        {
          "output_type": "execute_result",
          "data": {
            "text/plain": [
              "0      2020-10-04 00:00:00.000000003\n",
              "1      2020-03-04 00:00:00.000000020\n",
              "2      2020-03-25 23:59:59.999999998\n",
              "3      2020-04-30 00:00:00.000000000\n",
              "4      2020-04-25 23:59:59.999999997\n",
              "                    ...             \n",
              "9676   2020-03-25 00:00:00.000000000\n",
              "9677   2020-05-18 00:00:00.000000000\n",
              "9678   2020-03-25 23:59:59.999999997\n",
              "9679   2020-09-04 00:00:00.000000007\n",
              "9680   2020-06-05 00:00:00.000000001\n",
              "Name: clear_date, Length: 9681, dtype: datetime64[ns]"
            ]
          },
          "metadata": {},
          "execution_count": 399
        }
      ],
      "source": [
        "Final['clear_date']\n"
      ]
    },
    {
      "cell_type": "markdown",
      "id": "MSkNLq6-z7rZ",
      "metadata": {
        "id": "MSkNLq6-z7rZ"
      },
      "source": [
        "### Convert the average delay into number of days format \n",
        "\n",
        "- Note - Formula = avg_delay//(24 * 3600)\n",
        "- Note - full code is given for this, no need to change "
      ]
    },
    {
      "cell_type": "code",
      "execution_count": null,
      "id": "ce6b618a",
      "metadata": {
        "id": "ce6b618a"
      },
      "outputs": [],
      "source": [
        "Final['avg_delay'] = Final.apply(lambda row: row.avg_delay//(24 * 3600), axis = 1)"
      ]
    },
    {
      "cell_type": "code",
      "source": [
        "\n",
        "# Final['avg_delay'] = (Final['avg_delay'] / np.timedelta64(1,'D')).astype(int)"
      ],
      "metadata": {
        "id": "197yHlnbc27h"
      },
      "id": "197yHlnbc27h",
      "execution_count": null,
      "outputs": []
    },
    {
      "cell_type": "markdown",
      "id": "wbBBZPjP0W7o",
      "metadata": {
        "id": "wbBBZPjP0W7o"
      },
      "source": [
        "### Display the \"avg_delay\" column "
      ]
    },
    {
      "cell_type": "code",
      "execution_count": null,
      "id": "a494982f",
      "metadata": {
        "id": "a494982f",
        "scrolled": true,
        "colab": {
          "base_uri": "https://localhost:8080/"
        },
        "outputId": "6c5ce407-bf93-4e5f-b3bd-1f6d50f634af"
      },
      "outputs": [
        {
          "output_type": "execute_result",
          "data": {
            "text/plain": [
              "0                  0 days 00:00:00\n",
              "1                  0 days 00:00:00\n",
              "2      -1 days +23:59:59.999999999\n",
              "3                  0 days 00:00:00\n",
              "4      -1 days +23:59:59.999999999\n",
              "                   ...            \n",
              "9676               0 days 00:00:00\n",
              "9677               0 days 00:00:00\n",
              "9678   -1 days +23:59:59.999999999\n",
              "9679               0 days 00:00:00\n",
              "9680               0 days 00:00:00\n",
              "Name: avg_delay, Length: 9681, dtype: timedelta64[ns]"
            ]
          },
          "metadata": {},
          "execution_count": 402
        }
      ],
      "source": [
        "Final['avg_delay']"
      ]
    },
    {
      "cell_type": "markdown",
      "id": "815d8811",
      "metadata": {
        "id": "815d8811"
      },
      "source": [
        "### Now you need to convert average delay column into bucket\n",
        "\n",
        "- Need to perform binning \n",
        "- create a list of bins i.e. bins= [0,15,30,45,60,100]\n",
        "- create a list of labels i.e. labels = ['0-15','16-30','31-45','46-60','Greatar than 60']\n",
        "- perform binning by using cut() function from \"Final\" dataframe\n",
        "\n",
        "\n",
        "- Please fill up the first two rows of the code"
      ]
    },
    {
      "cell_type": "code",
      "execution_count": null,
      "id": "c797e4b5",
      "metadata": {
        "id": "c797e4b5"
      },
      "outputs": [],
      "source": [
        "aging_bucket = []\n",
        "for x in final_result:\n",
        "    if x<=15:\n",
        "        aging_bucket.append(\"0-15days\")\n",
        "    elif x<=30:\n",
        "        aging_bucket.append(\"16-30days\")\n",
        "    elif x<=45:\n",
        "        aging_bucket.append(\"31-45days\")\n",
        "    elif x<=60:\n",
        "        aging_bucket.append(\"46-60days\")\n",
        "    else:\n",
        "        aging_bucket.append(\"Greater than 60 days\")\n",
        "Final['Aging Bucket']= aging_bucket"
      ]
    },
    {
      "cell_type": "markdown",
      "id": "1c35725f",
      "metadata": {
        "id": "1c35725f"
      },
      "source": [
        "### Now you need to drop \"key_0\" and \"avg_delay\" columns from the \"Final\" Dataframe"
      ]
    },
    {
      "cell_type": "code",
      "execution_count": null,
      "id": "b31bc6a3",
      "metadata": {
        "id": "b31bc6a3"
      },
      "outputs": [],
      "source": [
        "Final.drop(['key_0', 'avg_delay'], axis = 1, inplace = True) "
      ]
    },
    {
      "cell_type": "markdown",
      "id": "Ui-tyIvU0-5u",
      "metadata": {
        "id": "Ui-tyIvU0-5u"
      },
      "source": [
        "### Display the count of each categoty of new \"Aging Bucket\" column "
      ]
    },
    {
      "cell_type": "code",
      "execution_count": null,
      "id": "a6e16218",
      "metadata": {
        "id": "a6e16218",
        "colab": {
          "base_uri": "https://localhost:8080/"
        },
        "outputId": "1f21e0ee-55d7-4c84-acfb-9bbf993f2334"
      },
      "outputs": [
        {
          "output_type": "execute_result",
          "data": {
            "text/plain": [
              "0-15days                9308\n",
              "16-30days                296\n",
              "31-45days                 62\n",
              "Greater than 60 days       8\n",
              "46-60days                  7\n",
              "Name: Aging Bucket, dtype: int64"
            ]
          },
          "metadata": {},
          "execution_count": 405
        }
      ],
      "source": [
        "Final['Aging Bucket'].value_counts()"
      ]
    },
    {
      "cell_type": "markdown",
      "id": "kgYegy551GKJ",
      "metadata": {
        "id": "kgYegy551GKJ"
      },
      "source": [
        "### Display your final dataset with aging buckets "
      ]
    },
    {
      "cell_type": "code",
      "execution_count": null,
      "id": "c4bc87ec",
      "metadata": {
        "id": "c4bc87ec",
        "colab": {
          "base_uri": "https://localhost:8080/",
          "height": 618
        },
        "outputId": "2cf8871a-30bd-4e6f-873e-9992fd653db7"
      },
      "outputs": [
        {
          "output_type": "execute_result",
          "data": {
            "text/plain": [
              "   cust_number  buisness_year        doc_id document_create_date.1  \\\n",
              "0    140105686         2020.0  2.960623e+09             2020-03-30   \n",
              "1    200744019         2020.0  1.930659e+09             2020-03-19   \n",
              "2    200418007         2020.0  1.930611e+09             2020-03-11   \n",
              "3    200739534         2020.0  1.930788e+09             2020-04-15   \n",
              "4    200353024         2020.0  1.930817e+09             2020-04-23   \n",
              "5    200744019         2020.0  1.930676e+09             2020-03-21   \n",
              "6    140106408         2020.0  2.960619e+09             2020-03-06   \n",
              "7    200337148         2020.0  1.930592e+09             2020-03-02   \n",
              "8    200794332         2020.0  1.930731e+09             2020-04-07   \n",
              "9    200794332         2020.0  1.930804e+09             2020-04-23   \n",
              "\n",
              "   converted_usd  business_code_enc  day_of_postingdate  month_of_postingdate  \\\n",
              "0       2309.790                 67                  30                     3   \n",
              "1      11173.020                 67                  19                     3   \n",
              "2       3525.590                 67                  11                     3   \n",
              "3     121105.650                 67                  15                     4   \n",
              "4       3726.060                 67                  23                     4   \n",
              "5       5893.010                 67                  21                     3   \n",
              "6      64982.589                 67                   6                     3   \n",
              "7      11380.830                 67                   2                     3   \n",
              "8       3863.930                 67                   7                     4   \n",
              "9      74453.010                 67                  23                     4   \n",
              "\n",
              "   year_of_postingdate  day_of_due  month_of_due  year_of_due  \\\n",
              "0                 2020          10             4         2020   \n",
              "1                 2020           3             4         2020   \n",
              "2                 2020          26             3         2020   \n",
              "3                 2020          30             4         2020   \n",
              "4                 2020          26             4         2020   \n",
              "5                 2020           5             4         2020   \n",
              "6                 2020          16             3         2020   \n",
              "7                 2020          17             3         2020   \n",
              "8                 2020          22             4         2020   \n",
              "9                 2020           8             5         2020   \n",
              "\n",
              "   day_of_createdate  month_of_createdate  year_of_createdate  \\\n",
              "0                 31                    3                2020   \n",
              "1                 19                    3                2020   \n",
              "2                 11                    3                2020   \n",
              "3                 15                    4                2020   \n",
              "4                 16                    4                2020   \n",
              "5                 21                    3                2020   \n",
              "6                  6                    3                2020   \n",
              "7                  2                    3                2020   \n",
              "8                  7                    4                2020   \n",
              "9                 23                    4                2020   \n",
              "\n",
              "   cust_payment_terms_enc  name_customer_enc due_in_date  \\\n",
              "0                       5               2696   10-4-2020   \n",
              "1                      21               2781    3-4-2020   \n",
              "2                      21                 85   26-3-2020   \n",
              "3                      21               2011   30-4-2020   \n",
              "4                      36                718   26-4-2020   \n",
              "5                      21               2772    5-4-2020   \n",
              "6                       5               2966   16-3-2020   \n",
              "7                      21                550   17-3-2020   \n",
              "8                      23                613   22-4-2020   \n",
              "9                      23                619    8-5-2020   \n",
              "\n",
              "                     clear_date Aging Bucket  \n",
              "0 2020-10-04 00:00:00.000000003     0-15days  \n",
              "1 2020-03-04 00:00:00.000000020    16-30days  \n",
              "2 2020-03-25 23:59:59.999999998     0-15days  \n",
              "3 2020-04-30 00:00:00.000000000     0-15days  \n",
              "4 2020-04-25 23:59:59.999999997     0-15days  \n",
              "5 2020-05-04 00:00:00.000000009     0-15days  \n",
              "6 2020-03-16 00:00:00.000000016    16-30days  \n",
              "7 2020-03-17 00:00:00.000000000     0-15days  \n",
              "8 2020-04-22 00:00:00.000000000     0-15days  \n",
              "9 2020-08-05 00:00:00.000000000     0-15days  "
            ],
            "text/html": [
              "\n",
              "  <div id=\"df-5c831dff-0a1f-45e4-b5f8-58e3c51c0162\">\n",
              "    <div class=\"colab-df-container\">\n",
              "      <div>\n",
              "<style scoped>\n",
              "    .dataframe tbody tr th:only-of-type {\n",
              "        vertical-align: middle;\n",
              "    }\n",
              "\n",
              "    .dataframe tbody tr th {\n",
              "        vertical-align: top;\n",
              "    }\n",
              "\n",
              "    .dataframe thead th {\n",
              "        text-align: right;\n",
              "    }\n",
              "</style>\n",
              "<table border=\"1\" class=\"dataframe\">\n",
              "  <thead>\n",
              "    <tr style=\"text-align: right;\">\n",
              "      <th></th>\n",
              "      <th>cust_number</th>\n",
              "      <th>buisness_year</th>\n",
              "      <th>doc_id</th>\n",
              "      <th>document_create_date.1</th>\n",
              "      <th>converted_usd</th>\n",
              "      <th>business_code_enc</th>\n",
              "      <th>day_of_postingdate</th>\n",
              "      <th>month_of_postingdate</th>\n",
              "      <th>year_of_postingdate</th>\n",
              "      <th>day_of_due</th>\n",
              "      <th>month_of_due</th>\n",
              "      <th>year_of_due</th>\n",
              "      <th>day_of_createdate</th>\n",
              "      <th>month_of_createdate</th>\n",
              "      <th>year_of_createdate</th>\n",
              "      <th>cust_payment_terms_enc</th>\n",
              "      <th>name_customer_enc</th>\n",
              "      <th>due_in_date</th>\n",
              "      <th>clear_date</th>\n",
              "      <th>Aging Bucket</th>\n",
              "    </tr>\n",
              "  </thead>\n",
              "  <tbody>\n",
              "    <tr>\n",
              "      <th>0</th>\n",
              "      <td>140105686</td>\n",
              "      <td>2020.0</td>\n",
              "      <td>2.960623e+09</td>\n",
              "      <td>2020-03-30</td>\n",
              "      <td>2309.790</td>\n",
              "      <td>67</td>\n",
              "      <td>30</td>\n",
              "      <td>3</td>\n",
              "      <td>2020</td>\n",
              "      <td>10</td>\n",
              "      <td>4</td>\n",
              "      <td>2020</td>\n",
              "      <td>31</td>\n",
              "      <td>3</td>\n",
              "      <td>2020</td>\n",
              "      <td>5</td>\n",
              "      <td>2696</td>\n",
              "      <td>10-4-2020</td>\n",
              "      <td>2020-10-04 00:00:00.000000003</td>\n",
              "      <td>0-15days</td>\n",
              "    </tr>\n",
              "    <tr>\n",
              "      <th>1</th>\n",
              "      <td>200744019</td>\n",
              "      <td>2020.0</td>\n",
              "      <td>1.930659e+09</td>\n",
              "      <td>2020-03-19</td>\n",
              "      <td>11173.020</td>\n",
              "      <td>67</td>\n",
              "      <td>19</td>\n",
              "      <td>3</td>\n",
              "      <td>2020</td>\n",
              "      <td>3</td>\n",
              "      <td>4</td>\n",
              "      <td>2020</td>\n",
              "      <td>19</td>\n",
              "      <td>3</td>\n",
              "      <td>2020</td>\n",
              "      <td>21</td>\n",
              "      <td>2781</td>\n",
              "      <td>3-4-2020</td>\n",
              "      <td>2020-03-04 00:00:00.000000020</td>\n",
              "      <td>16-30days</td>\n",
              "    </tr>\n",
              "    <tr>\n",
              "      <th>2</th>\n",
              "      <td>200418007</td>\n",
              "      <td>2020.0</td>\n",
              "      <td>1.930611e+09</td>\n",
              "      <td>2020-03-11</td>\n",
              "      <td>3525.590</td>\n",
              "      <td>67</td>\n",
              "      <td>11</td>\n",
              "      <td>3</td>\n",
              "      <td>2020</td>\n",
              "      <td>26</td>\n",
              "      <td>3</td>\n",
              "      <td>2020</td>\n",
              "      <td>11</td>\n",
              "      <td>3</td>\n",
              "      <td>2020</td>\n",
              "      <td>21</td>\n",
              "      <td>85</td>\n",
              "      <td>26-3-2020</td>\n",
              "      <td>2020-03-25 23:59:59.999999998</td>\n",
              "      <td>0-15days</td>\n",
              "    </tr>\n",
              "    <tr>\n",
              "      <th>3</th>\n",
              "      <td>200739534</td>\n",
              "      <td>2020.0</td>\n",
              "      <td>1.930788e+09</td>\n",
              "      <td>2020-04-15</td>\n",
              "      <td>121105.650</td>\n",
              "      <td>67</td>\n",
              "      <td>15</td>\n",
              "      <td>4</td>\n",
              "      <td>2020</td>\n",
              "      <td>30</td>\n",
              "      <td>4</td>\n",
              "      <td>2020</td>\n",
              "      <td>15</td>\n",
              "      <td>4</td>\n",
              "      <td>2020</td>\n",
              "      <td>21</td>\n",
              "      <td>2011</td>\n",
              "      <td>30-4-2020</td>\n",
              "      <td>2020-04-30 00:00:00.000000000</td>\n",
              "      <td>0-15days</td>\n",
              "    </tr>\n",
              "    <tr>\n",
              "      <th>4</th>\n",
              "      <td>200353024</td>\n",
              "      <td>2020.0</td>\n",
              "      <td>1.930817e+09</td>\n",
              "      <td>2020-04-23</td>\n",
              "      <td>3726.060</td>\n",
              "      <td>67</td>\n",
              "      <td>23</td>\n",
              "      <td>4</td>\n",
              "      <td>2020</td>\n",
              "      <td>26</td>\n",
              "      <td>4</td>\n",
              "      <td>2020</td>\n",
              "      <td>16</td>\n",
              "      <td>4</td>\n",
              "      <td>2020</td>\n",
              "      <td>36</td>\n",
              "      <td>718</td>\n",
              "      <td>26-4-2020</td>\n",
              "      <td>2020-04-25 23:59:59.999999997</td>\n",
              "      <td>0-15days</td>\n",
              "    </tr>\n",
              "    <tr>\n",
              "      <th>5</th>\n",
              "      <td>200744019</td>\n",
              "      <td>2020.0</td>\n",
              "      <td>1.930676e+09</td>\n",
              "      <td>2020-03-21</td>\n",
              "      <td>5893.010</td>\n",
              "      <td>67</td>\n",
              "      <td>21</td>\n",
              "      <td>3</td>\n",
              "      <td>2020</td>\n",
              "      <td>5</td>\n",
              "      <td>4</td>\n",
              "      <td>2020</td>\n",
              "      <td>21</td>\n",
              "      <td>3</td>\n",
              "      <td>2020</td>\n",
              "      <td>21</td>\n",
              "      <td>2772</td>\n",
              "      <td>5-4-2020</td>\n",
              "      <td>2020-05-04 00:00:00.000000009</td>\n",
              "      <td>0-15days</td>\n",
              "    </tr>\n",
              "    <tr>\n",
              "      <th>6</th>\n",
              "      <td>140106408</td>\n",
              "      <td>2020.0</td>\n",
              "      <td>2.960619e+09</td>\n",
              "      <td>2020-03-06</td>\n",
              "      <td>64982.589</td>\n",
              "      <td>67</td>\n",
              "      <td>6</td>\n",
              "      <td>3</td>\n",
              "      <td>2020</td>\n",
              "      <td>16</td>\n",
              "      <td>3</td>\n",
              "      <td>2020</td>\n",
              "      <td>6</td>\n",
              "      <td>3</td>\n",
              "      <td>2020</td>\n",
              "      <td>5</td>\n",
              "      <td>2966</td>\n",
              "      <td>16-3-2020</td>\n",
              "      <td>2020-03-16 00:00:00.000000016</td>\n",
              "      <td>16-30days</td>\n",
              "    </tr>\n",
              "    <tr>\n",
              "      <th>7</th>\n",
              "      <td>200337148</td>\n",
              "      <td>2020.0</td>\n",
              "      <td>1.930592e+09</td>\n",
              "      <td>2020-03-02</td>\n",
              "      <td>11380.830</td>\n",
              "      <td>67</td>\n",
              "      <td>2</td>\n",
              "      <td>3</td>\n",
              "      <td>2020</td>\n",
              "      <td>17</td>\n",
              "      <td>3</td>\n",
              "      <td>2020</td>\n",
              "      <td>2</td>\n",
              "      <td>3</td>\n",
              "      <td>2020</td>\n",
              "      <td>21</td>\n",
              "      <td>550</td>\n",
              "      <td>17-3-2020</td>\n",
              "      <td>2020-03-17 00:00:00.000000000</td>\n",
              "      <td>0-15days</td>\n",
              "    </tr>\n",
              "    <tr>\n",
              "      <th>8</th>\n",
              "      <td>200794332</td>\n",
              "      <td>2020.0</td>\n",
              "      <td>1.930731e+09</td>\n",
              "      <td>2020-04-07</td>\n",
              "      <td>3863.930</td>\n",
              "      <td>67</td>\n",
              "      <td>7</td>\n",
              "      <td>4</td>\n",
              "      <td>2020</td>\n",
              "      <td>22</td>\n",
              "      <td>4</td>\n",
              "      <td>2020</td>\n",
              "      <td>7</td>\n",
              "      <td>4</td>\n",
              "      <td>2020</td>\n",
              "      <td>23</td>\n",
              "      <td>613</td>\n",
              "      <td>22-4-2020</td>\n",
              "      <td>2020-04-22 00:00:00.000000000</td>\n",
              "      <td>0-15days</td>\n",
              "    </tr>\n",
              "    <tr>\n",
              "      <th>9</th>\n",
              "      <td>200794332</td>\n",
              "      <td>2020.0</td>\n",
              "      <td>1.930804e+09</td>\n",
              "      <td>2020-04-23</td>\n",
              "      <td>74453.010</td>\n",
              "      <td>67</td>\n",
              "      <td>23</td>\n",
              "      <td>4</td>\n",
              "      <td>2020</td>\n",
              "      <td>8</td>\n",
              "      <td>5</td>\n",
              "      <td>2020</td>\n",
              "      <td>23</td>\n",
              "      <td>4</td>\n",
              "      <td>2020</td>\n",
              "      <td>23</td>\n",
              "      <td>619</td>\n",
              "      <td>8-5-2020</td>\n",
              "      <td>2020-08-05 00:00:00.000000000</td>\n",
              "      <td>0-15days</td>\n",
              "    </tr>\n",
              "  </tbody>\n",
              "</table>\n",
              "</div>\n",
              "      <button class=\"colab-df-convert\" onclick=\"convertToInteractive('df-5c831dff-0a1f-45e4-b5f8-58e3c51c0162')\"\n",
              "              title=\"Convert this dataframe to an interactive table.\"\n",
              "              style=\"display:none;\">\n",
              "        \n",
              "  <svg xmlns=\"http://www.w3.org/2000/svg\" height=\"24px\"viewBox=\"0 0 24 24\"\n",
              "       width=\"24px\">\n",
              "    <path d=\"M0 0h24v24H0V0z\" fill=\"none\"/>\n",
              "    <path d=\"M18.56 5.44l.94 2.06.94-2.06 2.06-.94-2.06-.94-.94-2.06-.94 2.06-2.06.94zm-11 1L8.5 8.5l.94-2.06 2.06-.94-2.06-.94L8.5 2.5l-.94 2.06-2.06.94zm10 10l.94 2.06.94-2.06 2.06-.94-2.06-.94-.94-2.06-.94 2.06-2.06.94z\"/><path d=\"M17.41 7.96l-1.37-1.37c-.4-.4-.92-.59-1.43-.59-.52 0-1.04.2-1.43.59L10.3 9.45l-7.72 7.72c-.78.78-.78 2.05 0 2.83L4 21.41c.39.39.9.59 1.41.59.51 0 1.02-.2 1.41-.59l7.78-7.78 2.81-2.81c.8-.78.8-2.07 0-2.86zM5.41 20L4 18.59l7.72-7.72 1.47 1.35L5.41 20z\"/>\n",
              "  </svg>\n",
              "      </button>\n",
              "      \n",
              "  <style>\n",
              "    .colab-df-container {\n",
              "      display:flex;\n",
              "      flex-wrap:wrap;\n",
              "      gap: 12px;\n",
              "    }\n",
              "\n",
              "    .colab-df-convert {\n",
              "      background-color: #E8F0FE;\n",
              "      border: none;\n",
              "      border-radius: 50%;\n",
              "      cursor: pointer;\n",
              "      display: none;\n",
              "      fill: #1967D2;\n",
              "      height: 32px;\n",
              "      padding: 0 0 0 0;\n",
              "      width: 32px;\n",
              "    }\n",
              "\n",
              "    .colab-df-convert:hover {\n",
              "      background-color: #E2EBFA;\n",
              "      box-shadow: 0px 1px 2px rgba(60, 64, 67, 0.3), 0px 1px 3px 1px rgba(60, 64, 67, 0.15);\n",
              "      fill: #174EA6;\n",
              "    }\n",
              "\n",
              "    [theme=dark] .colab-df-convert {\n",
              "      background-color: #3B4455;\n",
              "      fill: #D2E3FC;\n",
              "    }\n",
              "\n",
              "    [theme=dark] .colab-df-convert:hover {\n",
              "      background-color: #434B5C;\n",
              "      box-shadow: 0px 1px 3px 1px rgba(0, 0, 0, 0.15);\n",
              "      filter: drop-shadow(0px 1px 2px rgba(0, 0, 0, 0.3));\n",
              "      fill: #FFFFFF;\n",
              "    }\n",
              "  </style>\n",
              "\n",
              "      <script>\n",
              "        const buttonEl =\n",
              "          document.querySelector('#df-5c831dff-0a1f-45e4-b5f8-58e3c51c0162 button.colab-df-convert');\n",
              "        buttonEl.style.display =\n",
              "          google.colab.kernel.accessAllowed ? 'block' : 'none';\n",
              "\n",
              "        async function convertToInteractive(key) {\n",
              "          const element = document.querySelector('#df-5c831dff-0a1f-45e4-b5f8-58e3c51c0162');\n",
              "          const dataTable =\n",
              "            await google.colab.kernel.invokeFunction('convertToInteractive',\n",
              "                                                     [key], {});\n",
              "          if (!dataTable) return;\n",
              "\n",
              "          const docLinkHtml = 'Like what you see? Visit the ' +\n",
              "            '<a target=\"_blank\" href=https://colab.research.google.com/notebooks/data_table.ipynb>data table notebook</a>'\n",
              "            + ' to learn more about interactive tables.';\n",
              "          element.innerHTML = '';\n",
              "          dataTable['output_type'] = 'display_data';\n",
              "          await google.colab.output.renderOutput(dataTable, element);\n",
              "          const docLink = document.createElement('div');\n",
              "          docLink.innerHTML = docLinkHtml;\n",
              "          element.appendChild(docLink);\n",
              "        }\n",
              "      </script>\n",
              "    </div>\n",
              "  </div>\n",
              "  "
            ]
          },
          "metadata": {},
          "execution_count": 406
        }
      ],
      "source": [
        "Final.head(10)"
      ]
    },
    {
      "cell_type": "markdown",
      "id": "Ji7AoDCB1L_x",
      "metadata": {
        "id": "Ji7AoDCB1L_x"
      },
      "source": [
        "### Store this dataframe into the .csv format"
      ]
    },
    {
      "cell_type": "code",
      "execution_count": null,
      "id": "727d0b8d",
      "metadata": {
        "id": "727d0b8d"
      },
      "outputs": [],
      "source": [
        "Final.to_csv('FinalPrediction.csv')"
      ]
    },
    {
      "cell_type": "code",
      "source": [
        "\n",
        "filename = 'model.sav'\n",
        "pickle.dump(regressorfinal1, open(filename, 'wb'))"
      ],
      "metadata": {
        "id": "VmgWT7wIcXai"
      },
      "id": "VmgWT7wIcXai",
      "execution_count": null,
      "outputs": []
    },
    {
      "cell_type": "markdown",
      "id": "FK0fabl61SkC",
      "metadata": {
        "id": "FK0fabl61SkC"
      },
      "source": [
        "# END OF THE PROJECT"
      ]
    }
  ],
  "metadata": {
    "colab": {
      "collapsed_sections": [
        "62633a84"
      ],
      "name": "Payment date prediction.ipynb",
      "provenance": [],
      "include_colab_link": true
    },
    "kernelspec": {
      "display_name": "Python 3 (ipykernel)",
      "language": "python",
      "name": "python3"
    },
    "language_info": {
      "codemirror_mode": {
        "name": "ipython",
        "version": 3
      },
      "file_extension": ".py",
      "mimetype": "text/x-python",
      "name": "python",
      "nbconvert_exporter": "python",
      "pygments_lexer": "ipython3",
      "version": "3.9.7"
    }
  },
  "nbformat": 4,
  "nbformat_minor": 5
}