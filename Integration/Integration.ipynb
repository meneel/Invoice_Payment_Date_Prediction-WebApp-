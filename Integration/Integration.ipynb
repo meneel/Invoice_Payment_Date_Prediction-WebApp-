{
 "cells": [
  {
   "cell_type": "code",
   "execution_count": 1,
   "id": "37b7b81b",
   "metadata": {},
   "outputs": [
    {
     "name": "stdout",
     "output_type": "stream",
     "text": [
      "Requirement already satisfied: flask-cors in c:\\users\\indraneel dutta\\anaconda3\\lib\\site-packages (3.0.10)\n",
      "Requirement already satisfied: Six in c:\\users\\indraneel dutta\\anaconda3\\lib\\site-packages (from flask-cors) (1.16.0)\n",
      "Requirement already satisfied: Flask>=0.9 in c:\\users\\indraneel dutta\\anaconda3\\lib\\site-packages (from flask-cors) (2.0.1)\n",
      "Requirement already satisfied: Werkzeug>=2.0 in c:\\users\\indraneel dutta\\anaconda3\\lib\\site-packages (from Flask>=0.9->flask-cors) (2.0.1)\n",
      "Requirement already satisfied: itsdangerous>=2.0 in c:\\users\\indraneel dutta\\anaconda3\\lib\\site-packages (from Flask>=0.9->flask-cors) (2.0.1)\n",
      "Requirement already satisfied: Jinja2>=3.0 in c:\\users\\indraneel dutta\\anaconda3\\lib\\site-packages (from Flask>=0.9->flask-cors) (3.0.1)\n",
      "Requirement already satisfied: click>=7.1.2 in c:\\users\\indraneel dutta\\anaconda3\\lib\\site-packages (from Flask>=0.9->flask-cors) (7.1.2)\n",
      "Requirement already satisfied: MarkupSafe>=2.0 in c:\\users\\indraneel dutta\\anaconda3\\lib\\site-packages (from Jinja2>=3.0->Flask>=0.9->flask-cors) (2.0.1)\n",
      "Note: you may need to restart the kernel to use updated packages.\n"
     ]
    },
    {
     "name": "stderr",
     "output_type": "stream",
     "text": [
      "WARNING: Retrying (Retry(total=4, connect=None, read=None, redirect=None, status=None)) after connection broken by 'NewConnectionError('<pip._vendor.urllib3.connection.HTTPSConnection object at 0x00000205B18F0C10>: Failed to establish a new connection: [Errno 11001] getaddrinfo failed')': /simple/flask-cors/\n",
      "WARNING: Retrying (Retry(total=3, connect=None, read=None, redirect=None, status=None)) after connection broken by 'NewConnectionError('<pip._vendor.urllib3.connection.HTTPSConnection object at 0x00000205B18F07C0>: Failed to establish a new connection: [Errno 11001] getaddrinfo failed')': /simple/flask-cors/\n",
      "WARNING: Retrying (Retry(total=2, connect=None, read=None, redirect=None, status=None)) after connection broken by 'NewConnectionError('<pip._vendor.urllib3.connection.HTTPSConnection object at 0x00000205B18F0190>: Failed to establish a new connection: [Errno 11001] getaddrinfo failed')': /simple/flask-cors/\n",
      "WARNING: Retrying (Retry(total=1, connect=None, read=None, redirect=None, status=None)) after connection broken by 'NewConnectionError('<pip._vendor.urllib3.connection.HTTPSConnection object at 0x00000205B18F01C0>: Failed to establish a new connection: [Errno 11001] getaddrinfo failed')': /simple/flask-cors/\n",
      "WARNING: Retrying (Retry(total=0, connect=None, read=None, redirect=None, status=None)) after connection broken by 'NewConnectionError('<pip._vendor.urllib3.connection.HTTPSConnection object at 0x00000205B18F0EB0>: Failed to establish a new connection: [Errno 11001] getaddrinfo failed')': /simple/flask-cors/\n"
     ]
    }
   ],
   "source": [
    "pip install -U flask-cors"
   ]
  },
  {
   "cell_type": "code",
   "execution_count": null,
   "id": "8933d4f8",
   "metadata": {},
   "outputs": [
    {
     "name": "stdout",
     "output_type": "stream",
     "text": [
      " * Serving Flask app '__main__' (lazy loading)\n",
      " * Environment: production\n",
      "   WARNING: This is a development server. Do not use it in a production deployment.\n",
      "   Use a production WSGI server instead.\n",
      " * Debug mode: off\n"
     ]
    },
    {
     "name": "stderr",
     "output_type": "stream",
     "text": [
      " * Running on http://127.0.0.1:5000/ (Press CTRL+C to quit)\n",
      "127.0.0.1 - - [24/Jun/2022 09:43:24] \"OPTIONS / HTTP/1.1\" 200 -\n"
     ]
    },
    {
     "name": "stdout",
     "output_type": "stream",
     "text": [
      "{'sl_no': 1, 'business_code': 'U001', 'cust_number': 200769623, 'name_customer': 'PIO associates', 'clear_date': 'Feb 11, 2020', 'buisness_year': 2020, 'doc_id': '1930438491', 'posting_date': 'Jan 26, 2020', 'document_create_date': 'Jan 25, 2020', 'document_create_date1': 'Jan 26, 2020', 'due_in_date': 'Feb 10, 2020', 'invoice_currency': 'USD', 'document_type': 'RV', 'posting_id': 1, 'area_business': '', 'total_open_amount': 54273.28, 'baseline_create_date': 'Jan 26, 2020', 'cust_payment_terms': 'NAH3', 'invoice_id': 1930438491, 'isOpen': False, 'is_deleted': False}\n",
      "{'sl_no': 1, 'business_code': 'U001', 'cust_number': 200769623, 'name_customer': 'PIO associates', 'clear_date': 'Feb 11, 2020', 'buisness_year': 2020, 'doc_id': '1930438491', 'posting_date': 'Jan 26, 2020', 'document_create_date': 'Jan 25, 2020', 'document_create_date1': 'Jan 26, 2020', 'due_in_date': 'Feb 10, 2020', 'invoice_currency': 'USD', 'document_type': 'RV', 'posting_id': 1, 'area_business': '', 'total_open_amount': 54273.28, 'baseline_create_date': 'Jan 26, 2020', 'cust_payment_terms': 'NAH3', 'invoice_id': 1930438491, 'isOpen': False, 'is_deleted': False}\n",
      " Predict\n"
     ]
    },
    {
     "name": "stderr",
     "output_type": "stream",
     "text": [
      "C:\\Users\\Indraneel Dutta\\anaconda3\\lib\\site-packages\\sklearn\\base.py:310: UserWarning: Trying to unpickle estimator DecisionTreeRegressor from version 1.0.2 when using version 0.24.2. This might lead to breaking code or invalid results. Use at your own risk.\n",
      "  warnings.warn(\n",
      "C:\\Users\\Indraneel Dutta\\anaconda3\\lib\\site-packages\\sklearn\\base.py:310: UserWarning: Trying to unpickle estimator RandomForestRegressor from version 1.0.2 when using version 0.24.2. This might lead to breaking code or invalid results. Use at your own risk.\n",
      "  warnings.warn(\n",
      "127.0.0.1 - - [24/Jun/2022 09:43:25] \"POST / HTTP/1.1\" 200 -\n",
      "127.0.0.1 - - [24/Jun/2022 09:43:37] \"OPTIONS / HTTP/1.1\" 200 -\n",
      "C:\\Users\\Indraneel Dutta\\anaconda3\\lib\\site-packages\\sklearn\\base.py:310: UserWarning: Trying to unpickle estimator DecisionTreeRegressor from version 1.0.2 when using version 0.24.2. This might lead to breaking code or invalid results. Use at your own risk.\n",
      "  warnings.warn(\n",
      "C:\\Users\\Indraneel Dutta\\anaconda3\\lib\\site-packages\\sklearn\\base.py:310: UserWarning: Trying to unpickle estimator RandomForestRegressor from version 1.0.2 when using version 0.24.2. This might lead to breaking code or invalid results. Use at your own risk.\n",
      "  warnings.warn(\n",
      "127.0.0.1 - - [24/Jun/2022 09:43:37] \"POST / HTTP/1.1\" 200 -\n"
     ]
    },
    {
     "name": "stdout",
     "output_type": "stream",
     "text": [
      "{'sl_no': 1, 'business_code': 'U001', 'cust_number': 200769623, 'name_customer': 'PIO associates', 'clear_date': 'Feb 11, 2020', 'buisness_year': 2020, 'doc_id': '1930438491', 'posting_date': 'Jan 26, 2020', 'document_create_date': 'Jan 25, 2020', 'document_create_date1': 'Jan 26, 2020', 'due_in_date': 'Feb 10, 2020', 'invoice_currency': 'USD', 'document_type': 'RV', 'posting_id': 1, 'area_business': '', 'total_open_amount': 54273.28, 'baseline_create_date': 'Jan 26, 2020', 'cust_payment_terms': 'NAH3', 'invoice_id': 1930438491, 'isOpen': False, 'is_deleted': False, 'aging_bucket': '0-15'}\n",
      "{'sl_no': 1, 'business_code': 'U001', 'cust_number': 200769623, 'name_customer': 'PIO associates', 'clear_date': 'Feb 11, 2020', 'buisness_year': 2020, 'doc_id': '1930438491', 'posting_date': 'Jan 26, 2020', 'document_create_date': 'Jan 25, 2020', 'document_create_date1': 'Jan 26, 2020', 'due_in_date': 'Feb 10, 2020', 'invoice_currency': 'USD', 'document_type': 'RV', 'posting_id': 1, 'area_business': '', 'total_open_amount': 54273.28, 'baseline_create_date': 'Jan 26, 2020', 'cust_payment_terms': 'NAH3', 'invoice_id': 1930438491, 'isOpen': False, 'is_deleted': False, 'aging_bucket': '0-15'}\n",
      " Predict\n"
     ]
    },
    {
     "name": "stderr",
     "output_type": "stream",
     "text": [
      "[2022-06-24 09:48:43,662] ERROR in app: Exception on / [POST]\n",
      "Traceback (most recent call last):\n",
      "  File \"C:\\Users\\Indraneel Dutta\\anaconda3\\lib\\site-packages\\flask\\app.py\", line 2070, in wsgi_app\n",
      "    response = self.full_dispatch_request()\n",
      "  File \"C:\\Users\\Indraneel Dutta\\anaconda3\\lib\\site-packages\\flask\\app.py\", line 1515, in full_dispatch_request\n",
      "    rv = self.handle_user_exception(e)\n",
      "  File \"C:\\Users\\Indraneel Dutta\\anaconda3\\lib\\site-packages\\flask_cors\\extension.py\", line 165, in wrapped_function\n",
      "    return cors_after_request(app.make_response(f(*args, **kwargs)))\n",
      "  File \"C:\\Users\\Indraneel Dutta\\anaconda3\\lib\\site-packages\\flask\\app.py\", line 1513, in full_dispatch_request\n",
      "    rv = self.dispatch_request()\n",
      "  File \"C:\\Users\\Indraneel Dutta\\anaconda3\\lib\\site-packages\\flask\\app.py\", line 1499, in dispatch_request\n",
      "    return self.ensure_sync(self.view_functions[rule.endpoint])(**req.view_args)\n",
      "  File \"C:\\Users\\INDRAN~1\\AppData\\Local\\Temp/ipykernel_14580/1276645220.py\", line 15, in home\n",
      "    business_code = request.json[\"business_code\"]\n",
      "TypeError: 'NoneType' object is not subscriptable\n",
      "127.0.0.1 - - [24/Jun/2022 09:48:43] \"POST / HTTP/1.1\" 500 -\n"
     ]
    },
    {
     "name": "stdout",
     "output_type": "stream",
     "text": [
      "None\n"
     ]
    },
    {
     "name": "stderr",
     "output_type": "stream",
     "text": [
      "[2022-06-24 10:37:11,593] ERROR in app: Exception on / [POST]\n",
      "Traceback (most recent call last):\n",
      "  File \"C:\\Users\\Indraneel Dutta\\anaconda3\\lib\\site-packages\\flask\\app.py\", line 2070, in wsgi_app\n",
      "    response = self.full_dispatch_request()\n",
      "  File \"C:\\Users\\Indraneel Dutta\\anaconda3\\lib\\site-packages\\flask\\app.py\", line 1515, in full_dispatch_request\n",
      "    rv = self.handle_user_exception(e)\n",
      "  File \"C:\\Users\\Indraneel Dutta\\anaconda3\\lib\\site-packages\\flask_cors\\extension.py\", line 165, in wrapped_function\n",
      "    return cors_after_request(app.make_response(f(*args, **kwargs)))\n",
      "  File \"C:\\Users\\Indraneel Dutta\\anaconda3\\lib\\site-packages\\flask\\app.py\", line 1513, in full_dispatch_request\n",
      "    rv = self.dispatch_request()\n",
      "  File \"C:\\Users\\Indraneel Dutta\\anaconda3\\lib\\site-packages\\flask\\app.py\", line 1499, in dispatch_request\n",
      "    return self.ensure_sync(self.view_functions[rule.endpoint])(**req.view_args)\n",
      "  File \"C:\\Users\\INDRAN~1\\AppData\\Local\\Temp/ipykernel_14580/1276645220.py\", line 15, in home\n",
      "    business_code = request.json[\"business_code\"]\n",
      "TypeError: 'NoneType' object is not subscriptable\n",
      "127.0.0.1 - - [24/Jun/2022 10:37:11] \"POST / HTTP/1.1\" 500 -\n"
     ]
    },
    {
     "name": "stdout",
     "output_type": "stream",
     "text": [
      "None\n"
     ]
    }
   ],
   "source": [
    "from flask import Flask, redirect, url_for, render_template, request,jsonify, make_response\n",
    "import New_Bucket\n",
    "import pandas as pd\n",
    "from flask_cors import CORS\n",
    "\n",
    "data = pd.DataFrame()\n",
    "app = Flask(__name__)\n",
    "CORS(app)\n",
    "\n",
    "@app.route(\"/\",methods=[\"POST\", \"GET\"])\n",
    "def home():\n",
    "    \n",
    "    if request.method == \"POST\":\n",
    "        print(request.json)\n",
    "        business_code = request.json[\"business_code\"]\n",
    "        cust_number = request.json['cust_number']\n",
    "        name_customer = request.json['name_customer']\n",
    "        clear_date = request.json['clear_date']\n",
    "        buisness_year = int(request.json['buisness_year'])\n",
    "        doc_id = int(request.json['doc_id'])\n",
    "        posting_date = request.json['posting_date']\n",
    "        due_in_date = request.json['due_in_date']\n",
    "        baseline_create_date = request.json['baseline_create_date']\n",
    "        cust_payment_terms = request.json['cust_payment_terms']\n",
    "        converted_usd = float(request.json['total_open_amount'])\n",
    " \n",
    "        data['business_code'] = [business_code]\n",
    "        data['cust_number'] = [cust_number]\n",
    "        data['name_customer'] = [name_customer]\n",
    "        data['clear_date'] = [clear_date]\n",
    "        data['buisness_year'] = [buisness_year]\n",
    "        data['doc_id'] = [doc_id]\n",
    "        data['posting_date'] =[posting_date]\n",
    "        data['due_in_date'] = [due_in_date]\n",
    "        data['baseline_create_date'] = [baseline_create_date]\n",
    "        data['cust_payment_terms'] = [cust_payment_terms]\n",
    "        data['converted_usd'] = [converted_usd]\n",
    "        \n",
    "        \n",
    "        print(request.json)\n",
    "        \n",
    "       \n",
    "        \n",
    "        response = make_response(jsonify(New_Bucket.predict(data)),200)\n",
    "        response.headers[\"Content-Type\"] = \"application/json\"\n",
    "        return response\n",
    "    else:\n",
    "        return render_template(\"index1.html\")\n",
    "        \n",
    "@app.route(\"/get_prediction\", methods=[\"GET\",'POST'])\n",
    "def get_prediction():    \n",
    "    if request.method == \"POST\":\n",
    "        doc_id_list = list(request.json[\"data\"])\n",
    "        print(doc_id_list)\n",
    "        response = make_response(jsonify(New_Bucket.doc_id_bucket(doc_id_list)),200)\n",
    "        response.headers[\"Access-Control-Allow-Origin\"]=\"*\"\n",
    "        response.headers[\"Content-Type\"] = \"application/json\"\n",
    "        return response\n",
    "    else:\n",
    "        return render_template(\"index2.html\")\n",
    "    \n",
    "\n",
    "@app.route(\"/all\", methods=[\"GET\",'POST'])\n",
    "def alll():    \n",
    "    if request.method == \"POST\":        \n",
    "        response = make_response(jsonify(New_Bucket.alll()),200)       \n",
    "        response.headers[\"Content-Type\"] = \"application/json\"\n",
    "        return response\n",
    "    else:\n",
    "        return render_template(\"index3.html\")    \n",
    "    \n",
    "@app.route(\"/login\", methods=[\"POST\", \"GET\"])\n",
    "def login():\n",
    "    if request.method == \"POST\":\n",
    "        user = request.form[\"nm\"]\n",
    "        return redirect(url_for(\"user\", usr=user))\n",
    "    else:\n",
    "        return render_template(\"login.html\")\n",
    "\n",
    "@app.route(\"/<usr>\")\n",
    "def user(usr):\n",
    "    return f\"<h1>{usr}</h1>\"\n",
    "\n",
    "if __name__ == \"__main__\":\n",
    "    app.run()"
   ]
  }
 ],
 "metadata": {
  "kernelspec": {
   "display_name": "Python 3 (ipykernel)",
   "language": "python",
   "name": "python3"
  },
  "language_info": {
   "codemirror_mode": {
    "name": "ipython",
    "version": 3
   },
   "file_extension": ".py",
   "mimetype": "text/x-python",
   "name": "python",
   "nbconvert_exporter": "python",
   "pygments_lexer": "ipython3",
   "version": "3.9.7"
  }
 },
 "nbformat": 4,
 "nbformat_minor": 5
}
